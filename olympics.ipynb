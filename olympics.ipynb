{
 "cells": [
  {
   "cell_type": "code",
   "execution_count": 312,
   "id": "a715a940-0d16-4270-9bf0-79befd8cd1a0",
   "metadata": {},
   "outputs": [],
   "source": [
    "import numpy as np\n",
    "import pandas as pd\n",
    "import matplotlib.pyplot as plt\n",
    "import seaborn as sns"
   ]
  },
  {
   "cell_type": "code",
   "execution_count": 313,
   "id": "74cfe150-bb60-4d94-aa12-89c875fd1794",
   "metadata": {},
   "outputs": [],
   "source": [
    "df=pd.read_csv('athlete_events.csv')\n",
    "region_df=pd.read_csv('noc_regions.csv')"
   ]
  },
  {
   "cell_type": "code",
   "execution_count": 314,
   "id": "f89ef48c-f23b-4e3b-be1e-6eb4cfbbbd89",
   "metadata": {},
   "outputs": [],
   "source": [
    "df=df[df['Season']=='Summer']"
   ]
  },
  {
   "cell_type": "code",
   "execution_count": 315,
   "id": "f09c3a05-0251-4a6e-ace1-59fdd9a0c006",
   "metadata": {},
   "outputs": [],
   "source": [
    "df=df.merge(region_df,on='NOC',how='right')"
   ]
  },
  {
   "cell_type": "code",
   "execution_count": 316,
   "id": "d6498176-0358-4768-abab-8c0025946848",
   "metadata": {},
   "outputs": [
    {
     "data": {
      "text/plain": [
       "206"
      ]
     },
     "execution_count": 316,
     "metadata": {},
     "output_type": "execute_result"
    }
   ],
   "source": [
    "df['region'].nunique()"
   ]
  },
  {
   "cell_type": "code",
   "execution_count": 317,
   "id": "b25ee764-1fd3-43cd-b4c9-6faa560c9829",
   "metadata": {},
   "outputs": [
    {
     "data": {
      "text/plain": [
       "ID             1\n",
       "Name           1\n",
       "Sex            1\n",
       "Age         9178\n",
       "Height     51770\n",
       "Weight     53765\n",
       "Team           1\n",
       "NOC            0\n",
       "Games          1\n",
       "Year           1\n",
       "Season         1\n",
       "City           1\n",
       "Sport          1\n",
       "Event          1\n",
       "Medal     188125\n",
       "region        21\n",
       "notes     217803\n",
       "dtype: int64"
      ]
     },
     "execution_count": 317,
     "metadata": {},
     "output_type": "execute_result"
    }
   ],
   "source": [
    "df.isnull().sum()"
   ]
  },
  {
   "cell_type": "code",
   "execution_count": 318,
   "id": "0a3e673f-becd-4aa0-b9c7-a707e20bb445",
   "metadata": {},
   "outputs": [
    {
     "data": {
      "text/plain": [
       "1385"
      ]
     },
     "execution_count": 318,
     "metadata": {},
     "output_type": "execute_result"
    }
   ],
   "source": [
    "df.duplicated().sum()"
   ]
  },
  {
   "cell_type": "code",
   "execution_count": 319,
   "id": "ae6fb5dc-bbce-4f4f-83a2-8c2919df8e97",
   "metadata": {},
   "outputs": [],
   "source": [
    "df.drop_duplicates(inplace=True)"
   ]
  },
  {
   "cell_type": "code",
   "execution_count": 320,
   "id": "521a123d-470e-425f-b6d7-a6647260dcf1",
   "metadata": {},
   "outputs": [
    {
     "data": {
      "text/plain": [
       "0"
      ]
     },
     "execution_count": 320,
     "metadata": {},
     "output_type": "execute_result"
    }
   ],
   "source": [
    "df.duplicated().sum()"
   ]
  },
  {
   "cell_type": "code",
   "execution_count": 321,
   "id": "3410a394-1ab2-432a-98cc-6046f326a6fb",
   "metadata": {},
   "outputs": [
    {
     "name": "stdout",
     "output_type": "stream",
     "text": [
      "Requirement already satisfied: plotly in c:\\users\\tirtha ghosh\\anaconda3\\lib\\site-packages (5.9.0)Note: you may need to restart the kernel to use updated packages.\n",
      "\n",
      "Requirement already satisfied: tenacity>=6.2.0 in c:\\users\\tirtha ghosh\\anaconda3\\lib\\site-packages (from plotly) (8.2.2)\n"
     ]
    }
   ],
   "source": [
    "pip install plotly"
   ]
  },
  {
   "cell_type": "code",
   "execution_count": null,
   "id": "b4b7dc21-cd38-41c2-aea7-8148485be2e6",
   "metadata": {},
   "outputs": [],
   "source": []
  },
  {
   "cell_type": "code",
   "execution_count": null,
   "id": "a74e9c38-66cd-42e0-8ea5-92406e09efef",
   "metadata": {},
   "outputs": [],
   "source": []
  },
  {
   "cell_type": "code",
   "execution_count": null,
   "id": "e12d2632-e82d-4596-b2f4-926ee6e18af0",
   "metadata": {},
   "outputs": [],
   "source": []
  },
  {
   "cell_type": "code",
   "execution_count": null,
   "id": "148f7554-7881-4e28-aedd-912908e53cab",
   "metadata": {},
   "outputs": [],
   "source": []
  },
  {
   "cell_type": "code",
   "execution_count": null,
   "id": "80e675b4-cba1-4b88-b39a-68f5586adcae",
   "metadata": {},
   "outputs": [],
   "source": []
  },
  {
   "cell_type": "code",
   "execution_count": null,
   "id": "9e21ce18-0689-43bd-881d-21aff3d1e8b2",
   "metadata": {},
   "outputs": [],
   "source": []
  },
  {
   "cell_type": "code",
   "execution_count": null,
   "id": "6a0b3fa7-f489-43ce-8e65-9b96ee74d41a",
   "metadata": {},
   "outputs": [],
   "source": []
  },
  {
   "cell_type": "code",
   "execution_count": null,
   "id": "a30765b3-eb64-4954-ba6e-1c06f97448f7",
   "metadata": {},
   "outputs": [],
   "source": []
  },
  {
   "cell_type": "code",
   "execution_count": null,
   "id": "1f0566d1-0779-4c86-8d69-3f835addcb0e",
   "metadata": {},
   "outputs": [],
   "source": []
  },
  {
   "cell_type": "code",
   "execution_count": null,
   "id": "b197b1b6-3163-4cbb-948b-1ad42308fec1",
   "metadata": {},
   "outputs": [],
   "source": []
  },
  {
   "cell_type": "code",
   "execution_count": 322,
   "id": "6ac627dd-b702-41c7-97b0-fd058e567a0d",
   "metadata": {},
   "outputs": [
    {
     "data": {
      "text/plain": [
       "(220819, 17)"
      ]
     },
     "execution_count": 322,
     "metadata": {},
     "output_type": "execute_result"
    }
   ],
   "source": [
    "df.shape"
   ]
  },
  {
   "cell_type": "code",
   "execution_count": 323,
   "id": "0fe33396-ce00-46d7-ada6-075215e6bb00",
   "metadata": {},
   "outputs": [
    {
     "data": {
      "text/plain": [
       "206"
      ]
     },
     "execution_count": 323,
     "metadata": {},
     "output_type": "execute_result"
    }
   ],
   "source": [
    "#No of countries participate\n",
    "df['region'].nunique()"
   ]
  },
  {
   "cell_type": "code",
   "execution_count": 324,
   "id": "1d6df0f5-09b2-46d6-acdc-2c6daeb4f5aa",
   "metadata": {},
   "outputs": [
    {
     "data": {
      "text/plain": [
       "Medal\n",
       "Gold      11455\n",
       "Bronze    11405\n",
       "Silver    11208\n",
       "Name: count, dtype: int64"
      ]
     },
     "execution_count": 324,
     "metadata": {},
     "output_type": "execute_result"
    }
   ],
   "source": [
    "df['Medal'].value_counts()"
   ]
  },
  {
   "cell_type": "markdown",
   "id": "f486f8da-0521-47dd-994b-89faef413c93",
   "metadata": {},
   "source": [
    "# One-Hot Encoding"
   ]
  },
  {
   "cell_type": "code",
   "execution_count": 325,
   "id": "c19e0c85-9bd2-4210-bab5-f7e5b25f0431",
   "metadata": {},
   "outputs": [],
   "source": [
    "df=pd.concat([df,pd.get_dummies(df['Medal'])],axis=1)"
   ]
  },
  {
   "cell_type": "code",
   "execution_count": 326,
   "id": "b1bbcf59-2fb8-48c8-bed5-33e389cb7025",
   "metadata": {},
   "outputs": [
    {
     "data": {
      "text/html": [
       "<div>\n",
       "<style scoped>\n",
       "    .dataframe tbody tr th:only-of-type {\n",
       "        vertical-align: middle;\n",
       "    }\n",
       "\n",
       "    .dataframe tbody tr th {\n",
       "        vertical-align: top;\n",
       "    }\n",
       "\n",
       "    .dataframe thead th {\n",
       "        text-align: right;\n",
       "    }\n",
       "</style>\n",
       "<table border=\"1\" class=\"dataframe\">\n",
       "  <thead>\n",
       "    <tr style=\"text-align: right;\">\n",
       "      <th></th>\n",
       "      <th>ID</th>\n",
       "      <th>Name</th>\n",
       "      <th>Sex</th>\n",
       "      <th>Age</th>\n",
       "      <th>Height</th>\n",
       "      <th>Weight</th>\n",
       "      <th>Team</th>\n",
       "      <th>NOC</th>\n",
       "      <th>Games</th>\n",
       "      <th>Year</th>\n",
       "      <th>Season</th>\n",
       "      <th>City</th>\n",
       "      <th>Sport</th>\n",
       "      <th>Event</th>\n",
       "      <th>Medal</th>\n",
       "      <th>region</th>\n",
       "      <th>notes</th>\n",
       "      <th>Bronze</th>\n",
       "      <th>Gold</th>\n",
       "      <th>Silver</th>\n",
       "    </tr>\n",
       "  </thead>\n",
       "  <tbody>\n",
       "    <tr>\n",
       "      <th>69740</th>\n",
       "      <td>74622.0</td>\n",
       "      <td>douard Mantois</td>\n",
       "      <td>M</td>\n",
       "      <td>NaN</td>\n",
       "      <td>NaN</td>\n",
       "      <td>NaN</td>\n",
       "      <td>Nina Claire-2</td>\n",
       "      <td>FRA</td>\n",
       "      <td>1900 Summer</td>\n",
       "      <td>1900.0</td>\n",
       "      <td>Summer</td>\n",
       "      <td>Paris</td>\n",
       "      <td>Sailing</td>\n",
       "      <td>Sailing Mixed 1-2 Ton</td>\n",
       "      <td>NaN</td>\n",
       "      <td>France</td>\n",
       "      <td>NaN</td>\n",
       "      <td>False</td>\n",
       "      <td>False</td>\n",
       "      <td>False</td>\n",
       "    </tr>\n",
       "    <tr>\n",
       "      <th>27797</th>\n",
       "      <td>126235.0</td>\n",
       "      <td>Vasil Vetsev</td>\n",
       "      <td>M</td>\n",
       "      <td>22.0</td>\n",
       "      <td>164.0</td>\n",
       "      <td>62.0</td>\n",
       "      <td>Bulgaria</td>\n",
       "      <td>BUL</td>\n",
       "      <td>1996 Summer</td>\n",
       "      <td>1996.0</td>\n",
       "      <td>Summer</td>\n",
       "      <td>Atlanta</td>\n",
       "      <td>Gymnastics</td>\n",
       "      <td>Gymnastics Men's Individual All-Around</td>\n",
       "      <td>NaN</td>\n",
       "      <td>Bulgaria</td>\n",
       "      <td>NaN</td>\n",
       "      <td>False</td>\n",
       "      <td>False</td>\n",
       "      <td>False</td>\n",
       "    </tr>\n",
       "  </tbody>\n",
       "</table>\n",
       "</div>"
      ],
      "text/plain": [
       "             ID            Name Sex   Age  Height  Weight           Team  NOC  \\\n",
       "69740   74622.0  douard Mantois   M   NaN     NaN     NaN  Nina Claire-2  FRA   \n",
       "27797  126235.0    Vasil Vetsev   M  22.0   164.0    62.0       Bulgaria  BUL   \n",
       "\n",
       "             Games    Year  Season     City       Sport  \\\n",
       "69740  1900 Summer  1900.0  Summer    Paris     Sailing   \n",
       "27797  1996 Summer  1996.0  Summer  Atlanta  Gymnastics   \n",
       "\n",
       "                                        Event Medal    region notes  Bronze  \\\n",
       "69740                   Sailing Mixed 1-2 Ton   NaN    France   NaN   False   \n",
       "27797  Gymnastics Men's Individual All-Around   NaN  Bulgaria   NaN   False   \n",
       "\n",
       "        Gold  Silver  \n",
       "69740  False   False  \n",
       "27797  False   False  "
      ]
     },
     "execution_count": 326,
     "metadata": {},
     "output_type": "execute_result"
    }
   ],
   "source": [
    "df.sample(2)# This dataframe is the total merge data frame with region and medal column"
   ]
  },
  {
   "cell_type": "code",
   "execution_count": null,
   "id": "9c37c64b-2571-4110-81db-62264f29198e",
   "metadata": {},
   "outputs": [],
   "source": []
  },
  {
   "cell_type": "code",
   "execution_count": null,
   "id": "6d6e221d-5972-43db-b1a6-bd3de2d662ae",
   "metadata": {},
   "outputs": [],
   "source": []
  },
  {
   "cell_type": "code",
   "execution_count": 327,
   "id": "8309b3f6-b109-49d8-adc3-6d505a5dafc2",
   "metadata": {
    "scrolled": true
   },
   "outputs": [],
   "source": [
    "medal_df=df.drop_duplicates(subset=['Team','NOC','Games','Year','City','Sport','Event','Medal'])\n"
   ]
  },
  {
   "cell_type": "code",
   "execution_count": 328,
   "id": "5a61e6b4-ac1e-4e57-83de-f808cc90e7b8",
   "metadata": {},
   "outputs": [],
   "source": [
    "medal_tally=medal_df.groupby('region').sum()[['Bronze','Gold','Silver']].sort_values('Gold',ascending=False).reset_index()"
   ]
  },
  {
   "cell_type": "code",
   "execution_count": 329,
   "id": "56ee79ae-a835-4d15-87fa-deaedbff7182",
   "metadata": {},
   "outputs": [
    {
     "data": {
      "text/html": [
       "<div>\n",
       "<style scoped>\n",
       "    .dataframe tbody tr th:only-of-type {\n",
       "        vertical-align: middle;\n",
       "    }\n",
       "\n",
       "    .dataframe tbody tr th {\n",
       "        vertical-align: top;\n",
       "    }\n",
       "\n",
       "    .dataframe thead th {\n",
       "        text-align: right;\n",
       "    }\n",
       "</style>\n",
       "<table border=\"1\" class=\"dataframe\">\n",
       "  <thead>\n",
       "    <tr style=\"text-align: right;\">\n",
       "      <th></th>\n",
       "      <th>region</th>\n",
       "      <th>Bronze</th>\n",
       "      <th>Gold</th>\n",
       "      <th>Silver</th>\n",
       "    </tr>\n",
       "  </thead>\n",
       "  <tbody>\n",
       "    <tr>\n",
       "      <th>0</th>\n",
       "      <td>USA</td>\n",
       "      <td>708</td>\n",
       "      <td>1035</td>\n",
       "      <td>802</td>\n",
       "    </tr>\n",
       "    <tr>\n",
       "      <th>1</th>\n",
       "      <td>Russia</td>\n",
       "      <td>487</td>\n",
       "      <td>592</td>\n",
       "      <td>498</td>\n",
       "    </tr>\n",
       "    <tr>\n",
       "      <th>2</th>\n",
       "      <td>Germany</td>\n",
       "      <td>491</td>\n",
       "      <td>444</td>\n",
       "      <td>457</td>\n",
       "    </tr>\n",
       "    <tr>\n",
       "      <th>3</th>\n",
       "      <td>UK</td>\n",
       "      <td>300</td>\n",
       "      <td>278</td>\n",
       "      <td>317</td>\n",
       "    </tr>\n",
       "    <tr>\n",
       "      <th>4</th>\n",
       "      <td>France</td>\n",
       "      <td>287</td>\n",
       "      <td>234</td>\n",
       "      <td>256</td>\n",
       "    </tr>\n",
       "    <tr>\n",
       "      <th>...</th>\n",
       "      <td>...</td>\n",
       "      <td>...</td>\n",
       "      <td>...</td>\n",
       "      <td>...</td>\n",
       "    </tr>\n",
       "    <tr>\n",
       "      <th>201</th>\n",
       "      <td>Lesotho</td>\n",
       "      <td>0</td>\n",
       "      <td>0</td>\n",
       "      <td>0</td>\n",
       "    </tr>\n",
       "    <tr>\n",
       "      <th>202</th>\n",
       "      <td>Liberia</td>\n",
       "      <td>0</td>\n",
       "      <td>0</td>\n",
       "      <td>0</td>\n",
       "    </tr>\n",
       "    <tr>\n",
       "      <th>203</th>\n",
       "      <td>Albania</td>\n",
       "      <td>0</td>\n",
       "      <td>0</td>\n",
       "      <td>0</td>\n",
       "    </tr>\n",
       "    <tr>\n",
       "      <th>204</th>\n",
       "      <td>Liechtenstein</td>\n",
       "      <td>0</td>\n",
       "      <td>0</td>\n",
       "      <td>0</td>\n",
       "    </tr>\n",
       "    <tr>\n",
       "      <th>205</th>\n",
       "      <td>Libya</td>\n",
       "      <td>0</td>\n",
       "      <td>0</td>\n",
       "      <td>0</td>\n",
       "    </tr>\n",
       "  </tbody>\n",
       "</table>\n",
       "<p>206 rows × 4 columns</p>\n",
       "</div>"
      ],
      "text/plain": [
       "            region  Bronze  Gold  Silver\n",
       "0              USA     708  1035     802\n",
       "1           Russia     487   592     498\n",
       "2          Germany     491   444     457\n",
       "3               UK     300   278     317\n",
       "4           France     287   234     256\n",
       "..             ...     ...   ...     ...\n",
       "201        Lesotho       0     0       0\n",
       "202        Liberia       0     0       0\n",
       "203        Albania       0     0       0\n",
       "204  Liechtenstein       0     0       0\n",
       "205          Libya       0     0       0\n",
       "\n",
       "[206 rows x 4 columns]"
      ]
     },
     "execution_count": 329,
     "metadata": {},
     "output_type": "execute_result"
    }
   ],
   "source": [
    "medal_tally"
   ]
  },
  {
   "cell_type": "code",
   "execution_count": 330,
   "id": "7df7c85d-3680-4a83-bc7d-02e3a74d1310",
   "metadata": {},
   "outputs": [],
   "source": [
    "medal_tally['Total_medal']=medal_tally['Bronze']+medal_tally['Gold']+medal_tally['Silver']"
   ]
  },
  {
   "cell_type": "markdown",
   "id": "f8f99b24-b801-4b60-8b05-5e11cce68a22",
   "metadata": {},
   "source": [
    "This below data frame should be showed if  I click on medal tally"
   ]
  },
  {
   "cell_type": "code",
   "execution_count": 331,
   "id": "7157df26-1300-4c21-ae8b-c21b81c5886c",
   "metadata": {},
   "outputs": [
    {
     "data": {
      "text/html": [
       "<div>\n",
       "<style scoped>\n",
       "    .dataframe tbody tr th:only-of-type {\n",
       "        vertical-align: middle;\n",
       "    }\n",
       "\n",
       "    .dataframe tbody tr th {\n",
       "        vertical-align: top;\n",
       "    }\n",
       "\n",
       "    .dataframe thead th {\n",
       "        text-align: right;\n",
       "    }\n",
       "</style>\n",
       "<table border=\"1\" class=\"dataframe\">\n",
       "  <thead>\n",
       "    <tr style=\"text-align: right;\">\n",
       "      <th></th>\n",
       "      <th>region</th>\n",
       "      <th>Bronze</th>\n",
       "      <th>Gold</th>\n",
       "      <th>Silver</th>\n",
       "      <th>Total_medal</th>\n",
       "    </tr>\n",
       "  </thead>\n",
       "  <tbody>\n",
       "    <tr>\n",
       "      <th>0</th>\n",
       "      <td>USA</td>\n",
       "      <td>708</td>\n",
       "      <td>1035</td>\n",
       "      <td>802</td>\n",
       "      <td>2545</td>\n",
       "    </tr>\n",
       "    <tr>\n",
       "      <th>1</th>\n",
       "      <td>Russia</td>\n",
       "      <td>487</td>\n",
       "      <td>592</td>\n",
       "      <td>498</td>\n",
       "      <td>1577</td>\n",
       "    </tr>\n",
       "    <tr>\n",
       "      <th>2</th>\n",
       "      <td>Germany</td>\n",
       "      <td>491</td>\n",
       "      <td>444</td>\n",
       "      <td>457</td>\n",
       "      <td>1392</td>\n",
       "    </tr>\n",
       "    <tr>\n",
       "      <th>3</th>\n",
       "      <td>UK</td>\n",
       "      <td>300</td>\n",
       "      <td>278</td>\n",
       "      <td>317</td>\n",
       "      <td>895</td>\n",
       "    </tr>\n",
       "    <tr>\n",
       "      <th>4</th>\n",
       "      <td>France</td>\n",
       "      <td>287</td>\n",
       "      <td>234</td>\n",
       "      <td>256</td>\n",
       "      <td>777</td>\n",
       "    </tr>\n",
       "    <tr>\n",
       "      <th>...</th>\n",
       "      <td>...</td>\n",
       "      <td>...</td>\n",
       "      <td>...</td>\n",
       "      <td>...</td>\n",
       "      <td>...</td>\n",
       "    </tr>\n",
       "    <tr>\n",
       "      <th>201</th>\n",
       "      <td>Lesotho</td>\n",
       "      <td>0</td>\n",
       "      <td>0</td>\n",
       "      <td>0</td>\n",
       "      <td>0</td>\n",
       "    </tr>\n",
       "    <tr>\n",
       "      <th>202</th>\n",
       "      <td>Liberia</td>\n",
       "      <td>0</td>\n",
       "      <td>0</td>\n",
       "      <td>0</td>\n",
       "      <td>0</td>\n",
       "    </tr>\n",
       "    <tr>\n",
       "      <th>203</th>\n",
       "      <td>Albania</td>\n",
       "      <td>0</td>\n",
       "      <td>0</td>\n",
       "      <td>0</td>\n",
       "      <td>0</td>\n",
       "    </tr>\n",
       "    <tr>\n",
       "      <th>204</th>\n",
       "      <td>Liechtenstein</td>\n",
       "      <td>0</td>\n",
       "      <td>0</td>\n",
       "      <td>0</td>\n",
       "      <td>0</td>\n",
       "    </tr>\n",
       "    <tr>\n",
       "      <th>205</th>\n",
       "      <td>Libya</td>\n",
       "      <td>0</td>\n",
       "      <td>0</td>\n",
       "      <td>0</td>\n",
       "      <td>0</td>\n",
       "    </tr>\n",
       "  </tbody>\n",
       "</table>\n",
       "<p>206 rows × 5 columns</p>\n",
       "</div>"
      ],
      "text/plain": [
       "            region  Bronze  Gold  Silver  Total_medal\n",
       "0              USA     708  1035     802         2545\n",
       "1           Russia     487   592     498         1577\n",
       "2          Germany     491   444     457         1392\n",
       "3               UK     300   278     317          895\n",
       "4           France     287   234     256          777\n",
       "..             ...     ...   ...     ...          ...\n",
       "201        Lesotho       0     0       0            0\n",
       "202        Liberia       0     0       0            0\n",
       "203        Albania       0     0       0            0\n",
       "204  Liechtenstein       0     0       0            0\n",
       "205          Libya       0     0       0            0\n",
       "\n",
       "[206 rows x 5 columns]"
      ]
     },
     "execution_count": 331,
     "metadata": {},
     "output_type": "execute_result"
    }
   ],
   "source": [
    "medal_tally"
   ]
  },
  {
   "cell_type": "code",
   "execution_count": null,
   "id": "af0b9615-d8bb-4642-adcc-da34bce3b926",
   "metadata": {},
   "outputs": [],
   "source": []
  },
  {
   "cell_type": "code",
   "execution_count": 332,
   "id": "3b05a0c6-9559-4836-be33-ad3066ed291c",
   "metadata": {
    "scrolled": true
   },
   "outputs": [
    {
     "data": {
      "text/html": [
       "<div>\n",
       "<style scoped>\n",
       "    .dataframe tbody tr th:only-of-type {\n",
       "        vertical-align: middle;\n",
       "    }\n",
       "\n",
       "    .dataframe tbody tr th {\n",
       "        vertical-align: top;\n",
       "    }\n",
       "\n",
       "    .dataframe thead th {\n",
       "        text-align: right;\n",
       "    }\n",
       "</style>\n",
       "<table border=\"1\" class=\"dataframe\">\n",
       "  <thead>\n",
       "    <tr style=\"text-align: right;\">\n",
       "      <th></th>\n",
       "      <th>ID</th>\n",
       "      <th>Name</th>\n",
       "      <th>Sex</th>\n",
       "      <th>Age</th>\n",
       "      <th>Height</th>\n",
       "      <th>Weight</th>\n",
       "      <th>Team</th>\n",
       "      <th>NOC</th>\n",
       "      <th>Games</th>\n",
       "      <th>Year</th>\n",
       "      <th>Season</th>\n",
       "      <th>City</th>\n",
       "      <th>Sport</th>\n",
       "      <th>Event</th>\n",
       "      <th>Medal</th>\n",
       "      <th>region</th>\n",
       "      <th>notes</th>\n",
       "      <th>Bronze</th>\n",
       "      <th>Gold</th>\n",
       "      <th>Silver</th>\n",
       "    </tr>\n",
       "  </thead>\n",
       "  <tbody>\n",
       "    <tr>\n",
       "      <th>0</th>\n",
       "      <td>502.0</td>\n",
       "      <td>Ahmad Shah Abouwi</td>\n",
       "      <td>M</td>\n",
       "      <td>NaN</td>\n",
       "      <td>NaN</td>\n",
       "      <td>NaN</td>\n",
       "      <td>Afghanistan</td>\n",
       "      <td>AFG</td>\n",
       "      <td>1956 Summer</td>\n",
       "      <td>1956.0</td>\n",
       "      <td>Summer</td>\n",
       "      <td>Melbourne</td>\n",
       "      <td>Hockey</td>\n",
       "      <td>Hockey Men's Hockey</td>\n",
       "      <td>NaN</td>\n",
       "      <td>Afghanistan</td>\n",
       "      <td>NaN</td>\n",
       "      <td>False</td>\n",
       "      <td>False</td>\n",
       "      <td>False</td>\n",
       "    </tr>\n",
       "    <tr>\n",
       "      <th>1</th>\n",
       "      <td>1076.0</td>\n",
       "      <td>Jammal-ud-Din Affendi</td>\n",
       "      <td>M</td>\n",
       "      <td>28.0</td>\n",
       "      <td>NaN</td>\n",
       "      <td>NaN</td>\n",
       "      <td>Afghanistan</td>\n",
       "      <td>AFG</td>\n",
       "      <td>1936 Summer</td>\n",
       "      <td>1936.0</td>\n",
       "      <td>Summer</td>\n",
       "      <td>Berlin</td>\n",
       "      <td>Hockey</td>\n",
       "      <td>Hockey Men's Hockey</td>\n",
       "      <td>NaN</td>\n",
       "      <td>Afghanistan</td>\n",
       "      <td>NaN</td>\n",
       "      <td>False</td>\n",
       "      <td>False</td>\n",
       "      <td>False</td>\n",
       "    </tr>\n",
       "  </tbody>\n",
       "</table>\n",
       "</div>"
      ],
      "text/plain": [
       "       ID                   Name Sex   Age  Height  Weight         Team  NOC  \\\n",
       "0   502.0      Ahmad Shah Abouwi   M   NaN     NaN     NaN  Afghanistan  AFG   \n",
       "1  1076.0  Jammal-ud-Din Affendi   M  28.0     NaN     NaN  Afghanistan  AFG   \n",
       "\n",
       "         Games    Year  Season       City   Sport                Event Medal  \\\n",
       "0  1956 Summer  1956.0  Summer  Melbourne  Hockey  Hockey Men's Hockey   NaN   \n",
       "1  1936 Summer  1936.0  Summer     Berlin  Hockey  Hockey Men's Hockey   NaN   \n",
       "\n",
       "        region notes  Bronze   Gold  Silver  \n",
       "0  Afghanistan   NaN   False  False   False  \n",
       "1  Afghanistan   NaN   False  False   False  "
      ]
     },
     "execution_count": 332,
     "metadata": {},
     "output_type": "execute_result"
    }
   ],
   "source": [
    "df.head(2)"
   ]
  },
  {
   "cell_type": "markdown",
   "id": "1a1808b4-e1cc-44eb-a33e-536ededd6b17",
   "metadata": {},
   "source": [
    "## Fetching  the years"
   ]
  },
  {
   "cell_type": "code",
   "execution_count": 333,
   "id": "09d8289d-d2fb-4453-b2a5-075adb0f438d",
   "metadata": {},
   "outputs": [],
   "source": [
    "years=df['Year'].unique().tolist()\n",
    "years.sort()"
   ]
  },
  {
   "cell_type": "code",
   "execution_count": 334,
   "id": "1e515be9-d02f-4d38-a7f9-59aaf03ddcd6",
   "metadata": {},
   "outputs": [],
   "source": [
    "years.insert(0,'overall')"
   ]
  },
  {
   "cell_type": "code",
   "execution_count": 335,
   "id": "0b525be5-8f1f-4d4e-acd6-d48cc9afb6b7",
   "metadata": {
    "scrolled": true
   },
   "outputs": [
    {
     "data": {
      "text/plain": [
       "['overall',\n",
       " 1896.0,\n",
       " 1900.0,\n",
       " 1904.0,\n",
       " 1906.0,\n",
       " 1908.0,\n",
       " 1912.0,\n",
       " 1920.0,\n",
       " 1924.0,\n",
       " 1928.0,\n",
       " 1932.0,\n",
       " 1936.0,\n",
       " 1948.0,\n",
       " 1952.0,\n",
       " 1956.0,\n",
       " 1960.0,\n",
       " 1964.0,\n",
       " 1968.0,\n",
       " 1972.0,\n",
       " 1976.0,\n",
       " 1980.0,\n",
       " 1984.0,\n",
       " 1988.0,\n",
       " 1992.0,\n",
       " 1996.0,\n",
       " 2000.0,\n",
       " 2004.0,\n",
       " 2008.0,\n",
       " 2012.0,\n",
       " 2016.0,\n",
       " nan]"
      ]
     },
     "execution_count": 335,
     "metadata": {},
     "output_type": "execute_result"
    }
   ],
   "source": [
    "years"
   ]
  },
  {
   "cell_type": "markdown",
   "id": "99c4d5f3-2eaf-4d5c-96ec-9fdd54f88088",
   "metadata": {},
   "source": [
    "## Fetching all the countries"
   ]
  },
  {
   "cell_type": "code",
   "execution_count": 336,
   "id": "d899ecd6-09f1-4f11-bcc8-31b8c416e333",
   "metadata": {},
   "outputs": [],
   "source": [
    "country=df['region'].dropna().unique().tolist()"
   ]
  },
  {
   "cell_type": "code",
   "execution_count": 337,
   "id": "ce7b3009-ed3b-4a79-9ed3-3cc25e71d446",
   "metadata": {},
   "outputs": [],
   "source": [
    "country.sort()"
   ]
  },
  {
   "cell_type": "code",
   "execution_count": 338,
   "id": "c7b41767-a241-4410-a8e5-d71d0ae84521",
   "metadata": {},
   "outputs": [],
   "source": [
    "country.insert(0,'overall')\n"
   ]
  },
  {
   "cell_type": "code",
   "execution_count": 339,
   "id": "82ddf433-f94e-49cb-bcd1-8e292bf26ef7",
   "metadata": {},
   "outputs": [
    {
     "data": {
      "text/plain": [
       "['overall',\n",
       " 'Afghanistan',\n",
       " 'Albania',\n",
       " 'Algeria',\n",
       " 'American Samoa',\n",
       " 'Andorra',\n",
       " 'Angola',\n",
       " 'Antigua',\n",
       " 'Argentina',\n",
       " 'Armenia',\n",
       " 'Aruba',\n",
       " 'Australia',\n",
       " 'Austria',\n",
       " 'Azerbaijan',\n",
       " 'Bahamas',\n",
       " 'Bahrain',\n",
       " 'Bangladesh',\n",
       " 'Barbados',\n",
       " 'Belarus',\n",
       " 'Belgium',\n",
       " 'Belize',\n",
       " 'Benin',\n",
       " 'Bermuda',\n",
       " 'Bhutan',\n",
       " 'Boliva',\n",
       " 'Bosnia and Herzegovina',\n",
       " 'Botswana',\n",
       " 'Brazil',\n",
       " 'Brunei',\n",
       " 'Bulgaria',\n",
       " 'Burkina Faso',\n",
       " 'Burundi',\n",
       " 'Cambodia',\n",
       " 'Cameroon',\n",
       " 'Canada',\n",
       " 'Cape Verde',\n",
       " 'Cayman Islands',\n",
       " 'Central African Republic',\n",
       " 'Chad',\n",
       " 'Chile',\n",
       " 'China',\n",
       " 'Colombia',\n",
       " 'Comoros',\n",
       " 'Cook Islands',\n",
       " 'Costa Rica',\n",
       " 'Croatia',\n",
       " 'Cuba',\n",
       " 'Curacao',\n",
       " 'Cyprus',\n",
       " 'Czech Republic',\n",
       " 'Democratic Republic of the Congo',\n",
       " 'Denmark',\n",
       " 'Djibouti',\n",
       " 'Dominica',\n",
       " 'Dominican Republic',\n",
       " 'Ecuador',\n",
       " 'Egypt',\n",
       " 'El Salvador',\n",
       " 'Equatorial Guinea',\n",
       " 'Eritrea',\n",
       " 'Estonia',\n",
       " 'Ethiopia',\n",
       " 'Fiji',\n",
       " 'Finland',\n",
       " 'France',\n",
       " 'Gabon',\n",
       " 'Gambia',\n",
       " 'Georgia',\n",
       " 'Germany',\n",
       " 'Ghana',\n",
       " 'Greece',\n",
       " 'Grenada',\n",
       " 'Guam',\n",
       " 'Guatemala',\n",
       " 'Guinea',\n",
       " 'Guinea-Bissau',\n",
       " 'Guyana',\n",
       " 'Haiti',\n",
       " 'Honduras',\n",
       " 'Hungary',\n",
       " 'Iceland',\n",
       " 'India',\n",
       " 'Individual Olympic Athletes',\n",
       " 'Indonesia',\n",
       " 'Iran',\n",
       " 'Iraq',\n",
       " 'Ireland',\n",
       " 'Israel',\n",
       " 'Italy',\n",
       " 'Ivory Coast',\n",
       " 'Jamaica',\n",
       " 'Japan',\n",
       " 'Jordan',\n",
       " 'Kazakhstan',\n",
       " 'Kenya',\n",
       " 'Kiribati',\n",
       " 'Kosovo',\n",
       " 'Kuwait',\n",
       " 'Kyrgyzstan',\n",
       " 'Laos',\n",
       " 'Latvia',\n",
       " 'Lebanon',\n",
       " 'Lesotho',\n",
       " 'Liberia',\n",
       " 'Libya',\n",
       " 'Liechtenstein',\n",
       " 'Lithuania',\n",
       " 'Luxembourg',\n",
       " 'Macedonia',\n",
       " 'Madagascar',\n",
       " 'Malawi',\n",
       " 'Malaysia',\n",
       " 'Maldives',\n",
       " 'Mali',\n",
       " 'Malta',\n",
       " 'Marshall Islands',\n",
       " 'Mauritania',\n",
       " 'Mauritius',\n",
       " 'Mexico',\n",
       " 'Micronesia',\n",
       " 'Moldova',\n",
       " 'Monaco',\n",
       " 'Mongolia',\n",
       " 'Montenegro',\n",
       " 'Morocco',\n",
       " 'Mozambique',\n",
       " 'Myanmar',\n",
       " 'Namibia',\n",
       " 'Nauru',\n",
       " 'Nepal',\n",
       " 'Netherlands',\n",
       " 'New Zealand',\n",
       " 'Nicaragua',\n",
       " 'Niger',\n",
       " 'Nigeria',\n",
       " 'North Korea',\n",
       " 'Norway',\n",
       " 'Oman',\n",
       " 'Pakistan',\n",
       " 'Palau',\n",
       " 'Palestine',\n",
       " 'Panama',\n",
       " 'Papua New Guinea',\n",
       " 'Paraguay',\n",
       " 'Peru',\n",
       " 'Philippines',\n",
       " 'Poland',\n",
       " 'Portugal',\n",
       " 'Puerto Rico',\n",
       " 'Qatar',\n",
       " 'Republic of Congo',\n",
       " 'Romania',\n",
       " 'Russia',\n",
       " 'Rwanda',\n",
       " 'Saint Kitts',\n",
       " 'Saint Lucia',\n",
       " 'Saint Vincent',\n",
       " 'Samoa',\n",
       " 'San Marino',\n",
       " 'Sao Tome and Principe',\n",
       " 'Saudi Arabia',\n",
       " 'Senegal',\n",
       " 'Serbia',\n",
       " 'Seychelles',\n",
       " 'Sierra Leone',\n",
       " 'Singapore',\n",
       " 'Slovakia',\n",
       " 'Slovenia',\n",
       " 'Solomon Islands',\n",
       " 'Somalia',\n",
       " 'South Africa',\n",
       " 'South Korea',\n",
       " 'South Sudan',\n",
       " 'Spain',\n",
       " 'Sri Lanka',\n",
       " 'Sudan',\n",
       " 'Suriname',\n",
       " 'Swaziland',\n",
       " 'Sweden',\n",
       " 'Switzerland',\n",
       " 'Syria',\n",
       " 'Taiwan',\n",
       " 'Tajikistan',\n",
       " 'Tanzania',\n",
       " 'Thailand',\n",
       " 'Timor-Leste',\n",
       " 'Togo',\n",
       " 'Tonga',\n",
       " 'Trinidad',\n",
       " 'Tunisia',\n",
       " 'Turkey',\n",
       " 'Turkmenistan',\n",
       " 'UK',\n",
       " 'USA',\n",
       " 'Uganda',\n",
       " 'Ukraine',\n",
       " 'United Arab Emirates',\n",
       " 'Uruguay',\n",
       " 'Uzbekistan',\n",
       " 'Vanuatu',\n",
       " 'Venezuela',\n",
       " 'Vietnam',\n",
       " 'Virgin Islands, British',\n",
       " 'Virgin Islands, US',\n",
       " 'Yemen',\n",
       " 'Zambia',\n",
       " 'Zimbabwe']"
      ]
     },
     "execution_count": 339,
     "metadata": {},
     "output_type": "execute_result"
    }
   ],
   "source": [
    "country"
   ]
  },
  {
   "cell_type": "markdown",
   "id": "873f910c-a2df-4d60-8dfa-943d3f1ea42a",
   "metadata": {},
   "source": [
    "## We will create a function which take two variable year and country and return the medal tally"
   ]
  },
  {
   "cell_type": "code",
   "execution_count": 340,
   "id": "226b9c04-bd25-4f3b-87c8-7247e5bc79d5",
   "metadata": {
    "scrolled": true
   },
   "outputs": [],
   "source": [
    "def fetch_medal_tally(df,year,country):\n",
    "    medal_df=df.drop_duplicates(subset=['Team','NOC','Games','Year','City','Sport','Event','Medal'])\n",
    "    flag=0\n",
    "    if year=='overall' and country==\"overall\" :\n",
    "        temp=medal_df\n",
    "    if year=='overall' and country!=\"overall\" :\n",
    "        flag=1\n",
    "        temp=medal_df[medal_df['region']==country]\n",
    "    if year!='overall' and country==\"overall\" :\n",
    "         temp=medal_df[medal_df['Year']==int(year)]\n",
    "    if year!='overall' and country!=\"overall\" :\n",
    "        temp=medal_df[(medal_df['Year']==int(year)) & (medal_df['region']==country)]\n",
    "    #when year all with specific country\n",
    "    if flag==1:\n",
    "         x=temp.groupby('Year').sum()[['Bronze','Gold','Silver']].sort_values('Year',ascending=True).reset_index()\n",
    "    else:\n",
    "         x=temp.groupby('region').sum()[['Bronze','Gold','Silver']].sort_values('Gold',ascending=False).reset_index() \n",
    "    x['Total_medal']=x['Bronze']+x['Gold']+x['Silver']\n",
    "    return x\n",
    "\n"
   ]
  },
  {
   "cell_type": "code",
   "execution_count": null,
   "id": "a2f327f2-3bb1-439d-affd-facea4549ab5",
   "metadata": {},
   "outputs": [],
   "source": []
  },
  {
   "cell_type": "code",
   "execution_count": 341,
   "id": "b192a75a-f629-4a6f-ab61-37d77c96a812",
   "metadata": {},
   "outputs": [
    {
     "data": {
      "text/html": [
       "<div>\n",
       "<style scoped>\n",
       "    .dataframe tbody tr th:only-of-type {\n",
       "        vertical-align: middle;\n",
       "    }\n",
       "\n",
       "    .dataframe tbody tr th {\n",
       "        vertical-align: top;\n",
       "    }\n",
       "\n",
       "    .dataframe thead th {\n",
       "        text-align: right;\n",
       "    }\n",
       "</style>\n",
       "<table border=\"1\" class=\"dataframe\">\n",
       "  <thead>\n",
       "    <tr style=\"text-align: right;\">\n",
       "      <th></th>\n",
       "      <th>Year</th>\n",
       "      <th>Bronze</th>\n",
       "      <th>Gold</th>\n",
       "      <th>Silver</th>\n",
       "      <th>Total_medal</th>\n",
       "    </tr>\n",
       "  </thead>\n",
       "  <tbody>\n",
       "    <tr>\n",
       "      <th>0</th>\n",
       "      <td>1900.0</td>\n",
       "      <td>0</td>\n",
       "      <td>0</td>\n",
       "      <td>2</td>\n",
       "      <td>2</td>\n",
       "    </tr>\n",
       "    <tr>\n",
       "      <th>1</th>\n",
       "      <td>1920.0</td>\n",
       "      <td>0</td>\n",
       "      <td>0</td>\n",
       "      <td>0</td>\n",
       "      <td>0</td>\n",
       "    </tr>\n",
       "    <tr>\n",
       "      <th>2</th>\n",
       "      <td>1924.0</td>\n",
       "      <td>0</td>\n",
       "      <td>0</td>\n",
       "      <td>0</td>\n",
       "      <td>0</td>\n",
       "    </tr>\n",
       "    <tr>\n",
       "      <th>3</th>\n",
       "      <td>1928.0</td>\n",
       "      <td>0</td>\n",
       "      <td>1</td>\n",
       "      <td>0</td>\n",
       "      <td>1</td>\n",
       "    </tr>\n",
       "    <tr>\n",
       "      <th>4</th>\n",
       "      <td>1932.0</td>\n",
       "      <td>0</td>\n",
       "      <td>1</td>\n",
       "      <td>0</td>\n",
       "      <td>1</td>\n",
       "    </tr>\n",
       "    <tr>\n",
       "      <th>5</th>\n",
       "      <td>1936.0</td>\n",
       "      <td>0</td>\n",
       "      <td>1</td>\n",
       "      <td>0</td>\n",
       "      <td>1</td>\n",
       "    </tr>\n",
       "    <tr>\n",
       "      <th>6</th>\n",
       "      <td>1948.0</td>\n",
       "      <td>0</td>\n",
       "      <td>1</td>\n",
       "      <td>0</td>\n",
       "      <td>1</td>\n",
       "    </tr>\n",
       "    <tr>\n",
       "      <th>7</th>\n",
       "      <td>1952.0</td>\n",
       "      <td>1</td>\n",
       "      <td>1</td>\n",
       "      <td>0</td>\n",
       "      <td>2</td>\n",
       "    </tr>\n",
       "    <tr>\n",
       "      <th>8</th>\n",
       "      <td>1956.0</td>\n",
       "      <td>0</td>\n",
       "      <td>1</td>\n",
       "      <td>0</td>\n",
       "      <td>1</td>\n",
       "    </tr>\n",
       "    <tr>\n",
       "      <th>9</th>\n",
       "      <td>1960.0</td>\n",
       "      <td>0</td>\n",
       "      <td>0</td>\n",
       "      <td>1</td>\n",
       "      <td>1</td>\n",
       "    </tr>\n",
       "    <tr>\n",
       "      <th>10</th>\n",
       "      <td>1964.0</td>\n",
       "      <td>0</td>\n",
       "      <td>1</td>\n",
       "      <td>0</td>\n",
       "      <td>1</td>\n",
       "    </tr>\n",
       "    <tr>\n",
       "      <th>11</th>\n",
       "      <td>1968.0</td>\n",
       "      <td>1</td>\n",
       "      <td>0</td>\n",
       "      <td>0</td>\n",
       "      <td>1</td>\n",
       "    </tr>\n",
       "    <tr>\n",
       "      <th>12</th>\n",
       "      <td>1972.0</td>\n",
       "      <td>1</td>\n",
       "      <td>0</td>\n",
       "      <td>0</td>\n",
       "      <td>1</td>\n",
       "    </tr>\n",
       "    <tr>\n",
       "      <th>13</th>\n",
       "      <td>1976.0</td>\n",
       "      <td>0</td>\n",
       "      <td>0</td>\n",
       "      <td>0</td>\n",
       "      <td>0</td>\n",
       "    </tr>\n",
       "    <tr>\n",
       "      <th>14</th>\n",
       "      <td>1980.0</td>\n",
       "      <td>0</td>\n",
       "      <td>1</td>\n",
       "      <td>0</td>\n",
       "      <td>1</td>\n",
       "    </tr>\n",
       "    <tr>\n",
       "      <th>15</th>\n",
       "      <td>1984.0</td>\n",
       "      <td>0</td>\n",
       "      <td>0</td>\n",
       "      <td>0</td>\n",
       "      <td>0</td>\n",
       "    </tr>\n",
       "    <tr>\n",
       "      <th>16</th>\n",
       "      <td>1988.0</td>\n",
       "      <td>0</td>\n",
       "      <td>0</td>\n",
       "      <td>0</td>\n",
       "      <td>0</td>\n",
       "    </tr>\n",
       "    <tr>\n",
       "      <th>17</th>\n",
       "      <td>1992.0</td>\n",
       "      <td>0</td>\n",
       "      <td>0</td>\n",
       "      <td>0</td>\n",
       "      <td>0</td>\n",
       "    </tr>\n",
       "    <tr>\n",
       "      <th>18</th>\n",
       "      <td>1996.0</td>\n",
       "      <td>1</td>\n",
       "      <td>0</td>\n",
       "      <td>0</td>\n",
       "      <td>1</td>\n",
       "    </tr>\n",
       "    <tr>\n",
       "      <th>19</th>\n",
       "      <td>2000.0</td>\n",
       "      <td>1</td>\n",
       "      <td>0</td>\n",
       "      <td>0</td>\n",
       "      <td>1</td>\n",
       "    </tr>\n",
       "    <tr>\n",
       "      <th>20</th>\n",
       "      <td>2004.0</td>\n",
       "      <td>0</td>\n",
       "      <td>0</td>\n",
       "      <td>1</td>\n",
       "      <td>1</td>\n",
       "    </tr>\n",
       "    <tr>\n",
       "      <th>21</th>\n",
       "      <td>2008.0</td>\n",
       "      <td>2</td>\n",
       "      <td>1</td>\n",
       "      <td>0</td>\n",
       "      <td>3</td>\n",
       "    </tr>\n",
       "    <tr>\n",
       "      <th>22</th>\n",
       "      <td>2012.0</td>\n",
       "      <td>4</td>\n",
       "      <td>0</td>\n",
       "      <td>2</td>\n",
       "      <td>6</td>\n",
       "    </tr>\n",
       "    <tr>\n",
       "      <th>23</th>\n",
       "      <td>2016.0</td>\n",
       "      <td>1</td>\n",
       "      <td>0</td>\n",
       "      <td>1</td>\n",
       "      <td>2</td>\n",
       "    </tr>\n",
       "  </tbody>\n",
       "</table>\n",
       "</div>"
      ],
      "text/plain": [
       "      Year  Bronze  Gold  Silver  Total_medal\n",
       "0   1900.0       0     0       2            2\n",
       "1   1920.0       0     0       0            0\n",
       "2   1924.0       0     0       0            0\n",
       "3   1928.0       0     1       0            1\n",
       "4   1932.0       0     1       0            1\n",
       "5   1936.0       0     1       0            1\n",
       "6   1948.0       0     1       0            1\n",
       "7   1952.0       1     1       0            2\n",
       "8   1956.0       0     1       0            1\n",
       "9   1960.0       0     0       1            1\n",
       "10  1964.0       0     1       0            1\n",
       "11  1968.0       1     0       0            1\n",
       "12  1972.0       1     0       0            1\n",
       "13  1976.0       0     0       0            0\n",
       "14  1980.0       0     1       0            1\n",
       "15  1984.0       0     0       0            0\n",
       "16  1988.0       0     0       0            0\n",
       "17  1992.0       0     0       0            0\n",
       "18  1996.0       1     0       0            1\n",
       "19  2000.0       1     0       0            1\n",
       "20  2004.0       0     0       1            1\n",
       "21  2008.0       2     1       0            3\n",
       "22  2012.0       4     0       2            6\n",
       "23  2016.0       1     0       1            2"
      ]
     },
     "execution_count": 341,
     "metadata": {},
     "output_type": "execute_result"
    }
   ],
   "source": [
    "fetch_medal_tally(df,'overall','India') # in this case i want to show all the year\n"
   ]
  },
  {
   "cell_type": "code",
   "execution_count": null,
   "id": "601287d8-3558-491a-9d9a-613ac9f5a475",
   "metadata": {},
   "outputs": [],
   "source": []
  },
  {
   "cell_type": "code",
   "execution_count": 342,
   "id": "aaa571dd-a252-4a11-887a-ac8b4730efaf",
   "metadata": {},
   "outputs": [],
   "source": [
    "#fetch_medal_tally('overall','India') # in this case i want to show all the year"
   ]
  },
  {
   "cell_type": "markdown",
   "id": "55f88ce5-d1a8-4409-a041-c3fba6ee1c41",
   "metadata": {},
   "source": [
    "## Overall Analysis"
   ]
  },
  {
   "cell_type": "markdown",
   "id": "afe51803-4fcf-4e8c-b3e3-16142cf5edf4",
   "metadata": {},
   "source": [
    "#### no of editions\n",
    "#### no of cities\n",
    "#### no of events/sports\n",
    "#### No of athelete\n",
    "#### particpating natons"
   ]
  },
  {
   "cell_type": "code",
   "execution_count": 343,
   "id": "7a9e0a6b-0984-413f-b0aa-34cbf7573ff4",
   "metadata": {},
   "outputs": [
    {
     "data": {
      "text/plain": [
       "28"
      ]
     },
     "execution_count": 343,
     "metadata": {},
     "output_type": "execute_result"
    }
   ],
   "source": [
    "# how many times olympic happen\n",
    "df[\"Year\"].nunique()-1"
   ]
  },
  {
   "cell_type": "code",
   "execution_count": 344,
   "id": "04e3b85a-4e19-422c-a7e0-95b17d1d1786",
   "metadata": {},
   "outputs": [
    {
     "data": {
      "text/plain": [
       "23"
      ]
     },
     "execution_count": 344,
     "metadata": {},
     "output_type": "execute_result"
    }
   ],
   "source": [
    "df[\"City\"].nunique()"
   ]
  },
  {
   "cell_type": "code",
   "execution_count": 345,
   "id": "df4184ec-fa50-46bc-bc1d-d6b3062219f1",
   "metadata": {},
   "outputs": [
    {
     "data": {
      "text/plain": [
       "52"
      ]
     },
     "execution_count": 345,
     "metadata": {},
     "output_type": "execute_result"
    }
   ],
   "source": [
    "df[\"Sport\"].nunique()"
   ]
  },
  {
   "cell_type": "code",
   "execution_count": 346,
   "id": "9b07666f-b211-4d7a-8283-5b14fa900406",
   "metadata": {},
   "outputs": [
    {
     "data": {
      "text/plain": [
       "651"
      ]
     },
     "execution_count": 346,
     "metadata": {},
     "output_type": "execute_result"
    }
   ],
   "source": [
    "df[\"Event\"].nunique()"
   ]
  },
  {
   "cell_type": "code",
   "execution_count": 347,
   "id": "ede5adf9-9db8-4d70-95e4-183fa470a10c",
   "metadata": {},
   "outputs": [
    {
     "data": {
      "text/plain": [
       "206"
      ]
     },
     "execution_count": 347,
     "metadata": {},
     "output_type": "execute_result"
    }
   ],
   "source": [
    "df[\"region\"].nunique()"
   ]
  },
  {
   "cell_type": "code",
   "execution_count": 348,
   "id": "055b3b93-662b-4ee8-a3ed-04d417940308",
   "metadata": {},
   "outputs": [
    {
     "data": {
      "text/plain": [
       "115956"
      ]
     },
     "execution_count": 348,
     "metadata": {},
     "output_type": "execute_result"
    }
   ],
   "source": [
    "df[\"Name\"].nunique()"
   ]
  },
  {
   "cell_type": "code",
   "execution_count": 349,
   "id": "77159cb0-2f3b-4b99-affc-aa096955cf12",
   "metadata": {},
   "outputs": [
    {
     "data": {
      "text/html": [
       "<div>\n",
       "<style scoped>\n",
       "    .dataframe tbody tr th:only-of-type {\n",
       "        vertical-align: middle;\n",
       "    }\n",
       "\n",
       "    .dataframe tbody tr th {\n",
       "        vertical-align: top;\n",
       "    }\n",
       "\n",
       "    .dataframe thead th {\n",
       "        text-align: right;\n",
       "    }\n",
       "</style>\n",
       "<table border=\"1\" class=\"dataframe\">\n",
       "  <thead>\n",
       "    <tr style=\"text-align: right;\">\n",
       "      <th></th>\n",
       "      <th>ID</th>\n",
       "      <th>Name</th>\n",
       "      <th>Sex</th>\n",
       "      <th>Age</th>\n",
       "      <th>Height</th>\n",
       "      <th>Weight</th>\n",
       "      <th>Team</th>\n",
       "      <th>NOC</th>\n",
       "      <th>Games</th>\n",
       "      <th>Year</th>\n",
       "      <th>Season</th>\n",
       "      <th>City</th>\n",
       "      <th>Sport</th>\n",
       "      <th>Event</th>\n",
       "      <th>Medal</th>\n",
       "      <th>region</th>\n",
       "      <th>notes</th>\n",
       "      <th>Bronze</th>\n",
       "      <th>Gold</th>\n",
       "      <th>Silver</th>\n",
       "    </tr>\n",
       "  </thead>\n",
       "  <tbody>\n",
       "    <tr>\n",
       "      <th>0</th>\n",
       "      <td>502.0</td>\n",
       "      <td>Ahmad Shah Abouwi</td>\n",
       "      <td>M</td>\n",
       "      <td>NaN</td>\n",
       "      <td>NaN</td>\n",
       "      <td>NaN</td>\n",
       "      <td>Afghanistan</td>\n",
       "      <td>AFG</td>\n",
       "      <td>1956 Summer</td>\n",
       "      <td>1956.0</td>\n",
       "      <td>Summer</td>\n",
       "      <td>Melbourne</td>\n",
       "      <td>Hockey</td>\n",
       "      <td>Hockey Men's Hockey</td>\n",
       "      <td>NaN</td>\n",
       "      <td>Afghanistan</td>\n",
       "      <td>NaN</td>\n",
       "      <td>False</td>\n",
       "      <td>False</td>\n",
       "      <td>False</td>\n",
       "    </tr>\n",
       "    <tr>\n",
       "      <th>1</th>\n",
       "      <td>1076.0</td>\n",
       "      <td>Jammal-ud-Din Affendi</td>\n",
       "      <td>M</td>\n",
       "      <td>28.0</td>\n",
       "      <td>NaN</td>\n",
       "      <td>NaN</td>\n",
       "      <td>Afghanistan</td>\n",
       "      <td>AFG</td>\n",
       "      <td>1936 Summer</td>\n",
       "      <td>1936.0</td>\n",
       "      <td>Summer</td>\n",
       "      <td>Berlin</td>\n",
       "      <td>Hockey</td>\n",
       "      <td>Hockey Men's Hockey</td>\n",
       "      <td>NaN</td>\n",
       "      <td>Afghanistan</td>\n",
       "      <td>NaN</td>\n",
       "      <td>False</td>\n",
       "      <td>False</td>\n",
       "      <td>False</td>\n",
       "    </tr>\n",
       "  </tbody>\n",
       "</table>\n",
       "</div>"
      ],
      "text/plain": [
       "       ID                   Name Sex   Age  Height  Weight         Team  NOC  \\\n",
       "0   502.0      Ahmad Shah Abouwi   M   NaN     NaN     NaN  Afghanistan  AFG   \n",
       "1  1076.0  Jammal-ud-Din Affendi   M  28.0     NaN     NaN  Afghanistan  AFG   \n",
       "\n",
       "         Games    Year  Season       City   Sport                Event Medal  \\\n",
       "0  1956 Summer  1956.0  Summer  Melbourne  Hockey  Hockey Men's Hockey   NaN   \n",
       "1  1936 Summer  1936.0  Summer     Berlin  Hockey  Hockey Men's Hockey   NaN   \n",
       "\n",
       "        region notes  Bronze   Gold  Silver  \n",
       "0  Afghanistan   NaN   False  False   False  \n",
       "1  Afghanistan   NaN   False  False   False  "
      ]
     },
     "execution_count": 349,
     "metadata": {},
     "output_type": "execute_result"
    }
   ],
   "source": [
    "df.head(2)"
   ]
  },
  {
   "cell_type": "markdown",
   "id": "a55eb3ba-876a-46d6-9a58-9e018684555d",
   "metadata": {},
   "source": [
    "## Participating Nations over time"
   ]
  },
  {
   "cell_type": "code",
   "execution_count": 350,
   "id": "904902e1-a56e-4e81-996a-7a7ce9669578",
   "metadata": {},
   "outputs": [],
   "source": [
    "#y-->no of participating nations, x--> year"
   ]
  },
  {
   "cell_type": "code",
   "execution_count": 351,
   "id": "b228da43-5525-422b-bd91-fcc2dedc0532",
   "metadata": {
    "scrolled": true
   },
   "outputs": [],
   "source": [
    "nation_overtime=pd.DataFrame(df.drop_duplicates(['Year','region'])['Year'].value_counts()).reset_index()\n",
    "nation_overtime.sort_values('Year',inplace=True)"
   ]
  },
  {
   "cell_type": "code",
   "execution_count": 352,
   "id": "579dc862-87be-45eb-9268-d6208b40abbf",
   "metadata": {
    "scrolled": true
   },
   "outputs": [
    {
     "data": {
      "text/html": [
       "<div>\n",
       "<style scoped>\n",
       "    .dataframe tbody tr th:only-of-type {\n",
       "        vertical-align: middle;\n",
       "    }\n",
       "\n",
       "    .dataframe tbody tr th {\n",
       "        vertical-align: top;\n",
       "    }\n",
       "\n",
       "    .dataframe thead th {\n",
       "        text-align: right;\n",
       "    }\n",
       "</style>\n",
       "<table border=\"1\" class=\"dataframe\">\n",
       "  <thead>\n",
       "    <tr style=\"text-align: right;\">\n",
       "      <th></th>\n",
       "      <th>Year</th>\n",
       "      <th>count</th>\n",
       "    </tr>\n",
       "  </thead>\n",
       "  <tbody>\n",
       "    <tr>\n",
       "      <th>28</th>\n",
       "      <td>1896.0</td>\n",
       "      <td>12</td>\n",
       "    </tr>\n",
       "    <tr>\n",
       "      <th>22</th>\n",
       "      <td>1900.0</td>\n",
       "      <td>31</td>\n",
       "    </tr>\n",
       "    <tr>\n",
       "      <th>27</th>\n",
       "      <td>1904.0</td>\n",
       "      <td>14</td>\n",
       "    </tr>\n",
       "    <tr>\n",
       "      <th>26</th>\n",
       "      <td>1906.0</td>\n",
       "      <td>20</td>\n",
       "    </tr>\n",
       "    <tr>\n",
       "      <th>25</th>\n",
       "      <td>1908.0</td>\n",
       "      <td>22</td>\n",
       "    </tr>\n",
       "    <tr>\n",
       "      <th>23</th>\n",
       "      <td>1912.0</td>\n",
       "      <td>29</td>\n",
       "    </tr>\n",
       "    <tr>\n",
       "      <th>24</th>\n",
       "      <td>1920.0</td>\n",
       "      <td>29</td>\n",
       "    </tr>\n",
       "    <tr>\n",
       "      <th>21</th>\n",
       "      <td>1924.0</td>\n",
       "      <td>45</td>\n",
       "    </tr>\n",
       "    <tr>\n",
       "      <th>20</th>\n",
       "      <td>1928.0</td>\n",
       "      <td>46</td>\n",
       "    </tr>\n",
       "    <tr>\n",
       "      <th>19</th>\n",
       "      <td>1932.0</td>\n",
       "      <td>47</td>\n",
       "    </tr>\n",
       "    <tr>\n",
       "      <th>18</th>\n",
       "      <td>1936.0</td>\n",
       "      <td>49</td>\n",
       "    </tr>\n",
       "    <tr>\n",
       "      <th>17</th>\n",
       "      <td>1948.0</td>\n",
       "      <td>58</td>\n",
       "    </tr>\n",
       "    <tr>\n",
       "      <th>16</th>\n",
       "      <td>1952.0</td>\n",
       "      <td>66</td>\n",
       "    </tr>\n",
       "    <tr>\n",
       "      <th>15</th>\n",
       "      <td>1956.0</td>\n",
       "      <td>70</td>\n",
       "    </tr>\n",
       "    <tr>\n",
       "      <th>13</th>\n",
       "      <td>1960.0</td>\n",
       "      <td>82</td>\n",
       "    </tr>\n",
       "    <tr>\n",
       "      <th>11</th>\n",
       "      <td>1964.0</td>\n",
       "      <td>93</td>\n",
       "    </tr>\n",
       "    <tr>\n",
       "      <th>10</th>\n",
       "      <td>1968.0</td>\n",
       "      <td>110</td>\n",
       "    </tr>\n",
       "    <tr>\n",
       "      <th>9</th>\n",
       "      <td>1972.0</td>\n",
       "      <td>119</td>\n",
       "    </tr>\n",
       "    <tr>\n",
       "      <th>12</th>\n",
       "      <td>1976.0</td>\n",
       "      <td>90</td>\n",
       "    </tr>\n",
       "    <tr>\n",
       "      <th>14</th>\n",
       "      <td>1980.0</td>\n",
       "      <td>80</td>\n",
       "    </tr>\n",
       "    <tr>\n",
       "      <th>8</th>\n",
       "      <td>1984.0</td>\n",
       "      <td>138</td>\n",
       "    </tr>\n",
       "    <tr>\n",
       "      <th>7</th>\n",
       "      <td>1988.0</td>\n",
       "      <td>155</td>\n",
       "    </tr>\n",
       "    <tr>\n",
       "      <th>6</th>\n",
       "      <td>1992.0</td>\n",
       "      <td>167</td>\n",
       "    </tr>\n",
       "    <tr>\n",
       "      <th>5</th>\n",
       "      <td>1996.0</td>\n",
       "      <td>195</td>\n",
       "    </tr>\n",
       "    <tr>\n",
       "      <th>4</th>\n",
       "      <td>2000.0</td>\n",
       "      <td>198</td>\n",
       "    </tr>\n",
       "    <tr>\n",
       "      <th>3</th>\n",
       "      <td>2004.0</td>\n",
       "      <td>199</td>\n",
       "    </tr>\n",
       "    <tr>\n",
       "      <th>2</th>\n",
       "      <td>2008.0</td>\n",
       "      <td>202</td>\n",
       "    </tr>\n",
       "    <tr>\n",
       "      <th>1</th>\n",
       "      <td>2012.0</td>\n",
       "      <td>203</td>\n",
       "    </tr>\n",
       "    <tr>\n",
       "      <th>0</th>\n",
       "      <td>2016.0</td>\n",
       "      <td>204</td>\n",
       "    </tr>\n",
       "  </tbody>\n",
       "</table>\n",
       "</div>"
      ],
      "text/plain": [
       "      Year  count\n",
       "28  1896.0     12\n",
       "22  1900.0     31\n",
       "27  1904.0     14\n",
       "26  1906.0     20\n",
       "25  1908.0     22\n",
       "23  1912.0     29\n",
       "24  1920.0     29\n",
       "21  1924.0     45\n",
       "20  1928.0     46\n",
       "19  1932.0     47\n",
       "18  1936.0     49\n",
       "17  1948.0     58\n",
       "16  1952.0     66\n",
       "15  1956.0     70\n",
       "13  1960.0     82\n",
       "11  1964.0     93\n",
       "10  1968.0    110\n",
       "9   1972.0    119\n",
       "12  1976.0     90\n",
       "14  1980.0     80\n",
       "8   1984.0    138\n",
       "7   1988.0    155\n",
       "6   1992.0    167\n",
       "5   1996.0    195\n",
       "4   2000.0    198\n",
       "3   2004.0    199\n",
       "2   2008.0    202\n",
       "1   2012.0    203\n",
       "0   2016.0    204"
      ]
     },
     "execution_count": 352,
     "metadata": {},
     "output_type": "execute_result"
    }
   ],
   "source": [
    "nation_overtime"
   ]
  },
  {
   "cell_type": "code",
   "execution_count": 353,
   "id": "a5f1b372-a9e9-4d9b-a9bb-32af681eb96e",
   "metadata": {},
   "outputs": [
    {
     "data": {
      "application/vnd.plotly.v1+json": {
       "config": {
        "plotlyServerURL": "https://plot.ly"
       },
       "data": [
        {
         "hovertemplate": "Year=%{x}<br>count=%{y}<extra></extra>",
         "legendgroup": "",
         "line": {
          "color": "#636efa",
          "dash": "solid"
         },
         "marker": {
          "symbol": "circle"
         },
         "mode": "lines",
         "name": "",
         "orientation": "v",
         "showlegend": false,
         "type": "scatter",
         "x": [
          1896,
          1900,
          1904,
          1906,
          1908,
          1912,
          1920,
          1924,
          1928,
          1932,
          1936,
          1948,
          1952,
          1956,
          1960,
          1964,
          1968,
          1972,
          1976,
          1980,
          1984,
          1988,
          1992,
          1996,
          2000,
          2004,
          2008,
          2012,
          2016
         ],
         "xaxis": "x",
         "y": [
          12,
          31,
          14,
          20,
          22,
          29,
          29,
          45,
          46,
          47,
          49,
          58,
          66,
          70,
          82,
          93,
          110,
          119,
          90,
          80,
          138,
          155,
          167,
          195,
          198,
          199,
          202,
          203,
          204
         ],
         "yaxis": "y"
        }
       ],
       "layout": {
        "autosize": true,
        "legend": {
         "tracegroupgap": 0
        },
        "template": {
         "data": {
          "bar": [
           {
            "error_x": {
             "color": "#2a3f5f"
            },
            "error_y": {
             "color": "#2a3f5f"
            },
            "marker": {
             "line": {
              "color": "#E5ECF6",
              "width": 0.5
             },
             "pattern": {
              "fillmode": "overlay",
              "size": 10,
              "solidity": 0.2
             }
            },
            "type": "bar"
           }
          ],
          "barpolar": [
           {
            "marker": {
             "line": {
              "color": "#E5ECF6",
              "width": 0.5
             },
             "pattern": {
              "fillmode": "overlay",
              "size": 10,
              "solidity": 0.2
             }
            },
            "type": "barpolar"
           }
          ],
          "carpet": [
           {
            "aaxis": {
             "endlinecolor": "#2a3f5f",
             "gridcolor": "white",
             "linecolor": "white",
             "minorgridcolor": "white",
             "startlinecolor": "#2a3f5f"
            },
            "baxis": {
             "endlinecolor": "#2a3f5f",
             "gridcolor": "white",
             "linecolor": "white",
             "minorgridcolor": "white",
             "startlinecolor": "#2a3f5f"
            },
            "type": "carpet"
           }
          ],
          "choropleth": [
           {
            "colorbar": {
             "outlinewidth": 0,
             "ticks": ""
            },
            "type": "choropleth"
           }
          ],
          "contour": [
           {
            "colorbar": {
             "outlinewidth": 0,
             "ticks": ""
            },
            "colorscale": [
             [
              0,
              "#0d0887"
             ],
             [
              0.1111111111111111,
              "#46039f"
             ],
             [
              0.2222222222222222,
              "#7201a8"
             ],
             [
              0.3333333333333333,
              "#9c179e"
             ],
             [
              0.4444444444444444,
              "#bd3786"
             ],
             [
              0.5555555555555556,
              "#d8576b"
             ],
             [
              0.6666666666666666,
              "#ed7953"
             ],
             [
              0.7777777777777778,
              "#fb9f3a"
             ],
             [
              0.8888888888888888,
              "#fdca26"
             ],
             [
              1,
              "#f0f921"
             ]
            ],
            "type": "contour"
           }
          ],
          "contourcarpet": [
           {
            "colorbar": {
             "outlinewidth": 0,
             "ticks": ""
            },
            "type": "contourcarpet"
           }
          ],
          "heatmap": [
           {
            "colorbar": {
             "outlinewidth": 0,
             "ticks": ""
            },
            "colorscale": [
             [
              0,
              "#0d0887"
             ],
             [
              0.1111111111111111,
              "#46039f"
             ],
             [
              0.2222222222222222,
              "#7201a8"
             ],
             [
              0.3333333333333333,
              "#9c179e"
             ],
             [
              0.4444444444444444,
              "#bd3786"
             ],
             [
              0.5555555555555556,
              "#d8576b"
             ],
             [
              0.6666666666666666,
              "#ed7953"
             ],
             [
              0.7777777777777778,
              "#fb9f3a"
             ],
             [
              0.8888888888888888,
              "#fdca26"
             ],
             [
              1,
              "#f0f921"
             ]
            ],
            "type": "heatmap"
           }
          ],
          "heatmapgl": [
           {
            "colorbar": {
             "outlinewidth": 0,
             "ticks": ""
            },
            "colorscale": [
             [
              0,
              "#0d0887"
             ],
             [
              0.1111111111111111,
              "#46039f"
             ],
             [
              0.2222222222222222,
              "#7201a8"
             ],
             [
              0.3333333333333333,
              "#9c179e"
             ],
             [
              0.4444444444444444,
              "#bd3786"
             ],
             [
              0.5555555555555556,
              "#d8576b"
             ],
             [
              0.6666666666666666,
              "#ed7953"
             ],
             [
              0.7777777777777778,
              "#fb9f3a"
             ],
             [
              0.8888888888888888,
              "#fdca26"
             ],
             [
              1,
              "#f0f921"
             ]
            ],
            "type": "heatmapgl"
           }
          ],
          "histogram": [
           {
            "marker": {
             "pattern": {
              "fillmode": "overlay",
              "size": 10,
              "solidity": 0.2
             }
            },
            "type": "histogram"
           }
          ],
          "histogram2d": [
           {
            "colorbar": {
             "outlinewidth": 0,
             "ticks": ""
            },
            "colorscale": [
             [
              0,
              "#0d0887"
             ],
             [
              0.1111111111111111,
              "#46039f"
             ],
             [
              0.2222222222222222,
              "#7201a8"
             ],
             [
              0.3333333333333333,
              "#9c179e"
             ],
             [
              0.4444444444444444,
              "#bd3786"
             ],
             [
              0.5555555555555556,
              "#d8576b"
             ],
             [
              0.6666666666666666,
              "#ed7953"
             ],
             [
              0.7777777777777778,
              "#fb9f3a"
             ],
             [
              0.8888888888888888,
              "#fdca26"
             ],
             [
              1,
              "#f0f921"
             ]
            ],
            "type": "histogram2d"
           }
          ],
          "histogram2dcontour": [
           {
            "colorbar": {
             "outlinewidth": 0,
             "ticks": ""
            },
            "colorscale": [
             [
              0,
              "#0d0887"
             ],
             [
              0.1111111111111111,
              "#46039f"
             ],
             [
              0.2222222222222222,
              "#7201a8"
             ],
             [
              0.3333333333333333,
              "#9c179e"
             ],
             [
              0.4444444444444444,
              "#bd3786"
             ],
             [
              0.5555555555555556,
              "#d8576b"
             ],
             [
              0.6666666666666666,
              "#ed7953"
             ],
             [
              0.7777777777777778,
              "#fb9f3a"
             ],
             [
              0.8888888888888888,
              "#fdca26"
             ],
             [
              1,
              "#f0f921"
             ]
            ],
            "type": "histogram2dcontour"
           }
          ],
          "mesh3d": [
           {
            "colorbar": {
             "outlinewidth": 0,
             "ticks": ""
            },
            "type": "mesh3d"
           }
          ],
          "parcoords": [
           {
            "line": {
             "colorbar": {
              "outlinewidth": 0,
              "ticks": ""
             }
            },
            "type": "parcoords"
           }
          ],
          "pie": [
           {
            "automargin": true,
            "type": "pie"
           }
          ],
          "scatter": [
           {
            "fillpattern": {
             "fillmode": "overlay",
             "size": 10,
             "solidity": 0.2
            },
            "type": "scatter"
           }
          ],
          "scatter3d": [
           {
            "line": {
             "colorbar": {
              "outlinewidth": 0,
              "ticks": ""
             }
            },
            "marker": {
             "colorbar": {
              "outlinewidth": 0,
              "ticks": ""
             }
            },
            "type": "scatter3d"
           }
          ],
          "scattercarpet": [
           {
            "marker": {
             "colorbar": {
              "outlinewidth": 0,
              "ticks": ""
             }
            },
            "type": "scattercarpet"
           }
          ],
          "scattergeo": [
           {
            "marker": {
             "colorbar": {
              "outlinewidth": 0,
              "ticks": ""
             }
            },
            "type": "scattergeo"
           }
          ],
          "scattergl": [
           {
            "marker": {
             "colorbar": {
              "outlinewidth": 0,
              "ticks": ""
             }
            },
            "type": "scattergl"
           }
          ],
          "scattermapbox": [
           {
            "marker": {
             "colorbar": {
              "outlinewidth": 0,
              "ticks": ""
             }
            },
            "type": "scattermapbox"
           }
          ],
          "scatterpolar": [
           {
            "marker": {
             "colorbar": {
              "outlinewidth": 0,
              "ticks": ""
             }
            },
            "type": "scatterpolar"
           }
          ],
          "scatterpolargl": [
           {
            "marker": {
             "colorbar": {
              "outlinewidth": 0,
              "ticks": ""
             }
            },
            "type": "scatterpolargl"
           }
          ],
          "scatterternary": [
           {
            "marker": {
             "colorbar": {
              "outlinewidth": 0,
              "ticks": ""
             }
            },
            "type": "scatterternary"
           }
          ],
          "surface": [
           {
            "colorbar": {
             "outlinewidth": 0,
             "ticks": ""
            },
            "colorscale": [
             [
              0,
              "#0d0887"
             ],
             [
              0.1111111111111111,
              "#46039f"
             ],
             [
              0.2222222222222222,
              "#7201a8"
             ],
             [
              0.3333333333333333,
              "#9c179e"
             ],
             [
              0.4444444444444444,
              "#bd3786"
             ],
             [
              0.5555555555555556,
              "#d8576b"
             ],
             [
              0.6666666666666666,
              "#ed7953"
             ],
             [
              0.7777777777777778,
              "#fb9f3a"
             ],
             [
              0.8888888888888888,
              "#fdca26"
             ],
             [
              1,
              "#f0f921"
             ]
            ],
            "type": "surface"
           }
          ],
          "table": [
           {
            "cells": {
             "fill": {
              "color": "#EBF0F8"
             },
             "line": {
              "color": "white"
             }
            },
            "header": {
             "fill": {
              "color": "#C8D4E3"
             },
             "line": {
              "color": "white"
             }
            },
            "type": "table"
           }
          ]
         },
         "layout": {
          "annotationdefaults": {
           "arrowcolor": "#2a3f5f",
           "arrowhead": 0,
           "arrowwidth": 1
          },
          "autotypenumbers": "strict",
          "coloraxis": {
           "colorbar": {
            "outlinewidth": 0,
            "ticks": ""
           }
          },
          "colorscale": {
           "diverging": [
            [
             0,
             "#8e0152"
            ],
            [
             0.1,
             "#c51b7d"
            ],
            [
             0.2,
             "#de77ae"
            ],
            [
             0.3,
             "#f1b6da"
            ],
            [
             0.4,
             "#fde0ef"
            ],
            [
             0.5,
             "#f7f7f7"
            ],
            [
             0.6,
             "#e6f5d0"
            ],
            [
             0.7,
             "#b8e186"
            ],
            [
             0.8,
             "#7fbc41"
            ],
            [
             0.9,
             "#4d9221"
            ],
            [
             1,
             "#276419"
            ]
           ],
           "sequential": [
            [
             0,
             "#0d0887"
            ],
            [
             0.1111111111111111,
             "#46039f"
            ],
            [
             0.2222222222222222,
             "#7201a8"
            ],
            [
             0.3333333333333333,
             "#9c179e"
            ],
            [
             0.4444444444444444,
             "#bd3786"
            ],
            [
             0.5555555555555556,
             "#d8576b"
            ],
            [
             0.6666666666666666,
             "#ed7953"
            ],
            [
             0.7777777777777778,
             "#fb9f3a"
            ],
            [
             0.8888888888888888,
             "#fdca26"
            ],
            [
             1,
             "#f0f921"
            ]
           ],
           "sequentialminus": [
            [
             0,
             "#0d0887"
            ],
            [
             0.1111111111111111,
             "#46039f"
            ],
            [
             0.2222222222222222,
             "#7201a8"
            ],
            [
             0.3333333333333333,
             "#9c179e"
            ],
            [
             0.4444444444444444,
             "#bd3786"
            ],
            [
             0.5555555555555556,
             "#d8576b"
            ],
            [
             0.6666666666666666,
             "#ed7953"
            ],
            [
             0.7777777777777778,
             "#fb9f3a"
            ],
            [
             0.8888888888888888,
             "#fdca26"
            ],
            [
             1,
             "#f0f921"
            ]
           ]
          },
          "colorway": [
           "#636efa",
           "#EF553B",
           "#00cc96",
           "#ab63fa",
           "#FFA15A",
           "#19d3f3",
           "#FF6692",
           "#B6E880",
           "#FF97FF",
           "#FECB52"
          ],
          "font": {
           "color": "#2a3f5f"
          },
          "geo": {
           "bgcolor": "white",
           "lakecolor": "white",
           "landcolor": "#E5ECF6",
           "showlakes": true,
           "showland": true,
           "subunitcolor": "white"
          },
          "hoverlabel": {
           "align": "left"
          },
          "hovermode": "closest",
          "mapbox": {
           "style": "light"
          },
          "paper_bgcolor": "white",
          "plot_bgcolor": "#E5ECF6",
          "polar": {
           "angularaxis": {
            "gridcolor": "white",
            "linecolor": "white",
            "ticks": ""
           },
           "bgcolor": "#E5ECF6",
           "radialaxis": {
            "gridcolor": "white",
            "linecolor": "white",
            "ticks": ""
           }
          },
          "scene": {
           "xaxis": {
            "backgroundcolor": "#E5ECF6",
            "gridcolor": "white",
            "gridwidth": 2,
            "linecolor": "white",
            "showbackground": true,
            "ticks": "",
            "zerolinecolor": "white"
           },
           "yaxis": {
            "backgroundcolor": "#E5ECF6",
            "gridcolor": "white",
            "gridwidth": 2,
            "linecolor": "white",
            "showbackground": true,
            "ticks": "",
            "zerolinecolor": "white"
           },
           "zaxis": {
            "backgroundcolor": "#E5ECF6",
            "gridcolor": "white",
            "gridwidth": 2,
            "linecolor": "white",
            "showbackground": true,
            "ticks": "",
            "zerolinecolor": "white"
           }
          },
          "shapedefaults": {
           "line": {
            "color": "#2a3f5f"
           }
          },
          "ternary": {
           "aaxis": {
            "gridcolor": "white",
            "linecolor": "white",
            "ticks": ""
           },
           "baxis": {
            "gridcolor": "white",
            "linecolor": "white",
            "ticks": ""
           },
           "bgcolor": "#E5ECF6",
           "caxis": {
            "gridcolor": "white",
            "linecolor": "white",
            "ticks": ""
           }
          },
          "title": {
           "x": 0.05
          },
          "xaxis": {
           "automargin": true,
           "gridcolor": "white",
           "linecolor": "white",
           "ticks": "",
           "title": {
            "standoff": 15
           },
           "zerolinecolor": "white",
           "zerolinewidth": 2
          },
          "yaxis": {
           "automargin": true,
           "gridcolor": "white",
           "linecolor": "white",
           "ticks": "",
           "title": {
            "standoff": 15
           },
           "zerolinecolor": "white",
           "zerolinewidth": 2
          }
         }
        },
        "title": {
         "text": "Participating of Nations over Time"
        },
        "xaxis": {
         "anchor": "y",
         "autorange": true,
         "domain": [
          0,
          1
         ],
         "range": [
          1896,
          2016
         ],
         "title": {
          "text": "Year"
         },
         "type": "linear"
        },
        "yaxis": {
         "anchor": "x",
         "autorange": true,
         "domain": [
          0,
          1
         ],
         "range": [
          1.333333333333334,
          214.66666666666666
         ],
         "title": {
          "text": "Countries"
         },
         "type": "linear"
        }
       }
      },
      "image/png": "[encoded data removed]",
      "text/html": [
       "<div>                            <div id=\"87fa870d-3a98-478b-9f34-fff0454c91db\" class=\"plotly-graph-div\" style=\"height:525px; width:100%;\"></div>            <script type=\"text/javascript\">                require([\"plotly\"], function(Plotly) {                    window.PLOTLYENV=window.PLOTLYENV || {};                                    if (document.getElementById(\"87fa870d-3a98-478b-9f34-fff0454c91db\")) {                    Plotly.newPlot(                        \"87fa870d-3a98-478b-9f34-fff0454c91db\",                        [{\"hovertemplate\":\"Year=%{x}<br>count=%{y}<extra></extra>\",\"legendgroup\":\"\",\"line\":{\"color\":\"#636efa\",\"dash\":\"solid\"},\"marker\":{\"symbol\":\"circle\"},\"mode\":\"lines\",\"name\":\"\",\"orientation\":\"v\",\"showlegend\":false,\"x\":[1896.0,1900.0,1904.0,1906.0,1908.0,1912.0,1920.0,1924.0,1928.0,1932.0,1936.0,1948.0,1952.0,1956.0,1960.0,1964.0,1968.0,1972.0,1976.0,1980.0,1984.0,1988.0,1992.0,1996.0,2000.0,2004.0,2008.0,2012.0,2016.0],\"xaxis\":\"x\",\"y\":[12,31,14,20,22,29,29,45,46,47,49,58,66,70,82,93,110,119,90,80,138,155,167,195,198,199,202,203,204],\"yaxis\":\"y\",\"type\":\"scatter\"}],                        {\"template\":{\"data\":{\"histogram2dcontour\":[{\"type\":\"histogram2dcontour\",\"colorbar\":{\"outlinewidth\":0,\"ticks\":\"\"},\"colorscale\":[[0.0,\"#0d0887\"],[0.1111111111111111,\"#46039f\"],[0.2222222222222222,\"#7201a8\"],[0.3333333333333333,\"#9c179e\"],[0.4444444444444444,\"#bd3786\"],[0.5555555555555556,\"#d8576b\"],[0.6666666666666666,\"#ed7953\"],[0.7777777777777778,\"#fb9f3a\"],[0.8888888888888888,\"#fdca26\"],[1.0,\"#f0f921\"]]}],\"choropleth\":[{\"type\":\"choropleth\",\"colorbar\":{\"outlinewidth\":0,\"ticks\":\"\"}}],\"histogram2d\":[{\"type\":\"histogram2d\",\"colorbar\":{\"outlinewidth\":0,\"ticks\":\"\"},\"colorscale\":[[0.0,\"#0d0887\"],[0.1111111111111111,\"#46039f\"],[0.2222222222222222,\"#7201a8\"],[0.3333333333333333,\"#9c179e\"],[0.4444444444444444,\"#bd3786\"],[0.5555555555555556,\"#d8576b\"],[0.6666666666666666,\"#ed7953\"],[0.7777777777777778,\"#fb9f3a\"],[0.8888888888888888,\"#fdca26\"],[1.0,\"#f0f921\"]]}],\"heatmap\":[{\"type\":\"heatmap\",\"colorbar\":{\"outlinewidth\":0,\"ticks\":\"\"},\"colorscale\":[[0.0,\"#0d0887\"],[0.1111111111111111,\"#46039f\"],[0.2222222222222222,\"#7201a8\"],[0.3333333333333333,\"#9c179e\"],[0.4444444444444444,\"#bd3786\"],[0.5555555555555556,\"#d8576b\"],[0.6666666666666666,\"#ed7953\"],[0.7777777777777778,\"#fb9f3a\"],[0.8888888888888888,\"#fdca26\"],[1.0,\"#f0f921\"]]}],\"heatmapgl\":[{\"type\":\"heatmapgl\",\"colorbar\":{\"outlinewidth\":0,\"ticks\":\"\"},\"colorscale\":[[0.0,\"#0d0887\"],[0.1111111111111111,\"#46039f\"],[0.2222222222222222,\"#7201a8\"],[0.3333333333333333,\"#9c179e\"],[0.4444444444444444,\"#bd3786\"],[0.5555555555555556,\"#d8576b\"],[0.6666666666666666,\"#ed7953\"],[0.7777777777777778,\"#fb9f3a\"],[0.8888888888888888,\"#fdca26\"],[1.0,\"#f0f921\"]]}],\"contourcarpet\":[{\"type\":\"contourcarpet\",\"colorbar\":{\"outlinewidth\":0,\"ticks\":\"\"}}],\"contour\":[{\"type\":\"contour\",\"colorbar\":{\"outlinewidth\":0,\"ticks\":\"\"},\"colorscale\":[[0.0,\"#0d0887\"],[0.1111111111111111,\"#46039f\"],[0.2222222222222222,\"#7201a8\"],[0.3333333333333333,\"#9c179e\"],[0.4444444444444444,\"#bd3786\"],[0.5555555555555556,\"#d8576b\"],[0.6666666666666666,\"#ed7953\"],[0.7777777777777778,\"#fb9f3a\"],[0.8888888888888888,\"#fdca26\"],[1.0,\"#f0f921\"]]}],\"surface\":[{\"type\":\"surface\",\"colorbar\":{\"outlinewidth\":0,\"ticks\":\"\"},\"colorscale\":[[0.0,\"#0d0887\"],[0.1111111111111111,\"#46039f\"],[0.2222222222222222,\"#7201a8\"],[0.3333333333333333,\"#9c179e\"],[0.4444444444444444,\"#bd3786\"],[0.5555555555555556,\"#d8576b\"],[0.6666666666666666,\"#ed7953\"],[0.7777777777777778,\"#fb9f3a\"],[0.8888888888888888,\"#fdca26\"],[1.0,\"#f0f921\"]]}],\"mesh3d\":[{\"type\":\"mesh3d\",\"colorbar\":{\"outlinewidth\":0,\"ticks\":\"\"}}],\"scatter\":[{\"fillpattern\":{\"fillmode\":\"overlay\",\"size\":10,\"solidity\":0.2},\"type\":\"scatter\"}],\"parcoords\":[{\"type\":\"parcoords\",\"line\":{\"colorbar\":{\"outlinewidth\":0,\"ticks\":\"\"}}}],\"scatterpolargl\":[{\"type\":\"scatterpolargl\",\"marker\":{\"colorbar\":{\"outlinewidth\":0,\"ticks\":\"\"}}}],\"bar\":[{\"error_x\":{\"color\":\"#2a3f5f\"},\"error_y\":{\"color\":\"#2a3f5f\"},\"marker\":{\"line\":{\"color\":\"#E5ECF6\",\"width\":0.5},\"pattern\":{\"fillmode\":\"overlay\",\"size\":10,\"solidity\":0.2}},\"type\":\"bar\"}],\"scattergeo\":[{\"type\":\"scattergeo\",\"marker\":{\"colorbar\":{\"outlinewidth\":0,\"ticks\":\"\"}}}],\"scatterpolar\":[{\"type\":\"scatterpolar\",\"marker\":{\"colorbar\":{\"outlinewidth\":0,\"ticks\":\"\"}}}],\"histogram\":[{\"marker\":{\"pattern\":{\"fillmode\":\"overlay\",\"size\":10,\"solidity\":0.2}},\"type\":\"histogram\"}],\"scattergl\":[{\"type\":\"scattergl\",\"marker\":{\"colorbar\":{\"outlinewidth\":0,\"ticks\":\"\"}}}],\"scatter3d\":[{\"type\":\"scatter3d\",\"line\":{\"colorbar\":{\"outlinewidth\":0,\"ticks\":\"\"}},\"marker\":{\"colorbar\":{\"outlinewidth\":0,\"ticks\":\"\"}}}],\"scattermapbox\":[{\"type\":\"scattermapbox\",\"marker\":{\"colorbar\":{\"outlinewidth\":0,\"ticks\":\"\"}}}],\"scatterternary\":[{\"type\":\"scatterternary\",\"marker\":{\"colorbar\":{\"outlinewidth\":0,\"ticks\":\"\"}}}],\"scattercarpet\":[{\"type\":\"scattercarpet\",\"marker\":{\"colorbar\":{\"outlinewidth\":0,\"ticks\":\"\"}}}],\"carpet\":[{\"aaxis\":{\"endlinecolor\":\"#2a3f5f\",\"gridcolor\":\"white\",\"linecolor\":\"white\",\"minorgridcolor\":\"white\",\"startlinecolor\":\"#2a3f5f\"},\"baxis\":{\"endlinecolor\":\"#2a3f5f\",\"gridcolor\":\"white\",\"linecolor\":\"white\",\"minorgridcolor\":\"white\",\"startlinecolor\":\"#2a3f5f\"},\"type\":\"carpet\"}],\"table\":[{\"cells\":{\"fill\":{\"color\":\"#EBF0F8\"},\"line\":{\"color\":\"white\"}},\"header\":{\"fill\":{\"color\":\"#C8D4E3\"},\"line\":{\"color\":\"white\"}},\"type\":\"table\"}],\"barpolar\":[{\"marker\":{\"line\":{\"color\":\"#E5ECF6\",\"width\":0.5},\"pattern\":{\"fillmode\":\"overlay\",\"size\":10,\"solidity\":0.2}},\"type\":\"barpolar\"}],\"pie\":[{\"automargin\":true,\"type\":\"pie\"}]},\"layout\":{\"autotypenumbers\":\"strict\",\"colorway\":[\"#636efa\",\"#EF553B\",\"#00cc96\",\"#ab63fa\",\"#FFA15A\",\"#19d3f3\",\"#FF6692\",\"#B6E880\",\"#FF97FF\",\"#FECB52\"],\"font\":{\"color\":\"#2a3f5f\"},\"hovermode\":\"closest\",\"hoverlabel\":{\"align\":\"left\"},\"paper_bgcolor\":\"white\",\"plot_bgcolor\":\"#E5ECF6\",\"polar\":{\"bgcolor\":\"#E5ECF6\",\"angularaxis\":{\"gridcolor\":\"white\",\"linecolor\":\"white\",\"ticks\":\"\"},\"radialaxis\":{\"gridcolor\":\"white\",\"linecolor\":\"white\",\"ticks\":\"\"}},\"ternary\":{\"bgcolor\":\"#E5ECF6\",\"aaxis\":{\"gridcolor\":\"white\",\"linecolor\":\"white\",\"ticks\":\"\"},\"baxis\":{\"gridcolor\":\"white\",\"linecolor\":\"white\",\"ticks\":\"\"},\"caxis\":{\"gridcolor\":\"white\",\"linecolor\":\"white\",\"ticks\":\"\"}},\"coloraxis\":{\"colorbar\":{\"outlinewidth\":0,\"ticks\":\"\"}},\"colorscale\":{\"sequential\":[[0.0,\"#0d0887\"],[0.1111111111111111,\"#46039f\"],[0.2222222222222222,\"#7201a8\"],[0.3333333333333333,\"#9c179e\"],[0.4444444444444444,\"#bd3786\"],[0.5555555555555556,\"#d8576b\"],[0.6666666666666666,\"#ed7953\"],[0.7777777777777778,\"#fb9f3a\"],[0.8888888888888888,\"#fdca26\"],[1.0,\"#f0f921\"]],\"sequentialminus\":[[0.0,\"#0d0887\"],[0.1111111111111111,\"#46039f\"],[0.2222222222222222,\"#7201a8\"],[0.3333333333333333,\"#9c179e\"],[0.4444444444444444,\"#bd3786\"],[0.5555555555555556,\"#d8576b\"],[0.6666666666666666,\"#ed7953\"],[0.7777777777777778,\"#fb9f3a\"],[0.8888888888888888,\"#fdca26\"],[1.0,\"#f0f921\"]],\"diverging\":[[0,\"#8e0152\"],[0.1,\"#c51b7d\"],[0.2,\"#de77ae\"],[0.3,\"#f1b6da\"],[0.4,\"#fde0ef\"],[0.5,\"#f7f7f7\"],[0.6,\"#e6f5d0\"],[0.7,\"#b8e186\"],[0.8,\"#7fbc41\"],[0.9,\"#4d9221\"],[1,\"#276419\"]]},\"xaxis\":{\"gridcolor\":\"white\",\"linecolor\":\"white\",\"ticks\":\"\",\"title\":{\"standoff\":15},\"zerolinecolor\":\"white\",\"automargin\":true,\"zerolinewidth\":2},\"yaxis\":{\"gridcolor\":\"white\",\"linecolor\":\"white\",\"ticks\":\"\",\"title\":{\"standoff\":15},\"zerolinecolor\":\"white\",\"automargin\":true,\"zerolinewidth\":2},\"scene\":{\"xaxis\":{\"backgroundcolor\":\"#E5ECF6\",\"gridcolor\":\"white\",\"linecolor\":\"white\",\"showbackground\":true,\"ticks\":\"\",\"zerolinecolor\":\"white\",\"gridwidth\":2},\"yaxis\":{\"backgroundcolor\":\"#E5ECF6\",\"gridcolor\":\"white\",\"linecolor\":\"white\",\"showbackground\":true,\"ticks\":\"\",\"zerolinecolor\":\"white\",\"gridwidth\":2},\"zaxis\":{\"backgroundcolor\":\"#E5ECF6\",\"gridcolor\":\"white\",\"linecolor\":\"white\",\"showbackground\":true,\"ticks\":\"\",\"zerolinecolor\":\"white\",\"gridwidth\":2}},\"shapedefaults\":{\"line\":{\"color\":\"#2a3f5f\"}},\"annotationdefaults\":{\"arrowcolor\":\"#2a3f5f\",\"arrowhead\":0,\"arrowwidth\":1},\"geo\":{\"bgcolor\":\"white\",\"landcolor\":\"#E5ECF6\",\"subunitcolor\":\"white\",\"showland\":true,\"showlakes\":true,\"lakecolor\":\"white\"},\"title\":{\"x\":0.05},\"mapbox\":{\"style\":\"light\"}}},\"xaxis\":{\"anchor\":\"y\",\"domain\":[0.0,1.0],\"title\":{\"text\":\"Year\"}},\"yaxis\":{\"anchor\":\"x\",\"domain\":[0.0,1.0],\"title\":{\"text\":\"Countries\"}},\"legend\":{\"tracegroupgap\":0},\"title\":{\"text\":\"Participating of Nations over Time\"}},                        {\"responsive\": true}                    ).then(function(){\n",
       "                            \n",
       "var gd = document.getElementById('87fa870d-3a98-478b-9f34-fff0454c91db');\n",
       "var x = new MutationObserver(function (mutations, observer) {{\n",
       "        var display = window.getComputedStyle(gd).display;\n",
       "        if (!display || display === 'none') {{\n",
       "            console.log([gd, 'removed!']);\n",
       "            Plotly.purge(gd);\n",
       "            observer.disconnect();\n",
       "        }}\n",
       "}});\n",
       "\n",
       "// Listen for the removal of the full notebook cells\n",
       "var notebookContainer = gd.closest('#notebook-container');\n",
       "if (notebookContainer) {{\n",
       "    x.observe(notebookContainer, {childList: true});\n",
       "}}\n",
       "\n",
       "// Listen for the clearing of the current output cell\n",
       "var outputEl = gd.closest('.output');\n",
       "if (outputEl) {{\n",
       "    x.observe(outputEl, {childList: true});\n",
       "}}\n",
       "\n",
       "                        })                };                });            </script>        </div>"
      ]
     },
     "metadata": {},
     "output_type": "display_data"
    }
   ],
   "source": [
    "import plotly.express as px\n",
    "\n",
    "fig = px.line(nation_overtime, x=\"Year\", y=\"count\", title='Participating of Nations over Time')\n",
    "fig.layout.yaxis.title ='Countries'\n",
    "fig.show()"
   ]
  },
  {
   "cell_type": "markdown",
   "id": "eae6de1d-5fb0-4546-b5b2-cf4c4f35df8f",
   "metadata": {},
   "source": [
    "## No of events over the time"
   ]
  },
  {
   "cell_type": "code",
   "execution_count": 354,
   "id": "06948b2e-ed1c-49a9-a625-2472ebe8726b",
   "metadata": {},
   "outputs": [
    {
     "data": {
      "text/html": [
       "<div>\n",
       "<style scoped>\n",
       "    .dataframe tbody tr th:only-of-type {\n",
       "        vertical-align: middle;\n",
       "    }\n",
       "\n",
       "    .dataframe tbody tr th {\n",
       "        vertical-align: top;\n",
       "    }\n",
       "\n",
       "    .dataframe thead th {\n",
       "        text-align: right;\n",
       "    }\n",
       "</style>\n",
       "<table border=\"1\" class=\"dataframe\">\n",
       "  <thead>\n",
       "    <tr style=\"text-align: right;\">\n",
       "      <th></th>\n",
       "      <th>ID</th>\n",
       "      <th>Name</th>\n",
       "      <th>Sex</th>\n",
       "      <th>Age</th>\n",
       "      <th>Height</th>\n",
       "      <th>Weight</th>\n",
       "      <th>Team</th>\n",
       "      <th>NOC</th>\n",
       "      <th>Games</th>\n",
       "      <th>Year</th>\n",
       "      <th>Season</th>\n",
       "      <th>City</th>\n",
       "      <th>Sport</th>\n",
       "      <th>Event</th>\n",
       "      <th>Medal</th>\n",
       "      <th>region</th>\n",
       "      <th>notes</th>\n",
       "      <th>Bronze</th>\n",
       "      <th>Gold</th>\n",
       "      <th>Silver</th>\n",
       "    </tr>\n",
       "  </thead>\n",
       "  <tbody>\n",
       "    <tr>\n",
       "      <th>0</th>\n",
       "      <td>502.0</td>\n",
       "      <td>Ahmad Shah Abouwi</td>\n",
       "      <td>M</td>\n",
       "      <td>NaN</td>\n",
       "      <td>NaN</td>\n",
       "      <td>NaN</td>\n",
       "      <td>Afghanistan</td>\n",
       "      <td>AFG</td>\n",
       "      <td>1956 Summer</td>\n",
       "      <td>1956.0</td>\n",
       "      <td>Summer</td>\n",
       "      <td>Melbourne</td>\n",
       "      <td>Hockey</td>\n",
       "      <td>Hockey Men's Hockey</td>\n",
       "      <td>NaN</td>\n",
       "      <td>Afghanistan</td>\n",
       "      <td>NaN</td>\n",
       "      <td>False</td>\n",
       "      <td>False</td>\n",
       "      <td>False</td>\n",
       "    </tr>\n",
       "    <tr>\n",
       "      <th>1</th>\n",
       "      <td>1076.0</td>\n",
       "      <td>Jammal-ud-Din Affendi</td>\n",
       "      <td>M</td>\n",
       "      <td>28.0</td>\n",
       "      <td>NaN</td>\n",
       "      <td>NaN</td>\n",
       "      <td>Afghanistan</td>\n",
       "      <td>AFG</td>\n",
       "      <td>1936 Summer</td>\n",
       "      <td>1936.0</td>\n",
       "      <td>Summer</td>\n",
       "      <td>Berlin</td>\n",
       "      <td>Hockey</td>\n",
       "      <td>Hockey Men's Hockey</td>\n",
       "      <td>NaN</td>\n",
       "      <td>Afghanistan</td>\n",
       "      <td>NaN</td>\n",
       "      <td>False</td>\n",
       "      <td>False</td>\n",
       "      <td>False</td>\n",
       "    </tr>\n",
       "  </tbody>\n",
       "</table>\n",
       "</div>"
      ],
      "text/plain": [
       "       ID                   Name Sex   Age  Height  Weight         Team  NOC  \\\n",
       "0   502.0      Ahmad Shah Abouwi   M   NaN     NaN     NaN  Afghanistan  AFG   \n",
       "1  1076.0  Jammal-ud-Din Affendi   M  28.0     NaN     NaN  Afghanistan  AFG   \n",
       "\n",
       "         Games    Year  Season       City   Sport                Event Medal  \\\n",
       "0  1956 Summer  1956.0  Summer  Melbourne  Hockey  Hockey Men's Hockey   NaN   \n",
       "1  1936 Summer  1936.0  Summer     Berlin  Hockey  Hockey Men's Hockey   NaN   \n",
       "\n",
       "        region notes  Bronze   Gold  Silver  \n",
       "0  Afghanistan   NaN   False  False   False  \n",
       "1  Afghanistan   NaN   False  False   False  "
      ]
     },
     "execution_count": 354,
     "metadata": {},
     "output_type": "execute_result"
    }
   ],
   "source": [
    "df.head(2)"
   ]
  },
  {
   "cell_type": "code",
   "execution_count": 355,
   "id": "612751f6-d280-49e1-b02d-b9ddb196cfec",
   "metadata": {
    "scrolled": true
   },
   "outputs": [],
   "source": [
    "events_year=pd.DataFrame(df.drop_duplicates(['Year','Event'])['Year'].value_counts())\n",
    "events_year.sort_values('Year',inplace=True)\n",
    "events_year.reset_index(inplace=True)"
   ]
  },
  {
   "cell_type": "code",
   "execution_count": 356,
   "id": "cfa9f907-272b-4198-814b-ec03d01af617",
   "metadata": {
    "scrolled": true
   },
   "outputs": [
    {
     "data": {
      "text/html": [
       "<div>\n",
       "<style scoped>\n",
       "    .dataframe tbody tr th:only-of-type {\n",
       "        vertical-align: middle;\n",
       "    }\n",
       "\n",
       "    .dataframe tbody tr th {\n",
       "        vertical-align: top;\n",
       "    }\n",
       "\n",
       "    .dataframe thead th {\n",
       "        text-align: right;\n",
       "    }\n",
       "</style>\n",
       "<table border=\"1\" class=\"dataframe\">\n",
       "  <thead>\n",
       "    <tr style=\"text-align: right;\">\n",
       "      <th></th>\n",
       "      <th>Year</th>\n",
       "      <th>count</th>\n",
       "    </tr>\n",
       "  </thead>\n",
       "  <tbody>\n",
       "    <tr>\n",
       "      <th>0</th>\n",
       "      <td>1896.0</td>\n",
       "      <td>43</td>\n",
       "    </tr>\n",
       "    <tr>\n",
       "      <th>1</th>\n",
       "      <td>1900.0</td>\n",
       "      <td>90</td>\n",
       "    </tr>\n",
       "    <tr>\n",
       "      <th>2</th>\n",
       "      <td>1904.0</td>\n",
       "      <td>95</td>\n",
       "    </tr>\n",
       "    <tr>\n",
       "      <th>3</th>\n",
       "      <td>1906.0</td>\n",
       "      <td>74</td>\n",
       "    </tr>\n",
       "    <tr>\n",
       "      <th>4</th>\n",
       "      <td>1908.0</td>\n",
       "      <td>109</td>\n",
       "    </tr>\n",
       "    <tr>\n",
       "      <th>5</th>\n",
       "      <td>1912.0</td>\n",
       "      <td>107</td>\n",
       "    </tr>\n",
       "    <tr>\n",
       "      <th>6</th>\n",
       "      <td>1920.0</td>\n",
       "      <td>158</td>\n",
       "    </tr>\n",
       "    <tr>\n",
       "      <th>7</th>\n",
       "      <td>1924.0</td>\n",
       "      <td>131</td>\n",
       "    </tr>\n",
       "    <tr>\n",
       "      <th>8</th>\n",
       "      <td>1928.0</td>\n",
       "      <td>122</td>\n",
       "    </tr>\n",
       "    <tr>\n",
       "      <th>9</th>\n",
       "      <td>1932.0</td>\n",
       "      <td>131</td>\n",
       "    </tr>\n",
       "    <tr>\n",
       "      <th>10</th>\n",
       "      <td>1936.0</td>\n",
       "      <td>150</td>\n",
       "    </tr>\n",
       "    <tr>\n",
       "      <th>11</th>\n",
       "      <td>1948.0</td>\n",
       "      <td>153</td>\n",
       "    </tr>\n",
       "    <tr>\n",
       "      <th>12</th>\n",
       "      <td>1952.0</td>\n",
       "      <td>149</td>\n",
       "    </tr>\n",
       "    <tr>\n",
       "      <th>13</th>\n",
       "      <td>1956.0</td>\n",
       "      <td>151</td>\n",
       "    </tr>\n",
       "    <tr>\n",
       "      <th>14</th>\n",
       "      <td>1960.0</td>\n",
       "      <td>150</td>\n",
       "    </tr>\n",
       "    <tr>\n",
       "      <th>15</th>\n",
       "      <td>1964.0</td>\n",
       "      <td>163</td>\n",
       "    </tr>\n",
       "    <tr>\n",
       "      <th>16</th>\n",
       "      <td>1968.0</td>\n",
       "      <td>172</td>\n",
       "    </tr>\n",
       "    <tr>\n",
       "      <th>17</th>\n",
       "      <td>1972.0</td>\n",
       "      <td>193</td>\n",
       "    </tr>\n",
       "    <tr>\n",
       "      <th>18</th>\n",
       "      <td>1976.0</td>\n",
       "      <td>198</td>\n",
       "    </tr>\n",
       "    <tr>\n",
       "      <th>19</th>\n",
       "      <td>1980.0</td>\n",
       "      <td>203</td>\n",
       "    </tr>\n",
       "    <tr>\n",
       "      <th>20</th>\n",
       "      <td>1984.0</td>\n",
       "      <td>221</td>\n",
       "    </tr>\n",
       "    <tr>\n",
       "      <th>21</th>\n",
       "      <td>1988.0</td>\n",
       "      <td>237</td>\n",
       "    </tr>\n",
       "    <tr>\n",
       "      <th>22</th>\n",
       "      <td>1992.0</td>\n",
       "      <td>257</td>\n",
       "    </tr>\n",
       "    <tr>\n",
       "      <th>23</th>\n",
       "      <td>1996.0</td>\n",
       "      <td>271</td>\n",
       "    </tr>\n",
       "    <tr>\n",
       "      <th>24</th>\n",
       "      <td>2000.0</td>\n",
       "      <td>300</td>\n",
       "    </tr>\n",
       "    <tr>\n",
       "      <th>25</th>\n",
       "      <td>2004.0</td>\n",
       "      <td>301</td>\n",
       "    </tr>\n",
       "    <tr>\n",
       "      <th>26</th>\n",
       "      <td>2008.0</td>\n",
       "      <td>302</td>\n",
       "    </tr>\n",
       "    <tr>\n",
       "      <th>27</th>\n",
       "      <td>2012.0</td>\n",
       "      <td>302</td>\n",
       "    </tr>\n",
       "    <tr>\n",
       "      <th>28</th>\n",
       "      <td>2016.0</td>\n",
       "      <td>306</td>\n",
       "    </tr>\n",
       "  </tbody>\n",
       "</table>\n",
       "</div>"
      ],
      "text/plain": [
       "      Year  count\n",
       "0   1896.0     43\n",
       "1   1900.0     90\n",
       "2   1904.0     95\n",
       "3   1906.0     74\n",
       "4   1908.0    109\n",
       "5   1912.0    107\n",
       "6   1920.0    158\n",
       "7   1924.0    131\n",
       "8   1928.0    122\n",
       "9   1932.0    131\n",
       "10  1936.0    150\n",
       "11  1948.0    153\n",
       "12  1952.0    149\n",
       "13  1956.0    151\n",
       "14  1960.0    150\n",
       "15  1964.0    163\n",
       "16  1968.0    172\n",
       "17  1972.0    193\n",
       "18  1976.0    198\n",
       "19  1980.0    203\n",
       "20  1984.0    221\n",
       "21  1988.0    237\n",
       "22  1992.0    257\n",
       "23  1996.0    271\n",
       "24  2000.0    300\n",
       "25  2004.0    301\n",
       "26  2008.0    302\n",
       "27  2012.0    302\n",
       "28  2016.0    306"
      ]
     },
     "execution_count": 356,
     "metadata": {},
     "output_type": "execute_result"
    }
   ],
   "source": [
    "events_year"
   ]
  },
  {
   "cell_type": "code",
   "execution_count": 357,
   "id": "73dda6dd-7334-40d2-999a-0a9da602dbd9",
   "metadata": {},
   "outputs": [
    {
     "data": {
      "application/vnd.plotly.v1+json": {
       "config": {
        "plotlyServerURL": "https://plot.ly"
       },
       "data": [
        {
         "hovertemplate": "Year=%{x}<br>count=%{y}<extra></extra>",
         "legendgroup": "",
         "line": {
          "color": "#636efa",
          "dash": "solid"
         },
         "marker": {
          "symbol": "circle"
         },
         "mode": "lines",
         "name": "",
         "orientation": "v",
         "showlegend": false,
         "type": "scatter",
         "x": [
          1896,
          1900,
          1904,
          1906,
          1908,
          1912,
          1920,
          1924,
          1928,
          1932,
          1936,
          1948,
          1952,
          1956,
          1960,
          1964,
          1968,
          1972,
          1976,
          1980,
          1984,
          1988,
          1992,
          1996,
          2000,
          2004,
          2008,
          2012,
          2016
         ],
         "xaxis": "x",
         "y": [
          43,
          90,
          95,
          74,
          109,
          107,
          158,
          131,
          122,
          131,
          150,
          153,
          149,
          151,
          150,
          163,
          172,
          193,
          198,
          203,
          221,
          237,
          257,
          271,
          300,
          301,
          302,
          302,
          306
         ],
         "yaxis": "y"
        }
       ],
       "layout": {
        "autosize": true,
        "legend": {
         "tracegroupgap": 0
        },
        "template": {
         "data": {
          "bar": [
           {
            "error_x": {
             "color": "#2a3f5f"
            },
            "error_y": {
             "color": "#2a3f5f"
            },
            "marker": {
             "line": {
              "color": "#E5ECF6",
              "width": 0.5
             },
             "pattern": {
              "fillmode": "overlay",
              "size": 10,
              "solidity": 0.2
             }
            },
            "type": "bar"
           }
          ],
          "barpolar": [
           {
            "marker": {
             "line": {
              "color": "#E5ECF6",
              "width": 0.5
             },
             "pattern": {
              "fillmode": "overlay",
              "size": 10,
              "solidity": 0.2
             }
            },
            "type": "barpolar"
           }
          ],
          "carpet": [
           {
            "aaxis": {
             "endlinecolor": "#2a3f5f",
             "gridcolor": "white",
             "linecolor": "white",
             "minorgridcolor": "white",
             "startlinecolor": "#2a3f5f"
            },
            "baxis": {
             "endlinecolor": "#2a3f5f",
             "gridcolor": "white",
             "linecolor": "white",
             "minorgridcolor": "white",
             "startlinecolor": "#2a3f5f"
            },
            "type": "carpet"
           }
          ],
          "choropleth": [
           {
            "colorbar": {
             "outlinewidth": 0,
             "ticks": ""
            },
            "type": "choropleth"
           }
          ],
          "contour": [
           {
            "colorbar": {
             "outlinewidth": 0,
             "ticks": ""
            },
            "colorscale": [
             [
              0,
              "#0d0887"
             ],
             [
              0.1111111111111111,
              "#46039f"
             ],
             [
              0.2222222222222222,
              "#7201a8"
             ],
             [
              0.3333333333333333,
              "#9c179e"
             ],
             [
              0.4444444444444444,
              "#bd3786"
             ],
             [
              0.5555555555555556,
              "#d8576b"
             ],
             [
              0.6666666666666666,
              "#ed7953"
             ],
             [
              0.7777777777777778,
              "#fb9f3a"
             ],
             [
              0.8888888888888888,
              "#fdca26"
             ],
             [
              1,
              "#f0f921"
             ]
            ],
            "type": "contour"
           }
          ],
          "contourcarpet": [
           {
            "colorbar": {
             "outlinewidth": 0,
             "ticks": ""
            },
            "type": "contourcarpet"
           }
          ],
          "heatmap": [
           {
            "colorbar": {
             "outlinewidth": 0,
             "ticks": ""
            },
            "colorscale": [
             [
              0,
              "#0d0887"
             ],
             [
              0.1111111111111111,
              "#46039f"
             ],
             [
              0.2222222222222222,
              "#7201a8"
             ],
             [
              0.3333333333333333,
              "#9c179e"
             ],
             [
              0.4444444444444444,
              "#bd3786"
             ],
             [
              0.5555555555555556,
              "#d8576b"
             ],
             [
              0.6666666666666666,
              "#ed7953"
             ],
             [
              0.7777777777777778,
              "#fb9f3a"
             ],
             [
              0.8888888888888888,
              "#fdca26"
             ],
             [
              1,
              "#f0f921"
             ]
            ],
            "type": "heatmap"
           }
          ],
          "heatmapgl": [
           {
            "colorbar": {
             "outlinewidth": 0,
             "ticks": ""
            },
            "colorscale": [
             [
              0,
              "#0d0887"
             ],
             [
              0.1111111111111111,
              "#46039f"
             ],
             [
              0.2222222222222222,
              "#7201a8"
             ],
             [
              0.3333333333333333,
              "#9c179e"
             ],
             [
              0.4444444444444444,
              "#bd3786"
             ],
             [
              0.5555555555555556,
              "#d8576b"
             ],
             [
              0.6666666666666666,
              "#ed7953"
             ],
             [
              0.7777777777777778,
              "#fb9f3a"
             ],
             [
              0.8888888888888888,
              "#fdca26"
             ],
             [
              1,
              "#f0f921"
             ]
            ],
            "type": "heatmapgl"
           }
          ],
          "histogram": [
           {
            "marker": {
             "pattern": {
              "fillmode": "overlay",
              "size": 10,
              "solidity": 0.2
             }
            },
            "type": "histogram"
           }
          ],
          "histogram2d": [
           {
            "colorbar": {
             "outlinewidth": 0,
             "ticks": ""
            },
            "colorscale": [
             [
              0,
              "#0d0887"
             ],
             [
              0.1111111111111111,
              "#46039f"
             ],
             [
              0.2222222222222222,
              "#7201a8"
             ],
             [
              0.3333333333333333,
              "#9c179e"
             ],
             [
              0.4444444444444444,
              "#bd3786"
             ],
             [
              0.5555555555555556,
              "#d8576b"
             ],
             [
              0.6666666666666666,
              "#ed7953"
             ],
             [
              0.7777777777777778,
              "#fb9f3a"
             ],
             [
              0.8888888888888888,
              "#fdca26"
             ],
             [
              1,
              "#f0f921"
             ]
            ],
            "type": "histogram2d"
           }
          ],
          "histogram2dcontour": [
           {
            "colorbar": {
             "outlinewidth": 0,
             "ticks": ""
            },
            "colorscale": [
             [
              0,
              "#0d0887"
             ],
             [
              0.1111111111111111,
              "#46039f"
             ],
             [
              0.2222222222222222,
              "#7201a8"
             ],
             [
              0.3333333333333333,
              "#9c179e"
             ],
             [
              0.4444444444444444,
              "#bd3786"
             ],
             [
              0.5555555555555556,
              "#d8576b"
             ],
             [
              0.6666666666666666,
              "#ed7953"
             ],
             [
              0.7777777777777778,
              "#fb9f3a"
             ],
             [
              0.8888888888888888,
              "#fdca26"
             ],
             [
              1,
              "#f0f921"
             ]
            ],
            "type": "histogram2dcontour"
           }
          ],
          "mesh3d": [
           {
            "colorbar": {
             "outlinewidth": 0,
             "ticks": ""
            },
            "type": "mesh3d"
           }
          ],
          "parcoords": [
           {
            "line": {
             "colorbar": {
              "outlinewidth": 0,
              "ticks": ""
             }
            },
            "type": "parcoords"
           }
          ],
          "pie": [
           {
            "automargin": true,
            "type": "pie"
           }
          ],
          "scatter": [
           {
            "fillpattern": {
             "fillmode": "overlay",
             "size": 10,
             "solidity": 0.2
            },
            "type": "scatter"
           }
          ],
          "scatter3d": [
           {
            "line": {
             "colorbar": {
              "outlinewidth": 0,
              "ticks": ""
             }
            },
            "marker": {
             "colorbar": {
              "outlinewidth": 0,
              "ticks": ""
             }
            },
            "type": "scatter3d"
           }
          ],
          "scattercarpet": [
           {
            "marker": {
             "colorbar": {
              "outlinewidth": 0,
              "ticks": ""
             }
            },
            "type": "scattercarpet"
           }
          ],
          "scattergeo": [
           {
            "marker": {
             "colorbar": {
              "outlinewidth": 0,
              "ticks": ""
             }
            },
            "type": "scattergeo"
           }
          ],
          "scattergl": [
           {
            "marker": {
             "colorbar": {
              "outlinewidth": 0,
              "ticks": ""
             }
            },
            "type": "scattergl"
           }
          ],
          "scattermapbox": [
           {
            "marker": {
             "colorbar": {
              "outlinewidth": 0,
              "ticks": ""
             }
            },
            "type": "scattermapbox"
           }
          ],
          "scatterpolar": [
           {
            "marker": {
             "colorbar": {
              "outlinewidth": 0,
              "ticks": ""
             }
            },
            "type": "scatterpolar"
           }
          ],
          "scatterpolargl": [
           {
            "marker": {
             "colorbar": {
              "outlinewidth": 0,
              "ticks": ""
             }
            },
            "type": "scatterpolargl"
           }
          ],
          "scatterternary": [
           {
            "marker": {
             "colorbar": {
              "outlinewidth": 0,
              "ticks": ""
             }
            },
            "type": "scatterternary"
           }
          ],
          "surface": [
           {
            "colorbar": {
             "outlinewidth": 0,
             "ticks": ""
            },
            "colorscale": [
             [
              0,
              "#0d0887"
             ],
             [
              0.1111111111111111,
              "#46039f"
             ],
             [
              0.2222222222222222,
              "#7201a8"
             ],
             [
              0.3333333333333333,
              "#9c179e"
             ],
             [
              0.4444444444444444,
              "#bd3786"
             ],
             [
              0.5555555555555556,
              "#d8576b"
             ],
             [
              0.6666666666666666,
              "#ed7953"
             ],
             [
              0.7777777777777778,
              "#fb9f3a"
             ],
             [
              0.8888888888888888,
              "#fdca26"
             ],
             [
              1,
              "#f0f921"
             ]
            ],
            "type": "surface"
           }
          ],
          "table": [
           {
            "cells": {
             "fill": {
              "color": "#EBF0F8"
             },
             "line": {
              "color": "white"
             }
            },
            "header": {
             "fill": {
              "color": "#C8D4E3"
             },
             "line": {
              "color": "white"
             }
            },
            "type": "table"
           }
          ]
         },
         "layout": {
          "annotationdefaults": {
           "arrowcolor": "#2a3f5f",
           "arrowhead": 0,
           "arrowwidth": 1
          },
          "autotypenumbers": "strict",
          "coloraxis": {
           "colorbar": {
            "outlinewidth": 0,
            "ticks": ""
           }
          },
          "colorscale": {
           "diverging": [
            [
             0,
             "#8e0152"
            ],
            [
             0.1,
             "#c51b7d"
            ],
            [
             0.2,
             "#de77ae"
            ],
            [
             0.3,
             "#f1b6da"
            ],
            [
             0.4,
             "#fde0ef"
            ],
            [
             0.5,
             "#f7f7f7"
            ],
            [
             0.6,
             "#e6f5d0"
            ],
            [
             0.7,
             "#b8e186"
            ],
            [
             0.8,
             "#7fbc41"
            ],
            [
             0.9,
             "#4d9221"
            ],
            [
             1,
             "#276419"
            ]
           ],
           "sequential": [
            [
             0,
             "#0d0887"
            ],
            [
             0.1111111111111111,
             "#46039f"
            ],
            [
             0.2222222222222222,
             "#7201a8"
            ],
            [
             0.3333333333333333,
             "#9c179e"
            ],
            [
             0.4444444444444444,
             "#bd3786"
            ],
            [
             0.5555555555555556,
             "#d8576b"
            ],
            [
             0.6666666666666666,
             "#ed7953"
            ],
            [
             0.7777777777777778,
             "#fb9f3a"
            ],
            [
             0.8888888888888888,
             "#fdca26"
            ],
            [
             1,
             "#f0f921"
            ]
           ],
           "sequentialminus": [
            [
             0,
             "#0d0887"
            ],
            [
             0.1111111111111111,
             "#46039f"
            ],
            [
             0.2222222222222222,
             "#7201a8"
            ],
            [
             0.3333333333333333,
             "#9c179e"
            ],
            [
             0.4444444444444444,
             "#bd3786"
            ],
            [
             0.5555555555555556,
             "#d8576b"
            ],
            [
             0.6666666666666666,
             "#ed7953"
            ],
            [
             0.7777777777777778,
             "#fb9f3a"
            ],
            [
             0.8888888888888888,
             "#fdca26"
            ],
            [
             1,
             "#f0f921"
            ]
           ]
          },
          "colorway": [
           "#636efa",
           "#EF553B",
           "#00cc96",
           "#ab63fa",
           "#FFA15A",
           "#19d3f3",
           "#FF6692",
           "#B6E880",
           "#FF97FF",
           "#FECB52"
          ],
          "font": {
           "color": "#2a3f5f"
          },
          "geo": {
           "bgcolor": "white",
           "lakecolor": "white",
           "landcolor": "#E5ECF6",
           "showlakes": true,
           "showland": true,
           "subunitcolor": "white"
          },
          "hoverlabel": {
           "align": "left"
          },
          "hovermode": "closest",
          "mapbox": {
           "style": "light"
          },
          "paper_bgcolor": "white",
          "plot_bgcolor": "#E5ECF6",
          "polar": {
           "angularaxis": {
            "gridcolor": "white",
            "linecolor": "white",
            "ticks": ""
           },
           "bgcolor": "#E5ECF6",
           "radialaxis": {
            "gridcolor": "white",
            "linecolor": "white",
            "ticks": ""
           }
          },
          "scene": {
           "xaxis": {
            "backgroundcolor": "#E5ECF6",
            "gridcolor": "white",
            "gridwidth": 2,
            "linecolor": "white",
            "showbackground": true,
            "ticks": "",
            "zerolinecolor": "white"
           },
           "yaxis": {
            "backgroundcolor": "#E5ECF6",
            "gridcolor": "white",
            "gridwidth": 2,
            "linecolor": "white",
            "showbackground": true,
            "ticks": "",
            "zerolinecolor": "white"
           },
           "zaxis": {
            "backgroundcolor": "#E5ECF6",
            "gridcolor": "white",
            "gridwidth": 2,
            "linecolor": "white",
            "showbackground": true,
            "ticks": "",
            "zerolinecolor": "white"
           }
          },
          "shapedefaults": {
           "line": {
            "color": "#2a3f5f"
           }
          },
          "ternary": {
           "aaxis": {
            "gridcolor": "white",
            "linecolor": "white",
            "ticks": ""
           },
           "baxis": {
            "gridcolor": "white",
            "linecolor": "white",
            "ticks": ""
           },
           "bgcolor": "#E5ECF6",
           "caxis": {
            "gridcolor": "white",
            "linecolor": "white",
            "ticks": ""
           }
          },
          "title": {
           "x": 0.05
          },
          "xaxis": {
           "automargin": true,
           "gridcolor": "white",
           "linecolor": "white",
           "ticks": "",
           "title": {
            "standoff": 15
           },
           "zerolinecolor": "white",
           "zerolinewidth": 2
          },
          "yaxis": {
           "automargin": true,
           "gridcolor": "white",
           "linecolor": "white",
           "ticks": "",
           "title": {
            "standoff": 15
           },
           "zerolinecolor": "white",
           "zerolinewidth": 2
          }
         }
        },
        "title": {
         "text": "Events over Time"
        },
        "xaxis": {
         "anchor": "y",
         "autorange": true,
         "domain": [
          0,
          1
         ],
         "range": [
          1896,
          2016
         ],
         "title": {
          "text": "Year"
         },
         "type": "linear"
        },
        "yaxis": {
         "anchor": "x",
         "autorange": true,
         "domain": [
          0,
          1
         ],
         "range": [
          28.388888888888886,
          320.6111111111111
         ],
         "title": {
          "text": "count"
         },
         "type": "linear"
        }
       }
      },
      "image/png": "[encoded data removed]",
      "text/html": [
       "<div>                            <div id=\"60406875-200d-4f71-8185-a11f460117c9\" class=\"plotly-graph-div\" style=\"height:525px; width:100%;\"></div>            <script type=\"text/javascript\">                require([\"plotly\"], function(Plotly) {                    window.PLOTLYENV=window.PLOTLYENV || {};                                    if (document.getElementById(\"60406875-200d-4f71-8185-a11f460117c9\")) {                    Plotly.newPlot(                        \"60406875-200d-4f71-8185-a11f460117c9\",                        [{\"hovertemplate\":\"Year=%{x}<br>count=%{y}<extra></extra>\",\"legendgroup\":\"\",\"line\":{\"color\":\"#636efa\",\"dash\":\"solid\"},\"marker\":{\"symbol\":\"circle\"},\"mode\":\"lines\",\"name\":\"\",\"orientation\":\"v\",\"showlegend\":false,\"x\":[1896.0,1900.0,1904.0,1906.0,1908.0,1912.0,1920.0,1924.0,1928.0,1932.0,1936.0,1948.0,1952.0,1956.0,1960.0,1964.0,1968.0,1972.0,1976.0,1980.0,1984.0,1988.0,1992.0,1996.0,2000.0,2004.0,2008.0,2012.0,2016.0],\"xaxis\":\"x\",\"y\":[43,90,95,74,109,107,158,131,122,131,150,153,149,151,150,163,172,193,198,203,221,237,257,271,300,301,302,302,306],\"yaxis\":\"y\",\"type\":\"scatter\"}],                        {\"template\":{\"data\":{\"histogram2dcontour\":[{\"type\":\"histogram2dcontour\",\"colorbar\":{\"outlinewidth\":0,\"ticks\":\"\"},\"colorscale\":[[0.0,\"#0d0887\"],[0.1111111111111111,\"#46039f\"],[0.2222222222222222,\"#7201a8\"],[0.3333333333333333,\"#9c179e\"],[0.4444444444444444,\"#bd3786\"],[0.5555555555555556,\"#d8576b\"],[0.6666666666666666,\"#ed7953\"],[0.7777777777777778,\"#fb9f3a\"],[0.8888888888888888,\"#fdca26\"],[1.0,\"#f0f921\"]]}],\"choropleth\":[{\"type\":\"choropleth\",\"colorbar\":{\"outlinewidth\":0,\"ticks\":\"\"}}],\"histogram2d\":[{\"type\":\"histogram2d\",\"colorbar\":{\"outlinewidth\":0,\"ticks\":\"\"},\"colorscale\":[[0.0,\"#0d0887\"],[0.1111111111111111,\"#46039f\"],[0.2222222222222222,\"#7201a8\"],[0.3333333333333333,\"#9c179e\"],[0.4444444444444444,\"#bd3786\"],[0.5555555555555556,\"#d8576b\"],[0.6666666666666666,\"#ed7953\"],[0.7777777777777778,\"#fb9f3a\"],[0.8888888888888888,\"#fdca26\"],[1.0,\"#f0f921\"]]}],\"heatmap\":[{\"type\":\"heatmap\",\"colorbar\":{\"outlinewidth\":0,\"ticks\":\"\"},\"colorscale\":[[0.0,\"#0d0887\"],[0.1111111111111111,\"#46039f\"],[0.2222222222222222,\"#7201a8\"],[0.3333333333333333,\"#9c179e\"],[0.4444444444444444,\"#bd3786\"],[0.5555555555555556,\"#d8576b\"],[0.6666666666666666,\"#ed7953\"],[0.7777777777777778,\"#fb9f3a\"],[0.8888888888888888,\"#fdca26\"],[1.0,\"#f0f921\"]]}],\"heatmapgl\":[{\"type\":\"heatmapgl\",\"colorbar\":{\"outlinewidth\":0,\"ticks\":\"\"},\"colorscale\":[[0.0,\"#0d0887\"],[0.1111111111111111,\"#46039f\"],[0.2222222222222222,\"#7201a8\"],[0.3333333333333333,\"#9c179e\"],[0.4444444444444444,\"#bd3786\"],[0.5555555555555556,\"#d8576b\"],[0.6666666666666666,\"#ed7953\"],[0.7777777777777778,\"#fb9f3a\"],[0.8888888888888888,\"#fdca26\"],[1.0,\"#f0f921\"]]}],\"contourcarpet\":[{\"type\":\"contourcarpet\",\"colorbar\":{\"outlinewidth\":0,\"ticks\":\"\"}}],\"contour\":[{\"type\":\"contour\",\"colorbar\":{\"outlinewidth\":0,\"ticks\":\"\"},\"colorscale\":[[0.0,\"#0d0887\"],[0.1111111111111111,\"#46039f\"],[0.2222222222222222,\"#7201a8\"],[0.3333333333333333,\"#9c179e\"],[0.4444444444444444,\"#bd3786\"],[0.5555555555555556,\"#d8576b\"],[0.6666666666666666,\"#ed7953\"],[0.7777777777777778,\"#fb9f3a\"],[0.8888888888888888,\"#fdca26\"],[1.0,\"#f0f921\"]]}],\"surface\":[{\"type\":\"surface\",\"colorbar\":{\"outlinewidth\":0,\"ticks\":\"\"},\"colorscale\":[[0.0,\"#0d0887\"],[0.1111111111111111,\"#46039f\"],[0.2222222222222222,\"#7201a8\"],[0.3333333333333333,\"#9c179e\"],[0.4444444444444444,\"#bd3786\"],[0.5555555555555556,\"#d8576b\"],[0.6666666666666666,\"#ed7953\"],[0.7777777777777778,\"#fb9f3a\"],[0.8888888888888888,\"#fdca26\"],[1.0,\"#f0f921\"]]}],\"mesh3d\":[{\"type\":\"mesh3d\",\"colorbar\":{\"outlinewidth\":0,\"ticks\":\"\"}}],\"scatter\":[{\"fillpattern\":{\"fillmode\":\"overlay\",\"size\":10,\"solidity\":0.2},\"type\":\"scatter\"}],\"parcoords\":[{\"type\":\"parcoords\",\"line\":{\"colorbar\":{\"outlinewidth\":0,\"ticks\":\"\"}}}],\"scatterpolargl\":[{\"type\":\"scatterpolargl\",\"marker\":{\"colorbar\":{\"outlinewidth\":0,\"ticks\":\"\"}}}],\"bar\":[{\"error_x\":{\"color\":\"#2a3f5f\"},\"error_y\":{\"color\":\"#2a3f5f\"},\"marker\":{\"line\":{\"color\":\"#E5ECF6\",\"width\":0.5},\"pattern\":{\"fillmode\":\"overlay\",\"size\":10,\"solidity\":0.2}},\"type\":\"bar\"}],\"scattergeo\":[{\"type\":\"scattergeo\",\"marker\":{\"colorbar\":{\"outlinewidth\":0,\"ticks\":\"\"}}}],\"scatterpolar\":[{\"type\":\"scatterpolar\",\"marker\":{\"colorbar\":{\"outlinewidth\":0,\"ticks\":\"\"}}}],\"histogram\":[{\"marker\":{\"pattern\":{\"fillmode\":\"overlay\",\"size\":10,\"solidity\":0.2}},\"type\":\"histogram\"}],\"scattergl\":[{\"type\":\"scattergl\",\"marker\":{\"colorbar\":{\"outlinewidth\":0,\"ticks\":\"\"}}}],\"scatter3d\":[{\"type\":\"scatter3d\",\"line\":{\"colorbar\":{\"outlinewidth\":0,\"ticks\":\"\"}},\"marker\":{\"colorbar\":{\"outlinewidth\":0,\"ticks\":\"\"}}}],\"scattermapbox\":[{\"type\":\"scattermapbox\",\"marker\":{\"colorbar\":{\"outlinewidth\":0,\"ticks\":\"\"}}}],\"scatterternary\":[{\"type\":\"scatterternary\",\"marker\":{\"colorbar\":{\"outlinewidth\":0,\"ticks\":\"\"}}}],\"scattercarpet\":[{\"type\":\"scattercarpet\",\"marker\":{\"colorbar\":{\"outlinewidth\":0,\"ticks\":\"\"}}}],\"carpet\":[{\"aaxis\":{\"endlinecolor\":\"#2a3f5f\",\"gridcolor\":\"white\",\"linecolor\":\"white\",\"minorgridcolor\":\"white\",\"startlinecolor\":\"#2a3f5f\"},\"baxis\":{\"endlinecolor\":\"#2a3f5f\",\"gridcolor\":\"white\",\"linecolor\":\"white\",\"minorgridcolor\":\"white\",\"startlinecolor\":\"#2a3f5f\"},\"type\":\"carpet\"}],\"table\":[{\"cells\":{\"fill\":{\"color\":\"#EBF0F8\"},\"line\":{\"color\":\"white\"}},\"header\":{\"fill\":{\"color\":\"#C8D4E3\"},\"line\":{\"color\":\"white\"}},\"type\":\"table\"}],\"barpolar\":[{\"marker\":{\"line\":{\"color\":\"#E5ECF6\",\"width\":0.5},\"pattern\":{\"fillmode\":\"overlay\",\"size\":10,\"solidity\":0.2}},\"type\":\"barpolar\"}],\"pie\":[{\"automargin\":true,\"type\":\"pie\"}]},\"layout\":{\"autotypenumbers\":\"strict\",\"colorway\":[\"#636efa\",\"#EF553B\",\"#00cc96\",\"#ab63fa\",\"#FFA15A\",\"#19d3f3\",\"#FF6692\",\"#B6E880\",\"#FF97FF\",\"#FECB52\"],\"font\":{\"color\":\"#2a3f5f\"},\"hovermode\":\"closest\",\"hoverlabel\":{\"align\":\"left\"},\"paper_bgcolor\":\"white\",\"plot_bgcolor\":\"#E5ECF6\",\"polar\":{\"bgcolor\":\"#E5ECF6\",\"angularaxis\":{\"gridcolor\":\"white\",\"linecolor\":\"white\",\"ticks\":\"\"},\"radialaxis\":{\"gridcolor\":\"white\",\"linecolor\":\"white\",\"ticks\":\"\"}},\"ternary\":{\"bgcolor\":\"#E5ECF6\",\"aaxis\":{\"gridcolor\":\"white\",\"linecolor\":\"white\",\"ticks\":\"\"},\"baxis\":{\"gridcolor\":\"white\",\"linecolor\":\"white\",\"ticks\":\"\"},\"caxis\":{\"gridcolor\":\"white\",\"linecolor\":\"white\",\"ticks\":\"\"}},\"coloraxis\":{\"colorbar\":{\"outlinewidth\":0,\"ticks\":\"\"}},\"colorscale\":{\"sequential\":[[0.0,\"#0d0887\"],[0.1111111111111111,\"#46039f\"],[0.2222222222222222,\"#7201a8\"],[0.3333333333333333,\"#9c179e\"],[0.4444444444444444,\"#bd3786\"],[0.5555555555555556,\"#d8576b\"],[0.6666666666666666,\"#ed7953\"],[0.7777777777777778,\"#fb9f3a\"],[0.8888888888888888,\"#fdca26\"],[1.0,\"#f0f921\"]],\"sequentialminus\":[[0.0,\"#0d0887\"],[0.1111111111111111,\"#46039f\"],[0.2222222222222222,\"#7201a8\"],[0.3333333333333333,\"#9c179e\"],[0.4444444444444444,\"#bd3786\"],[0.5555555555555556,\"#d8576b\"],[0.6666666666666666,\"#ed7953\"],[0.7777777777777778,\"#fb9f3a\"],[0.8888888888888888,\"#fdca26\"],[1.0,\"#f0f921\"]],\"diverging\":[[0,\"#8e0152\"],[0.1,\"#c51b7d\"],[0.2,\"#de77ae\"],[0.3,\"#f1b6da\"],[0.4,\"#fde0ef\"],[0.5,\"#f7f7f7\"],[0.6,\"#e6f5d0\"],[0.7,\"#b8e186\"],[0.8,\"#7fbc41\"],[0.9,\"#4d9221\"],[1,\"#276419\"]]},\"xaxis\":{\"gridcolor\":\"white\",\"linecolor\":\"white\",\"ticks\":\"\",\"title\":{\"standoff\":15},\"zerolinecolor\":\"white\",\"automargin\":true,\"zerolinewidth\":2},\"yaxis\":{\"gridcolor\":\"white\",\"linecolor\":\"white\",\"ticks\":\"\",\"title\":{\"standoff\":15},\"zerolinecolor\":\"white\",\"automargin\":true,\"zerolinewidth\":2},\"scene\":{\"xaxis\":{\"backgroundcolor\":\"#E5ECF6\",\"gridcolor\":\"white\",\"linecolor\":\"white\",\"showbackground\":true,\"ticks\":\"\",\"zerolinecolor\":\"white\",\"gridwidth\":2},\"yaxis\":{\"backgroundcolor\":\"#E5ECF6\",\"gridcolor\":\"white\",\"linecolor\":\"white\",\"showbackground\":true,\"ticks\":\"\",\"zerolinecolor\":\"white\",\"gridwidth\":2},\"zaxis\":{\"backgroundcolor\":\"#E5ECF6\",\"gridcolor\":\"white\",\"linecolor\":\"white\",\"showbackground\":true,\"ticks\":\"\",\"zerolinecolor\":\"white\",\"gridwidth\":2}},\"shapedefaults\":{\"line\":{\"color\":\"#2a3f5f\"}},\"annotationdefaults\":{\"arrowcolor\":\"#2a3f5f\",\"arrowhead\":0,\"arrowwidth\":1},\"geo\":{\"bgcolor\":\"white\",\"landcolor\":\"#E5ECF6\",\"subunitcolor\":\"white\",\"showland\":true,\"showlakes\":true,\"lakecolor\":\"white\"},\"title\":{\"x\":0.05},\"mapbox\":{\"style\":\"light\"}}},\"xaxis\":{\"anchor\":\"y\",\"domain\":[0.0,1.0],\"title\":{\"text\":\"Year\"}},\"yaxis\":{\"anchor\":\"x\",\"domain\":[0.0,1.0],\"title\":{\"text\":\"count\"}},\"legend\":{\"tracegroupgap\":0},\"title\":{\"text\":\"Events over Time\"}},                        {\"responsive\": true}                    ).then(function(){\n",
       "                            \n",
       "var gd = document.getElementById('60406875-200d-4f71-8185-a11f460117c9');\n",
       "var x = new MutationObserver(function (mutations, observer) {{\n",
       "        var display = window.getComputedStyle(gd).display;\n",
       "        if (!display || display === 'none') {{\n",
       "            console.log([gd, 'removed!']);\n",
       "            Plotly.purge(gd);\n",
       "            observer.disconnect();\n",
       "        }}\n",
       "}});\n",
       "\n",
       "// Listen for the removal of the full notebook cells\n",
       "var notebookContainer = gd.closest('#notebook-container');\n",
       "if (notebookContainer) {{\n",
       "    x.observe(notebookContainer, {childList: true});\n",
       "}}\n",
       "\n",
       "// Listen for the clearing of the current output cell\n",
       "var outputEl = gd.closest('.output');\n",
       "if (outputEl) {{\n",
       "    x.observe(outputEl, {childList: true});\n",
       "}}\n",
       "\n",
       "                        })                };                });            </script>        </div>"
      ]
     },
     "metadata": {},
     "output_type": "display_data"
    }
   ],
   "source": [
    "import plotly.express as px\n",
    "\n",
    "fig = px.line(events_year, x=\"Year\", y=\"count\", title='Events over Time')\n",
    "fig.show()"
   ]
  },
  {
   "cell_type": "code",
   "execution_count": 358,
   "id": "209a75d0-b572-4050-a70a-0807192774fa",
   "metadata": {},
   "outputs": [
    {
     "data": {
      "text/html": [
       "<div>\n",
       "<style scoped>\n",
       "    .dataframe tbody tr th:only-of-type {\n",
       "        vertical-align: middle;\n",
       "    }\n",
       "\n",
       "    .dataframe tbody tr th {\n",
       "        vertical-align: top;\n",
       "    }\n",
       "\n",
       "    .dataframe thead th {\n",
       "        text-align: right;\n",
       "    }\n",
       "</style>\n",
       "<table border=\"1\" class=\"dataframe\">\n",
       "  <thead>\n",
       "    <tr style=\"text-align: right;\">\n",
       "      <th></th>\n",
       "      <th>ID</th>\n",
       "      <th>Name</th>\n",
       "      <th>Sex</th>\n",
       "      <th>Age</th>\n",
       "      <th>Height</th>\n",
       "      <th>Weight</th>\n",
       "      <th>Team</th>\n",
       "      <th>NOC</th>\n",
       "      <th>Games</th>\n",
       "      <th>Year</th>\n",
       "      <th>Season</th>\n",
       "      <th>City</th>\n",
       "      <th>Sport</th>\n",
       "      <th>Event</th>\n",
       "      <th>Medal</th>\n",
       "      <th>region</th>\n",
       "      <th>notes</th>\n",
       "      <th>Bronze</th>\n",
       "      <th>Gold</th>\n",
       "      <th>Silver</th>\n",
       "    </tr>\n",
       "  </thead>\n",
       "  <tbody>\n",
       "    <tr>\n",
       "      <th>210387</th>\n",
       "      <td>65482.0</td>\n",
       "      <td>Allan Sidney Kwartler</td>\n",
       "      <td>M</td>\n",
       "      <td>34.0</td>\n",
       "      <td>175.0</td>\n",
       "      <td>73.0</td>\n",
       "      <td>United States</td>\n",
       "      <td>USA</td>\n",
       "      <td>1952 Summer</td>\n",
       "      <td>1952.0</td>\n",
       "      <td>Summer</td>\n",
       "      <td>Helsinki</td>\n",
       "      <td>Fencing</td>\n",
       "      <td>Fencing Men's Sabre, Team</td>\n",
       "      <td>NaN</td>\n",
       "      <td>USA</td>\n",
       "      <td>NaN</td>\n",
       "      <td>False</td>\n",
       "      <td>False</td>\n",
       "      <td>False</td>\n",
       "    </tr>\n",
       "    <tr>\n",
       "      <th>48779</th>\n",
       "      <td>82325.0</td>\n",
       "      <td>Brge Mortensen</td>\n",
       "      <td>M</td>\n",
       "      <td>26.0</td>\n",
       "      <td>NaN</td>\n",
       "      <td>NaN</td>\n",
       "      <td>Denmark</td>\n",
       "      <td>DEN</td>\n",
       "      <td>1948 Summer</td>\n",
       "      <td>1948.0</td>\n",
       "      <td>Summer</td>\n",
       "      <td>London</td>\n",
       "      <td>Cycling</td>\n",
       "      <td>Cycling Men's Team Pursuit, 4,000 metres</td>\n",
       "      <td>NaN</td>\n",
       "      <td>Denmark</td>\n",
       "      <td>NaN</td>\n",
       "      <td>False</td>\n",
       "      <td>False</td>\n",
       "      <td>False</td>\n",
       "    </tr>\n",
       "    <tr>\n",
       "      <th>185208</th>\n",
       "      <td>83081.0</td>\n",
       "      <td>Henning Christian Gottfrid Mller</td>\n",
       "      <td>M</td>\n",
       "      <td>23.0</td>\n",
       "      <td>NaN</td>\n",
       "      <td>NaN</td>\n",
       "      <td>Sweden-1</td>\n",
       "      <td>SWE</td>\n",
       "      <td>1920 Summer</td>\n",
       "      <td>1920.0</td>\n",
       "      <td>Summer</td>\n",
       "      <td>Antwerpen</td>\n",
       "      <td>Tennis</td>\n",
       "      <td>Tennis Men's Doubles</td>\n",
       "      <td>NaN</td>\n",
       "      <td>Sweden</td>\n",
       "      <td>NaN</td>\n",
       "      <td>False</td>\n",
       "      <td>False</td>\n",
       "      <td>False</td>\n",
       "    </tr>\n",
       "  </tbody>\n",
       "</table>\n",
       "</div>"
      ],
      "text/plain": [
       "             ID                              Name Sex   Age  Height  Weight  \\\n",
       "210387  65482.0             Allan Sidney Kwartler   M  34.0   175.0    73.0   \n",
       "48779   82325.0                    Brge Mortensen   M  26.0     NaN     NaN   \n",
       "185208  83081.0  Henning Christian Gottfrid Mller   M  23.0     NaN     NaN   \n",
       "\n",
       "                 Team  NOC        Games    Year  Season       City    Sport  \\\n",
       "210387  United States  USA  1952 Summer  1952.0  Summer   Helsinki  Fencing   \n",
       "48779         Denmark  DEN  1948 Summer  1948.0  Summer     London  Cycling   \n",
       "185208       Sweden-1  SWE  1920 Summer  1920.0  Summer  Antwerpen   Tennis   \n",
       "\n",
       "                                           Event Medal   region notes  Bronze  \\\n",
       "210387                 Fencing Men's Sabre, Team   NaN      USA   NaN   False   \n",
       "48779   Cycling Men's Team Pursuit, 4,000 metres   NaN  Denmark   NaN   False   \n",
       "185208                      Tennis Men's Doubles   NaN   Sweden   NaN   False   \n",
       "\n",
       "         Gold  Silver  \n",
       "210387  False   False  \n",
       "48779   False   False  \n",
       "185208  False   False  "
      ]
     },
     "execution_count": 358,
     "metadata": {},
     "output_type": "execute_result"
    }
   ],
   "source": [
    "df.sample(3)"
   ]
  },
  {
   "cell_type": "markdown",
   "id": "0556e723-7c92-477b-86eb-6b3551d36a25",
   "metadata": {},
   "source": [
    "##  Heat Map"
   ]
  },
  {
   "cell_type": "code",
   "execution_count": 359,
   "id": "8079176d-729b-4fa3-af0e-d9a74addfdb2",
   "metadata": {},
   "outputs": [],
   "source": [
    "x=df.drop_duplicates(['Year','Sport','Event'])"
   ]
  },
  {
   "cell_type": "code",
   "execution_count": 360,
   "id": "0105e78b-7ec8-4e0e-b804-87cf1d77a26b",
   "metadata": {},
   "outputs": [
    {
     "data": {
      "text/html": [
       "<div>\n",
       "<style scoped>\n",
       "    .dataframe tbody tr th:only-of-type {\n",
       "        vertical-align: middle;\n",
       "    }\n",
       "\n",
       "    .dataframe tbody tr th {\n",
       "        vertical-align: top;\n",
       "    }\n",
       "\n",
       "    .dataframe thead th {\n",
       "        text-align: right;\n",
       "    }\n",
       "</style>\n",
       "<table border=\"1\" class=\"dataframe\">\n",
       "  <thead>\n",
       "    <tr style=\"text-align: right;\">\n",
       "      <th></th>\n",
       "      <th>ID</th>\n",
       "      <th>Name</th>\n",
       "      <th>Sex</th>\n",
       "      <th>Age</th>\n",
       "      <th>Height</th>\n",
       "      <th>Weight</th>\n",
       "      <th>Team</th>\n",
       "      <th>NOC</th>\n",
       "      <th>Games</th>\n",
       "      <th>Year</th>\n",
       "      <th>Season</th>\n",
       "      <th>City</th>\n",
       "      <th>Sport</th>\n",
       "      <th>Event</th>\n",
       "      <th>Medal</th>\n",
       "      <th>region</th>\n",
       "      <th>notes</th>\n",
       "      <th>Bronze</th>\n",
       "      <th>Gold</th>\n",
       "      <th>Silver</th>\n",
       "    </tr>\n",
       "  </thead>\n",
       "  <tbody>\n",
       "    <tr>\n",
       "      <th>0</th>\n",
       "      <td>502.0</td>\n",
       "      <td>Ahmad Shah Abouwi</td>\n",
       "      <td>M</td>\n",
       "      <td>NaN</td>\n",
       "      <td>NaN</td>\n",
       "      <td>NaN</td>\n",
       "      <td>Afghanistan</td>\n",
       "      <td>AFG</td>\n",
       "      <td>1956 Summer</td>\n",
       "      <td>1956.0</td>\n",
       "      <td>Summer</td>\n",
       "      <td>Melbourne</td>\n",
       "      <td>Hockey</td>\n",
       "      <td>Hockey Men's Hockey</td>\n",
       "      <td>NaN</td>\n",
       "      <td>Afghanistan</td>\n",
       "      <td>NaN</td>\n",
       "      <td>False</td>\n",
       "      <td>False</td>\n",
       "      <td>False</td>\n",
       "    </tr>\n",
       "    <tr>\n",
       "      <th>1</th>\n",
       "      <td>1076.0</td>\n",
       "      <td>Jammal-ud-Din Affendi</td>\n",
       "      <td>M</td>\n",
       "      <td>28.0</td>\n",
       "      <td>NaN</td>\n",
       "      <td>NaN</td>\n",
       "      <td>Afghanistan</td>\n",
       "      <td>AFG</td>\n",
       "      <td>1936 Summer</td>\n",
       "      <td>1936.0</td>\n",
       "      <td>Summer</td>\n",
       "      <td>Berlin</td>\n",
       "      <td>Hockey</td>\n",
       "      <td>Hockey Men's Hockey</td>\n",
       "      <td>NaN</td>\n",
       "      <td>Afghanistan</td>\n",
       "      <td>NaN</td>\n",
       "      <td>False</td>\n",
       "      <td>False</td>\n",
       "      <td>False</td>\n",
       "    </tr>\n",
       "    <tr>\n",
       "      <th>2</th>\n",
       "      <td>1101.0</td>\n",
       "      <td>Mohammad Anwar Afzal</td>\n",
       "      <td>M</td>\n",
       "      <td>NaN</td>\n",
       "      <td>NaN</td>\n",
       "      <td>NaN</td>\n",
       "      <td>Afghanistan</td>\n",
       "      <td>AFG</td>\n",
       "      <td>1948 Summer</td>\n",
       "      <td>1948.0</td>\n",
       "      <td>Summer</td>\n",
       "      <td>London</td>\n",
       "      <td>Football</td>\n",
       "      <td>Football Men's Football</td>\n",
       "      <td>NaN</td>\n",
       "      <td>Afghanistan</td>\n",
       "      <td>NaN</td>\n",
       "      <td>False</td>\n",
       "      <td>False</td>\n",
       "      <td>False</td>\n",
       "    </tr>\n",
       "    <tr>\n",
       "      <th>3</th>\n",
       "      <td>1745.0</td>\n",
       "      <td>Mohammad Aktar</td>\n",
       "      <td>M</td>\n",
       "      <td>17.0</td>\n",
       "      <td>156.0</td>\n",
       "      <td>48.0</td>\n",
       "      <td>Afghanistan</td>\n",
       "      <td>AFG</td>\n",
       "      <td>1980 Summer</td>\n",
       "      <td>1980.0</td>\n",
       "      <td>Summer</td>\n",
       "      <td>Moskva</td>\n",
       "      <td>Wrestling</td>\n",
       "      <td>Wrestling Men's Light-Flyweight, Freestyle</td>\n",
       "      <td>NaN</td>\n",
       "      <td>Afghanistan</td>\n",
       "      <td>NaN</td>\n",
       "      <td>False</td>\n",
       "      <td>False</td>\n",
       "      <td>False</td>\n",
       "    </tr>\n",
       "    <tr>\n",
       "      <th>4</th>\n",
       "      <td>4628.0</td>\n",
       "      <td>Mohammad Daoud Anwary</td>\n",
       "      <td>M</td>\n",
       "      <td>22.0</td>\n",
       "      <td>NaN</td>\n",
       "      <td>NaN</td>\n",
       "      <td>Afghanistan</td>\n",
       "      <td>AFG</td>\n",
       "      <td>1964 Summer</td>\n",
       "      <td>1964.0</td>\n",
       "      <td>Summer</td>\n",
       "      <td>Tokyo</td>\n",
       "      <td>Wrestling</td>\n",
       "      <td>Wrestling Men's Bantamweight, Freestyle</td>\n",
       "      <td>NaN</td>\n",
       "      <td>Afghanistan</td>\n",
       "      <td>NaN</td>\n",
       "      <td>False</td>\n",
       "      <td>False</td>\n",
       "      <td>False</td>\n",
       "    </tr>\n",
       "  </tbody>\n",
       "</table>\n",
       "</div>"
      ],
      "text/plain": [
       "       ID                   Name Sex   Age  Height  Weight         Team  NOC  \\\n",
       "0   502.0      Ahmad Shah Abouwi   M   NaN     NaN     NaN  Afghanistan  AFG   \n",
       "1  1076.0  Jammal-ud-Din Affendi   M  28.0     NaN     NaN  Afghanistan  AFG   \n",
       "2  1101.0   Mohammad Anwar Afzal   M   NaN     NaN     NaN  Afghanistan  AFG   \n",
       "3  1745.0         Mohammad Aktar   M  17.0   156.0    48.0  Afghanistan  AFG   \n",
       "4  4628.0  Mohammad Daoud Anwary   M  22.0     NaN     NaN  Afghanistan  AFG   \n",
       "\n",
       "         Games    Year  Season       City      Sport  \\\n",
       "0  1956 Summer  1956.0  Summer  Melbourne     Hockey   \n",
       "1  1936 Summer  1936.0  Summer     Berlin     Hockey   \n",
       "2  1948 Summer  1948.0  Summer     London   Football   \n",
       "3  1980 Summer  1980.0  Summer     Moskva  Wrestling   \n",
       "4  1964 Summer  1964.0  Summer      Tokyo  Wrestling   \n",
       "\n",
       "                                        Event Medal       region notes  \\\n",
       "0                         Hockey Men's Hockey   NaN  Afghanistan   NaN   \n",
       "1                         Hockey Men's Hockey   NaN  Afghanistan   NaN   \n",
       "2                     Football Men's Football   NaN  Afghanistan   NaN   \n",
       "3  Wrestling Men's Light-Flyweight, Freestyle   NaN  Afghanistan   NaN   \n",
       "4     Wrestling Men's Bantamweight, Freestyle   NaN  Afghanistan   NaN   \n",
       "\n",
       "   Bronze   Gold  Silver  \n",
       "0   False  False   False  \n",
       "1   False  False   False  \n",
       "2   False  False   False  \n",
       "3   False  False   False  \n",
       "4   False  False   False  "
      ]
     },
     "execution_count": 360,
     "metadata": {},
     "output_type": "execute_result"
    }
   ],
   "source": [
    "x.head(5)"
   ]
  },
  {
   "cell_type": "code",
   "execution_count": 361,
   "id": "0e815c38-b0e0-4f8d-83de-6382752200a2",
   "metadata": {
    "scrolled": true
   },
   "outputs": [
    {
     "data": {
      "text/plain": [
       "<Axes: xlabel='Year', ylabel='Sport'>"
      ]
     },
     "execution_count": 361,
     "metadata": {},
     "output_type": "execute_result"
    },
    {
     "data": {
      "image/png": "[encoded data removed]",
      "text/plain": [
       "<Figure size 2000x2000 with 2 Axes>"
      ]
     },
     "metadata": {},
     "output_type": "display_data"
    }
   ],
   "source": [
    "plt.figure(figsize=(20,20))\n",
    "sns.heatmap(x.pivot_table(index=\"Sport\",columns='Year',values='Event',aggfunc='count').fillna(0).astype(\"int\"),annot=True)"
   ]
  },
  {
   "cell_type": "markdown",
   "id": "7bc1baa9-418e-4d70-a469-0418b7e264f0",
   "metadata": {},
   "source": [
    "# Successfulll athlete"
   ]
  },
  {
   "cell_type": "code",
   "execution_count": 362,
   "id": "544a7f8c-2d94-464d-8530-3df92e94f930",
   "metadata": {},
   "outputs": [],
   "source": [
    "def succesful_player(df,sport):\n",
    "    temp=df.dropna(subset=[\"Medal\"])\n",
    "    temp=temp[temp['Sport']==sport]\n",
    "    x=pd.DataFrame(temp['Name'].value_counts()).head(5).reset_index()\n",
    "    x=x.rename(columns={'count':'Total Medal'})\n",
    "    l = []\n",
    "    for name in x['Name']:\n",
    "        y = temp[temp['Name'] == name]['region'].tolist()\n",
    "        l.append(y[0])\n",
    "    x['Country'] = l\n",
    "    return x"
   ]
  },
  {
   "cell_type": "code",
   "execution_count": 363,
   "id": "a6b6dbbf-11bc-4a3f-a97d-b3d5e8df1936",
   "metadata": {},
   "outputs": [
    {
     "data": {
      "text/html": [
       "<div>\n",
       "<style scoped>\n",
       "    .dataframe tbody tr th:only-of-type {\n",
       "        vertical-align: middle;\n",
       "    }\n",
       "\n",
       "    .dataframe tbody tr th {\n",
       "        vertical-align: top;\n",
       "    }\n",
       "\n",
       "    .dataframe thead th {\n",
       "        text-align: right;\n",
       "    }\n",
       "</style>\n",
       "<table border=\"1\" class=\"dataframe\">\n",
       "  <thead>\n",
       "    <tr style=\"text-align: right;\">\n",
       "      <th></th>\n",
       "      <th>Name</th>\n",
       "      <th>Total Medal</th>\n",
       "      <th>Country</th>\n",
       "    </tr>\n",
       "  </thead>\n",
       "  <tbody>\n",
       "    <tr>\n",
       "      <th>0</th>\n",
       "      <td>Michael Fred Phelps, II</td>\n",
       "      <td>28</td>\n",
       "      <td>USA</td>\n",
       "    </tr>\n",
       "    <tr>\n",
       "      <th>1</th>\n",
       "      <td>Dara Grace Torres (-Hoffman, -Minas)</td>\n",
       "      <td>12</td>\n",
       "      <td>USA</td>\n",
       "    </tr>\n",
       "    <tr>\n",
       "      <th>2</th>\n",
       "      <td>Jennifer Elisabeth \"Jenny\" Thompson (-Cumpelik)</td>\n",
       "      <td>12</td>\n",
       "      <td>USA</td>\n",
       "    </tr>\n",
       "    <tr>\n",
       "      <th>3</th>\n",
       "      <td>Natalie Anne Coughlin (-Hall)</td>\n",
       "      <td>12</td>\n",
       "      <td>USA</td>\n",
       "    </tr>\n",
       "    <tr>\n",
       "      <th>4</th>\n",
       "      <td>Ryan Steven Lochte</td>\n",
       "      <td>12</td>\n",
       "      <td>USA</td>\n",
       "    </tr>\n",
       "  </tbody>\n",
       "</table>\n",
       "</div>"
      ],
      "text/plain": [
       "                                              Name  Total Medal Country\n",
       "0                          Michael Fred Phelps, II           28     USA\n",
       "1             Dara Grace Torres (-Hoffman, -Minas)           12     USA\n",
       "2  Jennifer Elisabeth \"Jenny\" Thompson (-Cumpelik)           12     USA\n",
       "3                    Natalie Anne Coughlin (-Hall)           12     USA\n",
       "4                               Ryan Steven Lochte           12     USA"
      ]
     },
     "execution_count": 363,
     "metadata": {},
     "output_type": "execute_result"
    }
   ],
   "source": [
    "succesful_player(df,'Swimming')"
   ]
  },
  {
   "cell_type": "code",
   "execution_count": 364,
   "id": "f8807f26-b49c-4049-aa90-7c1ae99730a8",
   "metadata": {
    "scrolled": true
   },
   "outputs": [
    {
     "data": {
      "text/plain": [
       "['Hockey',\n",
       " 'Football',\n",
       " 'Wrestling',\n",
       " 'Athletics',\n",
       " 'Taekwondo',\n",
       " 'Judo',\n",
       " 'Boxing',\n",
       " 'Weightlifting',\n",
       " 'Shooting',\n",
       " 'Fencing',\n",
       " 'Swimming',\n",
       " 'Sailing',\n",
       " 'Synchronized Swimming',\n",
       " 'Triathlon',\n",
       " 'Equestrianism',\n",
       " 'Cycling',\n",
       " 'Volleyball',\n",
       " 'Handball',\n",
       " 'Rowing',\n",
       " 'Table Tennis',\n",
       " 'Tennis',\n",
       " 'Gymnastics',\n",
       " 'Trampolining',\n",
       " 'Badminton',\n",
       " 'Canoeing',\n",
       " 'Beach Volleyball',\n",
       " 'Basketball',\n",
       " 'Diving',\n",
       " 'Rugby',\n",
       " 'Rugby Sevens',\n",
       " 'Polo',\n",
       " 'Modern Pentathlon',\n",
       " 'Archery',\n",
       " 'Water Polo',\n",
       " 'Art Competitions',\n",
       " 'Golf',\n",
       " 'Figure Skating',\n",
       " 'Softball',\n",
       " 'Baseball',\n",
       " 'Rhythmic Gymnastics',\n",
       " 'Tug-Of-War',\n",
       " 'Ice Hockey',\n",
       " 'Lacrosse',\n",
       " 'Basque Pelota',\n",
       " 'Cricket',\n",
       " 'Croquet',\n",
       " 'Motorboating',\n",
       " 'Racquets',\n",
       " 'Jeu De Paume',\n",
       " 'Alpinism',\n",
       " nan,\n",
       " 'Aeronautics',\n",
       " 'Roque']"
      ]
     },
     "execution_count": 364,
     "metadata": {},
     "output_type": "execute_result"
    }
   ],
   "source": [
    "df['Sport'].unique().tolist()"
   ]
  },
  {
   "cell_type": "markdown",
   "id": "fa2429f1-8af7-4c45-81e0-ded7e89a6994",
   "metadata": {},
   "source": [
    "## Country wise medal tally per year( line plot )"
   ]
  },
  {
   "cell_type": "code",
   "execution_count": 365,
   "id": "6f2875e1-dec9-45d2-8621-139bf3e07d97",
   "metadata": {},
   "outputs": [
    {
     "data": {
      "text/html": [
       "<div>\n",
       "<style scoped>\n",
       "    .dataframe tbody tr th:only-of-type {\n",
       "        vertical-align: middle;\n",
       "    }\n",
       "\n",
       "    .dataframe tbody tr th {\n",
       "        vertical-align: top;\n",
       "    }\n",
       "\n",
       "    .dataframe thead th {\n",
       "        text-align: right;\n",
       "    }\n",
       "</style>\n",
       "<table border=\"1\" class=\"dataframe\">\n",
       "  <thead>\n",
       "    <tr style=\"text-align: right;\">\n",
       "      <th></th>\n",
       "      <th>ID</th>\n",
       "      <th>Name</th>\n",
       "      <th>Sex</th>\n",
       "      <th>Age</th>\n",
       "      <th>Height</th>\n",
       "      <th>Weight</th>\n",
       "      <th>Team</th>\n",
       "      <th>NOC</th>\n",
       "      <th>Games</th>\n",
       "      <th>Year</th>\n",
       "      <th>Season</th>\n",
       "      <th>City</th>\n",
       "      <th>Sport</th>\n",
       "      <th>Event</th>\n",
       "      <th>Medal</th>\n",
       "      <th>region</th>\n",
       "      <th>notes</th>\n",
       "      <th>Bronze</th>\n",
       "      <th>Gold</th>\n",
       "      <th>Silver</th>\n",
       "    </tr>\n",
       "  </thead>\n",
       "  <tbody>\n",
       "    <tr>\n",
       "      <th>64</th>\n",
       "      <td>86313.0</td>\n",
       "      <td>Rohullah Nikpai</td>\n",
       "      <td>M</td>\n",
       "      <td>21.0</td>\n",
       "      <td>183.0</td>\n",
       "      <td>63.0</td>\n",
       "      <td>Afghanistan</td>\n",
       "      <td>AFG</td>\n",
       "      <td>2008 Summer</td>\n",
       "      <td>2008.0</td>\n",
       "      <td>Summer</td>\n",
       "      <td>Beijing</td>\n",
       "      <td>Taekwondo</td>\n",
       "      <td>Taekwondo Men's Flyweight</td>\n",
       "      <td>Bronze</td>\n",
       "      <td>Afghanistan</td>\n",
       "      <td>NaN</td>\n",
       "      <td>True</td>\n",
       "      <td>False</td>\n",
       "      <td>False</td>\n",
       "    </tr>\n",
       "    <tr>\n",
       "      <th>65</th>\n",
       "      <td>86313.0</td>\n",
       "      <td>Rohullah Nikpai</td>\n",
       "      <td>M</td>\n",
       "      <td>25.0</td>\n",
       "      <td>183.0</td>\n",
       "      <td>63.0</td>\n",
       "      <td>Afghanistan</td>\n",
       "      <td>AFG</td>\n",
       "      <td>2012 Summer</td>\n",
       "      <td>2012.0</td>\n",
       "      <td>Summer</td>\n",
       "      <td>London</td>\n",
       "      <td>Taekwondo</td>\n",
       "      <td>Taekwondo Men's Featherweight</td>\n",
       "      <td>Bronze</td>\n",
       "      <td>Afghanistan</td>\n",
       "      <td>NaN</td>\n",
       "      <td>True</td>\n",
       "      <td>False</td>\n",
       "      <td>False</td>\n",
       "    </tr>\n",
       "    <tr>\n",
       "      <th>130</th>\n",
       "      <td>12684.0</td>\n",
       "      <td>Jan D. Boersma</td>\n",
       "      <td>M</td>\n",
       "      <td>19.0</td>\n",
       "      <td>NaN</td>\n",
       "      <td>NaN</td>\n",
       "      <td>Netherlands Antilles</td>\n",
       "      <td>AHO</td>\n",
       "      <td>1988 Summer</td>\n",
       "      <td>1988.0</td>\n",
       "      <td>Summer</td>\n",
       "      <td>Seoul</td>\n",
       "      <td>Sailing</td>\n",
       "      <td>Sailing Mixed Windsurfer</td>\n",
       "      <td>Silver</td>\n",
       "      <td>Curacao</td>\n",
       "      <td>Netherlands Antilles</td>\n",
       "      <td>False</td>\n",
       "      <td>False</td>\n",
       "      <td>True</td>\n",
       "    </tr>\n",
       "    <tr>\n",
       "      <th>299</th>\n",
       "      <td>2794.0</td>\n",
       "      <td>Mohamed Allalou</td>\n",
       "      <td>M</td>\n",
       "      <td>26.0</td>\n",
       "      <td>174.0</td>\n",
       "      <td>63.0</td>\n",
       "      <td>Algeria</td>\n",
       "      <td>ALG</td>\n",
       "      <td>2000 Summer</td>\n",
       "      <td>2000.0</td>\n",
       "      <td>Summer</td>\n",
       "      <td>Sydney</td>\n",
       "      <td>Boxing</td>\n",
       "      <td>Boxing Men's Light-Welterweight</td>\n",
       "      <td>Bronze</td>\n",
       "      <td>Algeria</td>\n",
       "      <td>NaN</td>\n",
       "      <td>True</td>\n",
       "      <td>False</td>\n",
       "      <td>False</td>\n",
       "    </tr>\n",
       "    <tr>\n",
       "      <th>321</th>\n",
       "      <td>6815.0</td>\n",
       "      <td>Mohamed Bahari</td>\n",
       "      <td>M</td>\n",
       "      <td>20.0</td>\n",
       "      <td>180.0</td>\n",
       "      <td>75.0</td>\n",
       "      <td>Algeria</td>\n",
       "      <td>ALG</td>\n",
       "      <td>1996 Summer</td>\n",
       "      <td>1996.0</td>\n",
       "      <td>Summer</td>\n",
       "      <td>Atlanta</td>\n",
       "      <td>Boxing</td>\n",
       "      <td>Boxing Men's Middleweight</td>\n",
       "      <td>Bronze</td>\n",
       "      <td>Algeria</td>\n",
       "      <td>NaN</td>\n",
       "      <td>True</td>\n",
       "      <td>False</td>\n",
       "      <td>False</td>\n",
       "    </tr>\n",
       "    <tr>\n",
       "      <th>...</th>\n",
       "      <td>...</td>\n",
       "      <td>...</td>\n",
       "      <td>...</td>\n",
       "      <td>...</td>\n",
       "      <td>...</td>\n",
       "      <td>...</td>\n",
       "      <td>...</td>\n",
       "      <td>...</td>\n",
       "      <td>...</td>\n",
       "      <td>...</td>\n",
       "      <td>...</td>\n",
       "      <td>...</td>\n",
       "      <td>...</td>\n",
       "      <td>...</td>\n",
       "      <td>...</td>\n",
       "      <td>...</td>\n",
       "      <td>...</td>\n",
       "      <td>...</td>\n",
       "      <td>...</td>\n",
       "      <td>...</td>\n",
       "    </tr>\n",
       "    <tr>\n",
       "      <th>222132</th>\n",
       "      <td>97036.0</td>\n",
       "      <td>Christine Seraphine \"Chris\" Prinsloo</td>\n",
       "      <td>F</td>\n",
       "      <td>28.0</td>\n",
       "      <td>156.0</td>\n",
       "      <td>47.0</td>\n",
       "      <td>Zimbabwe</td>\n",
       "      <td>ZIM</td>\n",
       "      <td>1980 Summer</td>\n",
       "      <td>1980.0</td>\n",
       "      <td>Summer</td>\n",
       "      <td>Moskva</td>\n",
       "      <td>Hockey</td>\n",
       "      <td>Hockey Women's Hockey</td>\n",
       "      <td>Gold</td>\n",
       "      <td>Zimbabwe</td>\n",
       "      <td>NaN</td>\n",
       "      <td>False</td>\n",
       "      <td>True</td>\n",
       "      <td>False</td>\n",
       "    </tr>\n",
       "    <tr>\n",
       "      <th>222138</th>\n",
       "      <td>101386.0</td>\n",
       "      <td>Sonia Robertson (Chick-)</td>\n",
       "      <td>F</td>\n",
       "      <td>33.0</td>\n",
       "      <td>168.0</td>\n",
       "      <td>60.0</td>\n",
       "      <td>Zimbabwe</td>\n",
       "      <td>ZIM</td>\n",
       "      <td>1980 Summer</td>\n",
       "      <td>1980.0</td>\n",
       "      <td>Summer</td>\n",
       "      <td>Moskva</td>\n",
       "      <td>Hockey</td>\n",
       "      <td>Hockey Women's Hockey</td>\n",
       "      <td>Gold</td>\n",
       "      <td>Zimbabwe</td>\n",
       "      <td>NaN</td>\n",
       "      <td>False</td>\n",
       "      <td>True</td>\n",
       "      <td>False</td>\n",
       "    </tr>\n",
       "    <tr>\n",
       "      <th>222152</th>\n",
       "      <td>115129.0</td>\n",
       "      <td>Anthea Dorine Stewart (Allin-)</td>\n",
       "      <td>F</td>\n",
       "      <td>35.0</td>\n",
       "      <td>160.0</td>\n",
       "      <td>56.0</td>\n",
       "      <td>Zimbabwe</td>\n",
       "      <td>ZIM</td>\n",
       "      <td>1980 Summer</td>\n",
       "      <td>1980.0</td>\n",
       "      <td>Summer</td>\n",
       "      <td>Moskva</td>\n",
       "      <td>Hockey</td>\n",
       "      <td>Hockey Women's Hockey</td>\n",
       "      <td>Gold</td>\n",
       "      <td>Zimbabwe</td>\n",
       "      <td>NaN</td>\n",
       "      <td>False</td>\n",
       "      <td>True</td>\n",
       "      <td>False</td>\n",
       "    </tr>\n",
       "    <tr>\n",
       "      <th>222188</th>\n",
       "      <td>127168.0</td>\n",
       "      <td>Helen Volk</td>\n",
       "      <td>F</td>\n",
       "      <td>26.0</td>\n",
       "      <td>150.0</td>\n",
       "      <td>55.0</td>\n",
       "      <td>Zimbabwe</td>\n",
       "      <td>ZIM</td>\n",
       "      <td>1980 Summer</td>\n",
       "      <td>1980.0</td>\n",
       "      <td>Summer</td>\n",
       "      <td>Moskva</td>\n",
       "      <td>Hockey</td>\n",
       "      <td>Hockey Women's Hockey</td>\n",
       "      <td>Gold</td>\n",
       "      <td>Zimbabwe</td>\n",
       "      <td>NaN</td>\n",
       "      <td>False</td>\n",
       "      <td>True</td>\n",
       "      <td>False</td>\n",
       "    </tr>\n",
       "    <tr>\n",
       "      <th>222193</th>\n",
       "      <td>128977.0</td>\n",
       "      <td>Linda Margaret Watson</td>\n",
       "      <td>F</td>\n",
       "      <td>24.0</td>\n",
       "      <td>165.0</td>\n",
       "      <td>63.0</td>\n",
       "      <td>Zimbabwe</td>\n",
       "      <td>ZIM</td>\n",
       "      <td>1980 Summer</td>\n",
       "      <td>1980.0</td>\n",
       "      <td>Summer</td>\n",
       "      <td>Moskva</td>\n",
       "      <td>Hockey</td>\n",
       "      <td>Hockey Women's Hockey</td>\n",
       "      <td>Gold</td>\n",
       "      <td>Zimbabwe</td>\n",
       "      <td>NaN</td>\n",
       "      <td>False</td>\n",
       "      <td>True</td>\n",
       "      <td>False</td>\n",
       "    </tr>\n",
       "  </tbody>\n",
       "</table>\n",
       "<p>34068 rows × 20 columns</p>\n",
       "</div>"
      ],
      "text/plain": [
       "              ID                                  Name Sex   Age  Height  \\\n",
       "64       86313.0                       Rohullah Nikpai   M  21.0   183.0   \n",
       "65       86313.0                       Rohullah Nikpai   M  25.0   183.0   \n",
       "130      12684.0                        Jan D. Boersma   M  19.0     NaN   \n",
       "299       2794.0                       Mohamed Allalou   M  26.0   174.0   \n",
       "321       6815.0                        Mohamed Bahari   M  20.0   180.0   \n",
       "...          ...                                   ...  ..   ...     ...   \n",
       "222132   97036.0  Christine Seraphine \"Chris\" Prinsloo   F  28.0   156.0   \n",
       "222138  101386.0              Sonia Robertson (Chick-)   F  33.0   168.0   \n",
       "222152  115129.0        Anthea Dorine Stewart (Allin-)   F  35.0   160.0   \n",
       "222188  127168.0                            Helen Volk   F  26.0   150.0   \n",
       "222193  128977.0                 Linda Margaret Watson   F  24.0   165.0   \n",
       "\n",
       "        Weight                  Team  NOC        Games    Year  Season  \\\n",
       "64        63.0           Afghanistan  AFG  2008 Summer  2008.0  Summer   \n",
       "65        63.0           Afghanistan  AFG  2012 Summer  2012.0  Summer   \n",
       "130        NaN  Netherlands Antilles  AHO  1988 Summer  1988.0  Summer   \n",
       "299       63.0               Algeria  ALG  2000 Summer  2000.0  Summer   \n",
       "321       75.0               Algeria  ALG  1996 Summer  1996.0  Summer   \n",
       "...        ...                   ...  ...          ...     ...     ...   \n",
       "222132    47.0              Zimbabwe  ZIM  1980 Summer  1980.0  Summer   \n",
       "222138    60.0              Zimbabwe  ZIM  1980 Summer  1980.0  Summer   \n",
       "222152    56.0              Zimbabwe  ZIM  1980 Summer  1980.0  Summer   \n",
       "222188    55.0              Zimbabwe  ZIM  1980 Summer  1980.0  Summer   \n",
       "222193    63.0              Zimbabwe  ZIM  1980 Summer  1980.0  Summer   \n",
       "\n",
       "           City      Sport                            Event   Medal  \\\n",
       "64      Beijing  Taekwondo        Taekwondo Men's Flyweight  Bronze   \n",
       "65       London  Taekwondo    Taekwondo Men's Featherweight  Bronze   \n",
       "130       Seoul    Sailing         Sailing Mixed Windsurfer  Silver   \n",
       "299      Sydney     Boxing  Boxing Men's Light-Welterweight  Bronze   \n",
       "321     Atlanta     Boxing        Boxing Men's Middleweight  Bronze   \n",
       "...         ...        ...                              ...     ...   \n",
       "222132   Moskva     Hockey            Hockey Women's Hockey    Gold   \n",
       "222138   Moskva     Hockey            Hockey Women's Hockey    Gold   \n",
       "222152   Moskva     Hockey            Hockey Women's Hockey    Gold   \n",
       "222188   Moskva     Hockey            Hockey Women's Hockey    Gold   \n",
       "222193   Moskva     Hockey            Hockey Women's Hockey    Gold   \n",
       "\n",
       "             region                 notes  Bronze   Gold  Silver  \n",
       "64      Afghanistan                   NaN    True  False   False  \n",
       "65      Afghanistan                   NaN    True  False   False  \n",
       "130         Curacao  Netherlands Antilles   False  False    True  \n",
       "299         Algeria                   NaN    True  False   False  \n",
       "321         Algeria                   NaN    True  False   False  \n",
       "...             ...                   ...     ...    ...     ...  \n",
       "222132     Zimbabwe                   NaN   False   True   False  \n",
       "222138     Zimbabwe                   NaN   False   True   False  \n",
       "222152     Zimbabwe                   NaN   False   True   False  \n",
       "222188     Zimbabwe                   NaN   False   True   False  \n",
       "222193     Zimbabwe                   NaN   False   True   False  \n",
       "\n",
       "[34068 rows x 20 columns]"
      ]
     },
     "execution_count": 365,
     "metadata": {},
     "output_type": "execute_result"
    }
   ],
   "source": [
    "df.dropna(subset=['Medal']) "
   ]
  },
  {
   "cell_type": "code",
   "execution_count": 366,
   "id": "b010e32f-af8f-4f93-bf51-484b68f5cfdc",
   "metadata": {},
   "outputs": [],
   "source": [
    "medal_df=df.drop_duplicates(subset=['Team','NOC','Games','Year','City','Sport','Event','Medal'])\n"
   ]
  },
  {
   "cell_type": "code",
   "execution_count": 367,
   "id": "2d0177f7-2564-4872-a2ba-e8997d8b29a3",
   "metadata": {},
   "outputs": [],
   "source": [
    "newdf=medal_df[medal_df['region']=='India']\n",
    "newdf=newdf.groupby('Year').count()['Medal'].reset_index()"
   ]
  },
  {
   "cell_type": "code",
   "execution_count": 368,
   "id": "a43b8562-975e-48bd-9c8b-e2704f47cee5",
   "metadata": {},
   "outputs": [],
   "source": [
    "newdf['Year']=newdf['Year'].astype('int')"
   ]
  },
  {
   "cell_type": "code",
   "execution_count": 369,
   "id": "cd1f21d0-e2b0-4cf7-9fa0-26cc93dda83b",
   "metadata": {},
   "outputs": [
    {
     "data": {
      "text/html": [
       "<div>\n",
       "<style scoped>\n",
       "    .dataframe tbody tr th:only-of-type {\n",
       "        vertical-align: middle;\n",
       "    }\n",
       "\n",
       "    .dataframe tbody tr th {\n",
       "        vertical-align: top;\n",
       "    }\n",
       "\n",
       "    .dataframe thead th {\n",
       "        text-align: right;\n",
       "    }\n",
       "</style>\n",
       "<table border=\"1\" class=\"dataframe\">\n",
       "  <thead>\n",
       "    <tr style=\"text-align: right;\">\n",
       "      <th></th>\n",
       "      <th>Year</th>\n",
       "      <th>Medal</th>\n",
       "    </tr>\n",
       "  </thead>\n",
       "  <tbody>\n",
       "    <tr>\n",
       "      <th>0</th>\n",
       "      <td>1900</td>\n",
       "      <td>2</td>\n",
       "    </tr>\n",
       "    <tr>\n",
       "      <th>1</th>\n",
       "      <td>1920</td>\n",
       "      <td>0</td>\n",
       "    </tr>\n",
       "    <tr>\n",
       "      <th>2</th>\n",
       "      <td>1924</td>\n",
       "      <td>0</td>\n",
       "    </tr>\n",
       "    <tr>\n",
       "      <th>3</th>\n",
       "      <td>1928</td>\n",
       "      <td>1</td>\n",
       "    </tr>\n",
       "    <tr>\n",
       "      <th>4</th>\n",
       "      <td>1932</td>\n",
       "      <td>1</td>\n",
       "    </tr>\n",
       "    <tr>\n",
       "      <th>5</th>\n",
       "      <td>1936</td>\n",
       "      <td>1</td>\n",
       "    </tr>\n",
       "    <tr>\n",
       "      <th>6</th>\n",
       "      <td>1948</td>\n",
       "      <td>1</td>\n",
       "    </tr>\n",
       "    <tr>\n",
       "      <th>7</th>\n",
       "      <td>1952</td>\n",
       "      <td>2</td>\n",
       "    </tr>\n",
       "    <tr>\n",
       "      <th>8</th>\n",
       "      <td>1956</td>\n",
       "      <td>1</td>\n",
       "    </tr>\n",
       "    <tr>\n",
       "      <th>9</th>\n",
       "      <td>1960</td>\n",
       "      <td>1</td>\n",
       "    </tr>\n",
       "    <tr>\n",
       "      <th>10</th>\n",
       "      <td>1964</td>\n",
       "      <td>1</td>\n",
       "    </tr>\n",
       "    <tr>\n",
       "      <th>11</th>\n",
       "      <td>1968</td>\n",
       "      <td>1</td>\n",
       "    </tr>\n",
       "    <tr>\n",
       "      <th>12</th>\n",
       "      <td>1972</td>\n",
       "      <td>1</td>\n",
       "    </tr>\n",
       "    <tr>\n",
       "      <th>13</th>\n",
       "      <td>1976</td>\n",
       "      <td>0</td>\n",
       "    </tr>\n",
       "    <tr>\n",
       "      <th>14</th>\n",
       "      <td>1980</td>\n",
       "      <td>1</td>\n",
       "    </tr>\n",
       "    <tr>\n",
       "      <th>15</th>\n",
       "      <td>1984</td>\n",
       "      <td>0</td>\n",
       "    </tr>\n",
       "    <tr>\n",
       "      <th>16</th>\n",
       "      <td>1988</td>\n",
       "      <td>0</td>\n",
       "    </tr>\n",
       "    <tr>\n",
       "      <th>17</th>\n",
       "      <td>1992</td>\n",
       "      <td>0</td>\n",
       "    </tr>\n",
       "    <tr>\n",
       "      <th>18</th>\n",
       "      <td>1996</td>\n",
       "      <td>1</td>\n",
       "    </tr>\n",
       "    <tr>\n",
       "      <th>19</th>\n",
       "      <td>2000</td>\n",
       "      <td>1</td>\n",
       "    </tr>\n",
       "    <tr>\n",
       "      <th>20</th>\n",
       "      <td>2004</td>\n",
       "      <td>1</td>\n",
       "    </tr>\n",
       "    <tr>\n",
       "      <th>21</th>\n",
       "      <td>2008</td>\n",
       "      <td>3</td>\n",
       "    </tr>\n",
       "    <tr>\n",
       "      <th>22</th>\n",
       "      <td>2012</td>\n",
       "      <td>6</td>\n",
       "    </tr>\n",
       "    <tr>\n",
       "      <th>23</th>\n",
       "      <td>2016</td>\n",
       "      <td>2</td>\n",
       "    </tr>\n",
       "  </tbody>\n",
       "</table>\n",
       "</div>"
      ],
      "text/plain": [
       "    Year  Medal\n",
       "0   1900      2\n",
       "1   1920      0\n",
       "2   1924      0\n",
       "3   1928      1\n",
       "4   1932      1\n",
       "5   1936      1\n",
       "6   1948      1\n",
       "7   1952      2\n",
       "8   1956      1\n",
       "9   1960      1\n",
       "10  1964      1\n",
       "11  1968      1\n",
       "12  1972      1\n",
       "13  1976      0\n",
       "14  1980      1\n",
       "15  1984      0\n",
       "16  1988      0\n",
       "17  1992      0\n",
       "18  1996      1\n",
       "19  2000      1\n",
       "20  2004      1\n",
       "21  2008      3\n",
       "22  2012      6\n",
       "23  2016      2"
      ]
     },
     "execution_count": 369,
     "metadata": {},
     "output_type": "execute_result"
    }
   ],
   "source": [
    "newdf"
   ]
  },
  {
   "cell_type": "code",
   "execution_count": 370,
   "id": "32ade9de-ea8e-42f7-bd6a-c258bd687fbb",
   "metadata": {},
   "outputs": [
    {
     "data": {
      "application/vnd.plotly.v1+json": {
       "config": {
        "plotlyServerURL": "https://plot.ly"
       },
       "data": [
        {
         "hovertemplate": "Year=%{x}<br>Medal=%{y}<extra></extra>",
         "legendgroup": "",
         "line": {
          "color": "#636efa",
          "dash": "solid"
         },
         "marker": {
          "symbol": "circle"
         },
         "mode": "lines",
         "name": "",
         "orientation": "v",
         "showlegend": false,
         "type": "scatter",
         "x": [
          1900,
          1920,
          1924,
          1928,
          1932,
          1936,
          1948,
          1952,
          1956,
          1960,
          1964,
          1968,
          1972,
          1976,
          1980,
          1984,
          1988,
          1992,
          1996,
          2000,
          2004,
          2008,
          2012,
          2016
         ],
         "xaxis": "x",
         "y": [
          2,
          0,
          0,
          1,
          1,
          1,
          1,
          2,
          1,
          1,
          1,
          1,
          1,
          0,
          1,
          0,
          0,
          0,
          1,
          1,
          1,
          3,
          6,
          2
         ],
         "yaxis": "y"
        }
       ],
       "layout": {
        "autosize": true,
        "legend": {
         "tracegroupgap": 0
        },
        "template": {
         "data": {
          "bar": [
           {
            "error_x": {
             "color": "#2a3f5f"
            },
            "error_y": {
             "color": "#2a3f5f"
            },
            "marker": {
             "line": {
              "color": "#E5ECF6",
              "width": 0.5
             },
             "pattern": {
              "fillmode": "overlay",
              "size": 10,
              "solidity": 0.2
             }
            },
            "type": "bar"
           }
          ],
          "barpolar": [
           {
            "marker": {
             "line": {
              "color": "#E5ECF6",
              "width": 0.5
             },
             "pattern": {
              "fillmode": "overlay",
              "size": 10,
              "solidity": 0.2
             }
            },
            "type": "barpolar"
           }
          ],
          "carpet": [
           {
            "aaxis": {
             "endlinecolor": "#2a3f5f",
             "gridcolor": "white",
             "linecolor": "white",
             "minorgridcolor": "white",
             "startlinecolor": "#2a3f5f"
            },
            "baxis": {
             "endlinecolor": "#2a3f5f",
             "gridcolor": "white",
             "linecolor": "white",
             "minorgridcolor": "white",
             "startlinecolor": "#2a3f5f"
            },
            "type": "carpet"
           }
          ],
          "choropleth": [
           {
            "colorbar": {
             "outlinewidth": 0,
             "ticks": ""
            },
            "type": "choropleth"
           }
          ],
          "contour": [
           {
            "colorbar": {
             "outlinewidth": 0,
             "ticks": ""
            },
            "colorscale": [
             [
              0,
              "#0d0887"
             ],
             [
              0.1111111111111111,
              "#46039f"
             ],
             [
              0.2222222222222222,
              "#7201a8"
             ],
             [
              0.3333333333333333,
              "#9c179e"
             ],
             [
              0.4444444444444444,
              "#bd3786"
             ],
             [
              0.5555555555555556,
              "#d8576b"
             ],
             [
              0.6666666666666666,
              "#ed7953"
             ],
             [
              0.7777777777777778,
              "#fb9f3a"
             ],
             [
              0.8888888888888888,
              "#fdca26"
             ],
             [
              1,
              "#f0f921"
             ]
            ],
            "type": "contour"
           }
          ],
          "contourcarpet": [
           {
            "colorbar": {
             "outlinewidth": 0,
             "ticks": ""
            },
            "type": "contourcarpet"
           }
          ],
          "heatmap": [
           {
            "colorbar": {
             "outlinewidth": 0,
             "ticks": ""
            },
            "colorscale": [
             [
              0,
              "#0d0887"
             ],
             [
              0.1111111111111111,
              "#46039f"
             ],
             [
              0.2222222222222222,
              "#7201a8"
             ],
             [
              0.3333333333333333,
              "#9c179e"
             ],
             [
              0.4444444444444444,
              "#bd3786"
             ],
             [
              0.5555555555555556,
              "#d8576b"
             ],
             [
              0.6666666666666666,
              "#ed7953"
             ],
             [
              0.7777777777777778,
              "#fb9f3a"
             ],
             [
              0.8888888888888888,
              "#fdca26"
             ],
             [
              1,
              "#f0f921"
             ]
            ],
            "type": "heatmap"
           }
          ],
          "heatmapgl": [
           {
            "colorbar": {
             "outlinewidth": 0,
             "ticks": ""
            },
            "colorscale": [
             [
              0,
              "#0d0887"
             ],
             [
              0.1111111111111111,
              "#46039f"
             ],
             [
              0.2222222222222222,
              "#7201a8"
             ],
             [
              0.3333333333333333,
              "#9c179e"
             ],
             [
              0.4444444444444444,
              "#bd3786"
             ],
             [
              0.5555555555555556,
              "#d8576b"
             ],
             [
              0.6666666666666666,
              "#ed7953"
             ],
             [
              0.7777777777777778,
              "#fb9f3a"
             ],
             [
              0.8888888888888888,
              "#fdca26"
             ],
             [
              1,
              "#f0f921"
             ]
            ],
            "type": "heatmapgl"
           }
          ],
          "histogram": [
           {
            "marker": {
             "pattern": {
              "fillmode": "overlay",
              "size": 10,
              "solidity": 0.2
             }
            },
            "type": "histogram"
           }
          ],
          "histogram2d": [
           {
            "colorbar": {
             "outlinewidth": 0,
             "ticks": ""
            },
            "colorscale": [
             [
              0,
              "#0d0887"
             ],
             [
              0.1111111111111111,
              "#46039f"
             ],
             [
              0.2222222222222222,
              "#7201a8"
             ],
             [
              0.3333333333333333,
              "#9c179e"
             ],
             [
              0.4444444444444444,
              "#bd3786"
             ],
             [
              0.5555555555555556,
              "#d8576b"
             ],
             [
              0.6666666666666666,
              "#ed7953"
             ],
             [
              0.7777777777777778,
              "#fb9f3a"
             ],
             [
              0.8888888888888888,
              "#fdca26"
             ],
             [
              1,
              "#f0f921"
             ]
            ],
            "type": "histogram2d"
           }
          ],
          "histogram2dcontour": [
           {
            "colorbar": {
             "outlinewidth": 0,
             "ticks": ""
            },
            "colorscale": [
             [
              0,
              "#0d0887"
             ],
             [
              0.1111111111111111,
              "#46039f"
             ],
             [
              0.2222222222222222,
              "#7201a8"
             ],
             [
              0.3333333333333333,
              "#9c179e"
             ],
             [
              0.4444444444444444,
              "#bd3786"
             ],
             [
              0.5555555555555556,
              "#d8576b"
             ],
             [
              0.6666666666666666,
              "#ed7953"
             ],
             [
              0.7777777777777778,
              "#fb9f3a"
             ],
             [
              0.8888888888888888,
              "#fdca26"
             ],
             [
              1,
              "#f0f921"
             ]
            ],
            "type": "histogram2dcontour"
           }
          ],
          "mesh3d": [
           {
            "colorbar": {
             "outlinewidth": 0,
             "ticks": ""
            },
            "type": "mesh3d"
           }
          ],
          "parcoords": [
           {
            "line": {
             "colorbar": {
              "outlinewidth": 0,
              "ticks": ""
             }
            },
            "type": "parcoords"
           }
          ],
          "pie": [
           {
            "automargin": true,
            "type": "pie"
           }
          ],
          "scatter": [
           {
            "fillpattern": {
             "fillmode": "overlay",
             "size": 10,
             "solidity": 0.2
            },
            "type": "scatter"
           }
          ],
          "scatter3d": [
           {
            "line": {
             "colorbar": {
              "outlinewidth": 0,
              "ticks": ""
             }
            },
            "marker": {
             "colorbar": {
              "outlinewidth": 0,
              "ticks": ""
             }
            },
            "type": "scatter3d"
           }
          ],
          "scattercarpet": [
           {
            "marker": {
             "colorbar": {
              "outlinewidth": 0,
              "ticks": ""
             }
            },
            "type": "scattercarpet"
           }
          ],
          "scattergeo": [
           {
            "marker": {
             "colorbar": {
              "outlinewidth": 0,
              "ticks": ""
             }
            },
            "type": "scattergeo"
           }
          ],
          "scattergl": [
           {
            "marker": {
             "colorbar": {
              "outlinewidth": 0,
              "ticks": ""
             }
            },
            "type": "scattergl"
           }
          ],
          "scattermapbox": [
           {
            "marker": {
             "colorbar": {
              "outlinewidth": 0,
              "ticks": ""
             }
            },
            "type": "scattermapbox"
           }
          ],
          "scatterpolar": [
           {
            "marker": {
             "colorbar": {
              "outlinewidth": 0,
              "ticks": ""
             }
            },
            "type": "scatterpolar"
           }
          ],
          "scatterpolargl": [
           {
            "marker": {
             "colorbar": {
              "outlinewidth": 0,
              "ticks": ""
             }
            },
            "type": "scatterpolargl"
           }
          ],
          "scatterternary": [
           {
            "marker": {
             "colorbar": {
              "outlinewidth": 0,
              "ticks": ""
             }
            },
            "type": "scatterternary"
           }
          ],
          "surface": [
           {
            "colorbar": {
             "outlinewidth": 0,
             "ticks": ""
            },
            "colorscale": [
             [
              0,
              "#0d0887"
             ],
             [
              0.1111111111111111,
              "#46039f"
             ],
             [
              0.2222222222222222,
              "#7201a8"
             ],
             [
              0.3333333333333333,
              "#9c179e"
             ],
             [
              0.4444444444444444,
              "#bd3786"
             ],
             [
              0.5555555555555556,
              "#d8576b"
             ],
             [
              0.6666666666666666,
              "#ed7953"
             ],
             [
              0.7777777777777778,
              "#fb9f3a"
             ],
             [
              0.8888888888888888,
              "#fdca26"
             ],
             [
              1,
              "#f0f921"
             ]
            ],
            "type": "surface"
           }
          ],
          "table": [
           {
            "cells": {
             "fill": {
              "color": "#EBF0F8"
             },
             "line": {
              "color": "white"
             }
            },
            "header": {
             "fill": {
              "color": "#C8D4E3"
             },
             "line": {
              "color": "white"
             }
            },
            "type": "table"
           }
          ]
         },
         "layout": {
          "annotationdefaults": {
           "arrowcolor": "#2a3f5f",
           "arrowhead": 0,
           "arrowwidth": 1
          },
          "autotypenumbers": "strict",
          "coloraxis": {
           "colorbar": {
            "outlinewidth": 0,
            "ticks": ""
           }
          },
          "colorscale": {
           "diverging": [
            [
             0,
             "#8e0152"
            ],
            [
             0.1,
             "#c51b7d"
            ],
            [
             0.2,
             "#de77ae"
            ],
            [
             0.3,
             "#f1b6da"
            ],
            [
             0.4,
             "#fde0ef"
            ],
            [
             0.5,
             "#f7f7f7"
            ],
            [
             0.6,
             "#e6f5d0"
            ],
            [
             0.7,
             "#b8e186"
            ],
            [
             0.8,
             "#7fbc41"
            ],
            [
             0.9,
             "#4d9221"
            ],
            [
             1,
             "#276419"
            ]
           ],
           "sequential": [
            [
             0,
             "#0d0887"
            ],
            [
             0.1111111111111111,
             "#46039f"
            ],
            [
             0.2222222222222222,
             "#7201a8"
            ],
            [
             0.3333333333333333,
             "#9c179e"
            ],
            [
             0.4444444444444444,
             "#bd3786"
            ],
            [
             0.5555555555555556,
             "#d8576b"
            ],
            [
             0.6666666666666666,
             "#ed7953"
            ],
            [
             0.7777777777777778,
             "#fb9f3a"
            ],
            [
             0.8888888888888888,
             "#fdca26"
            ],
            [
             1,
             "#f0f921"
            ]
           ],
           "sequentialminus": [
            [
             0,
             "#0d0887"
            ],
            [
             0.1111111111111111,
             "#46039f"
            ],
            [
             0.2222222222222222,
             "#7201a8"
            ],
            [
             0.3333333333333333,
             "#9c179e"
            ],
            [
             0.4444444444444444,
             "#bd3786"
            ],
            [
             0.5555555555555556,
             "#d8576b"
            ],
            [
             0.6666666666666666,
             "#ed7953"
            ],
            [
             0.7777777777777778,
             "#fb9f3a"
            ],
            [
             0.8888888888888888,
             "#fdca26"
            ],
            [
             1,
             "#f0f921"
            ]
           ]
          },
          "colorway": [
           "#636efa",
           "#EF553B",
           "#00cc96",
           "#ab63fa",
           "#FFA15A",
           "#19d3f3",
           "#FF6692",
           "#B6E880",
           "#FF97FF",
           "#FECB52"
          ],
          "font": {
           "color": "#2a3f5f"
          },
          "geo": {
           "bgcolor": "white",
           "lakecolor": "white",
           "landcolor": "#E5ECF6",
           "showlakes": true,
           "showland": true,
           "subunitcolor": "white"
          },
          "hoverlabel": {
           "align": "left"
          },
          "hovermode": "closest",
          "mapbox": {
           "style": "light"
          },
          "paper_bgcolor": "white",
          "plot_bgcolor": "#E5ECF6",
          "polar": {
           "angularaxis": {
            "gridcolor": "white",
            "linecolor": "white",
            "ticks": ""
           },
           "bgcolor": "#E5ECF6",
           "radialaxis": {
            "gridcolor": "white",
            "linecolor": "white",
            "ticks": ""
           }
          },
          "scene": {
           "xaxis": {
            "backgroundcolor": "#E5ECF6",
            "gridcolor": "white",
            "gridwidth": 2,
            "linecolor": "white",
            "showbackground": true,
            "ticks": "",
            "zerolinecolor": "white"
           },
           "yaxis": {
            "backgroundcolor": "#E5ECF6",
            "gridcolor": "white",
            "gridwidth": 2,
            "linecolor": "white",
            "showbackground": true,
            "ticks": "",
            "zerolinecolor": "white"
           },
           "zaxis": {
            "backgroundcolor": "#E5ECF6",
            "gridcolor": "white",
            "gridwidth": 2,
            "linecolor": "white",
            "showbackground": true,
            "ticks": "",
            "zerolinecolor": "white"
           }
          },
          "shapedefaults": {
           "line": {
            "color": "#2a3f5f"
           }
          },
          "ternary": {
           "aaxis": {
            "gridcolor": "white",
            "linecolor": "white",
            "ticks": ""
           },
           "baxis": {
            "gridcolor": "white",
            "linecolor": "white",
            "ticks": ""
           },
           "bgcolor": "#E5ECF6",
           "caxis": {
            "gridcolor": "white",
            "linecolor": "white",
            "ticks": ""
           }
          },
          "title": {
           "x": 0.05
          },
          "xaxis": {
           "automargin": true,
           "gridcolor": "white",
           "linecolor": "white",
           "ticks": "",
           "title": {
            "standoff": 15
           },
           "zerolinecolor": "white",
           "zerolinewidth": 2
          },
          "yaxis": {
           "automargin": true,
           "gridcolor": "white",
           "linecolor": "white",
           "ticks": "",
           "title": {
            "standoff": 15
           },
           "zerolinecolor": "white",
           "zerolinewidth": 2
          }
         }
        },
        "title": {
         "text": "Medals won by Nation over the years"
        },
        "xaxis": {
         "anchor": "y",
         "autorange": true,
         "domain": [
          0,
          1
         ],
         "range": [
          1900,
          2016
         ],
         "title": {
          "text": "Year"
         },
         "type": "linear"
        },
        "yaxis": {
         "anchor": "x",
         "autorange": true,
         "domain": [
          0,
          1
         ],
         "range": [
          -0.3333333333333333,
          6.333333333333333
         ],
         "title": {
          "text": "Total medals"
         },
         "type": "linear"
        }
       }
      },
      "image/png": "[encoded data removed]",
      "text/html": [
       "<div>                            <div id=\"a5b85e7d-816d-41a4-b737-0dffa5169b8a\" class=\"plotly-graph-div\" style=\"height:525px; width:100%;\"></div>            <script type=\"text/javascript\">                require([\"plotly\"], function(Plotly) {                    window.PLOTLYENV=window.PLOTLYENV || {};                                    if (document.getElementById(\"a5b85e7d-816d-41a4-b737-0dffa5169b8a\")) {                    Plotly.newPlot(                        \"a5b85e7d-816d-41a4-b737-0dffa5169b8a\",                        [{\"hovertemplate\":\"Year=%{x}<br>Medal=%{y}<extra></extra>\",\"legendgroup\":\"\",\"line\":{\"color\":\"#636efa\",\"dash\":\"solid\"},\"marker\":{\"symbol\":\"circle\"},\"mode\":\"lines\",\"name\":\"\",\"orientation\":\"v\",\"showlegend\":false,\"x\":[1900,1920,1924,1928,1932,1936,1948,1952,1956,1960,1964,1968,1972,1976,1980,1984,1988,1992,1996,2000,2004,2008,2012,2016],\"xaxis\":\"x\",\"y\":[2,0,0,1,1,1,1,2,1,1,1,1,1,0,1,0,0,0,1,1,1,3,6,2],\"yaxis\":\"y\",\"type\":\"scatter\"}],                        {\"template\":{\"data\":{\"histogram2dcontour\":[{\"type\":\"histogram2dcontour\",\"colorbar\":{\"outlinewidth\":0,\"ticks\":\"\"},\"colorscale\":[[0.0,\"#0d0887\"],[0.1111111111111111,\"#46039f\"],[0.2222222222222222,\"#7201a8\"],[0.3333333333333333,\"#9c179e\"],[0.4444444444444444,\"#bd3786\"],[0.5555555555555556,\"#d8576b\"],[0.6666666666666666,\"#ed7953\"],[0.7777777777777778,\"#fb9f3a\"],[0.8888888888888888,\"#fdca26\"],[1.0,\"#f0f921\"]]}],\"choropleth\":[{\"type\":\"choropleth\",\"colorbar\":{\"outlinewidth\":0,\"ticks\":\"\"}}],\"histogram2d\":[{\"type\":\"histogram2d\",\"colorbar\":{\"outlinewidth\":0,\"ticks\":\"\"},\"colorscale\":[[0.0,\"#0d0887\"],[0.1111111111111111,\"#46039f\"],[0.2222222222222222,\"#7201a8\"],[0.3333333333333333,\"#9c179e\"],[0.4444444444444444,\"#bd3786\"],[0.5555555555555556,\"#d8576b\"],[0.6666666666666666,\"#ed7953\"],[0.7777777777777778,\"#fb9f3a\"],[0.8888888888888888,\"#fdca26\"],[1.0,\"#f0f921\"]]}],\"heatmap\":[{\"type\":\"heatmap\",\"colorbar\":{\"outlinewidth\":0,\"ticks\":\"\"},\"colorscale\":[[0.0,\"#0d0887\"],[0.1111111111111111,\"#46039f\"],[0.2222222222222222,\"#7201a8\"],[0.3333333333333333,\"#9c179e\"],[0.4444444444444444,\"#bd3786\"],[0.5555555555555556,\"#d8576b\"],[0.6666666666666666,\"#ed7953\"],[0.7777777777777778,\"#fb9f3a\"],[0.8888888888888888,\"#fdca26\"],[1.0,\"#f0f921\"]]}],\"heatmapgl\":[{\"type\":\"heatmapgl\",\"colorbar\":{\"outlinewidth\":0,\"ticks\":\"\"},\"colorscale\":[[0.0,\"#0d0887\"],[0.1111111111111111,\"#46039f\"],[0.2222222222222222,\"#7201a8\"],[0.3333333333333333,\"#9c179e\"],[0.4444444444444444,\"#bd3786\"],[0.5555555555555556,\"#d8576b\"],[0.6666666666666666,\"#ed7953\"],[0.7777777777777778,\"#fb9f3a\"],[0.8888888888888888,\"#fdca26\"],[1.0,\"#f0f921\"]]}],\"contourcarpet\":[{\"type\":\"contourcarpet\",\"colorbar\":{\"outlinewidth\":0,\"ticks\":\"\"}}],\"contour\":[{\"type\":\"contour\",\"colorbar\":{\"outlinewidth\":0,\"ticks\":\"\"},\"colorscale\":[[0.0,\"#0d0887\"],[0.1111111111111111,\"#46039f\"],[0.2222222222222222,\"#7201a8\"],[0.3333333333333333,\"#9c179e\"],[0.4444444444444444,\"#bd3786\"],[0.5555555555555556,\"#d8576b\"],[0.6666666666666666,\"#ed7953\"],[0.7777777777777778,\"#fb9f3a\"],[0.8888888888888888,\"#fdca26\"],[1.0,\"#f0f921\"]]}],\"surface\":[{\"type\":\"surface\",\"colorbar\":{\"outlinewidth\":0,\"ticks\":\"\"},\"colorscale\":[[0.0,\"#0d0887\"],[0.1111111111111111,\"#46039f\"],[0.2222222222222222,\"#7201a8\"],[0.3333333333333333,\"#9c179e\"],[0.4444444444444444,\"#bd3786\"],[0.5555555555555556,\"#d8576b\"],[0.6666666666666666,\"#ed7953\"],[0.7777777777777778,\"#fb9f3a\"],[0.8888888888888888,\"#fdca26\"],[1.0,\"#f0f921\"]]}],\"mesh3d\":[{\"type\":\"mesh3d\",\"colorbar\":{\"outlinewidth\":0,\"ticks\":\"\"}}],\"scatter\":[{\"fillpattern\":{\"fillmode\":\"overlay\",\"size\":10,\"solidity\":0.2},\"type\":\"scatter\"}],\"parcoords\":[{\"type\":\"parcoords\",\"line\":{\"colorbar\":{\"outlinewidth\":0,\"ticks\":\"\"}}}],\"scatterpolargl\":[{\"type\":\"scatterpolargl\",\"marker\":{\"colorbar\":{\"outlinewidth\":0,\"ticks\":\"\"}}}],\"bar\":[{\"error_x\":{\"color\":\"#2a3f5f\"},\"error_y\":{\"color\":\"#2a3f5f\"},\"marker\":{\"line\":{\"color\":\"#E5ECF6\",\"width\":0.5},\"pattern\":{\"fillmode\":\"overlay\",\"size\":10,\"solidity\":0.2}},\"type\":\"bar\"}],\"scattergeo\":[{\"type\":\"scattergeo\",\"marker\":{\"colorbar\":{\"outlinewidth\":0,\"ticks\":\"\"}}}],\"scatterpolar\":[{\"type\":\"scatterpolar\",\"marker\":{\"colorbar\":{\"outlinewidth\":0,\"ticks\":\"\"}}}],\"histogram\":[{\"marker\":{\"pattern\":{\"fillmode\":\"overlay\",\"size\":10,\"solidity\":0.2}},\"type\":\"histogram\"}],\"scattergl\":[{\"type\":\"scattergl\",\"marker\":{\"colorbar\":{\"outlinewidth\":0,\"ticks\":\"\"}}}],\"scatter3d\":[{\"type\":\"scatter3d\",\"line\":{\"colorbar\":{\"outlinewidth\":0,\"ticks\":\"\"}},\"marker\":{\"colorbar\":{\"outlinewidth\":0,\"ticks\":\"\"}}}],\"scattermapbox\":[{\"type\":\"scattermapbox\",\"marker\":{\"colorbar\":{\"outlinewidth\":0,\"ticks\":\"\"}}}],\"scatterternary\":[{\"type\":\"scatterternary\",\"marker\":{\"colorbar\":{\"outlinewidth\":0,\"ticks\":\"\"}}}],\"scattercarpet\":[{\"type\":\"scattercarpet\",\"marker\":{\"colorbar\":{\"outlinewidth\":0,\"ticks\":\"\"}}}],\"carpet\":[{\"aaxis\":{\"endlinecolor\":\"#2a3f5f\",\"gridcolor\":\"white\",\"linecolor\":\"white\",\"minorgridcolor\":\"white\",\"startlinecolor\":\"#2a3f5f\"},\"baxis\":{\"endlinecolor\":\"#2a3f5f\",\"gridcolor\":\"white\",\"linecolor\":\"white\",\"minorgridcolor\":\"white\",\"startlinecolor\":\"#2a3f5f\"},\"type\":\"carpet\"}],\"table\":[{\"cells\":{\"fill\":{\"color\":\"#EBF0F8\"},\"line\":{\"color\":\"white\"}},\"header\":{\"fill\":{\"color\":\"#C8D4E3\"},\"line\":{\"color\":\"white\"}},\"type\":\"table\"}],\"barpolar\":[{\"marker\":{\"line\":{\"color\":\"#E5ECF6\",\"width\":0.5},\"pattern\":{\"fillmode\":\"overlay\",\"size\":10,\"solidity\":0.2}},\"type\":\"barpolar\"}],\"pie\":[{\"automargin\":true,\"type\":\"pie\"}]},\"layout\":{\"autotypenumbers\":\"strict\",\"colorway\":[\"#636efa\",\"#EF553B\",\"#00cc96\",\"#ab63fa\",\"#FFA15A\",\"#19d3f3\",\"#FF6692\",\"#B6E880\",\"#FF97FF\",\"#FECB52\"],\"font\":{\"color\":\"#2a3f5f\"},\"hovermode\":\"closest\",\"hoverlabel\":{\"align\":\"left\"},\"paper_bgcolor\":\"white\",\"plot_bgcolor\":\"#E5ECF6\",\"polar\":{\"bgcolor\":\"#E5ECF6\",\"angularaxis\":{\"gridcolor\":\"white\",\"linecolor\":\"white\",\"ticks\":\"\"},\"radialaxis\":{\"gridcolor\":\"white\",\"linecolor\":\"white\",\"ticks\":\"\"}},\"ternary\":{\"bgcolor\":\"#E5ECF6\",\"aaxis\":{\"gridcolor\":\"white\",\"linecolor\":\"white\",\"ticks\":\"\"},\"baxis\":{\"gridcolor\":\"white\",\"linecolor\":\"white\",\"ticks\":\"\"},\"caxis\":{\"gridcolor\":\"white\",\"linecolor\":\"white\",\"ticks\":\"\"}},\"coloraxis\":{\"colorbar\":{\"outlinewidth\":0,\"ticks\":\"\"}},\"colorscale\":{\"sequential\":[[0.0,\"#0d0887\"],[0.1111111111111111,\"#46039f\"],[0.2222222222222222,\"#7201a8\"],[0.3333333333333333,\"#9c179e\"],[0.4444444444444444,\"#bd3786\"],[0.5555555555555556,\"#d8576b\"],[0.6666666666666666,\"#ed7953\"],[0.7777777777777778,\"#fb9f3a\"],[0.8888888888888888,\"#fdca26\"],[1.0,\"#f0f921\"]],\"sequentialminus\":[[0.0,\"#0d0887\"],[0.1111111111111111,\"#46039f\"],[0.2222222222222222,\"#7201a8\"],[0.3333333333333333,\"#9c179e\"],[0.4444444444444444,\"#bd3786\"],[0.5555555555555556,\"#d8576b\"],[0.6666666666666666,\"#ed7953\"],[0.7777777777777778,\"#fb9f3a\"],[0.8888888888888888,\"#fdca26\"],[1.0,\"#f0f921\"]],\"diverging\":[[0,\"#8e0152\"],[0.1,\"#c51b7d\"],[0.2,\"#de77ae\"],[0.3,\"#f1b6da\"],[0.4,\"#fde0ef\"],[0.5,\"#f7f7f7\"],[0.6,\"#e6f5d0\"],[0.7,\"#b8e186\"],[0.8,\"#7fbc41\"],[0.9,\"#4d9221\"],[1,\"#276419\"]]},\"xaxis\":{\"gridcolor\":\"white\",\"linecolor\":\"white\",\"ticks\":\"\",\"title\":{\"standoff\":15},\"zerolinecolor\":\"white\",\"automargin\":true,\"zerolinewidth\":2},\"yaxis\":{\"gridcolor\":\"white\",\"linecolor\":\"white\",\"ticks\":\"\",\"title\":{\"standoff\":15},\"zerolinecolor\":\"white\",\"automargin\":true,\"zerolinewidth\":2},\"scene\":{\"xaxis\":{\"backgroundcolor\":\"#E5ECF6\",\"gridcolor\":\"white\",\"linecolor\":\"white\",\"showbackground\":true,\"ticks\":\"\",\"zerolinecolor\":\"white\",\"gridwidth\":2},\"yaxis\":{\"backgroundcolor\":\"#E5ECF6\",\"gridcolor\":\"white\",\"linecolor\":\"white\",\"showbackground\":true,\"ticks\":\"\",\"zerolinecolor\":\"white\",\"gridwidth\":2},\"zaxis\":{\"backgroundcolor\":\"#E5ECF6\",\"gridcolor\":\"white\",\"linecolor\":\"white\",\"showbackground\":true,\"ticks\":\"\",\"zerolinecolor\":\"white\",\"gridwidth\":2}},\"shapedefaults\":{\"line\":{\"color\":\"#2a3f5f\"}},\"annotationdefaults\":{\"arrowcolor\":\"#2a3f5f\",\"arrowhead\":0,\"arrowwidth\":1},\"geo\":{\"bgcolor\":\"white\",\"landcolor\":\"#E5ECF6\",\"subunitcolor\":\"white\",\"showland\":true,\"showlakes\":true,\"lakecolor\":\"white\"},\"title\":{\"x\":0.05},\"mapbox\":{\"style\":\"light\"}}},\"xaxis\":{\"anchor\":\"y\",\"domain\":[0.0,1.0],\"title\":{\"text\":\"Year\"}},\"yaxis\":{\"anchor\":\"x\",\"domain\":[0.0,1.0],\"title\":{\"text\":\"Total medals\"}},\"legend\":{\"tracegroupgap\":0},\"title\":{\"text\":\"Medals won by Nation over the years\"}},                        {\"responsive\": true}                    ).then(function(){\n",
       "                            \n",
       "var gd = document.getElementById('a5b85e7d-816d-41a4-b737-0dffa5169b8a');\n",
       "var x = new MutationObserver(function (mutations, observer) {{\n",
       "        var display = window.getComputedStyle(gd).display;\n",
       "        if (!display || display === 'none') {{\n",
       "            console.log([gd, 'removed!']);\n",
       "            Plotly.purge(gd);\n",
       "            observer.disconnect();\n",
       "        }}\n",
       "}});\n",
       "\n",
       "// Listen for the removal of the full notebook cells\n",
       "var notebookContainer = gd.closest('#notebook-container');\n",
       "if (notebookContainer) {{\n",
       "    x.observe(notebookContainer, {childList: true});\n",
       "}}\n",
       "\n",
       "// Listen for the clearing of the current output cell\n",
       "var outputEl = gd.closest('.output');\n",
       "if (outputEl) {{\n",
       "    x.observe(outputEl, {childList: true});\n",
       "}}\n",
       "\n",
       "                        })                };                });            </script>        </div>"
      ]
     },
     "metadata": {},
     "output_type": "display_data"
    }
   ],
   "source": [
    "fig = px.line(newdf, x=\"Year\", y=\"Medal\", title='Medals won by Nation over the years')\n",
    "fig.layout.yaxis.title ='Total medals'\n",
    "fig.show()"
   ]
  },
  {
   "cell_type": "markdown",
   "id": "d343acfd-da45-47f5-8376-f9c0edf915d0",
   "metadata": {},
   "source": [
    "## Generate heat map which showing no of medals won in every sport"
   ]
  },
  {
   "cell_type": "code",
   "execution_count": 371,
   "id": "ade9661b-13dc-46a1-a12d-77e2d904fd0f",
   "metadata": {},
   "outputs": [],
   "source": [
    "\n",
    "medal_df=df.drop_duplicates(subset=['Team','NOC','Games','Year','City','Sport','Event','Medal'])"
   ]
  },
  {
   "cell_type": "code",
   "execution_count": 372,
   "id": "99d8a6f8-e913-4cbe-8e47-d7b5471ea8fa",
   "metadata": {},
   "outputs": [],
   "source": [
    "x=medal_df.dropna(subset=['Medal'])"
   ]
  },
  {
   "cell_type": "code",
   "execution_count": 373,
   "id": "4335a33f-02e3-40e3-b3f8-304542bb0563",
   "metadata": {},
   "outputs": [],
   "source": [
    "y=x[x['region']=='India']"
   ]
  },
  {
   "cell_type": "code",
   "execution_count": 374,
   "id": "497855d1-5983-4f27-9671-259c66416df6",
   "metadata": {},
   "outputs": [
    {
     "data": {
      "text/html": [
       "<div>\n",
       "<style scoped>\n",
       "    .dataframe tbody tr th:only-of-type {\n",
       "        vertical-align: middle;\n",
       "    }\n",
       "\n",
       "    .dataframe tbody tr th {\n",
       "        vertical-align: top;\n",
       "    }\n",
       "\n",
       "    .dataframe thead th {\n",
       "        text-align: right;\n",
       "    }\n",
       "</style>\n",
       "<table border=\"1\" class=\"dataframe\">\n",
       "  <thead>\n",
       "    <tr style=\"text-align: right;\">\n",
       "      <th></th>\n",
       "      <th>ID</th>\n",
       "      <th>Name</th>\n",
       "      <th>Sex</th>\n",
       "      <th>Age</th>\n",
       "      <th>Height</th>\n",
       "      <th>Weight</th>\n",
       "      <th>Team</th>\n",
       "      <th>NOC</th>\n",
       "      <th>Games</th>\n",
       "      <th>Year</th>\n",
       "      <th>Season</th>\n",
       "      <th>City</th>\n",
       "      <th>Sport</th>\n",
       "      <th>Event</th>\n",
       "      <th>Medal</th>\n",
       "      <th>region</th>\n",
       "      <th>notes</th>\n",
       "      <th>Bronze</th>\n",
       "      <th>Gold</th>\n",
       "      <th>Silver</th>\n",
       "    </tr>\n",
       "  </thead>\n",
       "  <tbody>\n",
       "    <tr>\n",
       "      <th>108726</th>\n",
       "      <td>2699.0</td>\n",
       "      <td>Shaukat Ali</td>\n",
       "      <td>M</td>\n",
       "      <td>30.0</td>\n",
       "      <td>NaN</td>\n",
       "      <td>NaN</td>\n",
       "      <td>India</td>\n",
       "      <td>IND</td>\n",
       "      <td>1928 Summer</td>\n",
       "      <td>1928.0</td>\n",
       "      <td>Summer</td>\n",
       "      <td>Amsterdam</td>\n",
       "      <td>Hockey</td>\n",
       "      <td>Hockey Men's Hockey</td>\n",
       "      <td>Gold</td>\n",
       "      <td>India</td>\n",
       "      <td>NaN</td>\n",
       "      <td>False</td>\n",
       "      <td>True</td>\n",
       "      <td>False</td>\n",
       "    </tr>\n",
       "    <tr>\n",
       "      <th>108728</th>\n",
       "      <td>2703.0</td>\n",
       "      <td>Syed Mushtaq Ali</td>\n",
       "      <td>M</td>\n",
       "      <td>22.0</td>\n",
       "      <td>165.0</td>\n",
       "      <td>61.0</td>\n",
       "      <td>India</td>\n",
       "      <td>IND</td>\n",
       "      <td>1964 Summer</td>\n",
       "      <td>1964.0</td>\n",
       "      <td>Summer</td>\n",
       "      <td>Tokyo</td>\n",
       "      <td>Hockey</td>\n",
       "      <td>Hockey Men's Hockey</td>\n",
       "      <td>Gold</td>\n",
       "      <td>India</td>\n",
       "      <td>NaN</td>\n",
       "      <td>False</td>\n",
       "      <td>True</td>\n",
       "      <td>False</td>\n",
       "    </tr>\n",
       "    <tr>\n",
       "      <th>108731</th>\n",
       "      <td>2864.0</td>\n",
       "      <td>Richard James Allen</td>\n",
       "      <td>M</td>\n",
       "      <td>30.0</td>\n",
       "      <td>172.0</td>\n",
       "      <td>NaN</td>\n",
       "      <td>India</td>\n",
       "      <td>IND</td>\n",
       "      <td>1932 Summer</td>\n",
       "      <td>1932.0</td>\n",
       "      <td>Summer</td>\n",
       "      <td>Los Angeles</td>\n",
       "      <td>Hockey</td>\n",
       "      <td>Hockey Men's Hockey</td>\n",
       "      <td>Gold</td>\n",
       "      <td>India</td>\n",
       "      <td>NaN</td>\n",
       "      <td>False</td>\n",
       "      <td>True</td>\n",
       "      <td>False</td>\n",
       "    </tr>\n",
       "  </tbody>\n",
       "</table>\n",
       "</div>"
      ],
      "text/plain": [
       "            ID                 Name Sex   Age  Height  Weight   Team  NOC  \\\n",
       "108726  2699.0          Shaukat Ali   M  30.0     NaN     NaN  India  IND   \n",
       "108728  2703.0     Syed Mushtaq Ali   M  22.0   165.0    61.0  India  IND   \n",
       "108731  2864.0  Richard James Allen   M  30.0   172.0     NaN  India  IND   \n",
       "\n",
       "              Games    Year  Season         City   Sport                Event  \\\n",
       "108726  1928 Summer  1928.0  Summer    Amsterdam  Hockey  Hockey Men's Hockey   \n",
       "108728  1964 Summer  1964.0  Summer        Tokyo  Hockey  Hockey Men's Hockey   \n",
       "108731  1932 Summer  1932.0  Summer  Los Angeles  Hockey  Hockey Men's Hockey   \n",
       "\n",
       "       Medal region notes  Bronze  Gold  Silver  \n",
       "108726  Gold  India   NaN   False  True   False  \n",
       "108728  Gold  India   NaN   False  True   False  \n",
       "108731  Gold  India   NaN   False  True   False  "
      ]
     },
     "execution_count": 374,
     "metadata": {},
     "output_type": "execute_result"
    }
   ],
   "source": [
    "y.head(3)"
   ]
  },
  {
   "cell_type": "code",
   "execution_count": 375,
   "id": "02d14223-275b-4984-84a9-4d6ce2c78aa8",
   "metadata": {},
   "outputs": [
    {
     "data": {
      "text/plain": [
       "<Axes: xlabel='Year', ylabel='Sport'>"
      ]
     },
     "execution_count": 375,
     "metadata": {},
     "output_type": "execute_result"
    },
    {
     "data": {
      "image/png": "[encoded data removed]",
      "text/plain": [
       "<Figure size 2000x2000 with 2 Axes>"
      ]
     },
     "metadata": {},
     "output_type": "display_data"
    }
   ],
   "source": [
    "plt.figure(figsize=(20,20))\n",
    "sns.heatmap(y.pivot_table(index=\"Sport\",columns='Year',values='Event',aggfunc='count').fillna(0).astype(\"int\"),annot=True)"
   ]
  },
  {
   "cell_type": "markdown",
   "id": "370be239-0998-4b19-a96c-ae7198244037",
   "metadata": {},
   "source": [
    "## Most successfull top 10 Athletes:---->"
   ]
  },
  {
   "cell_type": "code",
   "execution_count": 376,
   "id": "3662f0d7-c2c1-49a5-b203-50774101ea70",
   "metadata": {},
   "outputs": [
    {
     "data": {
      "text/html": [
       "<div>\n",
       "<style scoped>\n",
       "    .dataframe tbody tr th:only-of-type {\n",
       "        vertical-align: middle;\n",
       "    }\n",
       "\n",
       "    .dataframe tbody tr th {\n",
       "        vertical-align: top;\n",
       "    }\n",
       "\n",
       "    .dataframe thead th {\n",
       "        text-align: right;\n",
       "    }\n",
       "</style>\n",
       "<table border=\"1\" class=\"dataframe\">\n",
       "  <thead>\n",
       "    <tr style=\"text-align: right;\">\n",
       "      <th></th>\n",
       "      <th>ID</th>\n",
       "      <th>Name</th>\n",
       "      <th>Sex</th>\n",
       "      <th>Age</th>\n",
       "      <th>Height</th>\n",
       "      <th>Weight</th>\n",
       "      <th>Team</th>\n",
       "      <th>NOC</th>\n",
       "      <th>Games</th>\n",
       "      <th>Year</th>\n",
       "      <th>Season</th>\n",
       "      <th>City</th>\n",
       "      <th>Sport</th>\n",
       "      <th>Event</th>\n",
       "      <th>Medal</th>\n",
       "      <th>region</th>\n",
       "      <th>notes</th>\n",
       "      <th>Bronze</th>\n",
       "      <th>Gold</th>\n",
       "      <th>Silver</th>\n",
       "    </tr>\n",
       "  </thead>\n",
       "  <tbody>\n",
       "    <tr>\n",
       "      <th>108911</th>\n",
       "      <td>21912.0</td>\n",
       "      <td>Leslie Walter Claudius</td>\n",
       "      <td>M</td>\n",
       "      <td>25.0</td>\n",
       "      <td>162.0</td>\n",
       "      <td>53.0</td>\n",
       "      <td>India</td>\n",
       "      <td>IND</td>\n",
       "      <td>1952 Summer</td>\n",
       "      <td>1952.0</td>\n",
       "      <td>Summer</td>\n",
       "      <td>Helsinki</td>\n",
       "      <td>Hockey</td>\n",
       "      <td>Hockey Men's Hockey</td>\n",
       "      <td>Gold</td>\n",
       "      <td>India</td>\n",
       "      <td>NaN</td>\n",
       "      <td>False</td>\n",
       "      <td>True</td>\n",
       "      <td>False</td>\n",
       "    </tr>\n",
       "    <tr>\n",
       "      <th>108731</th>\n",
       "      <td>2864.0</td>\n",
       "      <td>Richard James Allen</td>\n",
       "      <td>M</td>\n",
       "      <td>30.0</td>\n",
       "      <td>172.0</td>\n",
       "      <td>NaN</td>\n",
       "      <td>India</td>\n",
       "      <td>IND</td>\n",
       "      <td>1932 Summer</td>\n",
       "      <td>1932.0</td>\n",
       "      <td>Summer</td>\n",
       "      <td>Los Angeles</td>\n",
       "      <td>Hockey</td>\n",
       "      <td>Hockey Men's Hockey</td>\n",
       "      <td>Gold</td>\n",
       "      <td>India</td>\n",
       "      <td>NaN</td>\n",
       "      <td>False</td>\n",
       "      <td>True</td>\n",
       "      <td>False</td>\n",
       "    </tr>\n",
       "    <tr>\n",
       "      <th>109478</th>\n",
       "      <td>97066.0</td>\n",
       "      <td>Norman Gilbert Pritchard (-Trevor)</td>\n",
       "      <td>M</td>\n",
       "      <td>24.0</td>\n",
       "      <td>NaN</td>\n",
       "      <td>NaN</td>\n",
       "      <td>India</td>\n",
       "      <td>IND</td>\n",
       "      <td>1900 Summer</td>\n",
       "      <td>1900.0</td>\n",
       "      <td>Summer</td>\n",
       "      <td>Paris</td>\n",
       "      <td>Athletics</td>\n",
       "      <td>Athletics Men's 200 metres</td>\n",
       "      <td>Silver</td>\n",
       "      <td>India</td>\n",
       "      <td>NaN</td>\n",
       "      <td>False</td>\n",
       "      <td>False</td>\n",
       "      <td>True</td>\n",
       "    </tr>\n",
       "    <tr>\n",
       "      <th>108912</th>\n",
       "      <td>21912.0</td>\n",
       "      <td>Leslie Walter Claudius</td>\n",
       "      <td>M</td>\n",
       "      <td>29.0</td>\n",
       "      <td>162.0</td>\n",
       "      <td>53.0</td>\n",
       "      <td>India</td>\n",
       "      <td>IND</td>\n",
       "      <td>1956 Summer</td>\n",
       "      <td>1956.0</td>\n",
       "      <td>Summer</td>\n",
       "      <td>Melbourne</td>\n",
       "      <td>Hockey</td>\n",
       "      <td>Hockey Men's Hockey</td>\n",
       "      <td>Gold</td>\n",
       "      <td>India</td>\n",
       "      <td>NaN</td>\n",
       "      <td>False</td>\n",
       "      <td>True</td>\n",
       "      <td>False</td>\n",
       "    </tr>\n",
       "    <tr>\n",
       "      <th>109882</th>\n",
       "      <td>111161.0</td>\n",
       "      <td>Vijender Kumar Singh</td>\n",
       "      <td>M</td>\n",
       "      <td>22.0</td>\n",
       "      <td>182.0</td>\n",
       "      <td>75.0</td>\n",
       "      <td>India</td>\n",
       "      <td>IND</td>\n",
       "      <td>2008 Summer</td>\n",
       "      <td>2008.0</td>\n",
       "      <td>Summer</td>\n",
       "      <td>Beijing</td>\n",
       "      <td>Boxing</td>\n",
       "      <td>Boxing Men's Middleweight</td>\n",
       "      <td>Bronze</td>\n",
       "      <td>India</td>\n",
       "      <td>NaN</td>\n",
       "      <td>True</td>\n",
       "      <td>False</td>\n",
       "      <td>False</td>\n",
       "    </tr>\n",
       "  </tbody>\n",
       "</table>\n",
       "</div>"
      ],
      "text/plain": [
       "              ID                                Name Sex   Age  Height  \\\n",
       "108911   21912.0              Leslie Walter Claudius   M  25.0   162.0   \n",
       "108731    2864.0                 Richard James Allen   M  30.0   172.0   \n",
       "109478   97066.0  Norman Gilbert Pritchard (-Trevor)   M  24.0     NaN   \n",
       "108912   21912.0              Leslie Walter Claudius   M  29.0   162.0   \n",
       "109882  111161.0                Vijender Kumar Singh   M  22.0   182.0   \n",
       "\n",
       "        Weight   Team  NOC        Games    Year  Season         City  \\\n",
       "108911    53.0  India  IND  1952 Summer  1952.0  Summer     Helsinki   \n",
       "108731     NaN  India  IND  1932 Summer  1932.0  Summer  Los Angeles   \n",
       "109478     NaN  India  IND  1900 Summer  1900.0  Summer        Paris   \n",
       "108912    53.0  India  IND  1956 Summer  1956.0  Summer    Melbourne   \n",
       "109882    75.0  India  IND  2008 Summer  2008.0  Summer      Beijing   \n",
       "\n",
       "            Sport                       Event   Medal region notes  Bronze  \\\n",
       "108911     Hockey         Hockey Men's Hockey    Gold  India   NaN   False   \n",
       "108731     Hockey         Hockey Men's Hockey    Gold  India   NaN   False   \n",
       "109478  Athletics  Athletics Men's 200 metres  Silver  India   NaN   False   \n",
       "108912     Hockey         Hockey Men's Hockey    Gold  India   NaN   False   \n",
       "109882     Boxing   Boxing Men's Middleweight  Bronze  India   NaN    True   \n",
       "\n",
       "         Gold  Silver  \n",
       "108911   True   False  \n",
       "108731   True   False  \n",
       "109478  False    True  \n",
       "108912   True   False  \n",
       "109882  False   False  "
      ]
     },
     "execution_count": 376,
     "metadata": {},
     "output_type": "execute_result"
    }
   ],
   "source": [
    "y.sample(5)    "
   ]
  },
  {
   "cell_type": "code",
   "execution_count": 377,
   "id": "8460c8c3-6d38-4e83-91b2-70af175fe642",
   "metadata": {},
   "outputs": [],
   "source": [
    "top_players=y.groupby('Name').count()['Medal']"
   ]
  },
  {
   "cell_type": "code",
   "execution_count": 378,
   "id": "90ead68f-33f7-406f-9cda-d2271e856eb4",
   "metadata": {},
   "outputs": [],
   "source": [
    "top_players=pd.DataFrame(top_players)"
   ]
  },
  {
   "cell_type": "code",
   "execution_count": 379,
   "id": "c34f67eb-a778-4de2-82f0-66059ac60b47",
   "metadata": {},
   "outputs": [
    {
     "data": {
      "text/html": [
       "<div>\n",
       "<style scoped>\n",
       "    .dataframe tbody tr th:only-of-type {\n",
       "        vertical-align: middle;\n",
       "    }\n",
       "\n",
       "    .dataframe tbody tr th {\n",
       "        vertical-align: top;\n",
       "    }\n",
       "\n",
       "    .dataframe thead th {\n",
       "        text-align: right;\n",
       "    }\n",
       "</style>\n",
       "<table border=\"1\" class=\"dataframe\">\n",
       "  <thead>\n",
       "    <tr style=\"text-align: right;\">\n",
       "      <th></th>\n",
       "      <th>Medal</th>\n",
       "    </tr>\n",
       "    <tr>\n",
       "      <th>Name</th>\n",
       "      <th></th>\n",
       "    </tr>\n",
       "  </thead>\n",
       "  <tbody>\n",
       "    <tr>\n",
       "      <th>Abhinav Bindra</th>\n",
       "      <td>1</td>\n",
       "    </tr>\n",
       "    <tr>\n",
       "      <th>Gagan Narang</th>\n",
       "      <td>1</td>\n",
       "    </tr>\n",
       "    <tr>\n",
       "      <th>Govinda Billimogaputtaswamy</th>\n",
       "      <td>1</td>\n",
       "    </tr>\n",
       "    <tr>\n",
       "      <th>Joseph Anthony \"Joe\" Antic</th>\n",
       "      <td>1</td>\n",
       "    </tr>\n",
       "    <tr>\n",
       "      <th>Karnam Malleswari</th>\n",
       "      <td>1</td>\n",
       "    </tr>\n",
       "    <tr>\n",
       "      <th>Khashaba Dadasaheb  Jahdav</th>\n",
       "      <td>1</td>\n",
       "    </tr>\n",
       "    <tr>\n",
       "      <th>Leander Adrian Paes</th>\n",
       "      <td>1</td>\n",
       "    </tr>\n",
       "    <tr>\n",
       "      <th>Leslie Walter Claudius</th>\n",
       "      <td>3</td>\n",
       "    </tr>\n",
       "    <tr>\n",
       "      <th>Mangte Chungneijang Mary Kom</th>\n",
       "      <td>1</td>\n",
       "    </tr>\n",
       "    <tr>\n",
       "      <th>Norman Gilbert Pritchard (-Trevor)</th>\n",
       "      <td>2</td>\n",
       "    </tr>\n",
       "    <tr>\n",
       "      <th>Pusarla Venkata \"P. V.\" Sindhu</th>\n",
       "      <td>1</td>\n",
       "    </tr>\n",
       "    <tr>\n",
       "      <th>Rajendra Absolem Christy</th>\n",
       "      <td>1</td>\n",
       "    </tr>\n",
       "    <tr>\n",
       "      <th>Rajyavardhan Singh Rathore</th>\n",
       "      <td>1</td>\n",
       "    </tr>\n",
       "    <tr>\n",
       "      <th>Richard James Allen</th>\n",
       "      <td>2</td>\n",
       "    </tr>\n",
       "    <tr>\n",
       "      <th>Saina Nehwal</th>\n",
       "      <td>1</td>\n",
       "    </tr>\n",
       "    <tr>\n",
       "      <th>Sakshi Malik</th>\n",
       "      <td>1</td>\n",
       "    </tr>\n",
       "    <tr>\n",
       "      <th>Shaukat Ali</th>\n",
       "      <td>1</td>\n",
       "    </tr>\n",
       "    <tr>\n",
       "      <th>Sushil Kumar Solanki</th>\n",
       "      <td>2</td>\n",
       "    </tr>\n",
       "    <tr>\n",
       "      <th>Syed Mushtaq Ali</th>\n",
       "      <td>1</td>\n",
       "    </tr>\n",
       "    <tr>\n",
       "      <th>Vasudevan Bhaskaran</th>\n",
       "      <td>1</td>\n",
       "    </tr>\n",
       "    <tr>\n",
       "      <th>Vijay Kumar</th>\n",
       "      <td>1</td>\n",
       "    </tr>\n",
       "    <tr>\n",
       "      <th>Vijender Kumar Singh</th>\n",
       "      <td>1</td>\n",
       "    </tr>\n",
       "    <tr>\n",
       "      <th>Yogeshwar Dutt</th>\n",
       "      <td>1</td>\n",
       "    </tr>\n",
       "  </tbody>\n",
       "</table>\n",
       "</div>"
      ],
      "text/plain": [
       "                                    Medal\n",
       "Name                                     \n",
       "Abhinav Bindra                          1\n",
       "Gagan Narang                            1\n",
       "Govinda Billimogaputtaswamy             1\n",
       "Joseph Anthony \"Joe\" Antic              1\n",
       "Karnam Malleswari                       1\n",
       "Khashaba Dadasaheb  Jahdav              1\n",
       "Leander Adrian Paes                     1\n",
       "Leslie Walter Claudius                  3\n",
       "Mangte Chungneijang Mary Kom            1\n",
       "Norman Gilbert Pritchard (-Trevor)      2\n",
       "Pusarla Venkata \"P. V.\" Sindhu          1\n",
       "Rajendra Absolem Christy                1\n",
       "Rajyavardhan Singh Rathore              1\n",
       "Richard James Allen                     2\n",
       "Saina Nehwal                            1\n",
       "Sakshi Malik                            1\n",
       "Shaukat Ali                             1\n",
       "Sushil Kumar Solanki                    2\n",
       "Syed Mushtaq Ali                        1\n",
       "Vasudevan Bhaskaran                     1\n",
       "Vijay Kumar                             1\n",
       "Vijender Kumar Singh                    1\n",
       "Yogeshwar Dutt                          1"
      ]
     },
     "execution_count": 379,
     "metadata": {},
     "output_type": "execute_result"
    }
   ],
   "source": [
    "top_players"
   ]
  },
  {
   "cell_type": "code",
   "execution_count": 380,
   "id": "5d8e73a8-2c76-47ea-be3f-7346bf729cb7",
   "metadata": {},
   "outputs": [],
   "source": [
    "top_players=top_players.sort_values(by='Medal',ascending=False).head(10).reset_index()"
   ]
  },
  {
   "cell_type": "code",
   "execution_count": 381,
   "id": "c18098a9-2df6-42a8-b60f-46bebc14b923",
   "metadata": {},
   "outputs": [
    {
     "data": {
      "text/html": [
       "<div>\n",
       "<style scoped>\n",
       "    .dataframe tbody tr th:only-of-type {\n",
       "        vertical-align: middle;\n",
       "    }\n",
       "\n",
       "    .dataframe tbody tr th {\n",
       "        vertical-align: top;\n",
       "    }\n",
       "\n",
       "    .dataframe thead th {\n",
       "        text-align: right;\n",
       "    }\n",
       "</style>\n",
       "<table border=\"1\" class=\"dataframe\">\n",
       "  <thead>\n",
       "    <tr style=\"text-align: right;\">\n",
       "      <th></th>\n",
       "      <th>Name</th>\n",
       "      <th>Medal</th>\n",
       "    </tr>\n",
       "  </thead>\n",
       "  <tbody>\n",
       "    <tr>\n",
       "      <th>0</th>\n",
       "      <td>Leslie Walter Claudius</td>\n",
       "      <td>3</td>\n",
       "    </tr>\n",
       "    <tr>\n",
       "      <th>1</th>\n",
       "      <td>Richard James Allen</td>\n",
       "      <td>2</td>\n",
       "    </tr>\n",
       "    <tr>\n",
       "      <th>2</th>\n",
       "      <td>Sushil Kumar Solanki</td>\n",
       "      <td>2</td>\n",
       "    </tr>\n",
       "    <tr>\n",
       "      <th>3</th>\n",
       "      <td>Norman Gilbert Pritchard (-Trevor)</td>\n",
       "      <td>2</td>\n",
       "    </tr>\n",
       "    <tr>\n",
       "      <th>4</th>\n",
       "      <td>Abhinav Bindra</td>\n",
       "      <td>1</td>\n",
       "    </tr>\n",
       "    <tr>\n",
       "      <th>5</th>\n",
       "      <td>Vijender Kumar Singh</td>\n",
       "      <td>1</td>\n",
       "    </tr>\n",
       "    <tr>\n",
       "      <th>6</th>\n",
       "      <td>Vijay Kumar</td>\n",
       "      <td>1</td>\n",
       "    </tr>\n",
       "    <tr>\n",
       "      <th>7</th>\n",
       "      <td>Vasudevan Bhaskaran</td>\n",
       "      <td>1</td>\n",
       "    </tr>\n",
       "    <tr>\n",
       "      <th>8</th>\n",
       "      <td>Syed Mushtaq Ali</td>\n",
       "      <td>1</td>\n",
       "    </tr>\n",
       "    <tr>\n",
       "      <th>9</th>\n",
       "      <td>Shaukat Ali</td>\n",
       "      <td>1</td>\n",
       "    </tr>\n",
       "  </tbody>\n",
       "</table>\n",
       "</div>"
      ],
      "text/plain": [
       "                                 Name  Medal\n",
       "0              Leslie Walter Claudius      3\n",
       "1                 Richard James Allen      2\n",
       "2                Sushil Kumar Solanki      2\n",
       "3  Norman Gilbert Pritchard (-Trevor)      2\n",
       "4                      Abhinav Bindra      1\n",
       "5                Vijender Kumar Singh      1\n",
       "6                         Vijay Kumar      1\n",
       "7                 Vasudevan Bhaskaran      1\n",
       "8                    Syed Mushtaq Ali      1\n",
       "9                         Shaukat Ali      1"
      ]
     },
     "execution_count": 381,
     "metadata": {},
     "output_type": "execute_result"
    }
   ],
   "source": [
    "top_players"
   ]
  },
  {
   "cell_type": "code",
   "execution_count": 382,
   "id": "4e9aa111-e2d4-4b1a-b4f3-071b2f667011",
   "metadata": {},
   "outputs": [],
   "source": [
    " l = []\n",
    "for name in top_players['Name']:\n",
    "        y = df[df['Name'] == name]['Event'].tolist()\n",
    "        l.append(y[0])\n",
    "top_players['Event']=l"
   ]
  },
  {
   "cell_type": "code",
   "execution_count": 383,
   "id": "46f9938b-e370-47f1-a7e2-1d435f920ea1",
   "metadata": {},
   "outputs": [
    {
     "data": {
      "text/html": [
       "<div>\n",
       "<style scoped>\n",
       "    .dataframe tbody tr th:only-of-type {\n",
       "        vertical-align: middle;\n",
       "    }\n",
       "\n",
       "    .dataframe tbody tr th {\n",
       "        vertical-align: top;\n",
       "    }\n",
       "\n",
       "    .dataframe thead th {\n",
       "        text-align: right;\n",
       "    }\n",
       "</style>\n",
       "<table border=\"1\" class=\"dataframe\">\n",
       "  <thead>\n",
       "    <tr style=\"text-align: right;\">\n",
       "      <th></th>\n",
       "      <th>Name</th>\n",
       "      <th>Medal</th>\n",
       "      <th>Event</th>\n",
       "    </tr>\n",
       "  </thead>\n",
       "  <tbody>\n",
       "    <tr>\n",
       "      <th>0</th>\n",
       "      <td>Leslie Walter Claudius</td>\n",
       "      <td>3</td>\n",
       "      <td>Hockey Men's Hockey</td>\n",
       "    </tr>\n",
       "    <tr>\n",
       "      <th>1</th>\n",
       "      <td>Richard James Allen</td>\n",
       "      <td>2</td>\n",
       "      <td>Hockey Men's Hockey</td>\n",
       "    </tr>\n",
       "    <tr>\n",
       "      <th>2</th>\n",
       "      <td>Sushil Kumar Solanki</td>\n",
       "      <td>2</td>\n",
       "      <td>Wrestling Men's Lightweight, Freestyle</td>\n",
       "    </tr>\n",
       "    <tr>\n",
       "      <th>3</th>\n",
       "      <td>Norman Gilbert Pritchard (-Trevor)</td>\n",
       "      <td>2</td>\n",
       "      <td>Athletics Men's 60 metres</td>\n",
       "    </tr>\n",
       "    <tr>\n",
       "      <th>4</th>\n",
       "      <td>Abhinav Bindra</td>\n",
       "      <td>1</td>\n",
       "      <td>Shooting Men's Air Rifle, 10 metres</td>\n",
       "    </tr>\n",
       "    <tr>\n",
       "      <th>5</th>\n",
       "      <td>Vijender Kumar Singh</td>\n",
       "      <td>1</td>\n",
       "      <td>Boxing Men's Light-Welterweight</td>\n",
       "    </tr>\n",
       "    <tr>\n",
       "      <th>6</th>\n",
       "      <td>Vijay Kumar</td>\n",
       "      <td>1</td>\n",
       "      <td>Shooting Men's Air Pistol, 10 metres</td>\n",
       "    </tr>\n",
       "    <tr>\n",
       "      <th>7</th>\n",
       "      <td>Vasudevan Bhaskaran</td>\n",
       "      <td>1</td>\n",
       "      <td>Hockey Men's Hockey</td>\n",
       "    </tr>\n",
       "    <tr>\n",
       "      <th>8</th>\n",
       "      <td>Syed Mushtaq Ali</td>\n",
       "      <td>1</td>\n",
       "      <td>Hockey Men's Hockey</td>\n",
       "    </tr>\n",
       "    <tr>\n",
       "      <th>9</th>\n",
       "      <td>Shaukat Ali</td>\n",
       "      <td>1</td>\n",
       "      <td>Hockey Men's Hockey</td>\n",
       "    </tr>\n",
       "  </tbody>\n",
       "</table>\n",
       "</div>"
      ],
      "text/plain": [
       "                                 Name  Medal  \\\n",
       "0              Leslie Walter Claudius      3   \n",
       "1                 Richard James Allen      2   \n",
       "2                Sushil Kumar Solanki      2   \n",
       "3  Norman Gilbert Pritchard (-Trevor)      2   \n",
       "4                      Abhinav Bindra      1   \n",
       "5                Vijender Kumar Singh      1   \n",
       "6                         Vijay Kumar      1   \n",
       "7                 Vasudevan Bhaskaran      1   \n",
       "8                    Syed Mushtaq Ali      1   \n",
       "9                         Shaukat Ali      1   \n",
       "\n",
       "                                    Event  \n",
       "0                     Hockey Men's Hockey  \n",
       "1                     Hockey Men's Hockey  \n",
       "2  Wrestling Men's Lightweight, Freestyle  \n",
       "3               Athletics Men's 60 metres  \n",
       "4     Shooting Men's Air Rifle, 10 metres  \n",
       "5         Boxing Men's Light-Welterweight  \n",
       "6    Shooting Men's Air Pistol, 10 metres  \n",
       "7                     Hockey Men's Hockey  \n",
       "8                     Hockey Men's Hockey  \n",
       "9                     Hockey Men's Hockey  "
      ]
     },
     "execution_count": 383,
     "metadata": {},
     "output_type": "execute_result"
    }
   ],
   "source": [
    "top_players"
   ]
  },
  {
   "cell_type": "code",
   "execution_count": 384,
   "id": "e2c9c932-8f21-4d27-9169-403d1dba23fe",
   "metadata": {},
   "outputs": [
    {
     "ename": "IndexError",
     "evalue": "list index out of range",
     "output_type": "error",
     "traceback": [
      "\u001b[1;31m---------------------------------------------------------------------------\u001b[0m",
      "\u001b[1;31mIndexError\u001b[0m                                Traceback (most recent call last)",
      "Cell \u001b[1;32mIn[384], line 4\u001b[0m\n\u001b[0;32m      2\u001b[0m \u001b[38;5;28;01mfor\u001b[39;00m name \u001b[38;5;129;01min\u001b[39;00m x[\u001b[38;5;124m'\u001b[39m\u001b[38;5;124mName\u001b[39m\u001b[38;5;124m'\u001b[39m]:\n\u001b[0;32m      3\u001b[0m         y \u001b[38;5;241m=\u001b[39m temp[temp[\u001b[38;5;124m'\u001b[39m\u001b[38;5;124mName\u001b[39m\u001b[38;5;124m'\u001b[39m] \u001b[38;5;241m==\u001b[39m name][\u001b[38;5;124m'\u001b[39m\u001b[38;5;124mEvent\u001b[39m\u001b[38;5;124m'\u001b[39m]\u001b[38;5;241m.\u001b[39mtolist()\n\u001b[1;32m----> 4\u001b[0m         l\u001b[38;5;241m.\u001b[39mappend(y[\u001b[38;5;241m0\u001b[39m])\n",
      "\u001b[1;31mIndexError\u001b[0m: list index out of range"
     ]
    }
   ],
   "source": [
    "l = []\n",
    "for name in x['Name']:\n",
    "        y = temp[temp['Name'] == name]['Event'].tolist()\n",
    "        l.append(y[0])"
   ]
  },
  {
   "cell_type": "code",
   "execution_count": 385,
   "id": "60250ac0-9aa5-4a0a-a69d-f8d0a7bce1c6",
   "metadata": {},
   "outputs": [
    {
     "data": {
      "text/plain": [
       "[]"
      ]
     },
     "execution_count": 385,
     "metadata": {},
     "output_type": "execute_result"
    }
   ],
   "source": [
    "l"
   ]
  },
  {
   "cell_type": "markdown",
   "id": "b4d5e140-850b-41c7-ac2b-82ce76360ddf",
   "metadata": {},
   "source": [
    "## Athlete wise Analysis:"
   ]
  },
  {
   "cell_type": "code",
   "execution_count": 386,
   "id": "d375f6fd-0af5-4275-bcca-29bb4dfc3b41",
   "metadata": {},
   "outputs": [
    {
     "data": {
      "text/html": [
       "<div>\n",
       "<style scoped>\n",
       "    .dataframe tbody tr th:only-of-type {\n",
       "        vertical-align: middle;\n",
       "    }\n",
       "\n",
       "    .dataframe tbody tr th {\n",
       "        vertical-align: top;\n",
       "    }\n",
       "\n",
       "    .dataframe thead th {\n",
       "        text-align: right;\n",
       "    }\n",
       "</style>\n",
       "<table border=\"1\" class=\"dataframe\">\n",
       "  <thead>\n",
       "    <tr style=\"text-align: right;\">\n",
       "      <th></th>\n",
       "      <th>ID</th>\n",
       "      <th>Name</th>\n",
       "      <th>Sex</th>\n",
       "      <th>Age</th>\n",
       "      <th>Height</th>\n",
       "      <th>Weight</th>\n",
       "      <th>Team</th>\n",
       "      <th>NOC</th>\n",
       "      <th>Games</th>\n",
       "      <th>Year</th>\n",
       "      <th>Season</th>\n",
       "      <th>City</th>\n",
       "      <th>Sport</th>\n",
       "      <th>Event</th>\n",
       "      <th>Medal</th>\n",
       "      <th>region</th>\n",
       "      <th>notes</th>\n",
       "      <th>Bronze</th>\n",
       "      <th>Gold</th>\n",
       "      <th>Silver</th>\n",
       "    </tr>\n",
       "  </thead>\n",
       "  <tbody>\n",
       "    <tr>\n",
       "      <th>201133</th>\n",
       "      <td>108530.0</td>\n",
       "      <td>V'iacheslav Mykhailovych Semenov</td>\n",
       "      <td>M</td>\n",
       "      <td>25.0</td>\n",
       "      <td>169.0</td>\n",
       "      <td>67.0</td>\n",
       "      <td>Soviet Union</td>\n",
       "      <td>URS</td>\n",
       "      <td>1972 Summer</td>\n",
       "      <td>1972.0</td>\n",
       "      <td>Summer</td>\n",
       "      <td>Munich</td>\n",
       "      <td>Football</td>\n",
       "      <td>Football Men's Football</td>\n",
       "      <td>Bronze</td>\n",
       "      <td>Russia</td>\n",
       "      <td>NaN</td>\n",
       "      <td>True</td>\n",
       "      <td>False</td>\n",
       "      <td>False</td>\n",
       "    </tr>\n",
       "    <tr>\n",
       "      <th>131363</th>\n",
       "      <td>38321.0</td>\n",
       "      <td>Gang Hye-Mi</td>\n",
       "      <td>F</td>\n",
       "      <td>22.0</td>\n",
       "      <td>173.0</td>\n",
       "      <td>62.0</td>\n",
       "      <td>South Korea</td>\n",
       "      <td>KOR</td>\n",
       "      <td>1996 Summer</td>\n",
       "      <td>1996.0</td>\n",
       "      <td>Summer</td>\n",
       "      <td>Atlanta</td>\n",
       "      <td>Volleyball</td>\n",
       "      <td>Volleyball Women's Volleyball</td>\n",
       "      <td>NaN</td>\n",
       "      <td>South Korea</td>\n",
       "      <td>NaN</td>\n",
       "      <td>False</td>\n",
       "      <td>False</td>\n",
       "      <td>False</td>\n",
       "    </tr>\n",
       "  </tbody>\n",
       "</table>\n",
       "</div>"
      ],
      "text/plain": [
       "              ID                              Name Sex   Age  Height  Weight  \\\n",
       "201133  108530.0  V'iacheslav Mykhailovych Semenov   M  25.0   169.0    67.0   \n",
       "131363   38321.0                       Gang Hye-Mi   F  22.0   173.0    62.0   \n",
       "\n",
       "                Team  NOC        Games    Year  Season     City       Sport  \\\n",
       "201133  Soviet Union  URS  1972 Summer  1972.0  Summer   Munich    Football   \n",
       "131363   South Korea  KOR  1996 Summer  1996.0  Summer  Atlanta  Volleyball   \n",
       "\n",
       "                                Event   Medal       region notes  Bronze  \\\n",
       "201133        Football Men's Football  Bronze       Russia   NaN    True   \n",
       "131363  Volleyball Women's Volleyball     NaN  South Korea   NaN   False   \n",
       "\n",
       "         Gold  Silver  \n",
       "201133  False   False  \n",
       "131363  False   False  "
      ]
     },
     "execution_count": 386,
     "metadata": {},
     "output_type": "execute_result"
    }
   ],
   "source": [
    "df.sample(2)"
   ]
  },
  {
   "cell_type": "code",
   "execution_count": 387,
   "id": "be4b2507-d972-4915-abc9-d7a8c4b5acf6",
   "metadata": {},
   "outputs": [],
   "source": [
    "import plotly.figure_factory as ff"
   ]
  },
  {
   "cell_type": "code",
   "execution_count": 388,
   "id": "4c973957-898f-43be-a1e5-6e53aee7bfe4",
   "metadata": {},
   "outputs": [],
   "source": [
    "athlete=df.drop_duplicates(subset=['Name','region'])"
   ]
  },
  {
   "cell_type": "code",
   "execution_count": 389,
   "id": "ff6adacc-6062-4820-b791-80635a6ed474",
   "metadata": {},
   "outputs": [],
   "source": [
    "x1=athlete['Age'].dropna()\n",
    "x2=athlete[athlete['Medal']=='Gold']['Age'].dropna()\n",
    "x3=athlete[athlete['Medal']=='Silver']['Age'].dropna()\n",
    "x4=athlete[athlete['Medal']=='Bronze']['Age'].dropna()"
   ]
  },
  {
   "cell_type": "code",
   "execution_count": null,
   "id": "5ded9800-5cc2-471f-904f-33af6c4dc227",
   "metadata": {},
   "outputs": [],
   "source": []
  },
  {
   "cell_type": "code",
   "execution_count": 390,
   "id": "a3629f54-3692-4514-81a8-f65a6019a307",
   "metadata": {},
   "outputs": [
    {
     "data": {
      "application/vnd.plotly.v1+json": {
       "config": {
        "plotlyServerURL": "https://plot.ly"
       },
       "data": [
        {
         "legendgroup": "Overall",
         "marker": {
          "color": "rgb(31, 119, 180)"
         },
         "mode": "lines",
         "name": "Overall",
         "showlegend": true,
         "type": "scatter",
         "x": [
          10,
          10.174,
          10.348,
          10.522,
          10.696,
          10.87,
          11.044,
          11.218,
          11.392,
          11.566,
          11.74,
          11.914,
          12.088000000000001,
          12.262,
          12.436,
          12.61,
          12.783999999999999,
          12.958,
          13.132,
          13.306000000000001,
          13.48,
          13.654,
          13.828,
          14.001999999999999,
          14.176,
          14.35,
          14.524000000000001,
          14.698,
          14.872,
          15.046,
          15.219999999999999,
          15.394,
          15.568,
          15.742,
          15.916,
          16.09,
          16.264,
          16.438,
          16.612000000000002,
          16.786,
          16.96,
          17.134,
          17.308,
          17.482,
          17.656,
          17.83,
          18.003999999999998,
          18.178,
          18.352,
          18.526,
          18.7,
          18.874000000000002,
          19.048000000000002,
          19.222,
          19.396,
          19.57,
          19.744,
          19.918,
          20.092,
          20.266,
          20.439999999999998,
          20.614,
          20.788,
          20.962,
          21.136,
          21.310000000000002,
          21.484,
          21.658,
          21.832,
          22.006,
          22.18,
          22.354,
          22.528,
          22.701999999999998,
          22.875999999999998,
          23.05,
          23.224,
          23.398,
          23.572,
          23.746000000000002,
          23.92,
          24.094,
          24.268,
          24.442,
          24.616,
          24.79,
          24.964,
          25.137999999999998,
          25.311999999999998,
          25.486,
          25.66,
          25.834,
          26.008,
          26.182,
          26.356,
          26.53,
          26.704,
          26.878,
          27.052,
          27.226,
          27.4,
          27.574,
          27.748,
          27.922,
          28.096,
          28.27,
          28.444,
          28.618,
          28.792,
          28.966,
          29.14,
          29.314,
          29.488,
          29.662,
          29.836,
          30.01,
          30.184,
          30.358,
          30.532,
          30.706,
          30.88,
          31.054,
          31.228,
          31.402,
          31.576,
          31.75,
          31.924,
          32.098,
          32.272,
          32.446,
          32.620000000000005,
          32.794,
          32.968,
          33.141999999999996,
          33.316,
          33.489999999999995,
          33.664,
          33.838,
          34.012,
          34.186,
          34.36,
          34.534,
          34.708,
          34.882000000000005,
          35.056,
          35.230000000000004,
          35.403999999999996,
          35.578,
          35.751999999999995,
          35.926,
          36.1,
          36.274,
          36.448,
          36.622,
          36.796,
          36.97,
          37.144,
          37.318,
          37.492000000000004,
          37.666,
          37.84,
          38.013999999999996,
          38.188,
          38.361999999999995,
          38.536,
          38.71,
          38.884,
          39.058,
          39.232,
          39.406,
          39.58,
          39.754000000000005,
          39.928,
          40.102000000000004,
          40.275999999999996,
          40.45,
          40.623999999999995,
          40.798,
          40.972,
          41.146,
          41.32,
          41.494,
          41.668,
          41.842,
          42.016,
          42.19,
          42.364,
          42.538,
          42.712,
          42.886,
          43.06,
          43.234,
          43.408,
          43.582,
          43.756,
          43.93,
          44.104,
          44.278,
          44.452,
          44.626,
          44.8,
          44.974,
          45.148,
          45.322,
          45.496,
          45.67,
          45.844,
          46.018,
          46.192,
          46.366,
          46.54,
          46.714,
          46.888,
          47.062,
          47.236,
          47.41,
          47.584,
          47.758,
          47.932,
          48.106,
          48.28,
          48.454,
          48.628,
          48.802,
          48.976,
          49.15,
          49.324,
          49.498,
          49.672,
          49.846,
          50.02,
          50.194,
          50.368,
          50.542,
          50.716,
          50.89,
          51.064,
          51.238,
          51.412,
          51.586,
          51.76,
          51.934,
          52.108,
          52.282,
          52.456,
          52.63,
          52.804,
          52.978,
          53.152,
          53.326,
          53.5,
          53.674,
          53.848,
          54.022,
          54.196,
          54.37,
          54.544,
          54.718,
          54.892,
          55.066,
          55.24,
          55.414,
          55.588,
          55.762,
          55.936,
          56.11,
          56.284,
          56.458,
          56.632,
          56.806,
          56.98,
          57.154,
          57.328,
          57.502,
          57.676,
          57.85,
          58.024,
          58.198,
          58.372,
          58.546,
          58.72,
          58.894,
          59.068,
          59.242,
          59.416,
          59.59,
          59.764,
          59.938,
          60.112,
          60.286,
          60.46,
          60.634,
          60.808,
          60.982,
          61.156,
          61.33,
          61.504,
          61.678,
          61.852,
          62.026,
          62.2,
          62.374,
          62.548,
          62.722,
          62.896,
          63.07,
          63.244,
          63.418,
          63.592,
          63.766,
          63.94,
          64.114,
          64.288,
          64.462,
          64.636,
          64.81,
          64.98400000000001,
          65.158,
          65.332,
          65.506,
          65.68,
          65.854,
          66.02799999999999,
          66.202,
          66.376,
          66.55,
          66.72399999999999,
          66.898,
          67.072,
          67.24600000000001,
          67.42,
          67.594,
          67.768,
          67.94200000000001,
          68.116,
          68.28999999999999,
          68.464,
          68.638,
          68.812,
          68.98599999999999,
          69.16,
          69.334,
          69.50800000000001,
          69.682,
          69.856,
          70.03,
          70.20400000000001,
          70.378,
          70.55199999999999,
          70.726,
          70.9,
          71.074,
          71.24799999999999,
          71.422,
          71.596,
          71.77000000000001,
          71.944,
          72.118,
          72.292,
          72.46600000000001,
          72.64,
          72.814,
          72.988,
          73.162,
          73.336,
          73.50999999999999,
          73.684,
          73.858,
          74.032,
          74.206,
          74.38,
          74.554,
          74.728,
          74.902,
          75.076,
          75.25,
          75.424,
          75.598,
          75.772,
          75.946,
          76.12,
          76.294,
          76.468,
          76.642,
          76.816,
          76.99,
          77.164,
          77.338,
          77.512,
          77.686,
          77.86,
          78.034,
          78.208,
          78.382,
          78.556,
          78.73,
          78.904,
          79.078,
          79.252,
          79.426,
          79.6,
          79.774,
          79.948,
          80.122,
          80.296,
          80.47,
          80.644,
          80.818,
          80.992,
          81.166,
          81.34,
          81.514,
          81.688,
          81.862,
          82.036,
          82.21,
          82.384,
          82.558,
          82.732,
          82.906,
          83.08,
          83.254,
          83.428,
          83.602,
          83.776,
          83.95,
          84.124,
          84.298,
          84.472,
          84.646,
          84.82,
          84.994,
          85.168,
          85.342,
          85.516,
          85.69,
          85.864,
          86.038,
          86.212,
          86.386,
          86.56,
          86.734,
          86.908,
          87.082,
          87.256,
          87.43,
          87.604,
          87.778,
          87.952,
          88.126,
          88.3,
          88.474,
          88.648,
          88.822,
          88.996,
          89.17,
          89.344,
          89.518,
          89.692,
          89.866,
          90.04,
          90.214,
          90.388,
          90.562,
          90.736,
          90.91,
          91.084,
          91.258,
          91.432,
          91.606,
          91.78,
          91.954,
          92.128,
          92.302,
          92.476,
          92.65,
          92.824,
          92.998,
          93.172,
          93.346,
          93.52,
          93.694,
          93.868,
          94.042,
          94.216,
          94.39,
          94.564,
          94.738,
          94.912,
          95.086,
          95.26,
          95.434,
          95.608,
          95.782,
          95.956,
          96.13,
          96.304,
          96.478,
          96.652,
          96.826
         ],
         "xaxis": "x",
         "y": [
          1.0717258850791717e-05,
          1.3494496599427587e-05,
          1.708785895537182e-05,
          2.1956647163431806e-05,
          2.873604683486116e-05,
          3.828496138029063e-05,
          5.166645488260759e-05,
          7.000771658570315e-05,
          9.433860892303567e-05,
          0.0001256549773132631,
          0.0001653600990117783,
          0.00021584361673611464,
          0.0002806007617919448,
          0.00036351279111810643,
          0.0004677977871786928,
          0.0005959070233737105,
          0.000751136871254956,
          0.0009398333861494676,
          0.0011715169224003705,
          0.0014553559157978835,
          0.0017952378501565572,
          0.0021886875464538686,
          0.0026327142500277953,
          0.0031324936083905307,
          0.003703318248780513,
          0.00436015118852384,
          0.00510164558405316,
          0.005904863538255028,
          0.006740609281001478,
          0.0075992224844809615,
          0.008501977451634512,
          0.00948270259266079,
          0.01055365985097205,
          0.011690306306320146,
          0.012855485653846588,
          0.014043271343821561,
          0.01529692885854031,
          0.016676830426339308,
          0.01820698097774528,
          0.01985776125762597,
          0.021589630464793275,
          0.023415187924466323,
          0.02540793362485706,
          0.02763635111790757,
          0.030086755966849933,
          0.032664048461949896,
          0.03528487812054799,
          0.03797196163225463,
          0.0408396086457225,
          0.0439664523954117,
          0.04728099664571256,
          0.05059326603000157,
          0.05376259494702572,
          0.056837060060140755,
          0.06000793868476435,
          0.06340684322233106,
          0.06694988855764605,
          0.0704032094457882,
          0.0736166379209005,
          0.07667969538824215,
          0.07981538261115818,
          0.08310084281658855,
          0.08630698159863755,
          0.0890497578455833,
          0.09112587016924277,
          0.09269650962323638,
          0.09412013518920413,
          0.09559302571972512,
          0.0969625135994661,
          0.09790531820773096,
          0.09828317121433047,
          0.09829940699407765,
          0.09828805908047371,
          0.09835621476625334,
          0.09825895081724005,
          0.09764375008028861,
          0.09641326643030737,
          0.09483186206771536,
          0.09327082815094984,
          0.0918618639698876,
          0.09041412714861999,
          0.08866472950748856,
          0.08658528158398242,
          0.08442255848604828,
          0.08244414444593405,
          0.0806697934600467,
          0.07887122461631449,
          0.07682899114290652,
          0.07456666036109048,
          0.07231968996510207,
          0.07028529540319291,
          0.06842541414589368,
          0.06652484710744994,
          0.06442978632050418,
          0.06220859816721029,
          0.06007277603834029,
          0.05815488580394954,
          0.05638255680429092,
          0.05457223596714653,
          0.052629910280412286,
          0.05064238064313287,
          0.04877121413305758,
          0.047073178198263,
          0.0454399837704981,
          0.04371419457564732,
          0.04185206993938491,
          0.03996404667786403,
          0.03820051367841385,
          0.03661024508686812,
          0.035115378639766985,
          0.03361492985012725,
          0.032096626130105096,
          0.030640333728106536,
          0.02932000537883937,
          0.028116622752359776,
          0.026934321407841702,
          0.02569736105804919,
          0.024423224452067804,
          0.02319934666308804,
          0.022094927019463837,
          0.02110190302440382,
          0.020159994631387932,
          0.019229487739409586,
          0.01833079779396608,
          0.01751323076109026,
          0.01679339252365834,
          0.016132137088907525,
          0.01547267082204136,
          0.014796220599864943,
          0.01413630993865379,
          0.01354001137466731,
          0.013020136363714538,
          0.012547662498735391,
          0.012087417819555378,
          0.011634701343592097,
          0.011213458919071382,
          0.010840954223164244,
          0.010499803266538226,
          0.010148412650753306,
          0.009758558332906215,
          0.009340541754365978,
          0.0089308556159588,
          0.00855685246104803,
          0.008214976236577545,
          0.007882268632914384,
          0.007545445848625895,
          0.007215719760580042,
          0.006915559420219255,
          0.006654113516690979,
          0.006418330269144667,
          0.006187970653459615,
          0.00595686113281294,
          0.005737518481753761,
          0.005545552645090209,
          0.0053818845320838405,
          0.00523183583699718,
          0.005080926726426309,
          0.004929445272730426,
          0.004790263798287247,
          0.004673175868686934,
          0.004573284295927325,
          0.004475767640875463,
          0.004371243236679749,
          0.004264856127831834,
          0.004169634595697455,
          0.004091823441926058,
          0.004024107754753055,
          0.003953509856159431,
          0.003874731063689979,
          0.0037941927050425856,
          0.0037205499163510004,
          0.003652264807012078,
          0.0035760046875724164,
          0.0034780987515118495,
          0.003357600434201101,
          0.003228027455321113,
          0.003106616451550466,
          0.003002176677203993,
          0.002912822821109141,
          0.002833722208665184,
          0.0027648988109404277,
          0.0027104817903782596,
          0.0026712024687668883,
          0.002639619630145331,
          0.0026043172556292414,
          0.0025591557897852845,
          0.0025078794200272436,
          0.0024591997093104836,
          0.002417514429707953,
          0.0023788361697867915,
          0.0023357358544464453,
          0.0022855435551993888,
          0.0022329079913022665,
          0.0021841815191334215,
          0.0021399043867860704,
          0.002093527064909079,
          0.0020377176380092735,
          0.0019716102591698825,
          0.0019015717502307201,
          0.0018349999314469265,
          0.0017737620591202214,
          0.001713809280417835,
          0.001650776246502362,
          0.0015853454059618504,
          0.001522954972282361,
          0.0014686993977063932,
          0.0014231023847006575,
          0.0013829572297936186,
          0.0013457104598307845,
          0.0013122661190388416,
          0.0012852572832654163,
          0.0012650455265879469,
          0.0012481651274896598,
          0.0012301011225719894,
          0.0012094612328232383,
          0.001189079041953672,
          0.0011729235043254189,
          0.0011621526096500965,
          0.0011543982847100837,
          0.0011467013605240455,
          0.0011385127880883658,
          0.001131204228001749,
          0.0011245215772138998,
          0.0011140080642342007,
          0.0010927007184926849,
          0.0010560747175480346,
          0.001005798940371341,
          0.0009488859268605624,
          0.0008931460995477901,
          0.0008430679432932703,
          0.00079930567481867,
          0.0007611884940128067,
          0.0007290620710993283,
          0.0007042146277372375,
          0.0006871513003265516,
          0.0006766532641315957,
          0.0006707913310309271,
          0.0006685750924822681,
          0.0006701238620531083,
          0.0006750051945740304,
          0.0006806521535099309,
          0.0006829299213119607,
          0.000678702408357496,
          0.0006680210497849996,
          0.0006537571431812591,
          0.0006389840256617073,
          0.0006246094237505298,
          0.0006093984672702072,
          0.0005920459069890644,
          0.0005729654972144071,
          0.000553968393344698,
          0.0005363385297176514,
          0.0005194673477655438,
          0.0005015200473326238,
          0.00048143074156571853,
          0.00046019971966184385,
          0.0004402888864807864,
          0.00042387073138077546,
          0.00041168164890520627,
          0.0004033373084531917,
          0.00039831146171122225,
          0.00039619840938744745,
          0.00039592445101818295,
          0.00039499465090021076,
          0.00039003859789018435,
          0.0003786265760109733,
          0.00036094018094476565,
          0.0003398686356482844,
          0.00031947480868476546,
          0.00030312676061347175,
          0.0002926188084584124,
          0.00028844051421300204,
          0.0002903102268129327,
          0.0002972103588557857,
          0.00030713352944266214,
          0.00031734765222179756,
          0.000325478003117936,
          0.0003306574163180303,
          0.00033364906398334086,
          0.00033570841654467103,
          0.00033718828283114857,
          0.00033718697590783513,
          0.00033452141125329287,
          0.00032898854441386257,
          0.0003216164353505213,
          0.00031366772746511024,
          0.0003054378519016783,
          0.00029607574850746833,
          0.0002845931297600965,
          0.00027104567258919764,
          0.0002567596810999573,
          0.000243476629303859,
          0.00023231135236255232,
          0.00022345088327320911,
          0.00021664273686369158,
          0.0002117342011856501,
          0.00020863039944144215,
          0.00020682441581013373,
          0.00020519648478516242,
          0.0002024855851081077,
          0.00019805702135855486,
          0.00019219963663898412,
          0.00018562356306212998,
          0.0001786354393332633,
          0.00017079892734409794,
          0.00016141150827005647,
          0.0001503458712035715,
          0.00013849553146249105,
          0.00012748216566206382,
          0.00011894591405599842,
          0.00011399147404155868,
          0.00011304510626748186,
          0.00011592739079348327,
          0.00012186334009578748,
          0.0001294563428835833,
          0.0001369094750883303,
          0.00014261948893364994,
          0.00014583120387824303,
          0.00014682631015002068,
          0.00014643863069489245,
          0.0001452770496548959,
          0.0001433097741432847,
          0.00014012138183782663,
          0.00013552101675300092,
          0.0001298798632178657,
          0.00012389060611581293,
          0.00011802951044113991,
          0.00011226693985052291,
          0.000106278935820368,
          9.98993175061193e-05,
          9.334678762735262e-05,
          8.703603102103069e-05,
          8.121246237697392e-05,
          7.579381550253894e-05,
          7.055131961133098e-05,
          6.541573340907064e-05,
          6.060354308118649e-05,
          5.647701846593892e-05,
          5.331619392214916e-05,
          5.1223120793648454e-05,
          5.019702662229524e-05,
          5.0240760106883793e-05,
          5.137106286996508e-05,
          5.355927905772754e-05,
          5.672033733852242e-05,
          6.078214058016163e-05,
          6.571573225769453e-05,
          7.139661559608827e-05,
          7.735431507935233e-05,
          8.266262826827516e-05,
          8.618402736876902e-05,
          8.708856843412627e-05,
          8.528350889681445e-05,
          8.140975058451142e-05,
          7.639993847717588e-05,
          7.094800347964878e-05,
          6.528480597119779e-05,
          5.9361704012469554e-05,
          5.32010037114901e-05,
          4.7086196565638796e-05,
          4.147048625934211e-05,
          3.674493358539065e-05,
          3.308434849439424e-05,
          3.045636898869225e-05,
          2.8712446917840103e-05,
          2.764476934321264e-05,
          2.6987797803884636e-05,
          2.643330357826931e-05,
          2.571110874401452e-05,
          2.4696114089247908e-05,
          2.3449273278062995e-05,
          2.2148923792357367e-05,
          2.096690726206888e-05,
          1.9987447163040798e-05,
          1.9214306476371095e-05,
          1.8623701373490544e-05,
          1.818888162091181e-05,
          1.7852869926672654e-05,
          1.7496331042170066e-05,
          1.695954343454116e-05,
          1.6119894868453806e-05,
          1.4962869191971251e-05,
          1.3582754111369742e-05,
          1.2110854048496741e-05,
          1.0631944594923715e-05,
          9.154905766006551e-06,
          7.651458039417677e-06,
          6.120282234758056e-06,
          4.621265051188577e-06,
          3.258169923912494e-06,
          2.1308612971236883e-06,
          1.2950942257038122e-06,
          7.536812322213271e-07,
          4.772198834277412e-07,
          4.360923282796987e-07,
          6.240356423228071e-07,
          1.0611945941267163e-06,
          1.7743787347083186e-06,
          2.762315693930743e-06,
          3.9634225498795535e-06,
          5.248080806985387e-06,
          6.448748087541788e-06,
          7.418330518181982e-06,
          8.083423847544614e-06,
          8.455663238921074e-06,
          8.590984073154696e-06,
          8.526245983054903e-06,
          8.242332737285553e-06,
          7.683054226592062e-06,
          6.81476894250789e-06,
          5.679953519035374e-06,
          4.404592105539346e-06,
          3.1556705515869165e-06,
          2.079211527805323e-06,
          1.2562080209471582e-06,
          6.947073126573168e-07,
          3.512756025144993e-07,
          1.6229936666628138e-07,
          6.849192808306657e-08,
          2.6394603161382698e-08,
          9.28719035257171e-09,
          2.9834008077321098e-09,
          8.749352402017811e-10,
          2.3424203249432566e-10,
          5.724941903995747e-11,
          1.2773032624133835e-11,
          2.602413257665995e-12,
          4.905245158194811e-13,
          1.2758933456269763e-13,
          2.8876182362791024e-13,
          1.5306941073630914e-12,
          7.73034198076715e-12,
          3.5677998083737116e-11,
          1.5032152602182916e-10,
          5.781609119686902e-10,
          2.0299382259606482e-09,
          6.506140737584421e-09,
          1.903577756375412e-08,
          5.084219891924201e-08,
          1.239608557991853e-07,
          2.75899772575823e-07,
          5.605632925497971e-07,
          1.0396915266335306e-06,
          1.760317027629965e-06,
          2.72071976499149e-06,
          3.838692017035413e-06,
          4.944122967163513e-06,
          5.813019691955057e-06,
          6.2390844030314e-06,
          6.112888352811979e-06,
          5.467371732183525e-06,
          4.463929000787852e-06,
          3.3270742280196456e-06,
          2.2636758530965092e-06,
          1.4059585671409852e-06,
          7.971450303990897e-07,
          4.1258050176254435e-07,
          1.9493355034498723e-07,
          8.407580262693878e-08,
          3.310259095342624e-08,
          1.1897603439335984e-08,
          3.9035839828960055e-09,
          1.16916041202314e-09,
          3.1966214711190253e-10,
          7.978382602565483e-11,
          1.817795575835432e-11,
          3.780783087244034e-12,
          7.178356525451894e-13,
          1.244157336204261e-13,
          1.9686292186612312e-14,
          2.8573077863024483e-15,
          4.986239989847322e-16,
          1.030209398696562e-15,
          7.16225655154958e-15,
          4.747148913775801e-14,
          2.8741848344780574e-13,
          1.588578226108148e-12,
          8.015138320957676e-12,
          3.691672656786612e-11,
          1.5521986627356961e-10,
          5.957816381471458e-10,
          2.0876078175749486e-09,
          6.677952788339604e-09,
          1.9502413483309056e-08,
          5.200130683281541e-08,
          1.2661120045305678e-07,
          2.8154513645919553e-07,
          5.719877265831784e-07,
          1.062260219132832e-06,
          1.8050359449027343e-06,
          2.810752146263249e-06,
          4.021032659733755e-06,
          5.3062025759809555e-06,
          6.499235287509368e-06,
          7.455777514128484e-06,
          8.106600945510317e-06,
          8.466635249961402e-06,
          8.592316333178229e-06,
          8.518363560477883e-06,
          8.223103180910899e-06
         ],
         "yaxis": "y"
        },
        {
         "legendgroup": "Gold",
         "marker": {
          "color": "rgb(255, 127, 14)"
         },
         "mode": "lines",
         "name": "Gold",
         "showlegend": true,
         "type": "scatter",
         "x": [
          13,
          13.102,
          13.204,
          13.306,
          13.408,
          13.51,
          13.612,
          13.714,
          13.816,
          13.918,
          14.02,
          14.122,
          14.224,
          14.326,
          14.428,
          14.53,
          14.632,
          14.734,
          14.836,
          14.938,
          15.04,
          15.142,
          15.244,
          15.346,
          15.448,
          15.55,
          15.652000000000001,
          15.754,
          15.856,
          15.958,
          16.06,
          16.162,
          16.264,
          16.366,
          16.468,
          16.57,
          16.672,
          16.774,
          16.876,
          16.978,
          17.08,
          17.182000000000002,
          17.284,
          17.386,
          17.488,
          17.59,
          17.692,
          17.794,
          17.896,
          17.998,
          18.1,
          18.201999999999998,
          18.304000000000002,
          18.406,
          18.508,
          18.61,
          18.712,
          18.814,
          18.916,
          19.018,
          19.12,
          19.222,
          19.323999999999998,
          19.426000000000002,
          19.528,
          19.63,
          19.732,
          19.834,
          19.936,
          20.038,
          20.14,
          20.242,
          20.344,
          20.445999999999998,
          20.548000000000002,
          20.65,
          20.752,
          20.854,
          20.956,
          21.058,
          21.16,
          21.262,
          21.364,
          21.466,
          21.567999999999998,
          21.67,
          21.772,
          21.874000000000002,
          21.976,
          22.078,
          22.18,
          22.282,
          22.384,
          22.486,
          22.588,
          22.689999999999998,
          22.792,
          22.894,
          22.996000000000002,
          23.098,
          23.2,
          23.302,
          23.404,
          23.506,
          23.608,
          23.71,
          23.811999999999998,
          23.914,
          24.016,
          24.118000000000002,
          24.22,
          24.322,
          24.424,
          24.526,
          24.628,
          24.73,
          24.832,
          24.933999999999997,
          25.036,
          25.137999999999998,
          25.240000000000002,
          25.342,
          25.444000000000003,
          25.546,
          25.648,
          25.75,
          25.852,
          25.954,
          26.055999999999997,
          26.158,
          26.259999999999998,
          26.362000000000002,
          26.464,
          26.566000000000003,
          26.668,
          26.77,
          26.872,
          26.974,
          27.076,
          27.178,
          27.28,
          27.381999999999998,
          27.484,
          27.586,
          27.688000000000002,
          27.79,
          27.892,
          27.994,
          28.096,
          28.198,
          28.3,
          28.402,
          28.503999999999998,
          28.606,
          28.708,
          28.810000000000002,
          28.912,
          29.014,
          29.116,
          29.218,
          29.32,
          29.422,
          29.524,
          29.626,
          29.728,
          29.83,
          29.932,
          30.034,
          30.136,
          30.238,
          30.34,
          30.442,
          30.544,
          30.646,
          30.748,
          30.85,
          30.952,
          31.054,
          31.156,
          31.258,
          31.36,
          31.462,
          31.564,
          31.666,
          31.768,
          31.87,
          31.972,
          32.074,
          32.176,
          32.278,
          32.379999999999995,
          32.482,
          32.584,
          32.686,
          32.788,
          32.89,
          32.992000000000004,
          33.094,
          33.196,
          33.298,
          33.4,
          33.501999999999995,
          33.604,
          33.706,
          33.808,
          33.91,
          34.012,
          34.114000000000004,
          34.216,
          34.318,
          34.42,
          34.522,
          34.623999999999995,
          34.726,
          34.828,
          34.93,
          35.032,
          35.134,
          35.236000000000004,
          35.338,
          35.44,
          35.542,
          35.644,
          35.745999999999995,
          35.848,
          35.95,
          36.052,
          36.153999999999996,
          36.256,
          36.358000000000004,
          36.46,
          36.562,
          36.664,
          36.766,
          36.867999999999995,
          36.97,
          37.072,
          37.174,
          37.275999999999996,
          37.378,
          37.480000000000004,
          37.582,
          37.684,
          37.786,
          37.888000000000005,
          37.989999999999995,
          38.092,
          38.194,
          38.296,
          38.397999999999996,
          38.5,
          38.602000000000004,
          38.704,
          38.806,
          38.908,
          39.010000000000005,
          39.111999999999995,
          39.214,
          39.316,
          39.418,
          39.519999999999996,
          39.622,
          39.724000000000004,
          39.826,
          39.928,
          40.03,
          40.132000000000005,
          40.234,
          40.336,
          40.438,
          40.54,
          40.641999999999996,
          40.744,
          40.846000000000004,
          40.948,
          41.05,
          41.152,
          41.254000000000005,
          41.356,
          41.458,
          41.56,
          41.662,
          41.763999999999996,
          41.866,
          41.968,
          42.07,
          42.172,
          42.274,
          42.376000000000005,
          42.478,
          42.58,
          42.682,
          42.784,
          42.885999999999996,
          42.988,
          43.09,
          43.192,
          43.294,
          43.396,
          43.498000000000005,
          43.6,
          43.702,
          43.804,
          43.906,
          44.007999999999996,
          44.11,
          44.212,
          44.314,
          44.416,
          44.518,
          44.620000000000005,
          44.722,
          44.824,
          44.926,
          45.028,
          45.13,
          45.232,
          45.334,
          45.436,
          45.538,
          45.64,
          45.742,
          45.844,
          45.946,
          46.048,
          46.15,
          46.252,
          46.354,
          46.456,
          46.558,
          46.66,
          46.762,
          46.864,
          46.966,
          47.068,
          47.17,
          47.272,
          47.374,
          47.476,
          47.578,
          47.68,
          47.782,
          47.884,
          47.986,
          48.088,
          48.19,
          48.292,
          48.394,
          48.496,
          48.598,
          48.7,
          48.802,
          48.904,
          49.006,
          49.108,
          49.21,
          49.312,
          49.414,
          49.516,
          49.618,
          49.72,
          49.822,
          49.924,
          50.026,
          50.128,
          50.23,
          50.332,
          50.434,
          50.536,
          50.638,
          50.74,
          50.842,
          50.944,
          51.046,
          51.148,
          51.25,
          51.352,
          51.454,
          51.556,
          51.658,
          51.76,
          51.862,
          51.964,
          52.066,
          52.168,
          52.27,
          52.372,
          52.474,
          52.576,
          52.678,
          52.78,
          52.882,
          52.984,
          53.086,
          53.188,
          53.29,
          53.392,
          53.494,
          53.596,
          53.698,
          53.8,
          53.902,
          54.004,
          54.106,
          54.208,
          54.31,
          54.412,
          54.514,
          54.616,
          54.718,
          54.82,
          54.922,
          55.024,
          55.126,
          55.228,
          55.33,
          55.432,
          55.534,
          55.636,
          55.738,
          55.84,
          55.942,
          56.044,
          56.146,
          56.248,
          56.35,
          56.452,
          56.554,
          56.656,
          56.758,
          56.86,
          56.962,
          57.064,
          57.166,
          57.268,
          57.37,
          57.472,
          57.574,
          57.676,
          57.778,
          57.88,
          57.982,
          58.084,
          58.186,
          58.288,
          58.39,
          58.492,
          58.594,
          58.696,
          58.798,
          58.9,
          59.002,
          59.104,
          59.206,
          59.308,
          59.41,
          59.512,
          59.614,
          59.716,
          59.818,
          59.92,
          60.022,
          60.124,
          60.226,
          60.328,
          60.43,
          60.532,
          60.634,
          60.736,
          60.838,
          60.94,
          61.042,
          61.144,
          61.246,
          61.348,
          61.45,
          61.552,
          61.654,
          61.756,
          61.858,
          61.96,
          62.062,
          62.164,
          62.266,
          62.368,
          62.47,
          62.572,
          62.674,
          62.776,
          62.878,
          62.98,
          63.082,
          63.184,
          63.286,
          63.388,
          63.49,
          63.592,
          63.694,
          63.796,
          63.898
         ],
         "xaxis": "x",
         "y": [
          0.0009943843609639478,
          0.001088892152405632,
          0.0011903766284214721,
          0.001299744336053265,
          0.0014179648441783503,
          0.0015460284686114223,
          0.0016848999849011495,
          0.0018354722593929547,
          0.0019985240273622125,
          0.0021746859406687816,
          0.0023644184790392515,
          0.0025680043969033913,
          0.002785557135692009,
          0.003017045184078722,
          0.003262330859923822,
          0.0035212205760947616,
          0.00379352249261088,
          0.0040791066821685784,
          0.004377962638840779,
          0.004690249183747612,
          0.00501633255339121,
          0.005356809627268581,
          0.005712514744684968,
          0.006084510224827078,
          0.006474062369127642,
          0.006882606219757643,
          0.0073117035177321064,
          0.007762999024022324,
          0.008238180554639766,
          0.008738947702841292,
          0.00926699329889591,
          0.00982400026410577,
          0.01041165477382596,
          0.011031674717153748,
          0.011685850518882518,
          0.012376093672269765,
          0.01310448700935199,
          0.013873329968817448,
          0.014685172020563877,
          0.015542828018266553,
          0.016449370551983953,
          0.01740809626542179,
          0.018422465424834864,
          0.019496016565322218,
          0.02063226054924109,
          0.02183456059411557,
          0.02310600652078128,
          0.024449292431366846,
          0.025866607106940998,
          0.027359545553441875,
          0.028929048355207862,
          0.03057537295457223,
          0.03229809789762534,
          0.03409615778473978,
          0.035967903500116145,
          0.037911179633019196,
          0.03992340916404443,
          0.042001674703443195,
          0.04414278594170035,
          0.046343324473442034,
          0.04859965962125254,
          0.05090793204794003,
          0.05326400547275208,
          0.05566339034777973,
          0.05810114657563619,
          0.06057177497661429,
          0.06306910902445144,
          0.0655862192114804,
          0.06811534218764877,
          0.07064784552068883,
          0.0731742365967596,
          0.07568422095823915,
          0.0781668114945371,
          0.08061048569829668,
          0.08300338409246895,
          0.08533353938051536,
          0.0875891233010626,
          0.08975869690555408,
          0.09183145017368442,
          0.09379741847454125,
          0.09564766609500099,
          0.09737443044801056,
          0.0989712241202275,
          0.1004328951218506,
          0.10175564818602274,
          0.10293703154197426,
          0.10397589427119801,
          0.10487231933761675,
          0.10562753694570726,
          0.1062438223224151,
          0.1067243815629133,
          0.1070732289349086,
          0.10729505898275958,
          0.10739511680105669,
          0.10737906981397008,
          0.10725288418345343,
          0.10702270852863183,
          0.10669476700614808,
          0.10627526307849806,
          0.10577029461172376,
          0.10518578040398582,
          0.10452739790762612,
          0.10380053175987909,
          0.10301023271823498,
          0.10216118662337603,
          0.10125769301324869,
          0.1003036529559383,
          0.09930256557040976,
          0.09825753261286789,
          0.09717127047868891,
          0.09604612904407743,
          0.09488411694398591,
          0.09368693310952884,
          0.09245600459539204,
          0.0911925308387076,
          0.08989753444978965,
          0.08857191842390585,
          0.08721652930190775,
          0.08583222534129382,
          0.08441994823840547,
          0.08298079640289939,
          0.08151609724394117,
          0.08002747538592833,
          0.07851691320056599,
          0.07698679956219125,
          0.07543996239105241,
          0.07387968047751342,
          0.07230967043415683,
          0.07073404554037697,
          0.06915724480105628,
          0.06758393270669608,
          0.06601887280364427,
          0.06446678098824168,
          0.06293216707529829,
          0.06141917528163206,
          0.05993143547201045,
          0.058471937097889455,
          0.05704293661817344,
          0.05564590687847188,
          0.05428153363897505,
          0.05294976049468587,
          0.051649879214041246,
          0.05038065845188675,
          0.049140500277389365,
          0.047927611353933294,
          0.04674017419223731,
          0.045576503838605315,
          0.044435176700155586,
          0.04331512085307975,
          0.042215660897779034,
          0.041136514864376535,
          0.040077745392851825,
          0.03903967193034749,
          0.03802275453198853,
          0.037027462617464674,
          0.03605414343613331,
          0.03510290489101385,
          0.034173525790921276,
          0.033265403719061705,
          0.03237754683319276,
          0.03150861144559752,
          0.030656982616585282,
          0.02982089068258321,
          0.028998553041029565,
          0.028188327968480805,
          0.027388865993269,
          0.026599244493777516,
          0.025819072726159416,
          0.025048557241705037,
          0.02428852134886266,
          0.023540376524350676,
          0.022806048039035555,
          0.02208786108727125,
          0.02138839698855049,
          0.020710331258868935,
          0.020056266349140046,
          0.019428571592305717,
          0.018829241508105932,
          0.018259781324979008,
          0.017721125713616767,
          0.017213593640614703,
          0.01673687928214099,
          0.016290076368436237,
          0.01587173135653229,
          0.015479919548179373,
          0.015112337682495437,
          0.014766406555519519,
          0.014439377710047609,
          0.01412843902736401,
          0.013830814965881729,
          0.013543858084196425,
          0.013265129256663446,
          0.012992464592486225,
          0.012724027514006914,
          0.012458344790888197,
          0.012194325646227064,
          0.011931263435130747,
          0.011668819915219768,
          0.011406992815027063,
          0.011146068246873366,
          0.010886560444579597,
          0.010629142234132838,
          0.010374570446538615,
          0.010123611035836755,
          0.009876968871874019,
          0.009635226975661769,
          0.00939879934257575,
          0.00916790049443931,
          0.00894253360107083,
          0.008722497535702886,
          0.008507411717197422,
          0.008296756189071936,
          0.008089923222364995,
          0.007886275911425473,
          0.007685208827234312,
          0.007486205827041139,
          0.007288890571855271,
          0.007093066112125678,
          0.006898740969326637,
          0.006706140346686156,
          0.006515702317560052,
          0.006328059944931456,
          0.006144011183800845,
          0.005964479048676678,
          0.005790464871128802,
          0.005622997548163932,
          0.0054630815448943664,
          0.005311646138992928,
          0.005169498059080343,
          0.0050372793433183264,
          0.004915431973936747,
          0.004804170643710615,
          0.0047034648657295775,
          0.004613031506318639,
          0.004532338645245268,
          0.004460621387973607,
          0.00439690982463602,
          0.004340068727538363,
          0.00428884781509273,
          0.0042419405339254885,
          0.004198048405716702,
          0.004155947159757214,
          0.004114550246506391,
          0.0040729650162316935,
          0.00403053694108551,
          0.003986877809786611,
          0.003941874830761079,
          0.0038956789844819015,
          0.0038486726565828537,
          0.0038014184035615,
          0.0037545924686329273,
          0.0037089081867456228,
          0.0036650355222759574,
          0.0036235235365210472,
          0.0035847325066738684,
          0.003548781701707954,
          0.003515517520721452,
          0.0034845049365334166,
          0.00345504313313654,
          0.003426204083554426,
          0.0033968907981592506,
          0.003365910282479509,
          0.0033320550423825953,
          0.003294186374151228,
          0.003251312722765761,
          0.0032026570591028826,
          0.003147708425126863,
          0.0030862543805930194,
          0.0030183928745597904,
          0.002944523866166037,
          0.0028653226482746597,
          0.0027816981334983673,
          0.0026947402421597295,
          0.002605660940827618,
          0.0025157334313014265,
          0.0024262335471120743,
          0.0023383866785893427,
          0.0022533226386548303,
          0.002172039921463245,
          0.0020953799019664807,
          0.002024010757361123,
          0.001958420309938322,
          0.0018989166112898584,
          0.0018456348983115398,
          0.001798549519936163,
          0.001757489517007067,
          0.0017221566911144346,
          0.0016921451816700182,
          0.001666961753877418,
          0.0016460461649929273,
          0.0016287911145566572,
          0.0016145613964181663,
          0.001602711961255023,
          0.0015926046737577452,
          0.00158362361287034,
          0.0015751888174337341,
          0.0015667684212330372,
          0.0015578891470679548,
          0.001548145135770973,
          0.001537205072484256,
          0.0015248175426482208,
          0.0015108145124725734,
          0.0014951127954042451,
          0.0014777133511866291,
          0.0014586982801318932,
          0.0014382254304579848,
          0.001416520632466458,
          0.0013938677035525723,
          0.0013705965187103162,
          0.0013470695930869199,
          0.0013236677548161494,
          0.0013007755778819297,
          0.0012787672811686802,
          0.0012579937736873323,
          0.001238771438453912,
          0.0012213731081960424,
          0.001206021511140584,
          0.0011928852747109253,
          0.0011820773900246247,
          0.0011736558795591415,
          0.0011676262887762622,
          0.0011639455485570693,
          0.0011625267314062664,
          0.0011632442471369848,
          0.0011659390851334606,
          0.0011704237993123412,
          0.0011764870363260708,
          0.0011838975154702378,
          0.0011924074697904025,
          0.0012017556438578105,
          0.0012116700088076985,
          0.0012218703958838445,
          0.001232071264029848,
          0.0012419848044784658,
          0.0012513245464470673,
          0.0012598095648787726,
          0.0012671693073140027,
          0.0012731489583073315,
          0.0012775151547823366,
          0.0012800617653120475,
          0.0012806153632594105,
          0.0012790399710718567,
          0.0012752406422053852,
          0.001269165485746898,
          0.0012608058286959591,
          0.0012501943471010487,
          0.00123740116796677,
          0.0012225281314541406,
          0.0012057015862380843,
          0.0011870642481479983,
          0.001166766763941654,
          0.0011449596737955715,
          0.0011217864502160362,
          0.0010973782075896642,
          0.0010718505328735724,
          0.0010453026975907583,
          0.0010178192925093424,
          0.0009894740998870877,
          0.0009603358052881207,
          0.0009304749717901596,
          0.0008999715710230143,
          0.0008689223006381505,
          0.0008374469236111526,
          0.0008056929418139078,
          0.0007738380582100492,
          0.0007420900757478306,
          0.0007106841077464406,
          0.0006798772115792809,
          0.0006499407806330209,
          0.0006211512162517494,
          0.0005937795334403252,
          0.0005680806200580084,
          0.0005442828658731616,
          0.0005225788104429587,
          0.0005031173400414628,
          0.0004859978117963368,
          0.0004712663182318148,
          0.00045891414727179745,
          0.0004488783576270525,
          0.00044104428799417487,
          0.0004352497546938088,
          0.0004312906639706528,
          0.0004289277647597534,
          0.0004278942848002292,
          0.00042790421634716924,
          0.00042866103774901317,
          0.000429866667472731,
          0.0004312304456393438,
          0.00043247792682515917,
          0.00043335925209212617,
          0.0004336568549133461,
          0.00043319225165071063,
          0.00043183167740337345,
          0.0004294903541508311,
          0.0004261352184253759,
          0.00042178598550971587,
          0.0004165144798654745,
          0.00041044221066917873,
          0.00040373621231427204,
          0.0003966032011579994,
          0.0003892821242252253,
          0.00038203519922682826,
          0.0003751375766081049,
          0.00036886580210487044,
          0.00036348532885237603,
          0.0003592374232312362,
          0.0003563259238037655,
          0.00035490443646679724,
          0.00035506466377468516,
          0.00035682665070379963,
          0.000360131760554468,
          0.0003648391538396626,
          0.00037072641734914406,
          0.0003774947775684373,
          0.00038477904165476316,
          0.0003921620617244045,
          0.00039919314620575735,
          0.0004054094843109008,
          0.0004103593471982163,
          0.000413625619564011,
          0.0004148481267037004,
          0.0004137432696496679,
          0.0004101196639189686,
          0.0004038887783588547,
          0.00039506995783248136,
          0.00038378964511190454,
          0.0003702750469533441,
          0.00035484287245531927,
          0.0003378840718929283,
          0.00031984569728447736,
          0.00030121108309881116,
          0.00028247951311240085,
          0.00026414641684160387,
          0.000246684954473757,
          0.0002305296347838768,
          0.0002160623965389816,
          0.00020360139463624765,
          0.00019339258286249798,
          0.0001856040806839701,
          0.00018032324754352612,
          0.000177556353583022,
          0.00017723071597947293,
          0.00017919915099028844,
          0.0001832465627129908,
          0.0001890984455285544,
          0.0001964310196360136,
          0.0002048826550164473,
          0.00021406617922467813,
          0.00022358162017161064,
          0.000233028916259115,
          0.0002420201384723487,
          0.00025019081251374564,
          0.0002572099984835686,
          0.00026278887133071983,
          0.00026668763539111504,
          0.00026872068912278695,
          0.00026876002262783114,
          0.0002667368761654685,
          0.00026264171327031584,
          0.00025652257276584237,
          0.00024848186869982734,
          0.00023867171592686877,
          0.00022728788026747415,
          0.00021456249091059354,
          0.00020075570910807065,
          0.00018614661609797227,
          0.00017102365499520428,
          0.00015567502379766303,
          0.00014037945698989421,
          0.00012539784085978983,
          0.00011096607608460978,
          9.728952934497245e-05,
          8.453930843714473e-05,
          7.285046247165268e-05,
          6.232206385399543e-05,
          5.3018987135262454e-05,
          4.497507638061067e-05,
          3.819729999151636e-05,
          3.267043873758101e-05,
          2.836184335487916e-05,
          2.5225832001925054e-05,
          2.3207370407668533e-05,
          2.2244780529340992e-05,
          2.2271346396925864e-05,
          2.3215816701573066e-05,
          2.5001930485933736e-05,
          2.754720358398822e-05,
          3.076129925873891e-05,
          3.4544358940380084e-05,
          3.87856829077432e-05,
          4.3363124177481785e-05,
          4.814349326630614e-05,
          5.298417200887052e-05,
          5.7736009874260823e-05,
          6.224743783041269e-05,
          6.636959642591152e-05,
          6.996215084328542e-05,
          7.289936991562089e-05,
          7.507598978327011e-05,
          7.641237340832847e-05
         ],
         "yaxis": "y"
        },
        {
         "legendgroup": "Silver",
         "marker": {
          "color": "rgb(44, 160, 44)"
         },
         "mode": "lines",
         "name": "Silver",
         "showlegend": true,
         "type": "scatter",
         "x": [
          11,
          11.124,
          11.248,
          11.372,
          11.496,
          11.62,
          11.744,
          11.868,
          11.992,
          12.116,
          12.24,
          12.364,
          12.488,
          12.612,
          12.736,
          12.86,
          12.984,
          13.108,
          13.232,
          13.356,
          13.48,
          13.604,
          13.728,
          13.852,
          13.975999999999999,
          14.1,
          14.224,
          14.347999999999999,
          14.472,
          14.596,
          14.72,
          14.844,
          14.968,
          15.091999999999999,
          15.216000000000001,
          15.34,
          15.464,
          15.588000000000001,
          15.712,
          15.836,
          15.96,
          16.084,
          16.208,
          16.332,
          16.456,
          16.58,
          16.704,
          16.828,
          16.951999999999998,
          17.076,
          17.2,
          17.323999999999998,
          17.448,
          17.572,
          17.695999999999998,
          17.82,
          17.944,
          18.067999999999998,
          18.192,
          18.316,
          18.44,
          18.564,
          18.688,
          18.812,
          18.936,
          19.060000000000002,
          19.183999999999997,
          19.308,
          19.432000000000002,
          19.555999999999997,
          19.68,
          19.804000000000002,
          19.928,
          20.052,
          20.176000000000002,
          20.3,
          20.424,
          20.548000000000002,
          20.672,
          20.796,
          20.92,
          21.044,
          21.168,
          21.292,
          21.416,
          21.54,
          21.664,
          21.788,
          21.912,
          22.036,
          22.16,
          22.284,
          22.408,
          22.532,
          22.656,
          22.78,
          22.904,
          23.028,
          23.152,
          23.276,
          23.4,
          23.524,
          23.648,
          23.772,
          23.896,
          24.02,
          24.144,
          24.268,
          24.392,
          24.516,
          24.64,
          24.764,
          24.887999999999998,
          25.012,
          25.136,
          25.259999999999998,
          25.384,
          25.508,
          25.631999999999998,
          25.756,
          25.880000000000003,
          26.003999999999998,
          26.128,
          26.252000000000002,
          26.375999999999998,
          26.5,
          26.624000000000002,
          26.747999999999998,
          26.872,
          26.996000000000002,
          27.12,
          27.244,
          27.368,
          27.492,
          27.616,
          27.74,
          27.864,
          27.988,
          28.112,
          28.236,
          28.36,
          28.484,
          28.608,
          28.732,
          28.856,
          28.98,
          29.104,
          29.228,
          29.352,
          29.476,
          29.6,
          29.724,
          29.848,
          29.972,
          30.096,
          30.22,
          30.344,
          30.468,
          30.592,
          30.716,
          30.84,
          30.964,
          31.088,
          31.212,
          31.336,
          31.46,
          31.584,
          31.708,
          31.832,
          31.956,
          32.08,
          32.204,
          32.328,
          32.452,
          32.576,
          32.7,
          32.824,
          32.948,
          33.072,
          33.196,
          33.32,
          33.444,
          33.568,
          33.692,
          33.816,
          33.94,
          34.064,
          34.188,
          34.312,
          34.436,
          34.56,
          34.684,
          34.808,
          34.932,
          35.056,
          35.18,
          35.304,
          35.428,
          35.552,
          35.676,
          35.8,
          35.924,
          36.048,
          36.172,
          36.296,
          36.42,
          36.544,
          36.668,
          36.792,
          36.916,
          37.04,
          37.164,
          37.288,
          37.412,
          37.536,
          37.66,
          37.784,
          37.908,
          38.032,
          38.156,
          38.28,
          38.403999999999996,
          38.528,
          38.652,
          38.775999999999996,
          38.9,
          39.024,
          39.147999999999996,
          39.272,
          39.396,
          39.519999999999996,
          39.644,
          39.768,
          39.891999999999996,
          40.016,
          40.14,
          40.263999999999996,
          40.388000000000005,
          40.512,
          40.635999999999996,
          40.760000000000005,
          40.884,
          41.007999999999996,
          41.132000000000005,
          41.256,
          41.379999999999995,
          41.504000000000005,
          41.628,
          41.751999999999995,
          41.876000000000005,
          42,
          42.123999999999995,
          42.248000000000005,
          42.372,
          42.495999999999995,
          42.620000000000005,
          42.744,
          42.867999999999995,
          42.992000000000004,
          43.116,
          43.24,
          43.364,
          43.488,
          43.612,
          43.736,
          43.86,
          43.984,
          44.108,
          44.232,
          44.356,
          44.48,
          44.604,
          44.728,
          44.852,
          44.976,
          45.1,
          45.224,
          45.348,
          45.472,
          45.596,
          45.72,
          45.844,
          45.968,
          46.092,
          46.216,
          46.34,
          46.464,
          46.588,
          46.712,
          46.836,
          46.96,
          47.084,
          47.208,
          47.332,
          47.456,
          47.58,
          47.704,
          47.828,
          47.952,
          48.076,
          48.2,
          48.324,
          48.448,
          48.572,
          48.696,
          48.82,
          48.944,
          49.068,
          49.192,
          49.316,
          49.44,
          49.564,
          49.688,
          49.812,
          49.936,
          50.06,
          50.184,
          50.308,
          50.432,
          50.556,
          50.68,
          50.804,
          50.928,
          51.052,
          51.176,
          51.3,
          51.424,
          51.548,
          51.672,
          51.796,
          51.92,
          52.044,
          52.168,
          52.292,
          52.416,
          52.54,
          52.664,
          52.788,
          52.912,
          53.036,
          53.16,
          53.284,
          53.408,
          53.532,
          53.656,
          53.78,
          53.904,
          54.028,
          54.152,
          54.276,
          54.4,
          54.524,
          54.648,
          54.772,
          54.896,
          55.02,
          55.144,
          55.268,
          55.392,
          55.516,
          55.64,
          55.764,
          55.888,
          56.012,
          56.136,
          56.26,
          56.384,
          56.508,
          56.632,
          56.756,
          56.88,
          57.004,
          57.128,
          57.252,
          57.376,
          57.5,
          57.624,
          57.748,
          57.872,
          57.996,
          58.12,
          58.244,
          58.368,
          58.492,
          58.616,
          58.74,
          58.864,
          58.988,
          59.112,
          59.236,
          59.36,
          59.484,
          59.608,
          59.732,
          59.856,
          59.98,
          60.104,
          60.228,
          60.352,
          60.476,
          60.6,
          60.724,
          60.848,
          60.972,
          61.096,
          61.22,
          61.344,
          61.468,
          61.592,
          61.716,
          61.84,
          61.964,
          62.088,
          62.212,
          62.336,
          62.46,
          62.584,
          62.708,
          62.832,
          62.956,
          63.08,
          63.204,
          63.328,
          63.452,
          63.576,
          63.7,
          63.824,
          63.948,
          64.072,
          64.196,
          64.32,
          64.444,
          64.568,
          64.69200000000001,
          64.816,
          64.94,
          65.064,
          65.188,
          65.312,
          65.436,
          65.56,
          65.684,
          65.80799999999999,
          65.932,
          66.056,
          66.18,
          66.304,
          66.428,
          66.55199999999999,
          66.676,
          66.8,
          66.924,
          67.048,
          67.172,
          67.29599999999999,
          67.42,
          67.544,
          67.668,
          67.792,
          67.916,
          68.03999999999999,
          68.164,
          68.288,
          68.412,
          68.536,
          68.66,
          68.78399999999999,
          68.908,
          69.032,
          69.156,
          69.28,
          69.404,
          69.52799999999999,
          69.652,
          69.77600000000001,
          69.9,
          70.024,
          70.148,
          70.27199999999999,
          70.396,
          70.52000000000001,
          70.644,
          70.768,
          70.892,
          71.01599999999999,
          71.14,
          71.26400000000001,
          71.388,
          71.512,
          71.636,
          71.75999999999999,
          71.884,
          72.00800000000001,
          72.132,
          72.256,
          72.38,
          72.50399999999999,
          72.628,
          72.75200000000001,
          72.876
         ],
         "xaxis": "x",
         "y": [
          0.0002568796612682423,
          0.0002896965766720825,
          0.00032494855817333457,
          0.0003628400838578364,
          0.0004036778741579252,
          0.00044789014551264067,
          0.0004960398936492406,
          0.0005488293069477752,
          0.0006070928346762499,
          0.0006717773679983311,
          0.0007439094140085593,
          0.000824550936573622,
          0.0009147474844093974,
          0.0010154740271588335,
          0.0011275852325381473,
          0.0012517774139625788,
          0.0013885688094697787,
          0.0015383031120705817,
          0.0017011783410058438,
          0.0018772995138758434,
          0.002066749634548386,
          0.0022696698710414063,
          0.002486337128493102,
          0.0027172261293302437,
          0.002963044024096129,
          0.0032247286273326763,
          0.0035034064229666822,
          0.003800312981037785,
          0.00411668552679608,
          0.004453644034970006,
          0.004812082229069997,
          0.005192592170765572,
          0.005595444913088194,
          0.006020644584144025,
          0.0064680644553891335,
          0.006937661855324982,
          0.0074297556454557346,
          0.007945337273926855,
          0.008486376272268358,
          0.009056075457173825,
          0.009659031563057249,
          0.01030126428113466,
          0.010990090407068533,
          0.01173383859251529,
          0.012541421665262975,
          0.013421804558318368,
          0.014383423274450963,
          0.015433621021156852,
          0.01657816952939085,
          0.017820935728939846,
          0.01916373700981673,
          0.020606404368332318,
          0.022147045162195313,
          0.023782470043588994,
          0.025508726019104987,
          0.027321662969778046,
          0.029217456576265278,
          0.031193017033717272,
          0.033246229109274356,
          0.0353759924245919,
          0.037582057779583816,
          0.039864681943507695,
          0.04222414595654548,
          0.04466019772918045,
          0.047171486865900385,
          0.04975505775161725,
          0.052405956881903644,
          0.05511699413759836,
          0.057878677903536305,
          0.06067932363652766,
          0.06350531755290878,
          0.06634150373249226,
          0.06917165529554699,
          0.07197898838339359,
          0.07474668036083704,
          0.0774583591650897,
          0.08009853712502697,
          0.08265296839073076,
          0.08510891372251696,
          0.08745530011759395,
          0.08968276662764794,
          0.09178359297225305,
          0.09375151504963126,
          0.09558144126445775,
          0.0972690948685801,
          0.09881061859991397,
          0.1002021867735451,
          0.1014396746777186,
          0.10251843419620774,
          0.10343321730739034,
          0.10417827563864264,
          0.10474764557117917,
          0.10513560627680102,
          0.10533727500663506,
          0.10534928294679387,
          0.10517045921032607,
          0.10480244295010743,
          0.10425014614083206,
          0.10352200277973805,
          0.10262996274745026,
          0.10158921723014082,
          0.10041767306125958,
          0.09913522086577768,
          0.09776286240519604,
          0.0963217734541148,
          0.09483237926683317,
          0.09331351147900875,
          0.09178170077366371,
          0.09025064206149935,
          0.0887308513293167,
          0.08722951795019984,
          0.08575054429132706,
          0.08429475599521871,
          0.08286026064090336,
          0.08144292849128491,
          0.08003696559269258,
          0.07863554587467803,
          0.07723146498617178,
          0.0758177749857774,
          0.07438835686693833,
          0.072938388740502,
          0.07146467269228973,
          0.06996579365832307,
          0.06844209890699782,
          0.06689550551983983,
          0.06532916321905702,
          0.06374701797065498,
          0.06215333493575233,
          0.06055224509164391,
          0.058947376854581054,
          0.05734162234613827,
          0.05573706897244869,
          0.05413510327824367,
          0.05253666887012701,
          0.050942637104655825,
          0.049354231515348956,
          0.047773437265098785,
          0.0462033268918498,
          0.04464824360301363,
          0.04311380227068942,
          0.041606693607007875,
          0.04013430518094792,
          0.038704199807651676,
          0.03732351330406637,
          0.03599834633596185,
          0.03473322711564278,
          0.03353071278811003,
          0.032391178946810546,
          0.03131282178425034,
          0.03029186976491419,
          0.029322975518608813,
          0.028399737582730206,
          0.027515288383030957,
          0.0266628808000742,
          0.025836410717847653,
          0.025030825635713867,
          0.024242387267416083,
          0.023468776031671836,
          0.02270904443554194,
          0.021963442040564204,
          0.021233145328267554,
          0.020519930735844457,
          0.019825828805068644,
          0.01915279293584435,
          0.018502409231528478,
          0.017875665970028442,
          0.017272793647845924,
          0.016693180153321784,
          0.016135360724564018,
          0.015597078778119495,
          0.0150754110167688,
          0.014566947925796058,
          0.014068018449805942,
          0.013574945158535955,
          0.013084313711785958,
          0.01259323833589532,
          0.01209960389333632,
          0.0116022655171103,
          0.01110118906105435,
          0.010597519828658829,
          0.010093572839874674,
          0.009592744577500404,
          0.009099352803444137,
          0.008618416715803259,
          0.008155393695798843,
          0.007715890802487874,
          0.007305369083758376,
          0.006928857142040616,
          0.006590687911426678,
          0.006294269976289658,
          0.006041902508404554,
          0.005834641212837256,
          0.005672221391722934,
          0.005553042931932262,
          0.0054742201761328255,
          0.005431696836614055,
          0.005420422232836534,
          0.005434580429587675,
          0.005467858933145321,
          0.005513739309345251,
          0.0055657892925119745,
          0.00561793534248725,
          0.00566469649542586,
          0.0057013645989889995,
          0.005724122036968156,
          0.005730094922287649,
          0.005717346428211347,
          0.005684820469964234,
          0.005632249631823036,
          0.005560042707801075,
          0.005469166517727897,
          0.005361034128207082,
          0.005237407818887035,
          0.005100320752294496,
          0.004952016982236463,
          0.004794905738273424,
          0.004631523292714731,
          0.004464494447727236,
          0.004296485913551017,
          0.004130145557118774,
          0.003968024476769168,
          0.0038124827144008907,
          0.0036655836011502524,
          0.0035289855891687707,
          0.0034038432745830552,
          0.003290730583002716,
          0.0031895983941410315,
          0.0030997761485634582,
          0.0030200224693465805,
          0.0029486241273083266,
          0.0028835366022594293,
          0.002822553973238977,
          0.0027634917851403124,
          0.0027043645577950093,
          0.002643540068041036,
          0.0025798553944877513,
          0.002512684532109509,
          0.0024419534151972756,
          0.0023681045136269606,
          0.0022920188572678637,
          0.0022149076112017926,
          0.002138187655632628,
          0.0020633558431946203,
          0.0019918748779266947,
          0.0019250805315211568,
          0.0018641158102503529,
          0.0018098933953240941,
          0.0017630838290249168,
          0.0017241239925846088,
          0.0016932387073031446,
          0.0016704678679876092,
          0.0016556922805949863,
          0.0016486530729930358,
          0.001648961836670143,
          0.0016561011576288677,
          0.0016694175356003118,
          0.0016881105495621378,
          0.0017112232606249548,
          0.0017376391082529758,
          0.0017660899258677772,
          0.001795178271333949,
          0.0018234152445119106,
          0.0018492726474121082,
          0.0018712460853372147,
          0.0018879237643804122,
          0.0018980546099894094,
          0.0019006091008659082,
          0.0018948269221841737,
          0.0018802470731618176,
          0.0018567181595732813,
          0.0018243889164818016,
          0.0017836811740153662,
          0.0017352491824516474,
          0.0016799302407643575,
          0.0016186918490297712,
          0.0015525801874279723,
          0.0014826737753106626,
          0.0014100449034190636,
          0.0013357300894870144,
          0.0012607095778058356,
          0.0011858949246286083,
          0.0011121230563427755,
          0.0010401548708428758,
          0.0009706764454132459,
          0.0009043011592257115,
          0.0008415714618993202,
          0.0007829595407993743,
          0.000728866677132169,
          0.0006796215575974896,
          0.0006354781596644567,
          0.0005966140098757518,
          0.0005631296086643201,
          0.0005350496355946185,
          0.0005123262384807544,
          0.000494844332864847,
          0.0004824284689107896,
          0.0004748505309836338,
          0.0004718373750310155,
          0.0004730775100400346,
          0.00047822609465026473,
          0.00048690782528622783,
          0.0004987176944869288,
          0.0005132200405534174,
          0.0005299467287128885,
          0.0005483956358759019,
          0.0005680307974473587,
          0.0005882855690144312,
          0.0006085699304300825,
          0.0006282826137304452,
          0.0006468281015449068,
          0.0006636377875379936,
          0.0006781938164300883,
          0.0006900534516400605,
          0.0006988713798178575,
          0.0007044172585795314,
          0.0007065861065058442,
          0.0007053998195233411,
          0.0007009991017041093,
          0.000693626285232865,
          0.0006836007062372397,
          0.0006712893120671955,
          0.0006570758363308414,
          0.0006413320784653206,
          0.0006243945255421946,
          0.0006065487950570218,
          0.0005880232696288943,
          0.0005689920010722849,
          0.0005495856713922964,
          0.000529908298318357,
          0.0005100566198416389,
          0.0004901387914480924,
          0.0004702892216222059,
          0.0004506770254722796,
          0.0004315065963333537,
          0.0004130100310779208,
          0.00039543241448397815,
          0.00037901208318792424,
          0.00036395878416284837,
          0.0003504329972844716,
          0.0003385295534036454,
          0.00032826807026409245,
          0.00031959174223807074,
          0.0003123748072580221,
          0.0003064377604083257,
          0.0003015682783434885,
          0.0002975450275967844,
          0.0002941611689281652,
          0.0002912444883686468,
          0.0002886716594312869,
          0.0002863750773249516,
          0.0002843418585499397,
          0.0002826057906787769,
          0.00028123406597156144,
          0.0002803113798468144,
          0.0002799243076519337,
          0.00028014873855501703,
          0.00028104256017244273,
          0.00028264483459541277,
          0.00028498152406905894,
          0.0002880765882764441,
          0.0002919661746342734,
          0.0002967128363102197,
          0.0003024163811368941,
          0.0003092181608932216,
          0.0003172963629556493,
          0.00032685109243000215,
          0.0003380795827479222,
          0.0003511435348028637,
          0.00036613211194059907,
          0.00038302526244073223,
          0.00040166259203609957,
          0.0004217228305113097,
          0.0004427179958068121,
          0.0004640047415918768,
          0.00048481327916650616,
          0.0005042919806963847,
          0.0005215636343786571,
          0.0005357876623559858,
          0.0005462216942778323,
          0.0005522758661535541,
          0.0005535540961125001,
          0.0005498782400934822,
          0.000541293192597506,
          0.0005280533354913886,
          0.0005105929007908232,
          0.000489484496760775,
          0.0004653910421684821,
          0.0004390165779206894,
          0.0004110609238410379,
          0.0003821820737052013,
          0.0003529687956794696,
          0.00032392437296756944,
          0.0002954610053947048,
          0.0002679032682527389,
          0.00024149829024866065,
          0.00021642999444365172,
          0.00019283480775605683,
          0.00017081660377615124,
          0.00015045919423724557,
          0.00013183531685600542,
          0.00011501168466275353,
          0.0001000501918029088,
          8.700577021918807e-05,
          7.592164761705076e-05,
          6.682288208454968e-05,
          5.9709072493996436e-05,
          5.454710349458612e-05,
          5.126471368973528e-05,
          4.974559822686116e-05,
          4.9826679012726546e-05,
          5.129808738962498e-05,
          5.3906284421657716e-05,
          5.73605695769109e-05,
          6.134298413970623e-05,
          6.552130279889067e-05,
          6.956444933496137e-05,
          7.315931534002689e-05,
          7.602766394732179e-05,
          7.794162543718844e-05,
          7.873628820115092e-05,
          7.831808181366087e-05,
          7.666803047476161e-05,
          7.383948168823319e-05,
          6.995051505842407e-05,
          6.517182203339866e-05,
          5.97113323290723e-05,
          5.3797176538206356e-05,
          4.7660676517438506e-05,
          4.152094095328774e-05,
          3.5572343332739074e-05,
          2.9975730767170802e-05,
          2.485372674322481e-05,
          2.029002141611289e-05,
          1.633214987362027e-05,
          1.2996981280046855e-05,
          1.0277994806989352e-05,
          8.153393723056075e-06,
          6.5941818232924976e-06,
          5.571462534109504e-06,
          5.062386217172606e-06,
          5.054337895521238e-06,
          5.547109512899078e-06,
          6.5529339171003045e-06,
          8.09437835134445e-06,
          1.0200215532107082e-05,
          1.2899522658486867e-05,
          1.621440948655755e-05,
          2.0151942229011326e-05,
          2.469599449001383e-05,
          2.979989240404063e-05,
          3.538079432493199e-05,
          4.131672160897769e-05,
          4.744701072890129e-05,
          5.357667959905633e-05,
          5.948480702189312e-05,
          6.493655287656376e-05,
          6.969795884612559e-05,
          7.355223874924824e-05,
          7.631596770951444e-05,
          7.785347012497092e-05,
          7.808782031554361e-05,
          7.700720394202337e-05,
          7.466590261251674e-05,
          7.117978667979398e-05,
          6.671684083129422e-05,
          6.148380935408437e-05,
          5.571045251237644e-05,
          4.963309985682135e-05,
          4.347915418991451e-05,
          3.7453962024072196e-05,
          3.173107406463248e-05,
          2.6446442949339856e-05,
          2.169662046543966e-05,
          1.7540589323613426e-05,
          1.4004542884915047e-05,
          1.1088733311094468e-05,
          8.775443541796878e-06,
          7.0371809188320605e-06,
          5.844308045875214e-06,
          5.171484411050845e-06,
          5.00245996113756e-06,
          5.332918876343313e-06,
          6.171210271743733e-06,
          7.536925758424147e-06,
          9.457402571967404e-06,
          1.1962358187298574e-05,
          1.5077006938614459e-05,
          1.881417111793661e-05,
          2.3166066335410196e-05,
          2.809658959591777e-05,
          3.3535035877653546e-05,
          3.937217986190517e-05,
          4.545955457407848e-05,
          5.161252322288574e-05,
          5.761738105365723e-05,
          6.324227193969708e-05,
          6.825121427380108e-05,
          7.242007319871291e-05,
          7.555296661010465e-05,
          7.749741643008239e-05
         ],
         "yaxis": "y"
        },
        {
         "legendgroup": "Bronze",
         "marker": {
          "color": "rgb(214, 39, 40)"
         },
         "mode": "lines",
         "name": "Bronze",
         "showlegend": true,
         "type": "scatter",
         "x": [
          10,
          10.124,
          10.248,
          10.372,
          10.496,
          10.62,
          10.744,
          10.868,
          10.992,
          11.116,
          11.24,
          11.364,
          11.488,
          11.612,
          11.736,
          11.86,
          11.984,
          12.108,
          12.232,
          12.356,
          12.48,
          12.604,
          12.728,
          12.852,
          12.975999999999999,
          13.1,
          13.224,
          13.347999999999999,
          13.472,
          13.596,
          13.72,
          13.844,
          13.968,
          14.091999999999999,
          14.216000000000001,
          14.34,
          14.464,
          14.588000000000001,
          14.712,
          14.836,
          14.96,
          15.084,
          15.208,
          15.332,
          15.456,
          15.58,
          15.704,
          15.828,
          15.952,
          16.076,
          16.2,
          16.323999999999998,
          16.448,
          16.572,
          16.695999999999998,
          16.82,
          16.944,
          17.067999999999998,
          17.192,
          17.316,
          17.44,
          17.564,
          17.688,
          17.812,
          17.936,
          18.060000000000002,
          18.183999999999997,
          18.308,
          18.432000000000002,
          18.555999999999997,
          18.68,
          18.804000000000002,
          18.928,
          19.052,
          19.176000000000002,
          19.3,
          19.424,
          19.548000000000002,
          19.672,
          19.796,
          19.92,
          20.044,
          20.168,
          20.292,
          20.416,
          20.54,
          20.664,
          20.788,
          20.912,
          21.036,
          21.16,
          21.284,
          21.408,
          21.532,
          21.656,
          21.78,
          21.904,
          22.028,
          22.152,
          22.276,
          22.4,
          22.524,
          22.648,
          22.772,
          22.896,
          23.02,
          23.144,
          23.268,
          23.392,
          23.516,
          23.64,
          23.764,
          23.887999999999998,
          24.012,
          24.136,
          24.259999999999998,
          24.384,
          24.508,
          24.631999999999998,
          24.756,
          24.880000000000003,
          25.003999999999998,
          25.128,
          25.252000000000002,
          25.375999999999998,
          25.5,
          25.624000000000002,
          25.747999999999998,
          25.872,
          25.996000000000002,
          26.12,
          26.244,
          26.368,
          26.492,
          26.616,
          26.74,
          26.864,
          26.988,
          27.112,
          27.236,
          27.36,
          27.484,
          27.608,
          27.732,
          27.856,
          27.98,
          28.104,
          28.228,
          28.352,
          28.476,
          28.6,
          28.724,
          28.848,
          28.972,
          29.096,
          29.22,
          29.344,
          29.468,
          29.592,
          29.716,
          29.84,
          29.964,
          30.088,
          30.212,
          30.336,
          30.46,
          30.584,
          30.708,
          30.832,
          30.956,
          31.08,
          31.204,
          31.328,
          31.452,
          31.576,
          31.7,
          31.824,
          31.948,
          32.072,
          32.196,
          32.32,
          32.444,
          32.568,
          32.692,
          32.816,
          32.94,
          33.064,
          33.188,
          33.312,
          33.436,
          33.56,
          33.684,
          33.808,
          33.932,
          34.056,
          34.18,
          34.304,
          34.428,
          34.552,
          34.676,
          34.8,
          34.924,
          35.048,
          35.172,
          35.296,
          35.42,
          35.544,
          35.668,
          35.792,
          35.916,
          36.04,
          36.164,
          36.288,
          36.412,
          36.536,
          36.66,
          36.784,
          36.908,
          37.032,
          37.156,
          37.28,
          37.403999999999996,
          37.528,
          37.652,
          37.775999999999996,
          37.9,
          38.024,
          38.147999999999996,
          38.272,
          38.396,
          38.519999999999996,
          38.644,
          38.768,
          38.891999999999996,
          39.016,
          39.14,
          39.263999999999996,
          39.388000000000005,
          39.512,
          39.635999999999996,
          39.760000000000005,
          39.884,
          40.007999999999996,
          40.132000000000005,
          40.256,
          40.379999999999995,
          40.504000000000005,
          40.628,
          40.751999999999995,
          40.876000000000005,
          41,
          41.123999999999995,
          41.248000000000005,
          41.372,
          41.495999999999995,
          41.620000000000005,
          41.744,
          41.867999999999995,
          41.992000000000004,
          42.116,
          42.24,
          42.364,
          42.488,
          42.612,
          42.736,
          42.86,
          42.984,
          43.108,
          43.232,
          43.356,
          43.48,
          43.604,
          43.728,
          43.852,
          43.976,
          44.1,
          44.224,
          44.348,
          44.472,
          44.596,
          44.72,
          44.844,
          44.968,
          45.092,
          45.216,
          45.34,
          45.464,
          45.588,
          45.712,
          45.836,
          45.96,
          46.084,
          46.208,
          46.332,
          46.456,
          46.58,
          46.704,
          46.828,
          46.952,
          47.076,
          47.2,
          47.324,
          47.448,
          47.572,
          47.696,
          47.82,
          47.944,
          48.068,
          48.192,
          48.316,
          48.44,
          48.564,
          48.688,
          48.812,
          48.936,
          49.06,
          49.184,
          49.308,
          49.432,
          49.556,
          49.68,
          49.804,
          49.928,
          50.052,
          50.176,
          50.3,
          50.424,
          50.548,
          50.672,
          50.796,
          50.92,
          51.044,
          51.168,
          51.292,
          51.416,
          51.54,
          51.664,
          51.788,
          51.912,
          52.036,
          52.16,
          52.284,
          52.408,
          52.532,
          52.656,
          52.78,
          52.904,
          53.028,
          53.152,
          53.276,
          53.4,
          53.524,
          53.648,
          53.772,
          53.896,
          54.02,
          54.144,
          54.268,
          54.392,
          54.516,
          54.64,
          54.764,
          54.888,
          55.012,
          55.136,
          55.26,
          55.384,
          55.508,
          55.632,
          55.756,
          55.88,
          56.004,
          56.128,
          56.252,
          56.376,
          56.5,
          56.624,
          56.748,
          56.872,
          56.996,
          57.12,
          57.244,
          57.368,
          57.492,
          57.616,
          57.74,
          57.864,
          57.988,
          58.112,
          58.236,
          58.36,
          58.484,
          58.608,
          58.732,
          58.856,
          58.98,
          59.104,
          59.228,
          59.352,
          59.476,
          59.6,
          59.724,
          59.848,
          59.972,
          60.096,
          60.22,
          60.344,
          60.468,
          60.592,
          60.716,
          60.84,
          60.964,
          61.088,
          61.212,
          61.336,
          61.46,
          61.584,
          61.708,
          61.832,
          61.956,
          62.08,
          62.204,
          62.328,
          62.452,
          62.576,
          62.7,
          62.824,
          62.948,
          63.072,
          63.196,
          63.32,
          63.444,
          63.568,
          63.692,
          63.816,
          63.94,
          64.064,
          64.188,
          64.312,
          64.436,
          64.56,
          64.684,
          64.80799999999999,
          64.932,
          65.056,
          65.18,
          65.304,
          65.428,
          65.55199999999999,
          65.676,
          65.8,
          65.924,
          66.048,
          66.172,
          66.29599999999999,
          66.42,
          66.544,
          66.668,
          66.792,
          66.916,
          67.03999999999999,
          67.164,
          67.288,
          67.412,
          67.536,
          67.66,
          67.78399999999999,
          67.908,
          68.032,
          68.156,
          68.28,
          68.404,
          68.52799999999999,
          68.652,
          68.77600000000001,
          68.9,
          69.024,
          69.148,
          69.27199999999999,
          69.396,
          69.52000000000001,
          69.644,
          69.768,
          69.892,
          70.01599999999999,
          70.14,
          70.26400000000001,
          70.388,
          70.512,
          70.636,
          70.75999999999999,
          70.884,
          71.00800000000001,
          71.132,
          71.256,
          71.38,
          71.50399999999999,
          71.628,
          71.75200000000001,
          71.876
         ],
         "xaxis": "x",
         "y": [
          9.228315831185303e-05,
          9.655331587868845e-05,
          0.0001006750868345953,
          0.00010490535424366644,
          0.00010953450030903626,
          0.00011485810220505612,
          0.00012114752864011116,
          0.00012862382246594996,
          0.00013743919339743787,
          0.00014766971020841593,
          0.0001593214284793442,
          0.00017235037714423442,
          0.00018669480029185402,
          0.00020231610889348675,
          0.00021924344849646215,
          0.0002376159018200553,
          0.0002577163023165881,
          0.0002799914979579759,
          0.00030505559691943135,
          0.0003336750365490146,
          0.00036673692313808875,
          0.00040520460838602254,
          0.0004500665108224082,
          0.0005022854279732252,
          0.0005627558055585741,
          0.0006322755782540274,
          0.0007115373888452504,
          0.0008011415009800311,
          0.0009016299274985917,
          0.0010135386263815153,
          0.001137462459891717,
          0.0012741262544129826,
          0.0014244548699570779,
          0.0015896356513115972,
          0.0017711678007831266,
          0.0019708948013476514,
          0.0021910177154739114,
          0.0024340887161706996,
          0.0027029853964224593,
          0.0030008672021192267,
          0.0033311158221279967,
          0.0036972617293377333,
          0.004102899529423125,
          0.004551595548864395,
          0.005046792289521143,
          0.005591715933916589,
          0.006189294735788682,
          0.006842097412937505,
          0.007552300998566273,
          0.008321696457004151,
          0.009151737390872328,
          0.01004363239028299,
          0.010998475490461571,
          0.012017402729783914,
          0.013101757118475882,
          0.014253240626497899,
          0.015474030983505117,
          0.016766843553593695,
          0.018134924098683555,
          0.019581966121880182,
          0.021111955552277687,
          0.022728954505661526,
          0.02443684349051252,
          0.026239046679043233,
          0.028138266965666545,
          0.0301362560797526,
          0.03223364002556655,
          0.034429812127421945,
          0.03672289605965304,
          0.03910977102357897,
          0.041586142522291855,
          0.04414663664980697,
          0.04678489452757751,
          0.04949364664159616,
          0.05226475353039825,
          0.055089208000968524,
          0.05795710302893869,
          0.06085757725050617,
          0.06377875562300593,
          0.06670770619753023,
          0.06963043512232339,
          0.0725319410195527,
          0.07539634646555476,
          0.07820711793991973,
          0.0809473759910585,
          0.08360028498572336,
          0.08614949832951745,
          0.0885796231808296,
          0.09087666151280042,
          0.09302838430523852,
          0.09502460340128911,
          0.0968573197427663,
          0.09852074408999616,
          0.10001120292564702,
          0.10132695454900091,
          0.10246794650000367,
          0.10343554552787683,
          0.10423226705902257,
          0.104861524887848,
          0.10532741557602072,
          0.10563454671905802,
          0.10578791369125935,
          0.10579282507309064,
          0.10565487228224629,
          0.10537993424439426,
          0.10497420418478881,
          0.1044442238747916,
          0.10379691148324097,
          0.10303957216821763,
          0.10217988443836136,
          0.10122585856318748,
          0.10018576485951303,
          0.09906802952926773,
          0.0978810949975805,
          0.09663324212846404,
          0.09533237477876937,
          0.09398577339240666,
          0.09259983290472376,
          0.09117980918568762,
          0.089729605213987,
          0.08825163108000575,
          0.08674676958254493,
          0.08521447149135959,
          0.0836529922697404,
          0.08205976654871269,
          0.08043189962108575,
          0.07876673863245455,
          0.07706247218018913,
          0.07531869801604901,
          0.07353689659303445,
          0.07172075462530819,
          0.06987629755942629,
          0.06801181105340504,
          0.06613755580331908,
          0.0642653030602528,
          0.06240773590698231,
          0.06057777113095415,
          0.05878785771683753,
          0.05704930207292707,
          0.05537166007512927,
          0.05376222528418408,
          0.05222563405767374,
          0.05076360312364012,
          0.04937481323052036,
          0.04805495206550951,
          0.04679692830850998,
          0.04559126405568307,
          0.0444266632515993,
          0.0432907388432873,
          0.04217086228588388,
          0.04105507845939826,
          0.03993301080091946,
          0.03879666977927473,
          0.03764107656021662,
          0.03646462523659944,
          0.03526913151437006,
          0.03405955082233429,
          0.03284338961214758,
          0.031629873703672574,
          0.030428970160505383,
          0.02925037868980181,
          0.02810261155810145,
          0.02699226703557849,
          0.025923572886776023,
          0.024898238203653725,
          0.02391561003798085,
          0.022973092137368083,
          0.02206675209144567,
          0.021192024229274947,
          0.020344410536535868,
          0.01952009042367846,
          0.018716370186125597,
          0.01793193076370165,
          0.017166863350496667,
          0.016422511794891247,
          0.015701164420835776,
          0.015005652980437961,
          0.014338921625436016,
          0.013703624480188005,
          0.013101798494101851,
          0.012534641593646081,
          0.01200240793124359,
          0.011504415170957093,
          0.011039145481044628,
          0.010604413494638875,
          0.010197571250930387,
          0.009815721507473249,
          0.009455915700197975,
          0.009115319800098049,
          0.00879133892473832,
          0.008481698560366737,
          0.008184485751251816,
          0.007898157173298932,
          0.0076215226163429866,
          0.007353712380428227,
          0.007094135965938061,
          0.006842437759383604,
          0.006598453643035421,
          0.0063621708780692635,
          0.006133692350710281,
          0.005913205335449948,
          0.0057009542780420775,
          0.0054972167003635155,
          0.005302281173394584,
          0.005116426400051601,
          0.004939900783250465,
          0.00477290236725397,
          0.004615559623441243,
          0.004467914069555518,
          0.00432990603959412,
          0.004201364982338419,
          0.004082005449490869,
          0.0039714294931153995,
          0.003869135623465462,
          0.003774533893353436,
          0.003686966172127724,
          0.0036057303176768372,
          0.003530106774747815,
          0.0034593861070031126,
          0.003392896058225358,
          0.0033300268623457285,
          0.003270253608053635,
          0.003213154460623668,
          0.0031584234480288693,
          0.0031058763890537805,
          0.003055448493553964,
          0.003007182344340363,
          0.002961205505855853,
          0.0029176979605833294,
          0.002876850909191909,
          0.002838820025910407,
          0.002803677777284903,
          0.0027713705763092707,
          0.002741687048400217,
          0.002714243296537317,
          0.002688489662356364,
          0.0026637411419020624,
          0.0026392305555691296,
          0.002614180175401846,
          0.002587884278697128,
          0.0025597925716695784,
          0.002529583117066652,
          0.0024972136736536765,
          0.0024629423564869243,
          0.002427312115227288,
          0.002391098273217583,
          0.0023552236025266527,
          0.0023206503238553623,
          0.0022882622125154294,
          0.0022587520082316182,
          0.002232529181908553,
          0.0022096607629985584,
          0.0021898536862505614,
          0.0021724815901275588,
          0.002156653009867297,
          0.002141312348747887,
          0.0021253607059338597,
          0.0021077812125690557,
          0.0020877533031260524,
          0.0020647422971495242,
          0.0020385544128868447,
          0.002009352228150464,
          0.001977630838622516,
          0.0019441597269037726,
          0.0019098989756913187,
          0.0018759005204001553,
          0.0018432055379795501,
          0.0018127480085032468,
          0.0017852723909592195,
          0.0017612707643284986,
          0.0017409422258939493,
          0.0017241752142613976,
          0.0017105519455567438,
          0.0016993733167721408,
          0.001689702259399896,
          0.0016804233303199124,
          0.0016703160026668592,
          0.001658138446213861,
          0.0016427175006467445,
          0.001623039174768004,
          0.001598332657364298,
          0.0015681399213872081,
          0.0015323629710563649,
          0.0014912819392123987,
          0.0014455396914924386,
          0.0013960921597338922,
          0.0013441278606939023,
          0.0012909643053182894,
          0.0012379325355659086,
          0.001186263174777735,
          0.0011369876838075623,
          0.001090866821078787,
          0.0010483547914174223,
          0.0010096027261042011,
          0.0009744996794429858,
          0.0009427440732404325,
          0.0009139342593207786,
          0.0008876642408526118,
          0.0008636099915299198,
          0.0008415933349119935,
          0.0008216137823453431,
          0.0008038435868405933,
          0.0007885868535619219,
          0.0007762090463862347,
          0.0007670478395788191,
          0.0007613192991301809,
          0.0007590343758872104,
          0.0007599394815049001,
          0.000763491651956649,
          0.0007688739439251414,
          0.0007750509646771144,
          0.0007808586567463587,
          0.0007851175092085276,
          0.0007867549886204515,
          0.0007849216709178416,
          0.0007790864772408175,
          0.0007690993790273487,
          0.0007552144226726011,
          0.0007380711822629314,
          0.0007186379376865217,
          0.0006981242135540302,
          0.000677873221811837,
          0.00065924594435944,
          0.0006435081161284065,
          0.0006317295589776664,
          0.0006247027015693514,
          0.0006228842927175323,
          0.0006263617974437267,
          0.0006348441003547936,
          0.0006476750400033385,
          0.0006638678409885583,
          0.0006821584102302078,
          0.0007010753664072448,
          0.0007190242720258787,
          0.0007343826782263676,
          0.0007456013189620253,
          0.0007513053511480269,
          0.0007503883198473663,
          0.0007420909586382116,
          0.0007260573566267734,
          0.0007023625866031669,
          0.0006715084947507007,
          0.0006343876555598391,
          0.0005922189721886927,
          0.0005464614660660098,
          0.000498714934618901,
          0.0004506170337125081,
          0.0004037458872683565,
          0.0003595357248801982,
          0.00031921068452256304,
          0.0002837392771954995,
          0.00025380956355234294,
          0.00022982319392061902,
          0.0002119052919299288,
          0.0001999267122458678,
          0.00019353532021725207,
          0.00019219339017880976,
          0.00019521875972055322,
          0.00020182782841854672,
          0.00021117876484398786,
          0.00022241339530376767,
          0.00023469627180094596,
          0.0002472494617371544,
          0.00025938175641808256,
          0.00027051129796060413,
          0.00028018105244444013,
          0.00028806703948820386,
          0.00029397967166829096,
          0.00029785888005454824,
          0.00029976386292528763,
          0.0002998583044358122,
          0.0002983918271895758,
          0.00029567835251944393,
          0.00029207202739547385,
          0.00028794148888054537,
          0.0002836434781564379,
          0.00027949713560930723,
          0.00027576061480503555,
          0.00027261183817902155,
          0.0002701351850660129,
          0.0002683155963771688,
          0.0002670409992287488,
          0.0002661131592801271,
          0.0002652661696999168,
          0.00026419092458839166,
          0.0002625632437482026,
          0.00026007292924408183,
          0.00025645100440986103,
          0.00025149270963336013,
          0.0002450744386353103,
          0.0002371635770170518,
          0.00022782101163776322,
          0.00021719678347257963,
          0.00020551986384126418,
          0.00019308330612684917,
          0.00018022608402797386,
          0.00016731284263504887,
          0.0001547126534360841,
          0.0001427777658029626,
          0.00013182333951003127,
          0.00012210922957819987,
          0.00011382502887728528,
          0.00010707966998633121,
          0.000101896847046584,
          9.821725834853625e-05,
          9.590815192329223e-05,
          9.477990054090764e-05,
          9.460842401331486e-05,
          9.516135257028508e-05,
          9.622505073885022e-05,
          9.76291590310057e-05,
          9.92652875832447e-05,
          0.00010109697516783412,
          0.00010315899161933846,
          0.00010554541039507932,
          0.00010838743615163743,
          0.00011182351608271391,
          0.00011596555390091909,
          0.00012086586476098487,
          0.00012648970023290633,
          0.00013269766529302136,
          0.00013924118040306498,
          0.0001457724537683096,
          0.0001518684543579716,
          0.00015706640475621772,
          0.00016090664589977534,
          0.00016297762663836058,
          0.00016295741865393956,
          0.00016064661217109636,
          0.0001559886389167314,
          0.00014907530360933893,
          0.00014013730401078308,
          0.00012952146543906073,
          0.00011765801224842462,
          0.00010502222254162857,
          9.209514892626495e-05,
          7.932774580722776e-05,
          6.711184238251467e-05,
          5.576013966791646e-05,
          4.5496024394526586e-05,
          3.6452706618321265e-05,
          2.868017645587947e-05,
          2.2157841136593216e-05,
          1.681047068341716e-05,
          1.2525204557515687e-05,
          9.167760452831906e-06,
          6.5965260525366855e-06,
          4.6737931284040725e-06,
          3.2739194693489927e-06,
          2.2886167772242577e-06,
          1.629833165861909e-06,
          1.230826410146094e-06,
          1.0460276529375144e-06,
          1.0502049706612997e-06,
          1.2372856252457779e-06,
          1.6190170641063504e-06,
          2.223467924881872e-06,
          3.093215349479715e-06,
          4.282954079543399e-06,
          5.856213198925882e-06,
          7.880891351156814e-06,
          1.0423428325060632e-05,
          1.3541618580378932e-05,
          1.727632659639511e-05,
          2.1642656037679903e-05,
          2.6621411180409628e-05,
          3.215191567065343e-05,
          3.812736359909119e-05,
          4.439382262793123e-05,
          5.075376087374361e-05,
          5.697453228542291e-05,
          6.280167041670013e-05,
          6.797618430649411e-05,
          7.22544244133873e-05,
          7.542860054402932e-05,
          7.734578255640841e-05,
          7.792325797812631e-05,
          7.715846759569022e-05,
          7.51323439673135e-05,
          7.200564375204031e-05,
          6.800866789547449e-05,
          6.342547500743396e-05,
          5.857420629231494e-05,
          5.378539290743339e-05,
          4.938010149091726e-05,
          4.564953651138795e-05,
          4.283734287955321e-05,
          4.11254377604212e-05,
          4.0623835056080653e-05,
          4.136466610165515e-05,
          4.330045870448782e-05,
          4.630668384110301e-05,
          5.01885548343935e-05,
          5.469199788729456e-05,
          5.951854961066854e-05,
          6.434365439404873e-05,
          6.883745387558128e-05,
          7.268674630838917e-05,
          7.561643753162164e-05,
          7.740860547739212e-05
         ],
         "yaxis": "y"
        }
       ],
       "layout": {
        "autosize": true,
        "barmode": "overlay",
        "hovermode": "closest",
        "legend": {
         "traceorder": "reversed"
        },
        "template": {
         "data": {
          "bar": [
           {
            "error_x": {
             "color": "#2a3f5f"
            },
            "error_y": {
             "color": "#2a3f5f"
            },
            "marker": {
             "line": {
              "color": "#E5ECF6",
              "width": 0.5
             },
             "pattern": {
              "fillmode": "overlay",
              "size": 10,
              "solidity": 0.2
             }
            },
            "type": "bar"
           }
          ],
          "barpolar": [
           {
            "marker": {
             "line": {
              "color": "#E5ECF6",
              "width": 0.5
             },
             "pattern": {
              "fillmode": "overlay",
              "size": 10,
              "solidity": 0.2
             }
            },
            "type": "barpolar"
           }
          ],
          "carpet": [
           {
            "aaxis": {
             "endlinecolor": "#2a3f5f",
             "gridcolor": "white",
             "linecolor": "white",
             "minorgridcolor": "white",
             "startlinecolor": "#2a3f5f"
            },
            "baxis": {
             "endlinecolor": "#2a3f5f",
             "gridcolor": "white",
             "linecolor": "white",
             "minorgridcolor": "white",
             "startlinecolor": "#2a3f5f"
            },
            "type": "carpet"
           }
          ],
          "choropleth": [
           {
            "colorbar": {
             "outlinewidth": 0,
             "ticks": ""
            },
            "type": "choropleth"
           }
          ],
          "contour": [
           {
            "colorbar": {
             "outlinewidth": 0,
             "ticks": ""
            },
            "colorscale": [
             [
              0,
              "#0d0887"
             ],
             [
              0.1111111111111111,
              "#46039f"
             ],
             [
              0.2222222222222222,
              "#7201a8"
             ],
             [
              0.3333333333333333,
              "#9c179e"
             ],
             [
              0.4444444444444444,
              "#bd3786"
             ],
             [
              0.5555555555555556,
              "#d8576b"
             ],
             [
              0.6666666666666666,
              "#ed7953"
             ],
             [
              0.7777777777777778,
              "#fb9f3a"
             ],
             [
              0.8888888888888888,
              "#fdca26"
             ],
             [
              1,
              "#f0f921"
             ]
            ],
            "type": "contour"
           }
          ],
          "contourcarpet": [
           {
            "colorbar": {
             "outlinewidth": 0,
             "ticks": ""
            },
            "type": "contourcarpet"
           }
          ],
          "heatmap": [
           {
            "colorbar": {
             "outlinewidth": 0,
             "ticks": ""
            },
            "colorscale": [
             [
              0,
              "#0d0887"
             ],
             [
              0.1111111111111111,
              "#46039f"
             ],
             [
              0.2222222222222222,
              "#7201a8"
             ],
             [
              0.3333333333333333,
              "#9c179e"
             ],
             [
              0.4444444444444444,
              "#bd3786"
             ],
             [
              0.5555555555555556,
              "#d8576b"
             ],
             [
              0.6666666666666666,
              "#ed7953"
             ],
             [
              0.7777777777777778,
              "#fb9f3a"
             ],
             [
              0.8888888888888888,
              "#fdca26"
             ],
             [
              1,
              "#f0f921"
             ]
            ],
            "type": "heatmap"
           }
          ],
          "heatmapgl": [
           {
            "colorbar": {
             "outlinewidth": 0,
             "ticks": ""
            },
            "colorscale": [
             [
              0,
              "#0d0887"
             ],
             [
              0.1111111111111111,
              "#46039f"
             ],
             [
              0.2222222222222222,
              "#7201a8"
             ],
             [
              0.3333333333333333,
              "#9c179e"
             ],
             [
              0.4444444444444444,
              "#bd3786"
             ],
             [
              0.5555555555555556,
              "#d8576b"
             ],
             [
              0.6666666666666666,
              "#ed7953"
             ],
             [
              0.7777777777777778,
              "#fb9f3a"
             ],
             [
              0.8888888888888888,
              "#fdca26"
             ],
             [
              1,
              "#f0f921"
             ]
            ],
            "type": "heatmapgl"
           }
          ],
          "histogram": [
           {
            "marker": {
             "pattern": {
              "fillmode": "overlay",
              "size": 10,
              "solidity": 0.2
             }
            },
            "type": "histogram"
           }
          ],
          "histogram2d": [
           {
            "colorbar": {
             "outlinewidth": 0,
             "ticks": ""
            },
            "colorscale": [
             [
              0,
              "#0d0887"
             ],
             [
              0.1111111111111111,
              "#46039f"
             ],
             [
              0.2222222222222222,
              "#7201a8"
             ],
             [
              0.3333333333333333,
              "#9c179e"
             ],
             [
              0.4444444444444444,
              "#bd3786"
             ],
             [
              0.5555555555555556,
              "#d8576b"
             ],
             [
              0.6666666666666666,
              "#ed7953"
             ],
             [
              0.7777777777777778,
              "#fb9f3a"
             ],
             [
              0.8888888888888888,
              "#fdca26"
             ],
             [
              1,
              "#f0f921"
             ]
            ],
            "type": "histogram2d"
           }
          ],
          "histogram2dcontour": [
           {
            "colorbar": {
             "outlinewidth": 0,
             "ticks": ""
            },
            "colorscale": [
             [
              0,
              "#0d0887"
             ],
             [
              0.1111111111111111,
              "#46039f"
             ],
             [
              0.2222222222222222,
              "#7201a8"
             ],
             [
              0.3333333333333333,
              "#9c179e"
             ],
             [
              0.4444444444444444,
              "#bd3786"
             ],
             [
              0.5555555555555556,
              "#d8576b"
             ],
             [
              0.6666666666666666,
              "#ed7953"
             ],
             [
              0.7777777777777778,
              "#fb9f3a"
             ],
             [
              0.8888888888888888,
              "#fdca26"
             ],
             [
              1,
              "#f0f921"
             ]
            ],
            "type": "histogram2dcontour"
           }
          ],
          "mesh3d": [
           {
            "colorbar": {
             "outlinewidth": 0,
             "ticks": ""
            },
            "type": "mesh3d"
           }
          ],
          "parcoords": [
           {
            "line": {
             "colorbar": {
              "outlinewidth": 0,
              "ticks": ""
             }
            },
            "type": "parcoords"
           }
          ],
          "pie": [
           {
            "automargin": true,
            "type": "pie"
           }
          ],
          "scatter": [
           {
            "fillpattern": {
             "fillmode": "overlay",
             "size": 10,
             "solidity": 0.2
            },
            "type": "scatter"
           }
          ],
          "scatter3d": [
           {
            "line": {
             "colorbar": {
              "outlinewidth": 0,
              "ticks": ""
             }
            },
            "marker": {
             "colorbar": {
              "outlinewidth": 0,
              "ticks": ""
             }
            },
            "type": "scatter3d"
           }
          ],
          "scattercarpet": [
           {
            "marker": {
             "colorbar": {
              "outlinewidth": 0,
              "ticks": ""
             }
            },
            "type": "scattercarpet"
           }
          ],
          "scattergeo": [
           {
            "marker": {
             "colorbar": {
              "outlinewidth": 0,
              "ticks": ""
             }
            },
            "type": "scattergeo"
           }
          ],
          "scattergl": [
           {
            "marker": {
             "colorbar": {
              "outlinewidth": 0,
              "ticks": ""
             }
            },
            "type": "scattergl"
           }
          ],
          "scattermapbox": [
           {
            "marker": {
             "colorbar": {
              "outlinewidth": 0,
              "ticks": ""
             }
            },
            "type": "scattermapbox"
           }
          ],
          "scatterpolar": [
           {
            "marker": {
             "colorbar": {
              "outlinewidth": 0,
              "ticks": ""
             }
            },
            "type": "scatterpolar"
           }
          ],
          "scatterpolargl": [
           {
            "marker": {
             "colorbar": {
              "outlinewidth": 0,
              "ticks": ""
             }
            },
            "type": "scatterpolargl"
           }
          ],
          "scatterternary": [
           {
            "marker": {
             "colorbar": {
              "outlinewidth": 0,
              "ticks": ""
             }
            },
            "type": "scatterternary"
           }
          ],
          "surface": [
           {
            "colorbar": {
             "outlinewidth": 0,
             "ticks": ""
            },
            "colorscale": [
             [
              0,
              "#0d0887"
             ],
             [
              0.1111111111111111,
              "#46039f"
             ],
             [
              0.2222222222222222,
              "#7201a8"
             ],
             [
              0.3333333333333333,
              "#9c179e"
             ],
             [
              0.4444444444444444,
              "#bd3786"
             ],
             [
              0.5555555555555556,
              "#d8576b"
             ],
             [
              0.6666666666666666,
              "#ed7953"
             ],
             [
              0.7777777777777778,
              "#fb9f3a"
             ],
             [
              0.8888888888888888,
              "#fdca26"
             ],
             [
              1,
              "#f0f921"
             ]
            ],
            "type": "surface"
           }
          ],
          "table": [
           {
            "cells": {
             "fill": {
              "color": "#EBF0F8"
             },
             "line": {
              "color": "white"
             }
            },
            "header": {
             "fill": {
              "color": "#C8D4E3"
             },
             "line": {
              "color": "white"
             }
            },
            "type": "table"
           }
          ]
         },
         "layout": {
          "annotationdefaults": {
           "arrowcolor": "#2a3f5f",
           "arrowhead": 0,
           "arrowwidth": 1
          },
          "autotypenumbers": "strict",
          "coloraxis": {
           "colorbar": {
            "outlinewidth": 0,
            "ticks": ""
           }
          },
          "colorscale": {
           "diverging": [
            [
             0,
             "#8e0152"
            ],
            [
             0.1,
             "#c51b7d"
            ],
            [
             0.2,
             "#de77ae"
            ],
            [
             0.3,
             "#f1b6da"
            ],
            [
             0.4,
             "#fde0ef"
            ],
            [
             0.5,
             "#f7f7f7"
            ],
            [
             0.6,
             "#e6f5d0"
            ],
            [
             0.7,
             "#b8e186"
            ],
            [
             0.8,
             "#7fbc41"
            ],
            [
             0.9,
             "#4d9221"
            ],
            [
             1,
             "#276419"
            ]
           ],
           "sequential": [
            [
             0,
             "#0d0887"
            ],
            [
             0.1111111111111111,
             "#46039f"
            ],
            [
             0.2222222222222222,
             "#7201a8"
            ],
            [
             0.3333333333333333,
             "#9c179e"
            ],
            [
             0.4444444444444444,
             "#bd3786"
            ],
            [
             0.5555555555555556,
             "#d8576b"
            ],
            [
             0.6666666666666666,
             "#ed7953"
            ],
            [
             0.7777777777777778,
             "#fb9f3a"
            ],
            [
             0.8888888888888888,
             "#fdca26"
            ],
            [
             1,
             "#f0f921"
            ]
           ],
           "sequentialminus": [
            [
             0,
             "#0d0887"
            ],
            [
             0.1111111111111111,
             "#46039f"
            ],
            [
             0.2222222222222222,
             "#7201a8"
            ],
            [
             0.3333333333333333,
             "#9c179e"
            ],
            [
             0.4444444444444444,
             "#bd3786"
            ],
            [
             0.5555555555555556,
             "#d8576b"
            ],
            [
             0.6666666666666666,
             "#ed7953"
            ],
            [
             0.7777777777777778,
             "#fb9f3a"
            ],
            [
             0.8888888888888888,
             "#fdca26"
            ],
            [
             1,
             "#f0f921"
            ]
           ]
          },
          "colorway": [
           "#636efa",
           "#EF553B",
           "#00cc96",
           "#ab63fa",
           "#FFA15A",
           "#19d3f3",
           "#FF6692",
           "#B6E880",
           "#FF97FF",
           "#FECB52"
          ],
          "font": {
           "color": "#2a3f5f"
          },
          "geo": {
           "bgcolor": "white",
           "lakecolor": "white",
           "landcolor": "#E5ECF6",
           "showlakes": true,
           "showland": true,
           "subunitcolor": "white"
          },
          "hoverlabel": {
           "align": "left"
          },
          "hovermode": "closest",
          "mapbox": {
           "style": "light"
          },
          "paper_bgcolor": "white",
          "plot_bgcolor": "#E5ECF6",
          "polar": {
           "angularaxis": {
            "gridcolor": "white",
            "linecolor": "white",
            "ticks": ""
           },
           "bgcolor": "#E5ECF6",
           "radialaxis": {
            "gridcolor": "white",
            "linecolor": "white",
            "ticks": ""
           }
          },
          "scene": {
           "xaxis": {
            "backgroundcolor": "#E5ECF6",
            "gridcolor": "white",
            "gridwidth": 2,
            "linecolor": "white",
            "showbackground": true,
            "ticks": "",
            "zerolinecolor": "white"
           },
           "yaxis": {
            "backgroundcolor": "#E5ECF6",
            "gridcolor": "white",
            "gridwidth": 2,
            "linecolor": "white",
            "showbackground": true,
            "ticks": "",
            "zerolinecolor": "white"
           },
           "zaxis": {
            "backgroundcolor": "#E5ECF6",
            "gridcolor": "white",
            "gridwidth": 2,
            "linecolor": "white",
            "showbackground": true,
            "ticks": "",
            "zerolinecolor": "white"
           }
          },
          "shapedefaults": {
           "line": {
            "color": "#2a3f5f"
           }
          },
          "ternary": {
           "aaxis": {
            "gridcolor": "white",
            "linecolor": "white",
            "ticks": ""
           },
           "baxis": {
            "gridcolor": "white",
            "linecolor": "white",
            "ticks": ""
           },
           "bgcolor": "#E5ECF6",
           "caxis": {
            "gridcolor": "white",
            "linecolor": "white",
            "ticks": ""
           }
          },
          "title": {
           "x": 0.05
          },
          "xaxis": {
           "automargin": true,
           "gridcolor": "white",
           "linecolor": "white",
           "ticks": "",
           "title": {
            "standoff": 15
           },
           "zerolinecolor": "white",
           "zerolinewidth": 2
          },
          "yaxis": {
           "automargin": true,
           "gridcolor": "white",
           "linecolor": "white",
           "ticks": "",
           "title": {
            "standoff": 15
           },
           "zerolinecolor": "white",
           "zerolinewidth": 2
          }
         }
        },
        "xaxis": {
         "anchor": "y2",
         "autorange": true,
         "domain": [
          0,
          1
         ],
         "range": [
          10,
          96.826
         ],
         "type": "linear",
         "zeroline": false
        },
        "yaxis": {
         "anchor": "free",
         "autorange": true,
         "domain": [
          0,
          1
         ],
         "position": 0,
         "range": [
          -0.005966395377835956,
          0.11336151217889315
         ],
         "type": "linear"
        }
       }
      },
      "image/png": "[encoded data removed]",
      "text/html": [
       "<div>                            <div id=\"c7dcc96f-3012-4a88-b631-66185be771be\" class=\"plotly-graph-div\" style=\"height:525px; width:100%;\"></div>            <script type=\"text/javascript\">                require([\"plotly\"], function(Plotly) {                    window.PLOTLYENV=window.PLOTLYENV || {};                                    if (document.getElementById(\"c7dcc96f-3012-4a88-b631-66185be771be\")) {                    Plotly.newPlot(                        \"c7dcc96f-3012-4a88-b631-66185be771be\",                        [{\"legendgroup\":\"Overall\",\"marker\":{\"color\":\"rgb(31, 119, 180)\"},\"mode\":\"lines\",\"name\":\"Overall\",\"showlegend\":true,\"x\":[10.0,10.174,10.348,10.522,10.696,10.87,11.044,11.218,11.392,11.566,11.74,11.914,12.088000000000001,12.262,12.436,12.61,12.783999999999999,12.958,13.132,13.306000000000001,13.48,13.654,13.828,14.001999999999999,14.176,14.35,14.524000000000001,14.698,14.872,15.046,15.219999999999999,15.394,15.568,15.742,15.916,16.09,16.264,16.438,16.612000000000002,16.786,16.96,17.134,17.308,17.482,17.656,17.83,18.003999999999998,18.178,18.352,18.526,18.7,18.874000000000002,19.048000000000002,19.222,19.396,19.57,19.744,19.918,20.092,20.266,20.439999999999998,20.614,20.788,20.962,21.136,21.310000000000002,21.484,21.658,21.832,22.006,22.18,22.354,22.528,22.701999999999998,22.875999999999998,23.05,23.224,23.398,23.572,23.746000000000002,23.92,24.094,24.268,24.442,24.616,24.79,24.964,25.137999999999998,25.311999999999998,25.486,25.66,25.834,26.008,26.182,26.356,26.53,26.704,26.878,27.052,27.226,27.4,27.574,27.748,27.922,28.096,28.27,28.444,28.618,28.792,28.966,29.14,29.314,29.488,29.662,29.836,30.01,30.184,30.358,30.532,30.706,30.88,31.054,31.228,31.402,31.576,31.75,31.924,32.098,32.272,32.446,32.620000000000005,32.794,32.968,33.141999999999996,33.316,33.489999999999995,33.664,33.838,34.012,34.186,34.36,34.534,34.708,34.882000000000005,35.056,35.230000000000004,35.403999999999996,35.578,35.751999999999995,35.926,36.1,36.274,36.448,36.622,36.796,36.97,37.144,37.318,37.492000000000004,37.666,37.84,38.013999999999996,38.188,38.361999999999995,38.536,38.71,38.884,39.058,39.232,39.406,39.58,39.754000000000005,39.928,40.102000000000004,40.275999999999996,40.45,40.623999999999995,40.798,40.972,41.146,41.32,41.494,41.668,41.842,42.016,42.19,42.364,42.538,42.712,42.886,43.06,43.234,43.408,43.582,43.756,43.93,44.104,44.278,44.452,44.626,44.8,44.974,45.148,45.322,45.496,45.67,45.844,46.018,46.192,46.366,46.54,46.714,46.888,47.062,47.236,47.41,47.584,47.758,47.932,48.106,48.28,48.454,48.628,48.802,48.976,49.15,49.324,49.498,49.672,49.846,50.02,50.194,50.368,50.542,50.716,50.89,51.064,51.238,51.412,51.586,51.76,51.934,52.108,52.282,52.456,52.63,52.804,52.978,53.152,53.326,53.5,53.674,53.848,54.022,54.196,54.37,54.544,54.718,54.892,55.066,55.24,55.414,55.588,55.762,55.936,56.11,56.284,56.458,56.632,56.806,56.98,57.154,57.328,57.502,57.676,57.85,58.024,58.198,58.372,58.546,58.72,58.894,59.068,59.242,59.416,59.59,59.764,59.938,60.112,60.286,60.46,60.634,60.808,60.982,61.156,61.33,61.504,61.678,61.852,62.026,62.2,62.374,62.548,62.722,62.896,63.07,63.244,63.418,63.592,63.766,63.94,64.114,64.288,64.462,64.636,64.81,64.98400000000001,65.158,65.332,65.506,65.68,65.854,66.02799999999999,66.202,66.376,66.55,66.72399999999999,66.898,67.072,67.24600000000001,67.42,67.594,67.768,67.94200000000001,68.116,68.28999999999999,68.464,68.638,68.812,68.98599999999999,69.16,69.334,69.50800000000001,69.682,69.856,70.03,70.20400000000001,70.378,70.55199999999999,70.726,70.9,71.074,71.24799999999999,71.422,71.596,71.77000000000001,71.944,72.118,72.292,72.46600000000001,72.64,72.814,72.988,73.162,73.336,73.50999999999999,73.684,73.858,74.032,74.206,74.38,74.554,74.728,74.902,75.076,75.25,75.424,75.598,75.772,75.946,76.12,76.294,76.468,76.642,76.816,76.99,77.164,77.338,77.512,77.686,77.86,78.034,78.208,78.382,78.556,78.73,78.904,79.078,79.252,79.426,79.6,79.774,79.948,80.122,80.296,80.47,80.644,80.818,80.992,81.166,81.34,81.514,81.688,81.862,82.036,82.21,82.384,82.558,82.732,82.906,83.08,83.254,83.428,83.602,83.776,83.95,84.124,84.298,84.472,84.646,84.82,84.994,85.168,85.342,85.516,85.69,85.864,86.038,86.212,86.386,86.56,86.734,86.908,87.082,87.256,87.43,87.604,87.778,87.952,88.126,88.3,88.474,88.648,88.822,88.996,89.17,89.344,89.518,89.692,89.866,90.04,90.214,90.388,90.562,90.736,90.91,91.084,91.258,91.432,91.606,91.78,91.954,92.128,92.302,92.476,92.65,92.824,92.998,93.172,93.346,93.52,93.694,93.868,94.042,94.216,94.39,94.564,94.738,94.912,95.086,95.26,95.434,95.608,95.782,95.956,96.13,96.304,96.478,96.652,96.826],\"xaxis\":\"x\",\"y\":[1.0717258850791717e-05,1.3494496599427587e-05,1.708785895537182e-05,2.1956647163431806e-05,2.873604683486116e-05,3.828496138029063e-05,5.166645488260759e-05,7.000771658570315e-05,9.433860892303567e-05,0.0001256549773132631,0.0001653600990117783,0.00021584361673611464,0.0002806007617919448,0.00036351279111810643,0.0004677977871786928,0.0005959070233737105,0.000751136871254956,0.0009398333861494676,0.0011715169224003705,0.0014553559157978835,0.0017952378501565572,0.0021886875464538686,0.0026327142500277953,0.0031324936083905307,0.003703318248780513,0.00436015118852384,0.00510164558405316,0.005904863538255028,0.006740609281001478,0.0075992224844809615,0.008501977451634512,0.00948270259266079,0.01055365985097205,0.011690306306320146,0.012855485653846588,0.014043271343821561,0.01529692885854031,0.016676830426339308,0.01820698097774528,0.01985776125762597,0.021589630464793275,0.023415187924466323,0.02540793362485706,0.02763635111790757,0.030086755966849933,0.032664048461949896,0.03528487812054799,0.03797196163225463,0.0408396086457225,0.0439664523954117,0.04728099664571256,0.05059326603000157,0.05376259494702572,0.056837060060140755,0.06000793868476435,0.06340684322233106,0.06694988855764605,0.0704032094457882,0.0736166379209005,0.07667969538824215,0.07981538261115818,0.08310084281658855,0.08630698159863755,0.0890497578455833,0.09112587016924277,0.09269650962323638,0.09412013518920413,0.09559302571972512,0.0969625135994661,0.09790531820773096,0.09828317121433047,0.09829940699407765,0.09828805908047371,0.09835621476625334,0.09825895081724005,0.09764375008028861,0.09641326643030737,0.09483186206771536,0.09327082815094984,0.0918618639698876,0.09041412714861999,0.08866472950748856,0.08658528158398242,0.08442255848604828,0.08244414444593405,0.0806697934600467,0.07887122461631449,0.07682899114290652,0.07456666036109048,0.07231968996510207,0.07028529540319291,0.06842541414589368,0.06652484710744994,0.06442978632050418,0.06220859816721029,0.06007277603834029,0.05815488580394954,0.05638255680429092,0.05457223596714653,0.052629910280412286,0.05064238064313287,0.04877121413305758,0.047073178198263,0.0454399837704981,0.04371419457564732,0.04185206993938491,0.03996404667786403,0.03820051367841385,0.03661024508686812,0.035115378639766985,0.03361492985012725,0.032096626130105096,0.030640333728106536,0.02932000537883937,0.028116622752359776,0.026934321407841702,0.02569736105804919,0.024423224452067804,0.02319934666308804,0.022094927019463837,0.02110190302440382,0.020159994631387932,0.019229487739409586,0.01833079779396608,0.01751323076109026,0.01679339252365834,0.016132137088907525,0.01547267082204136,0.014796220599864943,0.01413630993865379,0.01354001137466731,0.013020136363714538,0.012547662498735391,0.012087417819555378,0.011634701343592097,0.011213458919071382,0.010840954223164244,0.010499803266538226,0.010148412650753306,0.009758558332906215,0.009340541754365978,0.0089308556159588,0.00855685246104803,0.008214976236577545,0.007882268632914384,0.007545445848625895,0.007215719760580042,0.006915559420219255,0.006654113516690979,0.006418330269144667,0.006187970653459615,0.00595686113281294,0.005737518481753761,0.005545552645090209,0.0053818845320838405,0.00523183583699718,0.005080926726426309,0.004929445272730426,0.004790263798287247,0.004673175868686934,0.004573284295927325,0.004475767640875463,0.004371243236679749,0.004264856127831834,0.004169634595697455,0.004091823441926058,0.004024107754753055,0.003953509856159431,0.003874731063689979,0.0037941927050425856,0.0037205499163510004,0.003652264807012078,0.0035760046875724164,0.0034780987515118495,0.003357600434201101,0.003228027455321113,0.003106616451550466,0.003002176677203993,0.002912822821109141,0.002833722208665184,0.0027648988109404277,0.0027104817903782596,0.0026712024687668883,0.002639619630145331,0.0026043172556292414,0.0025591557897852845,0.0025078794200272436,0.0024591997093104836,0.002417514429707953,0.0023788361697867915,0.0023357358544464453,0.0022855435551993888,0.0022329079913022665,0.0021841815191334215,0.0021399043867860704,0.002093527064909079,0.0020377176380092735,0.0019716102591698825,0.0019015717502307201,0.0018349999314469265,0.0017737620591202214,0.001713809280417835,0.001650776246502362,0.0015853454059618504,0.001522954972282361,0.0014686993977063932,0.0014231023847006575,0.0013829572297936186,0.0013457104598307845,0.0013122661190388416,0.0012852572832654163,0.0012650455265879469,0.0012481651274896598,0.0012301011225719894,0.0012094612328232383,0.001189079041953672,0.0011729235043254189,0.0011621526096500965,0.0011543982847100837,0.0011467013605240455,0.0011385127880883658,0.001131204228001749,0.0011245215772138998,0.0011140080642342007,0.0010927007184926849,0.0010560747175480346,0.001005798940371341,0.0009488859268605624,0.0008931460995477901,0.0008430679432932703,0.00079930567481867,0.0007611884940128067,0.0007290620710993283,0.0007042146277372375,0.0006871513003265516,0.0006766532641315957,0.0006707913310309271,0.0006685750924822681,0.0006701238620531083,0.0006750051945740304,0.0006806521535099309,0.0006829299213119607,0.000678702408357496,0.0006680210497849996,0.0006537571431812591,0.0006389840256617073,0.0006246094237505298,0.0006093984672702072,0.0005920459069890644,0.0005729654972144071,0.000553968393344698,0.0005363385297176514,0.0005194673477655438,0.0005015200473326238,0.00048143074156571853,0.00046019971966184385,0.0004402888864807864,0.00042387073138077546,0.00041168164890520627,0.0004033373084531917,0.00039831146171122225,0.00039619840938744745,0.00039592445101818295,0.00039499465090021076,0.00039003859789018435,0.0003786265760109733,0.00036094018094476565,0.0003398686356482844,0.00031947480868476546,0.00030312676061347175,0.0002926188084584124,0.00028844051421300204,0.0002903102268129327,0.0002972103588557857,0.00030713352944266214,0.00031734765222179756,0.000325478003117936,0.0003306574163180303,0.00033364906398334086,0.00033570841654467103,0.00033718828283114857,0.00033718697590783513,0.00033452141125329287,0.00032898854441386257,0.0003216164353505213,0.00031366772746511024,0.0003054378519016783,0.00029607574850746833,0.0002845931297600965,0.00027104567258919764,0.0002567596810999573,0.000243476629303859,0.00023231135236255232,0.00022345088327320911,0.00021664273686369158,0.0002117342011856501,0.00020863039944144215,0.00020682441581013373,0.00020519648478516242,0.0002024855851081077,0.00019805702135855486,0.00019219963663898412,0.00018562356306212998,0.0001786354393332633,0.00017079892734409794,0.00016141150827005647,0.0001503458712035715,0.00013849553146249105,0.00012748216566206382,0.00011894591405599842,0.00011399147404155868,0.00011304510626748186,0.00011592739079348327,0.00012186334009578748,0.0001294563428835833,0.0001369094750883303,0.00014261948893364994,0.00014583120387824303,0.00014682631015002068,0.00014643863069489245,0.0001452770496548959,0.0001433097741432847,0.00014012138183782663,0.00013552101675300092,0.0001298798632178657,0.00012389060611581293,0.00011802951044113991,0.00011226693985052291,0.000106278935820368,9.98993175061193e-05,9.334678762735262e-05,8.703603102103069e-05,8.121246237697392e-05,7.579381550253894e-05,7.055131961133098e-05,6.541573340907064e-05,6.060354308118649e-05,5.647701846593892e-05,5.331619392214916e-05,5.1223120793648454e-05,5.019702662229524e-05,5.0240760106883793e-05,5.137106286996508e-05,5.355927905772754e-05,5.672033733852242e-05,6.078214058016163e-05,6.571573225769453e-05,7.139661559608827e-05,7.735431507935233e-05,8.266262826827516e-05,8.618402736876902e-05,8.708856843412627e-05,8.528350889681445e-05,8.140975058451142e-05,7.639993847717588e-05,7.094800347964878e-05,6.528480597119779e-05,5.9361704012469554e-05,5.32010037114901e-05,4.7086196565638796e-05,4.147048625934211e-05,3.674493358539065e-05,3.308434849439424e-05,3.045636898869225e-05,2.8712446917840103e-05,2.764476934321264e-05,2.6987797803884636e-05,2.643330357826931e-05,2.571110874401452e-05,2.4696114089247908e-05,2.3449273278062995e-05,2.2148923792357367e-05,2.096690726206888e-05,1.9987447163040798e-05,1.9214306476371095e-05,1.8623701373490544e-05,1.818888162091181e-05,1.7852869926672654e-05,1.7496331042170066e-05,1.695954343454116e-05,1.6119894868453806e-05,1.4962869191971251e-05,1.3582754111369742e-05,1.2110854048496741e-05,1.0631944594923715e-05,9.154905766006551e-06,7.651458039417677e-06,6.120282234758056e-06,4.621265051188577e-06,3.258169923912494e-06,2.1308612971236883e-06,1.2950942257038122e-06,7.536812322213271e-07,4.772198834277412e-07,4.360923282796987e-07,6.240356423228071e-07,1.0611945941267163e-06,1.7743787347083186e-06,2.762315693930743e-06,3.9634225498795535e-06,5.248080806985387e-06,6.448748087541788e-06,7.418330518181982e-06,8.083423847544614e-06,8.455663238921074e-06,8.590984073154696e-06,8.526245983054903e-06,8.242332737285553e-06,7.683054226592062e-06,6.81476894250789e-06,5.679953519035374e-06,4.404592105539346e-06,3.1556705515869165e-06,2.079211527805323e-06,1.2562080209471582e-06,6.947073126573168e-07,3.512756025144993e-07,1.6229936666628138e-07,6.849192808306657e-08,2.6394603161382698e-08,9.28719035257171e-09,2.9834008077321098e-09,8.749352402017811e-10,2.3424203249432566e-10,5.724941903995747e-11,1.2773032624133835e-11,2.602413257665995e-12,4.905245158194811e-13,1.2758933456269763e-13,2.8876182362791024e-13,1.5306941073630914e-12,7.73034198076715e-12,3.5677998083737116e-11,1.5032152602182916e-10,5.781609119686902e-10,2.0299382259606482e-09,6.506140737584421e-09,1.903577756375412e-08,5.084219891924201e-08,1.239608557991853e-07,2.75899772575823e-07,5.605632925497971e-07,1.0396915266335306e-06,1.760317027629965e-06,2.72071976499149e-06,3.838692017035413e-06,4.944122967163513e-06,5.813019691955057e-06,6.2390844030314e-06,6.112888352811979e-06,5.467371732183525e-06,4.463929000787852e-06,3.3270742280196456e-06,2.2636758530965092e-06,1.4059585671409852e-06,7.971450303990897e-07,4.1258050176254435e-07,1.9493355034498723e-07,8.407580262693878e-08,3.310259095342624e-08,1.1897603439335984e-08,3.9035839828960055e-09,1.16916041202314e-09,3.1966214711190253e-10,7.978382602565483e-11,1.817795575835432e-11,3.780783087244034e-12,7.178356525451894e-13,1.244157336204261e-13,1.9686292186612312e-14,2.8573077863024483e-15,4.986239989847322e-16,1.030209398696562e-15,7.16225655154958e-15,4.747148913775801e-14,2.8741848344780574e-13,1.588578226108148e-12,8.015138320957676e-12,3.691672656786612e-11,1.5521986627356961e-10,5.957816381471458e-10,2.0876078175749486e-09,6.677952788339604e-09,1.9502413483309056e-08,5.200130683281541e-08,1.2661120045305678e-07,2.8154513645919553e-07,5.719877265831784e-07,1.062260219132832e-06,1.8050359449027343e-06,2.810752146263249e-06,4.021032659733755e-06,5.3062025759809555e-06,6.499235287509368e-06,7.455777514128484e-06,8.106600945510317e-06,8.466635249961402e-06,8.592316333178229e-06,8.518363560477883e-06,8.223103180910899e-06],\"yaxis\":\"y\",\"type\":\"scatter\"},{\"legendgroup\":\"Gold\",\"marker\":{\"color\":\"rgb(255, 127, 14)\"},\"mode\":\"lines\",\"name\":\"Gold\",\"showlegend\":true,\"x\":[13.0,13.102,13.204,13.306,13.408,13.51,13.612,13.714,13.816,13.918,14.02,14.122,14.224,14.326,14.428,14.53,14.632,14.734,14.836,14.938,15.04,15.142,15.244,15.346,15.448,15.55,15.652000000000001,15.754,15.856,15.958,16.06,16.162,16.264,16.366,16.468,16.57,16.672,16.774,16.876,16.978,17.08,17.182000000000002,17.284,17.386,17.488,17.59,17.692,17.794,17.896,17.998,18.1,18.201999999999998,18.304000000000002,18.406,18.508,18.61,18.712,18.814,18.916,19.018,19.12,19.222,19.323999999999998,19.426000000000002,19.528,19.63,19.732,19.834,19.936,20.038,20.14,20.242,20.344,20.445999999999998,20.548000000000002,20.65,20.752,20.854,20.956,21.058,21.16,21.262,21.364,21.466,21.567999999999998,21.67,21.772,21.874000000000002,21.976,22.078,22.18,22.282,22.384,22.486,22.588,22.689999999999998,22.792,22.894,22.996000000000002,23.098,23.2,23.302,23.404,23.506,23.608,23.71,23.811999999999998,23.914,24.016,24.118000000000002,24.22,24.322,24.424,24.526,24.628,24.73,24.832,24.933999999999997,25.036,25.137999999999998,25.240000000000002,25.342,25.444000000000003,25.546,25.648,25.75,25.852,25.954,26.055999999999997,26.158,26.259999999999998,26.362000000000002,26.464,26.566000000000003,26.668,26.77,26.872,26.974,27.076,27.178,27.28,27.381999999999998,27.484,27.586,27.688000000000002,27.79,27.892,27.994,28.096,28.198,28.3,28.402,28.503999999999998,28.606,28.708,28.810000000000002,28.912,29.014,29.116,29.218,29.32,29.422,29.524,29.626,29.728,29.83,29.932,30.034,30.136,30.238,30.34,30.442,30.544,30.646,30.748,30.85,30.952,31.054,31.156,31.258,31.36,31.462,31.564,31.666,31.768,31.87,31.972,32.074,32.176,32.278,32.379999999999995,32.482,32.584,32.686,32.788,32.89,32.992000000000004,33.094,33.196,33.298,33.4,33.501999999999995,33.604,33.706,33.808,33.91,34.012,34.114000000000004,34.216,34.318,34.42,34.522,34.623999999999995,34.726,34.828,34.93,35.032,35.134,35.236000000000004,35.338,35.44,35.542,35.644,35.745999999999995,35.848,35.95,36.052,36.153999999999996,36.256,36.358000000000004,36.46,36.562,36.664,36.766,36.867999999999995,36.97,37.072,37.174,37.275999999999996,37.378,37.480000000000004,37.582,37.684,37.786,37.888000000000005,37.989999999999995,38.092,38.194,38.296,38.397999999999996,38.5,38.602000000000004,38.704,38.806,38.908,39.010000000000005,39.111999999999995,39.214,39.316,39.418,39.519999999999996,39.622,39.724000000000004,39.826,39.928,40.03,40.132000000000005,40.234,40.336,40.438,40.54,40.641999999999996,40.744,40.846000000000004,40.948,41.05,41.152,41.254000000000005,41.356,41.458,41.56,41.662,41.763999999999996,41.866,41.968,42.07,42.172,42.274,42.376000000000005,42.478,42.58,42.682,42.784,42.885999999999996,42.988,43.09,43.192,43.294,43.396,43.498000000000005,43.6,43.702,43.804,43.906,44.007999999999996,44.11,44.212,44.314,44.416,44.518,44.620000000000005,44.722,44.824,44.926,45.028,45.13,45.232,45.334,45.436,45.538,45.64,45.742,45.844,45.946,46.048,46.15,46.252,46.354,46.456,46.558,46.66,46.762,46.864,46.966,47.068,47.17,47.272,47.374,47.476,47.578,47.68,47.782,47.884,47.986,48.088,48.19,48.292,48.394,48.496,48.598,48.7,48.802,48.904,49.006,49.108,49.21,49.312,49.414,49.516,49.618,49.72,49.822,49.924,50.026,50.128,50.23,50.332,50.434,50.536,50.638,50.74,50.842,50.944,51.046,51.148,51.25,51.352,51.454,51.556,51.658,51.76,51.862,51.964,52.066,52.168,52.27,52.372,52.474,52.576,52.678,52.78,52.882,52.984,53.086,53.188,53.29,53.392,53.494,53.596,53.698,53.8,53.902,54.004,54.106,54.208,54.31,54.412,54.514,54.616,54.718,54.82,54.922,55.024,55.126,55.228,55.33,55.432,55.534,55.636,55.738,55.84,55.942,56.044,56.146,56.248,56.35,56.452,56.554,56.656,56.758,56.86,56.962,57.064,57.166,57.268,57.37,57.472,57.574,57.676,57.778,57.88,57.982,58.084,58.186,58.288,58.39,58.492,58.594,58.696,58.798,58.9,59.002,59.104,59.206,59.308,59.41,59.512,59.614,59.716,59.818,59.92,60.022,60.124,60.226,60.328,60.43,60.532,60.634,60.736,60.838,60.94,61.042,61.144,61.246,61.348,61.45,61.552,61.654,61.756,61.858,61.96,62.062,62.164,62.266,62.368,62.47,62.572,62.674,62.776,62.878,62.98,63.082,63.184,63.286,63.388,63.49,63.592,63.694,63.796,63.898],\"xaxis\":\"x\",\"y\":[0.0009943843609639478,0.001088892152405632,0.0011903766284214721,0.001299744336053265,0.0014179648441783503,0.0015460284686114223,0.0016848999849011495,0.0018354722593929547,0.0019985240273622125,0.0021746859406687816,0.0023644184790392515,0.0025680043969033913,0.002785557135692009,0.003017045184078722,0.003262330859923822,0.0035212205760947616,0.00379352249261088,0.0040791066821685784,0.004377962638840779,0.004690249183747612,0.00501633255339121,0.005356809627268581,0.005712514744684968,0.006084510224827078,0.006474062369127642,0.006882606219757643,0.0073117035177321064,0.007762999024022324,0.008238180554639766,0.008738947702841292,0.00926699329889591,0.00982400026410577,0.01041165477382596,0.011031674717153748,0.011685850518882518,0.012376093672269765,0.01310448700935199,0.013873329968817448,0.014685172020563877,0.015542828018266553,0.016449370551983953,0.01740809626542179,0.018422465424834864,0.019496016565322218,0.02063226054924109,0.02183456059411557,0.02310600652078128,0.024449292431366846,0.025866607106940998,0.027359545553441875,0.028929048355207862,0.03057537295457223,0.03229809789762534,0.03409615778473978,0.035967903500116145,0.037911179633019196,0.03992340916404443,0.042001674703443195,0.04414278594170035,0.046343324473442034,0.04859965962125254,0.05090793204794003,0.05326400547275208,0.05566339034777973,0.05810114657563619,0.06057177497661429,0.06306910902445144,0.0655862192114804,0.06811534218764877,0.07064784552068883,0.0731742365967596,0.07568422095823915,0.0781668114945371,0.08061048569829668,0.08300338409246895,0.08533353938051536,0.0875891233010626,0.08975869690555408,0.09183145017368442,0.09379741847454125,0.09564766609500099,0.09737443044801056,0.0989712241202275,0.1004328951218506,0.10175564818602274,0.10293703154197426,0.10397589427119801,0.10487231933761675,0.10562753694570726,0.1062438223224151,0.1067243815629133,0.1070732289349086,0.10729505898275958,0.10739511680105669,0.10737906981397008,0.10725288418345343,0.10702270852863183,0.10669476700614808,0.10627526307849806,0.10577029461172376,0.10518578040398582,0.10452739790762612,0.10380053175987909,0.10301023271823498,0.10216118662337603,0.10125769301324869,0.1003036529559383,0.09930256557040976,0.09825753261286789,0.09717127047868891,0.09604612904407743,0.09488411694398591,0.09368693310952884,0.09245600459539204,0.0911925308387076,0.08989753444978965,0.08857191842390585,0.08721652930190775,0.08583222534129382,0.08441994823840547,0.08298079640289939,0.08151609724394117,0.08002747538592833,0.07851691320056599,0.07698679956219125,0.07543996239105241,0.07387968047751342,0.07230967043415683,0.07073404554037697,0.06915724480105628,0.06758393270669608,0.06601887280364427,0.06446678098824168,0.06293216707529829,0.06141917528163206,0.05993143547201045,0.058471937097889455,0.05704293661817344,0.05564590687847188,0.05428153363897505,0.05294976049468587,0.051649879214041246,0.05038065845188675,0.049140500277389365,0.047927611353933294,0.04674017419223731,0.045576503838605315,0.044435176700155586,0.04331512085307975,0.042215660897779034,0.041136514864376535,0.040077745392851825,0.03903967193034749,0.03802275453198853,0.037027462617464674,0.03605414343613331,0.03510290489101385,0.034173525790921276,0.033265403719061705,0.03237754683319276,0.03150861144559752,0.030656982616585282,0.02982089068258321,0.028998553041029565,0.028188327968480805,0.027388865993269,0.026599244493777516,0.025819072726159416,0.025048557241705037,0.02428852134886266,0.023540376524350676,0.022806048039035555,0.02208786108727125,0.02138839698855049,0.020710331258868935,0.020056266349140046,0.019428571592305717,0.018829241508105932,0.018259781324979008,0.017721125713616767,0.017213593640614703,0.01673687928214099,0.016290076368436237,0.01587173135653229,0.015479919548179373,0.015112337682495437,0.014766406555519519,0.014439377710047609,0.01412843902736401,0.013830814965881729,0.013543858084196425,0.013265129256663446,0.012992464592486225,0.012724027514006914,0.012458344790888197,0.012194325646227064,0.011931263435130747,0.011668819915219768,0.011406992815027063,0.011146068246873366,0.010886560444579597,0.010629142234132838,0.010374570446538615,0.010123611035836755,0.009876968871874019,0.009635226975661769,0.00939879934257575,0.00916790049443931,0.00894253360107083,0.008722497535702886,0.008507411717197422,0.008296756189071936,0.008089923222364995,0.007886275911425473,0.007685208827234312,0.007486205827041139,0.007288890571855271,0.007093066112125678,0.006898740969326637,0.006706140346686156,0.006515702317560052,0.006328059944931456,0.006144011183800845,0.005964479048676678,0.005790464871128802,0.005622997548163932,0.0054630815448943664,0.005311646138992928,0.005169498059080343,0.0050372793433183264,0.004915431973936747,0.004804170643710615,0.0047034648657295775,0.004613031506318639,0.004532338645245268,0.004460621387973607,0.00439690982463602,0.004340068727538363,0.00428884781509273,0.0042419405339254885,0.004198048405716702,0.004155947159757214,0.004114550246506391,0.0040729650162316935,0.00403053694108551,0.003986877809786611,0.003941874830761079,0.0038956789844819015,0.0038486726565828537,0.0038014184035615,0.0037545924686329273,0.0037089081867456228,0.0036650355222759574,0.0036235235365210472,0.0035847325066738684,0.003548781701707954,0.003515517520721452,0.0034845049365334166,0.00345504313313654,0.003426204083554426,0.0033968907981592506,0.003365910282479509,0.0033320550423825953,0.003294186374151228,0.003251312722765761,0.0032026570591028826,0.003147708425126863,0.0030862543805930194,0.0030183928745597904,0.002944523866166037,0.0028653226482746597,0.0027816981334983673,0.0026947402421597295,0.002605660940827618,0.0025157334313014265,0.0024262335471120743,0.0023383866785893427,0.0022533226386548303,0.002172039921463245,0.0020953799019664807,0.002024010757361123,0.001958420309938322,0.0018989166112898584,0.0018456348983115398,0.001798549519936163,0.001757489517007067,0.0017221566911144346,0.0016921451816700182,0.001666961753877418,0.0016460461649929273,0.0016287911145566572,0.0016145613964181663,0.001602711961255023,0.0015926046737577452,0.00158362361287034,0.0015751888174337341,0.0015667684212330372,0.0015578891470679548,0.001548145135770973,0.001537205072484256,0.0015248175426482208,0.0015108145124725734,0.0014951127954042451,0.0014777133511866291,0.0014586982801318932,0.0014382254304579848,0.001416520632466458,0.0013938677035525723,0.0013705965187103162,0.0013470695930869199,0.0013236677548161494,0.0013007755778819297,0.0012787672811686802,0.0012579937736873323,0.001238771438453912,0.0012213731081960424,0.001206021511140584,0.0011928852747109253,0.0011820773900246247,0.0011736558795591415,0.0011676262887762622,0.0011639455485570693,0.0011625267314062664,0.0011632442471369848,0.0011659390851334606,0.0011704237993123412,0.0011764870363260708,0.0011838975154702378,0.0011924074697904025,0.0012017556438578105,0.0012116700088076985,0.0012218703958838445,0.001232071264029848,0.0012419848044784658,0.0012513245464470673,0.0012598095648787726,0.0012671693073140027,0.0012731489583073315,0.0012775151547823366,0.0012800617653120475,0.0012806153632594105,0.0012790399710718567,0.0012752406422053852,0.001269165485746898,0.0012608058286959591,0.0012501943471010487,0.00123740116796677,0.0012225281314541406,0.0012057015862380843,0.0011870642481479983,0.001166766763941654,0.0011449596737955715,0.0011217864502160362,0.0010973782075896642,0.0010718505328735724,0.0010453026975907583,0.0010178192925093424,0.0009894740998870877,0.0009603358052881207,0.0009304749717901596,0.0008999715710230143,0.0008689223006381505,0.0008374469236111526,0.0008056929418139078,0.0007738380582100492,0.0007420900757478306,0.0007106841077464406,0.0006798772115792809,0.0006499407806330209,0.0006211512162517494,0.0005937795334403252,0.0005680806200580084,0.0005442828658731616,0.0005225788104429587,0.0005031173400414628,0.0004859978117963368,0.0004712663182318148,0.00045891414727179745,0.0004488783576270525,0.00044104428799417487,0.0004352497546938088,0.0004312906639706528,0.0004289277647597534,0.0004278942848002292,0.00042790421634716924,0.00042866103774901317,0.000429866667472731,0.0004312304456393438,0.00043247792682515917,0.00043335925209212617,0.0004336568549133461,0.00043319225165071063,0.00043183167740337345,0.0004294903541508311,0.0004261352184253759,0.00042178598550971587,0.0004165144798654745,0.00041044221066917873,0.00040373621231427204,0.0003966032011579994,0.0003892821242252253,0.00038203519922682826,0.0003751375766081049,0.00036886580210487044,0.00036348532885237603,0.0003592374232312362,0.0003563259238037655,0.00035490443646679724,0.00035506466377468516,0.00035682665070379963,0.000360131760554468,0.0003648391538396626,0.00037072641734914406,0.0003774947775684373,0.00038477904165476316,0.0003921620617244045,0.00039919314620575735,0.0004054094843109008,0.0004103593471982163,0.000413625619564011,0.0004148481267037004,0.0004137432696496679,0.0004101196639189686,0.0004038887783588547,0.00039506995783248136,0.00038378964511190454,0.0003702750469533441,0.00035484287245531927,0.0003378840718929283,0.00031984569728447736,0.00030121108309881116,0.00028247951311240085,0.00026414641684160387,0.000246684954473757,0.0002305296347838768,0.0002160623965389816,0.00020360139463624765,0.00019339258286249798,0.0001856040806839701,0.00018032324754352612,0.000177556353583022,0.00017723071597947293,0.00017919915099028844,0.0001832465627129908,0.0001890984455285544,0.0001964310196360136,0.0002048826550164473,0.00021406617922467813,0.00022358162017161064,0.000233028916259115,0.0002420201384723487,0.00025019081251374564,0.0002572099984835686,0.00026278887133071983,0.00026668763539111504,0.00026872068912278695,0.00026876002262783114,0.0002667368761654685,0.00026264171327031584,0.00025652257276584237,0.00024848186869982734,0.00023867171592686877,0.00022728788026747415,0.00021456249091059354,0.00020075570910807065,0.00018614661609797227,0.00017102365499520428,0.00015567502379766303,0.00014037945698989421,0.00012539784085978983,0.00011096607608460978,9.728952934497245e-05,8.453930843714473e-05,7.285046247165268e-05,6.232206385399543e-05,5.3018987135262454e-05,4.497507638061067e-05,3.819729999151636e-05,3.267043873758101e-05,2.836184335487916e-05,2.5225832001925054e-05,2.3207370407668533e-05,2.2244780529340992e-05,2.2271346396925864e-05,2.3215816701573066e-05,2.5001930485933736e-05,2.754720358398822e-05,3.076129925873891e-05,3.4544358940380084e-05,3.87856829077432e-05,4.3363124177481785e-05,4.814349326630614e-05,5.298417200887052e-05,5.7736009874260823e-05,6.224743783041269e-05,6.636959642591152e-05,6.996215084328542e-05,7.289936991562089e-05,7.507598978327011e-05,7.641237340832847e-05],\"yaxis\":\"y\",\"type\":\"scatter\"},{\"legendgroup\":\"Silver\",\"marker\":{\"color\":\"rgb(44, 160, 44)\"},\"mode\":\"lines\",\"name\":\"Silver\",\"showlegend\":true,\"x\":[11.0,11.124,11.248,11.372,11.496,11.62,11.744,11.868,11.992,12.116,12.24,12.364,12.488,12.612,12.736,12.86,12.984,13.108,13.232,13.356,13.48,13.604,13.728,13.852,13.975999999999999,14.1,14.224,14.347999999999999,14.472,14.596,14.72,14.844,14.968,15.091999999999999,15.216000000000001,15.34,15.464,15.588000000000001,15.712,15.836,15.96,16.084,16.208,16.332,16.456,16.58,16.704,16.828,16.951999999999998,17.076,17.2,17.323999999999998,17.448,17.572,17.695999999999998,17.82,17.944,18.067999999999998,18.192,18.316,18.44,18.564,18.688,18.812,18.936,19.060000000000002,19.183999999999997,19.308,19.432000000000002,19.555999999999997,19.68,19.804000000000002,19.928,20.052,20.176000000000002,20.3,20.424,20.548000000000002,20.672,20.796,20.92,21.044,21.168,21.292,21.416,21.54,21.664,21.788,21.912,22.036,22.16,22.284,22.408,22.532,22.656,22.78,22.904,23.028,23.152,23.276,23.4,23.524,23.648,23.772,23.896,24.02,24.144,24.268,24.392,24.516,24.64,24.764,24.887999999999998,25.012,25.136,25.259999999999998,25.384,25.508,25.631999999999998,25.756,25.880000000000003,26.003999999999998,26.128,26.252000000000002,26.375999999999998,26.5,26.624000000000002,26.747999999999998,26.872,26.996000000000002,27.12,27.244,27.368,27.492,27.616,27.74,27.864,27.988,28.112,28.236,28.36,28.484,28.608,28.732,28.856,28.98,29.104,29.228,29.352,29.476,29.6,29.724,29.848,29.972,30.096,30.22,30.344,30.468,30.592,30.716,30.84,30.964,31.088,31.212,31.336,31.46,31.584,31.708,31.832,31.956,32.08,32.204,32.328,32.452,32.576,32.7,32.824,32.948,33.072,33.196,33.32,33.444,33.568,33.692,33.816,33.94,34.064,34.188,34.312,34.436,34.56,34.684,34.808,34.932,35.056,35.18,35.304,35.428,35.552,35.676,35.8,35.924,36.048,36.172,36.296,36.42,36.544,36.668,36.792,36.916,37.04,37.164,37.288,37.412,37.536,37.66,37.784,37.908,38.032,38.156,38.28,38.403999999999996,38.528,38.652,38.775999999999996,38.9,39.024,39.147999999999996,39.272,39.396,39.519999999999996,39.644,39.768,39.891999999999996,40.016,40.14,40.263999999999996,40.388000000000005,40.512,40.635999999999996,40.760000000000005,40.884,41.007999999999996,41.132000000000005,41.256,41.379999999999995,41.504000000000005,41.628,41.751999999999995,41.876000000000005,42.0,42.123999999999995,42.248000000000005,42.372,42.495999999999995,42.620000000000005,42.744,42.867999999999995,42.992000000000004,43.116,43.24,43.364,43.488,43.612,43.736,43.86,43.984,44.108,44.232,44.356,44.48,44.604,44.728,44.852,44.976,45.1,45.224,45.348,45.472,45.596,45.72,45.844,45.968,46.092,46.216,46.34,46.464,46.588,46.712,46.836,46.96,47.084,47.208,47.332,47.456,47.58,47.704,47.828,47.952,48.076,48.2,48.324,48.448,48.572,48.696,48.82,48.944,49.068,49.192,49.316,49.44,49.564,49.688,49.812,49.936,50.06,50.184,50.308,50.432,50.556,50.68,50.804,50.928,51.052,51.176,51.3,51.424,51.548,51.672,51.796,51.92,52.044,52.168,52.292,52.416,52.54,52.664,52.788,52.912,53.036,53.16,53.284,53.408,53.532,53.656,53.78,53.904,54.028,54.152,54.276,54.4,54.524,54.648,54.772,54.896,55.02,55.144,55.268,55.392,55.516,55.64,55.764,55.888,56.012,56.136,56.26,56.384,56.508,56.632,56.756,56.88,57.004,57.128,57.252,57.376,57.5,57.624,57.748,57.872,57.996,58.12,58.244,58.368,58.492,58.616,58.74,58.864,58.988,59.112,59.236,59.36,59.484,59.608,59.732,59.856,59.98,60.104,60.228,60.352,60.476,60.6,60.724,60.848,60.972,61.096,61.22,61.344,61.468,61.592,61.716,61.84,61.964,62.088,62.212,62.336,62.46,62.584,62.708,62.832,62.956,63.08,63.204,63.328,63.452,63.576,63.7,63.824,63.948,64.072,64.196,64.32,64.444,64.568,64.69200000000001,64.816,64.94,65.064,65.188,65.312,65.436,65.56,65.684,65.80799999999999,65.932,66.056,66.18,66.304,66.428,66.55199999999999,66.676,66.8,66.924,67.048,67.172,67.29599999999999,67.42,67.544,67.668,67.792,67.916,68.03999999999999,68.164,68.288,68.412,68.536,68.66,68.78399999999999,68.908,69.032,69.156,69.28,69.404,69.52799999999999,69.652,69.77600000000001,69.9,70.024,70.148,70.27199999999999,70.396,70.52000000000001,70.644,70.768,70.892,71.01599999999999,71.14,71.26400000000001,71.388,71.512,71.636,71.75999999999999,71.884,72.00800000000001,72.132,72.256,72.38,72.50399999999999,72.628,72.75200000000001,72.876],\"xaxis\":\"x\",\"y\":[0.0002568796612682423,0.0002896965766720825,0.00032494855817333457,0.0003628400838578364,0.0004036778741579252,0.00044789014551264067,0.0004960398936492406,0.0005488293069477752,0.0006070928346762499,0.0006717773679983311,0.0007439094140085593,0.000824550936573622,0.0009147474844093974,0.0010154740271588335,0.0011275852325381473,0.0012517774139625788,0.0013885688094697787,0.0015383031120705817,0.0017011783410058438,0.0018772995138758434,0.002066749634548386,0.0022696698710414063,0.002486337128493102,0.0027172261293302437,0.002963044024096129,0.0032247286273326763,0.0035034064229666822,0.003800312981037785,0.00411668552679608,0.004453644034970006,0.004812082229069997,0.005192592170765572,0.005595444913088194,0.006020644584144025,0.0064680644553891335,0.006937661855324982,0.0074297556454557346,0.007945337273926855,0.008486376272268358,0.009056075457173825,0.009659031563057249,0.01030126428113466,0.010990090407068533,0.01173383859251529,0.012541421665262975,0.013421804558318368,0.014383423274450963,0.015433621021156852,0.01657816952939085,0.017820935728939846,0.01916373700981673,0.020606404368332318,0.022147045162195313,0.023782470043588994,0.025508726019104987,0.027321662969778046,0.029217456576265278,0.031193017033717272,0.033246229109274356,0.0353759924245919,0.037582057779583816,0.039864681943507695,0.04222414595654548,0.04466019772918045,0.047171486865900385,0.04975505775161725,0.052405956881903644,0.05511699413759836,0.057878677903536305,0.06067932363652766,0.06350531755290878,0.06634150373249226,0.06917165529554699,0.07197898838339359,0.07474668036083704,0.0774583591650897,0.08009853712502697,0.08265296839073076,0.08510891372251696,0.08745530011759395,0.08968276662764794,0.09178359297225305,0.09375151504963126,0.09558144126445775,0.0972690948685801,0.09881061859991397,0.1002021867735451,0.1014396746777186,0.10251843419620774,0.10343321730739034,0.10417827563864264,0.10474764557117917,0.10513560627680102,0.10533727500663506,0.10534928294679387,0.10517045921032607,0.10480244295010743,0.10425014614083206,0.10352200277973805,0.10262996274745026,0.10158921723014082,0.10041767306125958,0.09913522086577768,0.09776286240519604,0.0963217734541148,0.09483237926683317,0.09331351147900875,0.09178170077366371,0.09025064206149935,0.0887308513293167,0.08722951795019984,0.08575054429132706,0.08429475599521871,0.08286026064090336,0.08144292849128491,0.08003696559269258,0.07863554587467803,0.07723146498617178,0.0758177749857774,0.07438835686693833,0.072938388740502,0.07146467269228973,0.06996579365832307,0.06844209890699782,0.06689550551983983,0.06532916321905702,0.06374701797065498,0.06215333493575233,0.06055224509164391,0.058947376854581054,0.05734162234613827,0.05573706897244869,0.05413510327824367,0.05253666887012701,0.050942637104655825,0.049354231515348956,0.047773437265098785,0.0462033268918498,0.04464824360301363,0.04311380227068942,0.041606693607007875,0.04013430518094792,0.038704199807651676,0.03732351330406637,0.03599834633596185,0.03473322711564278,0.03353071278811003,0.032391178946810546,0.03131282178425034,0.03029186976491419,0.029322975518608813,0.028399737582730206,0.027515288383030957,0.0266628808000742,0.025836410717847653,0.025030825635713867,0.024242387267416083,0.023468776031671836,0.02270904443554194,0.021963442040564204,0.021233145328267554,0.020519930735844457,0.019825828805068644,0.01915279293584435,0.018502409231528478,0.017875665970028442,0.017272793647845924,0.016693180153321784,0.016135360724564018,0.015597078778119495,0.0150754110167688,0.014566947925796058,0.014068018449805942,0.013574945158535955,0.013084313711785958,0.01259323833589532,0.01209960389333632,0.0116022655171103,0.01110118906105435,0.010597519828658829,0.010093572839874674,0.009592744577500404,0.009099352803444137,0.008618416715803259,0.008155393695798843,0.007715890802487874,0.007305369083758376,0.006928857142040616,0.006590687911426678,0.006294269976289658,0.006041902508404554,0.005834641212837256,0.005672221391722934,0.005553042931932262,0.0054742201761328255,0.005431696836614055,0.005420422232836534,0.005434580429587675,0.005467858933145321,0.005513739309345251,0.0055657892925119745,0.00561793534248725,0.00566469649542586,0.0057013645989889995,0.005724122036968156,0.005730094922287649,0.005717346428211347,0.005684820469964234,0.005632249631823036,0.005560042707801075,0.005469166517727897,0.005361034128207082,0.005237407818887035,0.005100320752294496,0.004952016982236463,0.004794905738273424,0.004631523292714731,0.004464494447727236,0.004296485913551017,0.004130145557118774,0.003968024476769168,0.0038124827144008907,0.0036655836011502524,0.0035289855891687707,0.0034038432745830552,0.003290730583002716,0.0031895983941410315,0.0030997761485634582,0.0030200224693465805,0.0029486241273083266,0.0028835366022594293,0.002822553973238977,0.0027634917851403124,0.0027043645577950093,0.002643540068041036,0.0025798553944877513,0.002512684532109509,0.0024419534151972756,0.0023681045136269606,0.0022920188572678637,0.0022149076112017926,0.002138187655632628,0.0020633558431946203,0.0019918748779266947,0.0019250805315211568,0.0018641158102503529,0.0018098933953240941,0.0017630838290249168,0.0017241239925846088,0.0016932387073031446,0.0016704678679876092,0.0016556922805949863,0.0016486530729930358,0.001648961836670143,0.0016561011576288677,0.0016694175356003118,0.0016881105495621378,0.0017112232606249548,0.0017376391082529758,0.0017660899258677772,0.001795178271333949,0.0018234152445119106,0.0018492726474121082,0.0018712460853372147,0.0018879237643804122,0.0018980546099894094,0.0019006091008659082,0.0018948269221841737,0.0018802470731618176,0.0018567181595732813,0.0018243889164818016,0.0017836811740153662,0.0017352491824516474,0.0016799302407643575,0.0016186918490297712,0.0015525801874279723,0.0014826737753106626,0.0014100449034190636,0.0013357300894870144,0.0012607095778058356,0.0011858949246286083,0.0011121230563427755,0.0010401548708428758,0.0009706764454132459,0.0009043011592257115,0.0008415714618993202,0.0007829595407993743,0.000728866677132169,0.0006796215575974896,0.0006354781596644567,0.0005966140098757518,0.0005631296086643201,0.0005350496355946185,0.0005123262384807544,0.000494844332864847,0.0004824284689107896,0.0004748505309836338,0.0004718373750310155,0.0004730775100400346,0.00047822609465026473,0.00048690782528622783,0.0004987176944869288,0.0005132200405534174,0.0005299467287128885,0.0005483956358759019,0.0005680307974473587,0.0005882855690144312,0.0006085699304300825,0.0006282826137304452,0.0006468281015449068,0.0006636377875379936,0.0006781938164300883,0.0006900534516400605,0.0006988713798178575,0.0007044172585795314,0.0007065861065058442,0.0007053998195233411,0.0007009991017041093,0.000693626285232865,0.0006836007062372397,0.0006712893120671955,0.0006570758363308414,0.0006413320784653206,0.0006243945255421946,0.0006065487950570218,0.0005880232696288943,0.0005689920010722849,0.0005495856713922964,0.000529908298318357,0.0005100566198416389,0.0004901387914480924,0.0004702892216222059,0.0004506770254722796,0.0004315065963333537,0.0004130100310779208,0.00039543241448397815,0.00037901208318792424,0.00036395878416284837,0.0003504329972844716,0.0003385295534036454,0.00032826807026409245,0.00031959174223807074,0.0003123748072580221,0.0003064377604083257,0.0003015682783434885,0.0002975450275967844,0.0002941611689281652,0.0002912444883686468,0.0002886716594312869,0.0002863750773249516,0.0002843418585499397,0.0002826057906787769,0.00028123406597156144,0.0002803113798468144,0.0002799243076519337,0.00028014873855501703,0.00028104256017244273,0.00028264483459541277,0.00028498152406905894,0.0002880765882764441,0.0002919661746342734,0.0002967128363102197,0.0003024163811368941,0.0003092181608932216,0.0003172963629556493,0.00032685109243000215,0.0003380795827479222,0.0003511435348028637,0.00036613211194059907,0.00038302526244073223,0.00040166259203609957,0.0004217228305113097,0.0004427179958068121,0.0004640047415918768,0.00048481327916650616,0.0005042919806963847,0.0005215636343786571,0.0005357876623559858,0.0005462216942778323,0.0005522758661535541,0.0005535540961125001,0.0005498782400934822,0.000541293192597506,0.0005280533354913886,0.0005105929007908232,0.000489484496760775,0.0004653910421684821,0.0004390165779206894,0.0004110609238410379,0.0003821820737052013,0.0003529687956794696,0.00032392437296756944,0.0002954610053947048,0.0002679032682527389,0.00024149829024866065,0.00021642999444365172,0.00019283480775605683,0.00017081660377615124,0.00015045919423724557,0.00013183531685600542,0.00011501168466275353,0.0001000501918029088,8.700577021918807e-05,7.592164761705076e-05,6.682288208454968e-05,5.9709072493996436e-05,5.454710349458612e-05,5.126471368973528e-05,4.974559822686116e-05,4.9826679012726546e-05,5.129808738962498e-05,5.3906284421657716e-05,5.73605695769109e-05,6.134298413970623e-05,6.552130279889067e-05,6.956444933496137e-05,7.315931534002689e-05,7.602766394732179e-05,7.794162543718844e-05,7.873628820115092e-05,7.831808181366087e-05,7.666803047476161e-05,7.383948168823319e-05,6.995051505842407e-05,6.517182203339866e-05,5.97113323290723e-05,5.3797176538206356e-05,4.7660676517438506e-05,4.152094095328774e-05,3.5572343332739074e-05,2.9975730767170802e-05,2.485372674322481e-05,2.029002141611289e-05,1.633214987362027e-05,1.2996981280046855e-05,1.0277994806989352e-05,8.153393723056075e-06,6.5941818232924976e-06,5.571462534109504e-06,5.062386217172606e-06,5.054337895521238e-06,5.547109512899078e-06,6.5529339171003045e-06,8.09437835134445e-06,1.0200215532107082e-05,1.2899522658486867e-05,1.621440948655755e-05,2.0151942229011326e-05,2.469599449001383e-05,2.979989240404063e-05,3.538079432493199e-05,4.131672160897769e-05,4.744701072890129e-05,5.357667959905633e-05,5.948480702189312e-05,6.493655287656376e-05,6.969795884612559e-05,7.355223874924824e-05,7.631596770951444e-05,7.785347012497092e-05,7.808782031554361e-05,7.700720394202337e-05,7.466590261251674e-05,7.117978667979398e-05,6.671684083129422e-05,6.148380935408437e-05,5.571045251237644e-05,4.963309985682135e-05,4.347915418991451e-05,3.7453962024072196e-05,3.173107406463248e-05,2.6446442949339856e-05,2.169662046543966e-05,1.7540589323613426e-05,1.4004542884915047e-05,1.1088733311094468e-05,8.775443541796878e-06,7.0371809188320605e-06,5.844308045875214e-06,5.171484411050845e-06,5.00245996113756e-06,5.332918876343313e-06,6.171210271743733e-06,7.536925758424147e-06,9.457402571967404e-06,1.1962358187298574e-05,1.5077006938614459e-05,1.881417111793661e-05,2.3166066335410196e-05,2.809658959591777e-05,3.3535035877653546e-05,3.937217986190517e-05,4.545955457407848e-05,5.161252322288574e-05,5.761738105365723e-05,6.324227193969708e-05,6.825121427380108e-05,7.242007319871291e-05,7.555296661010465e-05,7.749741643008239e-05],\"yaxis\":\"y\",\"type\":\"scatter\"},{\"legendgroup\":\"Bronze\",\"marker\":{\"color\":\"rgb(214, 39, 40)\"},\"mode\":\"lines\",\"name\":\"Bronze\",\"showlegend\":true,\"x\":[10.0,10.124,10.248,10.372,10.496,10.62,10.744,10.868,10.992,11.116,11.24,11.364,11.488,11.612,11.736,11.86,11.984,12.108,12.232,12.356,12.48,12.604,12.728,12.852,12.975999999999999,13.1,13.224,13.347999999999999,13.472,13.596,13.72,13.844,13.968,14.091999999999999,14.216000000000001,14.34,14.464,14.588000000000001,14.712,14.836,14.96,15.084,15.208,15.332,15.456,15.58,15.704,15.828,15.952,16.076,16.2,16.323999999999998,16.448,16.572,16.695999999999998,16.82,16.944,17.067999999999998,17.192,17.316,17.44,17.564,17.688,17.812,17.936,18.060000000000002,18.183999999999997,18.308,18.432000000000002,18.555999999999997,18.68,18.804000000000002,18.928,19.052,19.176000000000002,19.3,19.424,19.548000000000002,19.672,19.796,19.92,20.044,20.168,20.292,20.416,20.54,20.664,20.788,20.912,21.036,21.16,21.284,21.408,21.532,21.656,21.78,21.904,22.028,22.152,22.276,22.4,22.524,22.648,22.772,22.896,23.02,23.144,23.268,23.392,23.516,23.64,23.764,23.887999999999998,24.012,24.136,24.259999999999998,24.384,24.508,24.631999999999998,24.756,24.880000000000003,25.003999999999998,25.128,25.252000000000002,25.375999999999998,25.5,25.624000000000002,25.747999999999998,25.872,25.996000000000002,26.12,26.244,26.368,26.492,26.616,26.74,26.864,26.988,27.112,27.236,27.36,27.484,27.608,27.732,27.856,27.98,28.104,28.228,28.352,28.476,28.6,28.724,28.848,28.972,29.096,29.22,29.344,29.468,29.592,29.716,29.84,29.964,30.088,30.212,30.336,30.46,30.584,30.708,30.832,30.956,31.08,31.204,31.328,31.452,31.576,31.7,31.824,31.948,32.072,32.196,32.32,32.444,32.568,32.692,32.816,32.94,33.064,33.188,33.312,33.436,33.56,33.684,33.808,33.932,34.056,34.18,34.304,34.428,34.552,34.676,34.8,34.924,35.048,35.172,35.296,35.42,35.544,35.668,35.792,35.916,36.04,36.164,36.288,36.412,36.536,36.66,36.784,36.908,37.032,37.156,37.28,37.403999999999996,37.528,37.652,37.775999999999996,37.9,38.024,38.147999999999996,38.272,38.396,38.519999999999996,38.644,38.768,38.891999999999996,39.016,39.14,39.263999999999996,39.388000000000005,39.512,39.635999999999996,39.760000000000005,39.884,40.007999999999996,40.132000000000005,40.256,40.379999999999995,40.504000000000005,40.628,40.751999999999995,40.876000000000005,41.0,41.123999999999995,41.248000000000005,41.372,41.495999999999995,41.620000000000005,41.744,41.867999999999995,41.992000000000004,42.116,42.24,42.364,42.488,42.612,42.736,42.86,42.984,43.108,43.232,43.356,43.48,43.604,43.728,43.852,43.976,44.1,44.224,44.348,44.472,44.596,44.72,44.844,44.968,45.092,45.216,45.34,45.464,45.588,45.712,45.836,45.96,46.084,46.208,46.332,46.456,46.58,46.704,46.828,46.952,47.076,47.2,47.324,47.448,47.572,47.696,47.82,47.944,48.068,48.192,48.316,48.44,48.564,48.688,48.812,48.936,49.06,49.184,49.308,49.432,49.556,49.68,49.804,49.928,50.052,50.176,50.3,50.424,50.548,50.672,50.796,50.92,51.044,51.168,51.292,51.416,51.54,51.664,51.788,51.912,52.036,52.16,52.284,52.408,52.532,52.656,52.78,52.904,53.028,53.152,53.276,53.4,53.524,53.648,53.772,53.896,54.02,54.144,54.268,54.392,54.516,54.64,54.764,54.888,55.012,55.136,55.26,55.384,55.508,55.632,55.756,55.88,56.004,56.128,56.252,56.376,56.5,56.624,56.748,56.872,56.996,57.12,57.244,57.368,57.492,57.616,57.74,57.864,57.988,58.112,58.236,58.36,58.484,58.608,58.732,58.856,58.98,59.104,59.228,59.352,59.476,59.6,59.724,59.848,59.972,60.096,60.22,60.344,60.468,60.592,60.716,60.84,60.964,61.088,61.212,61.336,61.46,61.584,61.708,61.832,61.956,62.08,62.204,62.328,62.452,62.576,62.7,62.824,62.948,63.072,63.196,63.32,63.444,63.568,63.692,63.816,63.94,64.064,64.188,64.312,64.436,64.56,64.684,64.80799999999999,64.932,65.056,65.18,65.304,65.428,65.55199999999999,65.676,65.8,65.924,66.048,66.172,66.29599999999999,66.42,66.544,66.668,66.792,66.916,67.03999999999999,67.164,67.288,67.412,67.536,67.66,67.78399999999999,67.908,68.032,68.156,68.28,68.404,68.52799999999999,68.652,68.77600000000001,68.9,69.024,69.148,69.27199999999999,69.396,69.52000000000001,69.644,69.768,69.892,70.01599999999999,70.14,70.26400000000001,70.388,70.512,70.636,70.75999999999999,70.884,71.00800000000001,71.132,71.256,71.38,71.50399999999999,71.628,71.75200000000001,71.876],\"xaxis\":\"x\",\"y\":[9.228315831185303e-05,9.655331587868845e-05,0.0001006750868345953,0.00010490535424366644,0.00010953450030903626,0.00011485810220505612,0.00012114752864011116,0.00012862382246594996,0.00013743919339743787,0.00014766971020841593,0.0001593214284793442,0.00017235037714423442,0.00018669480029185402,0.00020231610889348675,0.00021924344849646215,0.0002376159018200553,0.0002577163023165881,0.0002799914979579759,0.00030505559691943135,0.0003336750365490146,0.00036673692313808875,0.00040520460838602254,0.0004500665108224082,0.0005022854279732252,0.0005627558055585741,0.0006322755782540274,0.0007115373888452504,0.0008011415009800311,0.0009016299274985917,0.0010135386263815153,0.001137462459891717,0.0012741262544129826,0.0014244548699570779,0.0015896356513115972,0.0017711678007831266,0.0019708948013476514,0.0021910177154739114,0.0024340887161706996,0.0027029853964224593,0.0030008672021192267,0.0033311158221279967,0.0036972617293377333,0.004102899529423125,0.004551595548864395,0.005046792289521143,0.005591715933916589,0.006189294735788682,0.006842097412937505,0.007552300998566273,0.008321696457004151,0.009151737390872328,0.01004363239028299,0.010998475490461571,0.012017402729783914,0.013101757118475882,0.014253240626497899,0.015474030983505117,0.016766843553593695,0.018134924098683555,0.019581966121880182,0.021111955552277687,0.022728954505661526,0.02443684349051252,0.026239046679043233,0.028138266965666545,0.0301362560797526,0.03223364002556655,0.034429812127421945,0.03672289605965304,0.03910977102357897,0.041586142522291855,0.04414663664980697,0.04678489452757751,0.04949364664159616,0.05226475353039825,0.055089208000968524,0.05795710302893869,0.06085757725050617,0.06377875562300593,0.06670770619753023,0.06963043512232339,0.0725319410195527,0.07539634646555476,0.07820711793991973,0.0809473759910585,0.08360028498572336,0.08614949832951745,0.0885796231808296,0.09087666151280042,0.09302838430523852,0.09502460340128911,0.0968573197427663,0.09852074408999616,0.10001120292564702,0.10132695454900091,0.10246794650000367,0.10343554552787683,0.10423226705902257,0.104861524887848,0.10532741557602072,0.10563454671905802,0.10578791369125935,0.10579282507309064,0.10565487228224629,0.10537993424439426,0.10497420418478881,0.1044442238747916,0.10379691148324097,0.10303957216821763,0.10217988443836136,0.10122585856318748,0.10018576485951303,0.09906802952926773,0.0978810949975805,0.09663324212846404,0.09533237477876937,0.09398577339240666,0.09259983290472376,0.09117980918568762,0.089729605213987,0.08825163108000575,0.08674676958254493,0.08521447149135959,0.0836529922697404,0.08205976654871269,0.08043189962108575,0.07876673863245455,0.07706247218018913,0.07531869801604901,0.07353689659303445,0.07172075462530819,0.06987629755942629,0.06801181105340504,0.06613755580331908,0.0642653030602528,0.06240773590698231,0.06057777113095415,0.05878785771683753,0.05704930207292707,0.05537166007512927,0.05376222528418408,0.05222563405767374,0.05076360312364012,0.04937481323052036,0.04805495206550951,0.04679692830850998,0.04559126405568307,0.0444266632515993,0.0432907388432873,0.04217086228588388,0.04105507845939826,0.03993301080091946,0.03879666977927473,0.03764107656021662,0.03646462523659944,0.03526913151437006,0.03405955082233429,0.03284338961214758,0.031629873703672574,0.030428970160505383,0.02925037868980181,0.02810261155810145,0.02699226703557849,0.025923572886776023,0.024898238203653725,0.02391561003798085,0.022973092137368083,0.02206675209144567,0.021192024229274947,0.020344410536535868,0.01952009042367846,0.018716370186125597,0.01793193076370165,0.017166863350496667,0.016422511794891247,0.015701164420835776,0.015005652980437961,0.014338921625436016,0.013703624480188005,0.013101798494101851,0.012534641593646081,0.01200240793124359,0.011504415170957093,0.011039145481044628,0.010604413494638875,0.010197571250930387,0.009815721507473249,0.009455915700197975,0.009115319800098049,0.00879133892473832,0.008481698560366737,0.008184485751251816,0.007898157173298932,0.0076215226163429866,0.007353712380428227,0.007094135965938061,0.006842437759383604,0.006598453643035421,0.0063621708780692635,0.006133692350710281,0.005913205335449948,0.0057009542780420775,0.0054972167003635155,0.005302281173394584,0.005116426400051601,0.004939900783250465,0.00477290236725397,0.004615559623441243,0.004467914069555518,0.00432990603959412,0.004201364982338419,0.004082005449490869,0.0039714294931153995,0.003869135623465462,0.003774533893353436,0.003686966172127724,0.0036057303176768372,0.003530106774747815,0.0034593861070031126,0.003392896058225358,0.0033300268623457285,0.003270253608053635,0.003213154460623668,0.0031584234480288693,0.0031058763890537805,0.003055448493553964,0.003007182344340363,0.002961205505855853,0.0029176979605833294,0.002876850909191909,0.002838820025910407,0.002803677777284903,0.0027713705763092707,0.002741687048400217,0.002714243296537317,0.002688489662356364,0.0026637411419020624,0.0026392305555691296,0.002614180175401846,0.002587884278697128,0.0025597925716695784,0.002529583117066652,0.0024972136736536765,0.0024629423564869243,0.002427312115227288,0.002391098273217583,0.0023552236025266527,0.0023206503238553623,0.0022882622125154294,0.0022587520082316182,0.002232529181908553,0.0022096607629985584,0.0021898536862505614,0.0021724815901275588,0.002156653009867297,0.002141312348747887,0.0021253607059338597,0.0021077812125690557,0.0020877533031260524,0.0020647422971495242,0.0020385544128868447,0.002009352228150464,0.001977630838622516,0.0019441597269037726,0.0019098989756913187,0.0018759005204001553,0.0018432055379795501,0.0018127480085032468,0.0017852723909592195,0.0017612707643284986,0.0017409422258939493,0.0017241752142613976,0.0017105519455567438,0.0016993733167721408,0.001689702259399896,0.0016804233303199124,0.0016703160026668592,0.001658138446213861,0.0016427175006467445,0.001623039174768004,0.001598332657364298,0.0015681399213872081,0.0015323629710563649,0.0014912819392123987,0.0014455396914924386,0.0013960921597338922,0.0013441278606939023,0.0012909643053182894,0.0012379325355659086,0.001186263174777735,0.0011369876838075623,0.001090866821078787,0.0010483547914174223,0.0010096027261042011,0.0009744996794429858,0.0009427440732404325,0.0009139342593207786,0.0008876642408526118,0.0008636099915299198,0.0008415933349119935,0.0008216137823453431,0.0008038435868405933,0.0007885868535619219,0.0007762090463862347,0.0007670478395788191,0.0007613192991301809,0.0007590343758872104,0.0007599394815049001,0.000763491651956649,0.0007688739439251414,0.0007750509646771144,0.0007808586567463587,0.0007851175092085276,0.0007867549886204515,0.0007849216709178416,0.0007790864772408175,0.0007690993790273487,0.0007552144226726011,0.0007380711822629314,0.0007186379376865217,0.0006981242135540302,0.000677873221811837,0.00065924594435944,0.0006435081161284065,0.0006317295589776664,0.0006247027015693514,0.0006228842927175323,0.0006263617974437267,0.0006348441003547936,0.0006476750400033385,0.0006638678409885583,0.0006821584102302078,0.0007010753664072448,0.0007190242720258787,0.0007343826782263676,0.0007456013189620253,0.0007513053511480269,0.0007503883198473663,0.0007420909586382116,0.0007260573566267734,0.0007023625866031669,0.0006715084947507007,0.0006343876555598391,0.0005922189721886927,0.0005464614660660098,0.000498714934618901,0.0004506170337125081,0.0004037458872683565,0.0003595357248801982,0.00031921068452256304,0.0002837392771954995,0.00025380956355234294,0.00022982319392061902,0.0002119052919299288,0.0001999267122458678,0.00019353532021725207,0.00019219339017880976,0.00019521875972055322,0.00020182782841854672,0.00021117876484398786,0.00022241339530376767,0.00023469627180094596,0.0002472494617371544,0.00025938175641808256,0.00027051129796060413,0.00028018105244444013,0.00028806703948820386,0.00029397967166829096,0.00029785888005454824,0.00029976386292528763,0.0002998583044358122,0.0002983918271895758,0.00029567835251944393,0.00029207202739547385,0.00028794148888054537,0.0002836434781564379,0.00027949713560930723,0.00027576061480503555,0.00027261183817902155,0.0002701351850660129,0.0002683155963771688,0.0002670409992287488,0.0002661131592801271,0.0002652661696999168,0.00026419092458839166,0.0002625632437482026,0.00026007292924408183,0.00025645100440986103,0.00025149270963336013,0.0002450744386353103,0.0002371635770170518,0.00022782101163776322,0.00021719678347257963,0.00020551986384126418,0.00019308330612684917,0.00018022608402797386,0.00016731284263504887,0.0001547126534360841,0.0001427777658029626,0.00013182333951003127,0.00012210922957819987,0.00011382502887728528,0.00010707966998633121,0.000101896847046584,9.821725834853625e-05,9.590815192329223e-05,9.477990054090764e-05,9.460842401331486e-05,9.516135257028508e-05,9.622505073885022e-05,9.76291590310057e-05,9.92652875832447e-05,0.00010109697516783412,0.00010315899161933846,0.00010554541039507932,0.00010838743615163743,0.00011182351608271391,0.00011596555390091909,0.00012086586476098487,0.00012648970023290633,0.00013269766529302136,0.00013924118040306498,0.0001457724537683096,0.0001518684543579716,0.00015706640475621772,0.00016090664589977534,0.00016297762663836058,0.00016295741865393956,0.00016064661217109636,0.0001559886389167314,0.00014907530360933893,0.00014013730401078308,0.00012952146543906073,0.00011765801224842462,0.00010502222254162857,9.209514892626495e-05,7.932774580722776e-05,6.711184238251467e-05,5.576013966791646e-05,4.5496024394526586e-05,3.6452706618321265e-05,2.868017645587947e-05,2.2157841136593216e-05,1.681047068341716e-05,1.2525204557515687e-05,9.167760452831906e-06,6.5965260525366855e-06,4.6737931284040725e-06,3.2739194693489927e-06,2.2886167772242577e-06,1.629833165861909e-06,1.230826410146094e-06,1.0460276529375144e-06,1.0502049706612997e-06,1.2372856252457779e-06,1.6190170641063504e-06,2.223467924881872e-06,3.093215349479715e-06,4.282954079543399e-06,5.856213198925882e-06,7.880891351156814e-06,1.0423428325060632e-05,1.3541618580378932e-05,1.727632659639511e-05,2.1642656037679903e-05,2.6621411180409628e-05,3.215191567065343e-05,3.812736359909119e-05,4.439382262793123e-05,5.075376087374361e-05,5.697453228542291e-05,6.280167041670013e-05,6.797618430649411e-05,7.22544244133873e-05,7.542860054402932e-05,7.734578255640841e-05,7.792325797812631e-05,7.715846759569022e-05,7.51323439673135e-05,7.200564375204031e-05,6.800866789547449e-05,6.342547500743396e-05,5.857420629231494e-05,5.378539290743339e-05,4.938010149091726e-05,4.564953651138795e-05,4.283734287955321e-05,4.11254377604212e-05,4.0623835056080653e-05,4.136466610165515e-05,4.330045870448782e-05,4.630668384110301e-05,5.01885548343935e-05,5.469199788729456e-05,5.951854961066854e-05,6.434365439404873e-05,6.883745387558128e-05,7.268674630838917e-05,7.561643753162164e-05,7.740860547739212e-05],\"yaxis\":\"y\",\"type\":\"scatter\"}],                        {\"barmode\":\"overlay\",\"hovermode\":\"closest\",\"legend\":{\"traceorder\":\"reversed\"},\"xaxis\":{\"anchor\":\"y2\",\"domain\":[0.0,1.0],\"zeroline\":false},\"yaxis\":{\"anchor\":\"free\",\"domain\":[0.0,1],\"position\":0.0},\"template\":{\"data\":{\"histogram2dcontour\":[{\"type\":\"histogram2dcontour\",\"colorbar\":{\"outlinewidth\":0,\"ticks\":\"\"},\"colorscale\":[[0.0,\"#0d0887\"],[0.1111111111111111,\"#46039f\"],[0.2222222222222222,\"#7201a8\"],[0.3333333333333333,\"#9c179e\"],[0.4444444444444444,\"#bd3786\"],[0.5555555555555556,\"#d8576b\"],[0.6666666666666666,\"#ed7953\"],[0.7777777777777778,\"#fb9f3a\"],[0.8888888888888888,\"#fdca26\"],[1.0,\"#f0f921\"]]}],\"choropleth\":[{\"type\":\"choropleth\",\"colorbar\":{\"outlinewidth\":0,\"ticks\":\"\"}}],\"histogram2d\":[{\"type\":\"histogram2d\",\"colorbar\":{\"outlinewidth\":0,\"ticks\":\"\"},\"colorscale\":[[0.0,\"#0d0887\"],[0.1111111111111111,\"#46039f\"],[0.2222222222222222,\"#7201a8\"],[0.3333333333333333,\"#9c179e\"],[0.4444444444444444,\"#bd3786\"],[0.5555555555555556,\"#d8576b\"],[0.6666666666666666,\"#ed7953\"],[0.7777777777777778,\"#fb9f3a\"],[0.8888888888888888,\"#fdca26\"],[1.0,\"#f0f921\"]]}],\"heatmap\":[{\"type\":\"heatmap\",\"colorbar\":{\"outlinewidth\":0,\"ticks\":\"\"},\"colorscale\":[[0.0,\"#0d0887\"],[0.1111111111111111,\"#46039f\"],[0.2222222222222222,\"#7201a8\"],[0.3333333333333333,\"#9c179e\"],[0.4444444444444444,\"#bd3786\"],[0.5555555555555556,\"#d8576b\"],[0.6666666666666666,\"#ed7953\"],[0.7777777777777778,\"#fb9f3a\"],[0.8888888888888888,\"#fdca26\"],[1.0,\"#f0f921\"]]}],\"heatmapgl\":[{\"type\":\"heatmapgl\",\"colorbar\":{\"outlinewidth\":0,\"ticks\":\"\"},\"colorscale\":[[0.0,\"#0d0887\"],[0.1111111111111111,\"#46039f\"],[0.2222222222222222,\"#7201a8\"],[0.3333333333333333,\"#9c179e\"],[0.4444444444444444,\"#bd3786\"],[0.5555555555555556,\"#d8576b\"],[0.6666666666666666,\"#ed7953\"],[0.7777777777777778,\"#fb9f3a\"],[0.8888888888888888,\"#fdca26\"],[1.0,\"#f0f921\"]]}],\"contourcarpet\":[{\"type\":\"contourcarpet\",\"colorbar\":{\"outlinewidth\":0,\"ticks\":\"\"}}],\"contour\":[{\"type\":\"contour\",\"colorbar\":{\"outlinewidth\":0,\"ticks\":\"\"},\"colorscale\":[[0.0,\"#0d0887\"],[0.1111111111111111,\"#46039f\"],[0.2222222222222222,\"#7201a8\"],[0.3333333333333333,\"#9c179e\"],[0.4444444444444444,\"#bd3786\"],[0.5555555555555556,\"#d8576b\"],[0.6666666666666666,\"#ed7953\"],[0.7777777777777778,\"#fb9f3a\"],[0.8888888888888888,\"#fdca26\"],[1.0,\"#f0f921\"]]}],\"surface\":[{\"type\":\"surface\",\"colorbar\":{\"outlinewidth\":0,\"ticks\":\"\"},\"colorscale\":[[0.0,\"#0d0887\"],[0.1111111111111111,\"#46039f\"],[0.2222222222222222,\"#7201a8\"],[0.3333333333333333,\"#9c179e\"],[0.4444444444444444,\"#bd3786\"],[0.5555555555555556,\"#d8576b\"],[0.6666666666666666,\"#ed7953\"],[0.7777777777777778,\"#fb9f3a\"],[0.8888888888888888,\"#fdca26\"],[1.0,\"#f0f921\"]]}],\"mesh3d\":[{\"type\":\"mesh3d\",\"colorbar\":{\"outlinewidth\":0,\"ticks\":\"\"}}],\"scatter\":[{\"fillpattern\":{\"fillmode\":\"overlay\",\"size\":10,\"solidity\":0.2},\"type\":\"scatter\"}],\"parcoords\":[{\"type\":\"parcoords\",\"line\":{\"colorbar\":{\"outlinewidth\":0,\"ticks\":\"\"}}}],\"scatterpolargl\":[{\"type\":\"scatterpolargl\",\"marker\":{\"colorbar\":{\"outlinewidth\":0,\"ticks\":\"\"}}}],\"bar\":[{\"error_x\":{\"color\":\"#2a3f5f\"},\"error_y\":{\"color\":\"#2a3f5f\"},\"marker\":{\"line\":{\"color\":\"#E5ECF6\",\"width\":0.5},\"pattern\":{\"fillmode\":\"overlay\",\"size\":10,\"solidity\":0.2}},\"type\":\"bar\"}],\"scattergeo\":[{\"type\":\"scattergeo\",\"marker\":{\"colorbar\":{\"outlinewidth\":0,\"ticks\":\"\"}}}],\"scatterpolar\":[{\"type\":\"scatterpolar\",\"marker\":{\"colorbar\":{\"outlinewidth\":0,\"ticks\":\"\"}}}],\"histogram\":[{\"marker\":{\"pattern\":{\"fillmode\":\"overlay\",\"size\":10,\"solidity\":0.2}},\"type\":\"histogram\"}],\"scattergl\":[{\"type\":\"scattergl\",\"marker\":{\"colorbar\":{\"outlinewidth\":0,\"ticks\":\"\"}}}],\"scatter3d\":[{\"type\":\"scatter3d\",\"line\":{\"colorbar\":{\"outlinewidth\":0,\"ticks\":\"\"}},\"marker\":{\"colorbar\":{\"outlinewidth\":0,\"ticks\":\"\"}}}],\"scattermapbox\":[{\"type\":\"scattermapbox\",\"marker\":{\"colorbar\":{\"outlinewidth\":0,\"ticks\":\"\"}}}],\"scatterternary\":[{\"type\":\"scatterternary\",\"marker\":{\"colorbar\":{\"outlinewidth\":0,\"ticks\":\"\"}}}],\"scattercarpet\":[{\"type\":\"scattercarpet\",\"marker\":{\"colorbar\":{\"outlinewidth\":0,\"ticks\":\"\"}}}],\"carpet\":[{\"aaxis\":{\"endlinecolor\":\"#2a3f5f\",\"gridcolor\":\"white\",\"linecolor\":\"white\",\"minorgridcolor\":\"white\",\"startlinecolor\":\"#2a3f5f\"},\"baxis\":{\"endlinecolor\":\"#2a3f5f\",\"gridcolor\":\"white\",\"linecolor\":\"white\",\"minorgridcolor\":\"white\",\"startlinecolor\":\"#2a3f5f\"},\"type\":\"carpet\"}],\"table\":[{\"cells\":{\"fill\":{\"color\":\"#EBF0F8\"},\"line\":{\"color\":\"white\"}},\"header\":{\"fill\":{\"color\":\"#C8D4E3\"},\"line\":{\"color\":\"white\"}},\"type\":\"table\"}],\"barpolar\":[{\"marker\":{\"line\":{\"color\":\"#E5ECF6\",\"width\":0.5},\"pattern\":{\"fillmode\":\"overlay\",\"size\":10,\"solidity\":0.2}},\"type\":\"barpolar\"}],\"pie\":[{\"automargin\":true,\"type\":\"pie\"}]},\"layout\":{\"autotypenumbers\":\"strict\",\"colorway\":[\"#636efa\",\"#EF553B\",\"#00cc96\",\"#ab63fa\",\"#FFA15A\",\"#19d3f3\",\"#FF6692\",\"#B6E880\",\"#FF97FF\",\"#FECB52\"],\"font\":{\"color\":\"#2a3f5f\"},\"hovermode\":\"closest\",\"hoverlabel\":{\"align\":\"left\"},\"paper_bgcolor\":\"white\",\"plot_bgcolor\":\"#E5ECF6\",\"polar\":{\"bgcolor\":\"#E5ECF6\",\"angularaxis\":{\"gridcolor\":\"white\",\"linecolor\":\"white\",\"ticks\":\"\"},\"radialaxis\":{\"gridcolor\":\"white\",\"linecolor\":\"white\",\"ticks\":\"\"}},\"ternary\":{\"bgcolor\":\"#E5ECF6\",\"aaxis\":{\"gridcolor\":\"white\",\"linecolor\":\"white\",\"ticks\":\"\"},\"baxis\":{\"gridcolor\":\"white\",\"linecolor\":\"white\",\"ticks\":\"\"},\"caxis\":{\"gridcolor\":\"white\",\"linecolor\":\"white\",\"ticks\":\"\"}},\"coloraxis\":{\"colorbar\":{\"outlinewidth\":0,\"ticks\":\"\"}},\"colorscale\":{\"sequential\":[[0.0,\"#0d0887\"],[0.1111111111111111,\"#46039f\"],[0.2222222222222222,\"#7201a8\"],[0.3333333333333333,\"#9c179e\"],[0.4444444444444444,\"#bd3786\"],[0.5555555555555556,\"#d8576b\"],[0.6666666666666666,\"#ed7953\"],[0.7777777777777778,\"#fb9f3a\"],[0.8888888888888888,\"#fdca26\"],[1.0,\"#f0f921\"]],\"sequentialminus\":[[0.0,\"#0d0887\"],[0.1111111111111111,\"#46039f\"],[0.2222222222222222,\"#7201a8\"],[0.3333333333333333,\"#9c179e\"],[0.4444444444444444,\"#bd3786\"],[0.5555555555555556,\"#d8576b\"],[0.6666666666666666,\"#ed7953\"],[0.7777777777777778,\"#fb9f3a\"],[0.8888888888888888,\"#fdca26\"],[1.0,\"#f0f921\"]],\"diverging\":[[0,\"#8e0152\"],[0.1,\"#c51b7d\"],[0.2,\"#de77ae\"],[0.3,\"#f1b6da\"],[0.4,\"#fde0ef\"],[0.5,\"#f7f7f7\"],[0.6,\"#e6f5d0\"],[0.7,\"#b8e186\"],[0.8,\"#7fbc41\"],[0.9,\"#4d9221\"],[1,\"#276419\"]]},\"xaxis\":{\"gridcolor\":\"white\",\"linecolor\":\"white\",\"ticks\":\"\",\"title\":{\"standoff\":15},\"zerolinecolor\":\"white\",\"automargin\":true,\"zerolinewidth\":2},\"yaxis\":{\"gridcolor\":\"white\",\"linecolor\":\"white\",\"ticks\":\"\",\"title\":{\"standoff\":15},\"zerolinecolor\":\"white\",\"automargin\":true,\"zerolinewidth\":2},\"scene\":{\"xaxis\":{\"backgroundcolor\":\"#E5ECF6\",\"gridcolor\":\"white\",\"linecolor\":\"white\",\"showbackground\":true,\"ticks\":\"\",\"zerolinecolor\":\"white\",\"gridwidth\":2},\"yaxis\":{\"backgroundcolor\":\"#E5ECF6\",\"gridcolor\":\"white\",\"linecolor\":\"white\",\"showbackground\":true,\"ticks\":\"\",\"zerolinecolor\":\"white\",\"gridwidth\":2},\"zaxis\":{\"backgroundcolor\":\"#E5ECF6\",\"gridcolor\":\"white\",\"linecolor\":\"white\",\"showbackground\":true,\"ticks\":\"\",\"zerolinecolor\":\"white\",\"gridwidth\":2}},\"shapedefaults\":{\"line\":{\"color\":\"#2a3f5f\"}},\"annotationdefaults\":{\"arrowcolor\":\"#2a3f5f\",\"arrowhead\":0,\"arrowwidth\":1},\"geo\":{\"bgcolor\":\"white\",\"landcolor\":\"#E5ECF6\",\"subunitcolor\":\"white\",\"showland\":true,\"showlakes\":true,\"lakecolor\":\"white\"},\"title\":{\"x\":0.05},\"mapbox\":{\"style\":\"light\"}}}},                        {\"responsive\": true}                    ).then(function(){\n",
       "                            \n",
       "var gd = document.getElementById('c7dcc96f-3012-4a88-b631-66185be771be');\n",
       "var x = new MutationObserver(function (mutations, observer) {{\n",
       "        var display = window.getComputedStyle(gd).display;\n",
       "        if (!display || display === 'none') {{\n",
       "            console.log([gd, 'removed!']);\n",
       "            Plotly.purge(gd);\n",
       "            observer.disconnect();\n",
       "        }}\n",
       "}});\n",
       "\n",
       "// Listen for the removal of the full notebook cells\n",
       "var notebookContainer = gd.closest('#notebook-container');\n",
       "if (notebookContainer) {{\n",
       "    x.observe(notebookContainer, {childList: true});\n",
       "}}\n",
       "\n",
       "// Listen for the clearing of the current output cell\n",
       "var outputEl = gd.closest('.output');\n",
       "if (outputEl) {{\n",
       "    x.observe(outputEl, {childList: true});\n",
       "}}\n",
       "\n",
       "                        })                };                });            </script>        </div>"
      ]
     },
     "metadata": {},
     "output_type": "display_data"
    }
   ],
   "source": [
    "fig=ff.create_distplot([x1,x2,x3,x4],['Overall','Gold','Silver','Bronze'],show_hist=False,show_rug=False)\n",
    "fig.show()"
   ]
  },
  {
   "cell_type": "markdown",
   "id": "3fa15c4a-c6d3-4d37-a601-b6b31d443418",
   "metadata": {},
   "source": [
    "## Male and Female participation over the years:\n"
   ]
  },
  {
   "cell_type": "code",
   "execution_count": 418,
   "id": "bde916c0-2696-4664-883d-cb2c3754f071",
   "metadata": {},
   "outputs": [],
   "source": [
    "male=athlete[athlete['Sex']=='M'].groupby('Year').count()['Sex'].reset_index()"
   ]
  },
  {
   "cell_type": "code",
   "execution_count": 419,
   "id": "e8eaa2b2-8638-4a60-b4d7-0718274acd13",
   "metadata": {},
   "outputs": [],
   "source": [
    "female=athlete[athlete['Sex']=='F'].groupby('Year').count()['Sex'].reset_index()"
   ]
  },
  {
   "cell_type": "code",
   "execution_count": 424,
   "id": "f99db0f0-4d14-4dc8-a47e-6e2dd4630511",
   "metadata": {},
   "outputs": [],
   "source": [
    "female=female.rename(columns={'Sex':'Female'})\n",
    "male=male.rename(columns={'Sex':'Male'})"
   ]
  },
  {
   "cell_type": "code",
   "execution_count": 429,
   "id": "6c5ddbd1-62b4-48b4-8a02-7b09b9b188f3",
   "metadata": {},
   "outputs": [],
   "source": [
    "temp_df=male.merge(female,on='Year')"
   ]
  },
  {
   "cell_type": "code",
   "execution_count": 435,
   "id": "8e5f36c5-5541-403a-b5ad-5c88ed45545c",
   "metadata": {},
   "outputs": [
    {
     "data": {
      "application/vnd.plotly.v1+json": {
       "config": {
        "plotlyServerURL": "https://plot.ly"
       },
       "data": [
        {
         "hovertemplate": "variable=Male<br>Year=%{x}<br>value=%{y}<extra></extra>",
         "legendgroup": "Male",
         "line": {
          "color": "#636efa",
          "dash": "solid"
         },
         "marker": {
          "symbol": "circle"
         },
         "mode": "lines",
         "name": "Male",
         "orientation": "v",
         "showlegend": true,
         "type": "scatter",
         "x": [
          1900,
          1904,
          1906,
          1908,
          1912,
          1920,
          1924,
          1928,
          1932,
          1936,
          1948,
          1952,
          1956,
          1960,
          1964,
          1968,
          1972,
          1976,
          1980,
          1984,
          1988,
          1992,
          1996,
          2000,
          2004,
          2008,
          2012,
          2016
         ],
         "xaxis": "x",
         "y": [
          1181,
          629,
          757,
          1773,
          1979,
          2280,
          2535,
          2342,
          1382,
          3538,
          3628,
          3463,
          2144,
          3713,
          3210,
          3662,
          4556,
          3317,
          3134,
          4292,
          4606,
          4826,
          4845,
          4293,
          3930,
          3984,
          3673,
          4019
         ],
         "yaxis": "y"
        },
        {
         "hovertemplate": "variable=Female<br>Year=%{x}<br>value=%{y}<extra></extra>",
         "legendgroup": "Female",
         "line": {
          "color": "#EF553B",
          "dash": "solid"
         },
         "marker": {
          "symbol": "circle"
         },
         "mode": "lines",
         "name": "Female",
         "orientation": "v",
         "showlegend": true,
         "type": "scatter",
         "x": [
          1900,
          1904,
          1906,
          1908,
          1912,
          1920,
          1924,
          1928,
          1932,
          1936,
          1948,
          1952,
          1956,
          1960,
          1964,
          1968,
          1972,
          1976,
          1980,
          1984,
          1988,
          1992,
          1996,
          2000,
          2004,
          2008,
          2012,
          2016
         ],
         "xaxis": "x",
         "y": [
          23,
          6,
          6,
          44,
          53,
          73,
          132,
          285,
          162,
          316,
          420,
          407,
          286,
          464,
          498,
          617,
          817,
          1027,
          872,
          1368,
          1664,
          2128,
          2534,
          2788,
          2815,
          2937,
          2909,
          3197
         ],
         "yaxis": "y"
        }
       ],
       "layout": {
        "autosize": true,
        "legend": {
         "title": {
          "text": "variable"
         },
         "tracegroupgap": 0
        },
        "margin": {
         "t": 60
        },
        "template": {
         "data": {
          "bar": [
           {
            "error_x": {
             "color": "#2a3f5f"
            },
            "error_y": {
             "color": "#2a3f5f"
            },
            "marker": {
             "line": {
              "color": "#E5ECF6",
              "width": 0.5
             },
             "pattern": {
              "fillmode": "overlay",
              "size": 10,
              "solidity": 0.2
             }
            },
            "type": "bar"
           }
          ],
          "barpolar": [
           {
            "marker": {
             "line": {
              "color": "#E5ECF6",
              "width": 0.5
             },
             "pattern": {
              "fillmode": "overlay",
              "size": 10,
              "solidity": 0.2
             }
            },
            "type": "barpolar"
           }
          ],
          "carpet": [
           {
            "aaxis": {
             "endlinecolor": "#2a3f5f",
             "gridcolor": "white",
             "linecolor": "white",
             "minorgridcolor": "white",
             "startlinecolor": "#2a3f5f"
            },
            "baxis": {
             "endlinecolor": "#2a3f5f",
             "gridcolor": "white",
             "linecolor": "white",
             "minorgridcolor": "white",
             "startlinecolor": "#2a3f5f"
            },
            "type": "carpet"
           }
          ],
          "choropleth": [
           {
            "colorbar": {
             "outlinewidth": 0,
             "ticks": ""
            },
            "type": "choropleth"
           }
          ],
          "contour": [
           {
            "colorbar": {
             "outlinewidth": 0,
             "ticks": ""
            },
            "colorscale": [
             [
              0,
              "#0d0887"
             ],
             [
              0.1111111111111111,
              "#46039f"
             ],
             [
              0.2222222222222222,
              "#7201a8"
             ],
             [
              0.3333333333333333,
              "#9c179e"
             ],
             [
              0.4444444444444444,
              "#bd3786"
             ],
             [
              0.5555555555555556,
              "#d8576b"
             ],
             [
              0.6666666666666666,
              "#ed7953"
             ],
             [
              0.7777777777777778,
              "#fb9f3a"
             ],
             [
              0.8888888888888888,
              "#fdca26"
             ],
             [
              1,
              "#f0f921"
             ]
            ],
            "type": "contour"
           }
          ],
          "contourcarpet": [
           {
            "colorbar": {
             "outlinewidth": 0,
             "ticks": ""
            },
            "type": "contourcarpet"
           }
          ],
          "heatmap": [
           {
            "colorbar": {
             "outlinewidth": 0,
             "ticks": ""
            },
            "colorscale": [
             [
              0,
              "#0d0887"
             ],
             [
              0.1111111111111111,
              "#46039f"
             ],
             [
              0.2222222222222222,
              "#7201a8"
             ],
             [
              0.3333333333333333,
              "#9c179e"
             ],
             [
              0.4444444444444444,
              "#bd3786"
             ],
             [
              0.5555555555555556,
              "#d8576b"
             ],
             [
              0.6666666666666666,
              "#ed7953"
             ],
             [
              0.7777777777777778,
              "#fb9f3a"
             ],
             [
              0.8888888888888888,
              "#fdca26"
             ],
             [
              1,
              "#f0f921"
             ]
            ],
            "type": "heatmap"
           }
          ],
          "heatmapgl": [
           {
            "colorbar": {
             "outlinewidth": 0,
             "ticks": ""
            },
            "colorscale": [
             [
              0,
              "#0d0887"
             ],
             [
              0.1111111111111111,
              "#46039f"
             ],
             [
              0.2222222222222222,
              "#7201a8"
             ],
             [
              0.3333333333333333,
              "#9c179e"
             ],
             [
              0.4444444444444444,
              "#bd3786"
             ],
             [
              0.5555555555555556,
              "#d8576b"
             ],
             [
              0.6666666666666666,
              "#ed7953"
             ],
             [
              0.7777777777777778,
              "#fb9f3a"
             ],
             [
              0.8888888888888888,
              "#fdca26"
             ],
             [
              1,
              "#f0f921"
             ]
            ],
            "type": "heatmapgl"
           }
          ],
          "histogram": [
           {
            "marker": {
             "pattern": {
              "fillmode": "overlay",
              "size": 10,
              "solidity": 0.2
             }
            },
            "type": "histogram"
           }
          ],
          "histogram2d": [
           {
            "colorbar": {
             "outlinewidth": 0,
             "ticks": ""
            },
            "colorscale": [
             [
              0,
              "#0d0887"
             ],
             [
              0.1111111111111111,
              "#46039f"
             ],
             [
              0.2222222222222222,
              "#7201a8"
             ],
             [
              0.3333333333333333,
              "#9c179e"
             ],
             [
              0.4444444444444444,
              "#bd3786"
             ],
             [
              0.5555555555555556,
              "#d8576b"
             ],
             [
              0.6666666666666666,
              "#ed7953"
             ],
             [
              0.7777777777777778,
              "#fb9f3a"
             ],
             [
              0.8888888888888888,
              "#fdca26"
             ],
             [
              1,
              "#f0f921"
             ]
            ],
            "type": "histogram2d"
           }
          ],
          "histogram2dcontour": [
           {
            "colorbar": {
             "outlinewidth": 0,
             "ticks": ""
            },
            "colorscale": [
             [
              0,
              "#0d0887"
             ],
             [
              0.1111111111111111,
              "#46039f"
             ],
             [
              0.2222222222222222,
              "#7201a8"
             ],
             [
              0.3333333333333333,
              "#9c179e"
             ],
             [
              0.4444444444444444,
              "#bd3786"
             ],
             [
              0.5555555555555556,
              "#d8576b"
             ],
             [
              0.6666666666666666,
              "#ed7953"
             ],
             [
              0.7777777777777778,
              "#fb9f3a"
             ],
             [
              0.8888888888888888,
              "#fdca26"
             ],
             [
              1,
              "#f0f921"
             ]
            ],
            "type": "histogram2dcontour"
           }
          ],
          "mesh3d": [
           {
            "colorbar": {
             "outlinewidth": 0,
             "ticks": ""
            },
            "type": "mesh3d"
           }
          ],
          "parcoords": [
           {
            "line": {
             "colorbar": {
              "outlinewidth": 0,
              "ticks": ""
             }
            },
            "type": "parcoords"
           }
          ],
          "pie": [
           {
            "automargin": true,
            "type": "pie"
           }
          ],
          "scatter": [
           {
            "fillpattern": {
             "fillmode": "overlay",
             "size": 10,
             "solidity": 0.2
            },
            "type": "scatter"
           }
          ],
          "scatter3d": [
           {
            "line": {
             "colorbar": {
              "outlinewidth": 0,
              "ticks": ""
             }
            },
            "marker": {
             "colorbar": {
              "outlinewidth": 0,
              "ticks": ""
             }
            },
            "type": "scatter3d"
           }
          ],
          "scattercarpet": [
           {
            "marker": {
             "colorbar": {
              "outlinewidth": 0,
              "ticks": ""
             }
            },
            "type": "scattercarpet"
           }
          ],
          "scattergeo": [
           {
            "marker": {
             "colorbar": {
              "outlinewidth": 0,
              "ticks": ""
             }
            },
            "type": "scattergeo"
           }
          ],
          "scattergl": [
           {
            "marker": {
             "colorbar": {
              "outlinewidth": 0,
              "ticks": ""
             }
            },
            "type": "scattergl"
           }
          ],
          "scattermapbox": [
           {
            "marker": {
             "colorbar": {
              "outlinewidth": 0,
              "ticks": ""
             }
            },
            "type": "scattermapbox"
           }
          ],
          "scatterpolar": [
           {
            "marker": {
             "colorbar": {
              "outlinewidth": 0,
              "ticks": ""
             }
            },
            "type": "scatterpolar"
           }
          ],
          "scatterpolargl": [
           {
            "marker": {
             "colorbar": {
              "outlinewidth": 0,
              "ticks": ""
             }
            },
            "type": "scatterpolargl"
           }
          ],
          "scatterternary": [
           {
            "marker": {
             "colorbar": {
              "outlinewidth": 0,
              "ticks": ""
             }
            },
            "type": "scatterternary"
           }
          ],
          "surface": [
           {
            "colorbar": {
             "outlinewidth": 0,
             "ticks": ""
            },
            "colorscale": [
             [
              0,
              "#0d0887"
             ],
             [
              0.1111111111111111,
              "#46039f"
             ],
             [
              0.2222222222222222,
              "#7201a8"
             ],
             [
              0.3333333333333333,
              "#9c179e"
             ],
             [
              0.4444444444444444,
              "#bd3786"
             ],
             [
              0.5555555555555556,
              "#d8576b"
             ],
             [
              0.6666666666666666,
              "#ed7953"
             ],
             [
              0.7777777777777778,
              "#fb9f3a"
             ],
             [
              0.8888888888888888,
              "#fdca26"
             ],
             [
              1,
              "#f0f921"
             ]
            ],
            "type": "surface"
           }
          ],
          "table": [
           {
            "cells": {
             "fill": {
              "color": "#EBF0F8"
             },
             "line": {
              "color": "white"
             }
            },
            "header": {
             "fill": {
              "color": "#C8D4E3"
             },
             "line": {
              "color": "white"
             }
            },
            "type": "table"
           }
          ]
         },
         "layout": {
          "annotationdefaults": {
           "arrowcolor": "#2a3f5f",
           "arrowhead": 0,
           "arrowwidth": 1
          },
          "autotypenumbers": "strict",
          "coloraxis": {
           "colorbar": {
            "outlinewidth": 0,
            "ticks": ""
           }
          },
          "colorscale": {
           "diverging": [
            [
             0,
             "#8e0152"
            ],
            [
             0.1,
             "#c51b7d"
            ],
            [
             0.2,
             "#de77ae"
            ],
            [
             0.3,
             "#f1b6da"
            ],
            [
             0.4,
             "#fde0ef"
            ],
            [
             0.5,
             "#f7f7f7"
            ],
            [
             0.6,
             "#e6f5d0"
            ],
            [
             0.7,
             "#b8e186"
            ],
            [
             0.8,
             "#7fbc41"
            ],
            [
             0.9,
             "#4d9221"
            ],
            [
             1,
             "#276419"
            ]
           ],
           "sequential": [
            [
             0,
             "#0d0887"
            ],
            [
             0.1111111111111111,
             "#46039f"
            ],
            [
             0.2222222222222222,
             "#7201a8"
            ],
            [
             0.3333333333333333,
             "#9c179e"
            ],
            [
             0.4444444444444444,
             "#bd3786"
            ],
            [
             0.5555555555555556,
             "#d8576b"
            ],
            [
             0.6666666666666666,
             "#ed7953"
            ],
            [
             0.7777777777777778,
             "#fb9f3a"
            ],
            [
             0.8888888888888888,
             "#fdca26"
            ],
            [
             1,
             "#f0f921"
            ]
           ],
           "sequentialminus": [
            [
             0,
             "#0d0887"
            ],
            [
             0.1111111111111111,
             "#46039f"
            ],
            [
             0.2222222222222222,
             "#7201a8"
            ],
            [
             0.3333333333333333,
             "#9c179e"
            ],
            [
             0.4444444444444444,
             "#bd3786"
            ],
            [
             0.5555555555555556,
             "#d8576b"
            ],
            [
             0.6666666666666666,
             "#ed7953"
            ],
            [
             0.7777777777777778,
             "#fb9f3a"
            ],
            [
             0.8888888888888888,
             "#fdca26"
            ],
            [
             1,
             "#f0f921"
            ]
           ]
          },
          "colorway": [
           "#636efa",
           "#EF553B",
           "#00cc96",
           "#ab63fa",
           "#FFA15A",
           "#19d3f3",
           "#FF6692",
           "#B6E880",
           "#FF97FF",
           "#FECB52"
          ],
          "font": {
           "color": "#2a3f5f"
          },
          "geo": {
           "bgcolor": "white",
           "lakecolor": "white",
           "landcolor": "#E5ECF6",
           "showlakes": true,
           "showland": true,
           "subunitcolor": "white"
          },
          "hoverlabel": {
           "align": "left"
          },
          "hovermode": "closest",
          "mapbox": {
           "style": "light"
          },
          "paper_bgcolor": "white",
          "plot_bgcolor": "#E5ECF6",
          "polar": {
           "angularaxis": {
            "gridcolor": "white",
            "linecolor": "white",
            "ticks": ""
           },
           "bgcolor": "#E5ECF6",
           "radialaxis": {
            "gridcolor": "white",
            "linecolor": "white",
            "ticks": ""
           }
          },
          "scene": {
           "xaxis": {
            "backgroundcolor": "#E5ECF6",
            "gridcolor": "white",
            "gridwidth": 2,
            "linecolor": "white",
            "showbackground": true,
            "ticks": "",
            "zerolinecolor": "white"
           },
           "yaxis": {
            "backgroundcolor": "#E5ECF6",
            "gridcolor": "white",
            "gridwidth": 2,
            "linecolor": "white",
            "showbackground": true,
            "ticks": "",
            "zerolinecolor": "white"
           },
           "zaxis": {
            "backgroundcolor": "#E5ECF6",
            "gridcolor": "white",
            "gridwidth": 2,
            "linecolor": "white",
            "showbackground": true,
            "ticks": "",
            "zerolinecolor": "white"
           }
          },
          "shapedefaults": {
           "line": {
            "color": "#2a3f5f"
           }
          },
          "ternary": {
           "aaxis": {
            "gridcolor": "white",
            "linecolor": "white",
            "ticks": ""
           },
           "baxis": {
            "gridcolor": "white",
            "linecolor": "white",
            "ticks": ""
           },
           "bgcolor": "#E5ECF6",
           "caxis": {
            "gridcolor": "white",
            "linecolor": "white",
            "ticks": ""
           }
          },
          "title": {
           "x": 0.05
          },
          "xaxis": {
           "automargin": true,
           "gridcolor": "white",
           "linecolor": "white",
           "ticks": "",
           "title": {
            "standoff": 15
           },
           "zerolinecolor": "white",
           "zerolinewidth": 2
          },
          "yaxis": {
           "automargin": true,
           "gridcolor": "white",
           "linecolor": "white",
           "ticks": "",
           "title": {
            "standoff": 15
           },
           "zerolinecolor": "white",
           "zerolinewidth": 2
          }
         }
        },
        "xaxis": {
         "anchor": "y",
         "autorange": true,
         "domain": [
          0,
          1
         ],
         "range": [
          1900,
          2016
         ],
         "title": {
          "text": "Years----->"
         },
         "type": "linear"
        },
        "yaxis": {
         "anchor": "x",
         "autorange": true,
         "domain": [
          0,
          1
         ],
         "range": [
          -262.8333333333333,
          5113.833333333333
         ],
         "title": {
          "text": "Total Participants----->"
         },
         "type": "linear"
        }
       }
      },
      "image/png": "[encoded data removed]",
      "text/html": [
       "<div>                            <div id=\"557d8d55-bf26-4a1e-ba76-6e3cb180a75c\" class=\"plotly-graph-div\" style=\"height:525px; width:100%;\"></div>            <script type=\"text/javascript\">                require([\"plotly\"], function(Plotly) {                    window.PLOTLYENV=window.PLOTLYENV || {};                                    if (document.getElementById(\"557d8d55-bf26-4a1e-ba76-6e3cb180a75c\")) {                    Plotly.newPlot(                        \"557d8d55-bf26-4a1e-ba76-6e3cb180a75c\",                        [{\"hovertemplate\":\"variable=Male<br>Year=%{x}<br>value=%{y}<extra></extra>\",\"legendgroup\":\"Male\",\"line\":{\"color\":\"#636efa\",\"dash\":\"solid\"},\"marker\":{\"symbol\":\"circle\"},\"mode\":\"lines\",\"name\":\"Male\",\"orientation\":\"v\",\"showlegend\":true,\"x\":[1900.0,1904.0,1906.0,1908.0,1912.0,1920.0,1924.0,1928.0,1932.0,1936.0,1948.0,1952.0,1956.0,1960.0,1964.0,1968.0,1972.0,1976.0,1980.0,1984.0,1988.0,1992.0,1996.0,2000.0,2004.0,2008.0,2012.0,2016.0],\"xaxis\":\"x\",\"y\":[1181,629,757,1773,1979,2280,2535,2342,1382,3538,3628,3463,2144,3713,3210,3662,4556,3317,3134,4292,4606,4826,4845,4293,3930,3984,3673,4019],\"yaxis\":\"y\",\"type\":\"scatter\"},{\"hovertemplate\":\"variable=Female<br>Year=%{x}<br>value=%{y}<extra></extra>\",\"legendgroup\":\"Female\",\"line\":{\"color\":\"#EF553B\",\"dash\":\"solid\"},\"marker\":{\"symbol\":\"circle\"},\"mode\":\"lines\",\"name\":\"Female\",\"orientation\":\"v\",\"showlegend\":true,\"x\":[1900.0,1904.0,1906.0,1908.0,1912.0,1920.0,1924.0,1928.0,1932.0,1936.0,1948.0,1952.0,1956.0,1960.0,1964.0,1968.0,1972.0,1976.0,1980.0,1984.0,1988.0,1992.0,1996.0,2000.0,2004.0,2008.0,2012.0,2016.0],\"xaxis\":\"x\",\"y\":[23,6,6,44,53,73,132,285,162,316,420,407,286,464,498,617,817,1027,872,1368,1664,2128,2534,2788,2815,2937,2909,3197],\"yaxis\":\"y\",\"type\":\"scatter\"}],                        {\"template\":{\"data\":{\"histogram2dcontour\":[{\"type\":\"histogram2dcontour\",\"colorbar\":{\"outlinewidth\":0,\"ticks\":\"\"},\"colorscale\":[[0.0,\"#0d0887\"],[0.1111111111111111,\"#46039f\"],[0.2222222222222222,\"#7201a8\"],[0.3333333333333333,\"#9c179e\"],[0.4444444444444444,\"#bd3786\"],[0.5555555555555556,\"#d8576b\"],[0.6666666666666666,\"#ed7953\"],[0.7777777777777778,\"#fb9f3a\"],[0.8888888888888888,\"#fdca26\"],[1.0,\"#f0f921\"]]}],\"choropleth\":[{\"type\":\"choropleth\",\"colorbar\":{\"outlinewidth\":0,\"ticks\":\"\"}}],\"histogram2d\":[{\"type\":\"histogram2d\",\"colorbar\":{\"outlinewidth\":0,\"ticks\":\"\"},\"colorscale\":[[0.0,\"#0d0887\"],[0.1111111111111111,\"#46039f\"],[0.2222222222222222,\"#7201a8\"],[0.3333333333333333,\"#9c179e\"],[0.4444444444444444,\"#bd3786\"],[0.5555555555555556,\"#d8576b\"],[0.6666666666666666,\"#ed7953\"],[0.7777777777777778,\"#fb9f3a\"],[0.8888888888888888,\"#fdca26\"],[1.0,\"#f0f921\"]]}],\"heatmap\":[{\"type\":\"heatmap\",\"colorbar\":{\"outlinewidth\":0,\"ticks\":\"\"},\"colorscale\":[[0.0,\"#0d0887\"],[0.1111111111111111,\"#46039f\"],[0.2222222222222222,\"#7201a8\"],[0.3333333333333333,\"#9c179e\"],[0.4444444444444444,\"#bd3786\"],[0.5555555555555556,\"#d8576b\"],[0.6666666666666666,\"#ed7953\"],[0.7777777777777778,\"#fb9f3a\"],[0.8888888888888888,\"#fdca26\"],[1.0,\"#f0f921\"]]}],\"heatmapgl\":[{\"type\":\"heatmapgl\",\"colorbar\":{\"outlinewidth\":0,\"ticks\":\"\"},\"colorscale\":[[0.0,\"#0d0887\"],[0.1111111111111111,\"#46039f\"],[0.2222222222222222,\"#7201a8\"],[0.3333333333333333,\"#9c179e\"],[0.4444444444444444,\"#bd3786\"],[0.5555555555555556,\"#d8576b\"],[0.6666666666666666,\"#ed7953\"],[0.7777777777777778,\"#fb9f3a\"],[0.8888888888888888,\"#fdca26\"],[1.0,\"#f0f921\"]]}],\"contourcarpet\":[{\"type\":\"contourcarpet\",\"colorbar\":{\"outlinewidth\":0,\"ticks\":\"\"}}],\"contour\":[{\"type\":\"contour\",\"colorbar\":{\"outlinewidth\":0,\"ticks\":\"\"},\"colorscale\":[[0.0,\"#0d0887\"],[0.1111111111111111,\"#46039f\"],[0.2222222222222222,\"#7201a8\"],[0.3333333333333333,\"#9c179e\"],[0.4444444444444444,\"#bd3786\"],[0.5555555555555556,\"#d8576b\"],[0.6666666666666666,\"#ed7953\"],[0.7777777777777778,\"#fb9f3a\"],[0.8888888888888888,\"#fdca26\"],[1.0,\"#f0f921\"]]}],\"surface\":[{\"type\":\"surface\",\"colorbar\":{\"outlinewidth\":0,\"ticks\":\"\"},\"colorscale\":[[0.0,\"#0d0887\"],[0.1111111111111111,\"#46039f\"],[0.2222222222222222,\"#7201a8\"],[0.3333333333333333,\"#9c179e\"],[0.4444444444444444,\"#bd3786\"],[0.5555555555555556,\"#d8576b\"],[0.6666666666666666,\"#ed7953\"],[0.7777777777777778,\"#fb9f3a\"],[0.8888888888888888,\"#fdca26\"],[1.0,\"#f0f921\"]]}],\"mesh3d\":[{\"type\":\"mesh3d\",\"colorbar\":{\"outlinewidth\":0,\"ticks\":\"\"}}],\"scatter\":[{\"fillpattern\":{\"fillmode\":\"overlay\",\"size\":10,\"solidity\":0.2},\"type\":\"scatter\"}],\"parcoords\":[{\"type\":\"parcoords\",\"line\":{\"colorbar\":{\"outlinewidth\":0,\"ticks\":\"\"}}}],\"scatterpolargl\":[{\"type\":\"scatterpolargl\",\"marker\":{\"colorbar\":{\"outlinewidth\":0,\"ticks\":\"\"}}}],\"bar\":[{\"error_x\":{\"color\":\"#2a3f5f\"},\"error_y\":{\"color\":\"#2a3f5f\"},\"marker\":{\"line\":{\"color\":\"#E5ECF6\",\"width\":0.5},\"pattern\":{\"fillmode\":\"overlay\",\"size\":10,\"solidity\":0.2}},\"type\":\"bar\"}],\"scattergeo\":[{\"type\":\"scattergeo\",\"marker\":{\"colorbar\":{\"outlinewidth\":0,\"ticks\":\"\"}}}],\"scatterpolar\":[{\"type\":\"scatterpolar\",\"marker\":{\"colorbar\":{\"outlinewidth\":0,\"ticks\":\"\"}}}],\"histogram\":[{\"marker\":{\"pattern\":{\"fillmode\":\"overlay\",\"size\":10,\"solidity\":0.2}},\"type\":\"histogram\"}],\"scattergl\":[{\"type\":\"scattergl\",\"marker\":{\"colorbar\":{\"outlinewidth\":0,\"ticks\":\"\"}}}],\"scatter3d\":[{\"type\":\"scatter3d\",\"line\":{\"colorbar\":{\"outlinewidth\":0,\"ticks\":\"\"}},\"marker\":{\"colorbar\":{\"outlinewidth\":0,\"ticks\":\"\"}}}],\"scattermapbox\":[{\"type\":\"scattermapbox\",\"marker\":{\"colorbar\":{\"outlinewidth\":0,\"ticks\":\"\"}}}],\"scatterternary\":[{\"type\":\"scatterternary\",\"marker\":{\"colorbar\":{\"outlinewidth\":0,\"ticks\":\"\"}}}],\"scattercarpet\":[{\"type\":\"scattercarpet\",\"marker\":{\"colorbar\":{\"outlinewidth\":0,\"ticks\":\"\"}}}],\"carpet\":[{\"aaxis\":{\"endlinecolor\":\"#2a3f5f\",\"gridcolor\":\"white\",\"linecolor\":\"white\",\"minorgridcolor\":\"white\",\"startlinecolor\":\"#2a3f5f\"},\"baxis\":{\"endlinecolor\":\"#2a3f5f\",\"gridcolor\":\"white\",\"linecolor\":\"white\",\"minorgridcolor\":\"white\",\"startlinecolor\":\"#2a3f5f\"},\"type\":\"carpet\"}],\"table\":[{\"cells\":{\"fill\":{\"color\":\"#EBF0F8\"},\"line\":{\"color\":\"white\"}},\"header\":{\"fill\":{\"color\":\"#C8D4E3\"},\"line\":{\"color\":\"white\"}},\"type\":\"table\"}],\"barpolar\":[{\"marker\":{\"line\":{\"color\":\"#E5ECF6\",\"width\":0.5},\"pattern\":{\"fillmode\":\"overlay\",\"size\":10,\"solidity\":0.2}},\"type\":\"barpolar\"}],\"pie\":[{\"automargin\":true,\"type\":\"pie\"}]},\"layout\":{\"autotypenumbers\":\"strict\",\"colorway\":[\"#636efa\",\"#EF553B\",\"#00cc96\",\"#ab63fa\",\"#FFA15A\",\"#19d3f3\",\"#FF6692\",\"#B6E880\",\"#FF97FF\",\"#FECB52\"],\"font\":{\"color\":\"#2a3f5f\"},\"hovermode\":\"closest\",\"hoverlabel\":{\"align\":\"left\"},\"paper_bgcolor\":\"white\",\"plot_bgcolor\":\"#E5ECF6\",\"polar\":{\"bgcolor\":\"#E5ECF6\",\"angularaxis\":{\"gridcolor\":\"white\",\"linecolor\":\"white\",\"ticks\":\"\"},\"radialaxis\":{\"gridcolor\":\"white\",\"linecolor\":\"white\",\"ticks\":\"\"}},\"ternary\":{\"bgcolor\":\"#E5ECF6\",\"aaxis\":{\"gridcolor\":\"white\",\"linecolor\":\"white\",\"ticks\":\"\"},\"baxis\":{\"gridcolor\":\"white\",\"linecolor\":\"white\",\"ticks\":\"\"},\"caxis\":{\"gridcolor\":\"white\",\"linecolor\":\"white\",\"ticks\":\"\"}},\"coloraxis\":{\"colorbar\":{\"outlinewidth\":0,\"ticks\":\"\"}},\"colorscale\":{\"sequential\":[[0.0,\"#0d0887\"],[0.1111111111111111,\"#46039f\"],[0.2222222222222222,\"#7201a8\"],[0.3333333333333333,\"#9c179e\"],[0.4444444444444444,\"#bd3786\"],[0.5555555555555556,\"#d8576b\"],[0.6666666666666666,\"#ed7953\"],[0.7777777777777778,\"#fb9f3a\"],[0.8888888888888888,\"#fdca26\"],[1.0,\"#f0f921\"]],\"sequentialminus\":[[0.0,\"#0d0887\"],[0.1111111111111111,\"#46039f\"],[0.2222222222222222,\"#7201a8\"],[0.3333333333333333,\"#9c179e\"],[0.4444444444444444,\"#bd3786\"],[0.5555555555555556,\"#d8576b\"],[0.6666666666666666,\"#ed7953\"],[0.7777777777777778,\"#fb9f3a\"],[0.8888888888888888,\"#fdca26\"],[1.0,\"#f0f921\"]],\"diverging\":[[0,\"#8e0152\"],[0.1,\"#c51b7d\"],[0.2,\"#de77ae\"],[0.3,\"#f1b6da\"],[0.4,\"#fde0ef\"],[0.5,\"#f7f7f7\"],[0.6,\"#e6f5d0\"],[0.7,\"#b8e186\"],[0.8,\"#7fbc41\"],[0.9,\"#4d9221\"],[1,\"#276419\"]]},\"xaxis\":{\"gridcolor\":\"white\",\"linecolor\":\"white\",\"ticks\":\"\",\"title\":{\"standoff\":15},\"zerolinecolor\":\"white\",\"automargin\":true,\"zerolinewidth\":2},\"yaxis\":{\"gridcolor\":\"white\",\"linecolor\":\"white\",\"ticks\":\"\",\"title\":{\"standoff\":15},\"zerolinecolor\":\"white\",\"automargin\":true,\"zerolinewidth\":2},\"scene\":{\"xaxis\":{\"backgroundcolor\":\"#E5ECF6\",\"gridcolor\":\"white\",\"linecolor\":\"white\",\"showbackground\":true,\"ticks\":\"\",\"zerolinecolor\":\"white\",\"gridwidth\":2},\"yaxis\":{\"backgroundcolor\":\"#E5ECF6\",\"gridcolor\":\"white\",\"linecolor\":\"white\",\"showbackground\":true,\"ticks\":\"\",\"zerolinecolor\":\"white\",\"gridwidth\":2},\"zaxis\":{\"backgroundcolor\":\"#E5ECF6\",\"gridcolor\":\"white\",\"linecolor\":\"white\",\"showbackground\":true,\"ticks\":\"\",\"zerolinecolor\":\"white\",\"gridwidth\":2}},\"shapedefaults\":{\"line\":{\"color\":\"#2a3f5f\"}},\"annotationdefaults\":{\"arrowcolor\":\"#2a3f5f\",\"arrowhead\":0,\"arrowwidth\":1},\"geo\":{\"bgcolor\":\"white\",\"landcolor\":\"#E5ECF6\",\"subunitcolor\":\"white\",\"showland\":true,\"showlakes\":true,\"lakecolor\":\"white\"},\"title\":{\"x\":0.05},\"mapbox\":{\"style\":\"light\"}}},\"xaxis\":{\"anchor\":\"y\",\"domain\":[0.0,1.0],\"title\":{\"text\":\"Years----->\"}},\"yaxis\":{\"anchor\":\"x\",\"domain\":[0.0,1.0],\"title\":{\"text\":\"Total Participants----->\"}},\"legend\":{\"title\":{\"text\":\"variable\"},\"tracegroupgap\":0},\"margin\":{\"t\":60}},                        {\"responsive\": true}                    ).then(function(){\n",
       "                            \n",
       "var gd = document.getElementById('557d8d55-bf26-4a1e-ba76-6e3cb180a75c');\n",
       "var x = new MutationObserver(function (mutations, observer) {{\n",
       "        var display = window.getComputedStyle(gd).display;\n",
       "        if (!display || display === 'none') {{\n",
       "            console.log([gd, 'removed!']);\n",
       "            Plotly.purge(gd);\n",
       "            observer.disconnect();\n",
       "        }}\n",
       "}});\n",
       "\n",
       "// Listen for the removal of the full notebook cells\n",
       "var notebookContainer = gd.closest('#notebook-container');\n",
       "if (notebookContainer) {{\n",
       "    x.observe(notebookContainer, {childList: true});\n",
       "}}\n",
       "\n",
       "// Listen for the clearing of the current output cell\n",
       "var outputEl = gd.closest('.output');\n",
       "if (outputEl) {{\n",
       "    x.observe(outputEl, {childList: true});\n",
       "}}\n",
       "\n",
       "                        })                };                });            </script>        </div>"
      ]
     },
     "metadata": {},
     "output_type": "display_data"
    }
   ],
   "source": [
    "fig=px.line(temp_df,x='Year',y=['Male','Female'])\n",
    "fig.layout.yaxis.title ='Total Participants----->'\n",
    "fig.layout.xaxis.title ='Years----->'\n",
    "fig.show()"
   ]
  },
  {
   "cell_type": "code",
   "execution_count": null,
   "id": "1ef0ac16-3f68-468e-b3ee-d3773df0775d",
   "metadata": {},
   "outputs": [],
   "source": []
  },
  {
   "cell_type": "code",
   "execution_count": null,
   "id": "4002daba-6c94-4cb6-b252-c052ec417bca",
   "metadata": {},
   "outputs": [],
   "source": []
  },
  {
   "cell_type": "code",
   "execution_count": null,
   "id": "616f1d01-c8b8-45da-a211-c0c9e39abe51",
   "metadata": {},
   "outputs": [],
   "source": []
  },
  {
   "cell_type": "code",
   "execution_count": null,
   "id": "70cd32ee-9d05-4553-84d3-bff15cff230b",
   "metadata": {},
   "outputs": [],
   "source": []
  },
  {
   "cell_type": "code",
   "execution_count": null,
   "id": "f9a43fb9-f912-4915-8bb1-364dfccda165",
   "metadata": {},
   "outputs": [],
   "source": []
  }
 ],
 "metadata": {
  "kernelspec": {
   "display_name": "Python 3 (ipykernel)",
   "language": "python",
   "name": "python3"
  },
  "language_info": {
   "codemirror_mode": {
    "name": "ipython",
    "version": 3
   },
   "file_extension": ".py",
   "mimetype": "text/x-python",
   "name": "python",
   "nbconvert_exporter": "python",
   "pygments_lexer": "ipython3",
   "version": "3.11.7"
  },
  "widgets": {
   "application/vnd.jupyter.widget-state+json": {
    "state": {},
    "version_major": 2,
    "version_minor": 0
   }
  }
 },
 "nbformat": 4,
 "nbformat_minor": 5
}
